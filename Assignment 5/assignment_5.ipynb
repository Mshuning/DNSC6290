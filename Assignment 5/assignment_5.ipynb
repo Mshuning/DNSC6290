{
  "cells": [
    {
      "cell_type": "markdown",
      "metadata": {
        "id": "view-in-github",
        "colab_type": "text"
      },
      "source": [
        "<a href=\"https://colab.research.google.com/github/Mshuning/DNSC6290/blob/main/Assignment%205/assignment_5.ipynb\" target=\"_parent\"><img src=\"https://colab.research.google.com/assets/colab-badge.svg\" alt=\"Open In Colab\"/></a>"
      ]
    },
    {
      "cell_type": "markdown",
      "id": "1934d2de",
      "metadata": {
        "id": "1934d2de"
      },
      "source": [
        "## License \n",
        "\n",
        "Copyright 2021 Patrick Hall (jphall@gwu.edu), Shuning Ma (shuningma@gwu.edu)\n",
        "\n",
        "Licensed under the Apache License, Version 2.0 (the \"License\");\n",
        "you may not use this file except in compliance with the License.\n",
        "You may obtain a copy of the License at\n",
        "\n",
        "    http://www.apache.org/licenses/LICENSE-2.0\n",
        "\n",
        "Unless required by applicable law or agreed to in writing, software\n",
        "distributed under the License is distributed on an \"AS IS\" BASIS,\n",
        "WITHOUT WARRANTIES OR CONDITIONS OF ANY KIND, either express or implied.\n",
        "See the License for the specific language governing permissions and\n",
        "limitations under the License.\n",
        "\n",
        "*DISCLAIMER*: This notebook is not legal or compliance advice."
      ]
    },
    {
      "cell_type": "markdown",
      "id": "c7556803",
      "metadata": {
        "id": "c7556803"
      },
      "source": [
        "# Assignment 5"
      ]
    },
    {
      "cell_type": "markdown",
      "id": "44ddbb28",
      "metadata": {
        "id": "44ddbb28"
      },
      "source": [
        "#### Imports and inits"
      ]
    },
    {
      "cell_type": "code",
      "execution_count": null,
      "id": "49422b54",
      "metadata": {
        "id": "49422b54",
        "outputId": "2bafa2c5-c5f4-471a-b19f-ff2c35688dc2"
      },
      "outputs": [
        {
          "name": "stdout",
          "output_type": "stream",
          "text": [
            "Requirement already satisfied: h2o==3.32.1.3 in d:\\appdata\\local\\anaconda3\\lib\\site-packages (from -r requirements.txt (line 4)) (3.32.1.3)\n",
            "Requirement already satisfied: interpret==0.2.4 in d:\\appdata\\local\\anaconda3\\lib\\site-packages (from -r requirements.txt (line 5)) (0.2.4)\n",
            "Requirement already satisfied: jupyter==1.0.0 in d:\\appdata\\local\\anaconda3\\lib\\site-packages (from -r requirements.txt (line 6)) (1.0.0)\n",
            "Requirement already satisfied: matplotlib==3.3.4 in d:\\appdata\\local\\anaconda3\\lib\\site-packages (from -r requirements.txt (line 7)) (3.3.4)\n",
            "Requirement already satisfied: numpy==1.19.5 in d:\\appdata\\local\\anaconda3\\lib\\site-packages (from -r requirements.txt (line 8)) (1.19.5)\n",
            "Requirement already satisfied: pandas==1.1.5 in d:\\appdata\\local\\anaconda3\\lib\\site-packages (from -r requirements.txt (line 9)) (1.1.5)\n",
            "Requirement already satisfied: scikit-learn==0.24.2 in d:\\appdata\\local\\anaconda3\\lib\\site-packages (from -r requirements.txt (line 10)) (0.24.2)\n",
            "Requirement already satisfied: seaborn==0.11.1 in d:\\appdata\\local\\anaconda3\\lib\\site-packages (from -r requirements.txt (line 11)) (0.11.1)\n",
            "Requirement already satisfied: xgboost==1.4.2 in d:\\appdata\\local\\anaconda3\\lib\\site-packages (from -r requirements.txt (line 12)) (1.4.2)\n",
            "Requirement already satisfied: requests in d:\\appdata\\local\\anaconda3\\lib\\site-packages (from h2o==3.32.1.3->-r requirements.txt (line 4)) (2.25.1)\n",
            "Requirement already satisfied: future in d:\\appdata\\local\\anaconda3\\lib\\site-packages (from h2o==3.32.1.3->-r requirements.txt (line 4)) (0.18.2)\n",
            "Requirement already satisfied: tabulate in d:\\appdata\\local\\anaconda3\\lib\\site-packages (from h2o==3.32.1.3->-r requirements.txt (line 4)) (0.8.9)\n",
            "Requirement already satisfied: colorama>=0.3.8 in d:\\appdata\\local\\anaconda3\\lib\\site-packages (from h2o==3.32.1.3->-r requirements.txt (line 4)) (0.4.4)\n",
            "Requirement already satisfied: interpret-core[dash,debug,decisiontree,ebm,lime,linear,notebook,plotly,required,sensitivity,shap,skoperules,treeinterpreter]>=0.2.4 in d:\\appdata\\local\\anaconda3\\lib\\site-packages (from interpret==0.2.4->-r requirements.txt (line 5)) (0.2.7)\n",
            "Requirement already satisfied: nbconvert in d:\\appdata\\local\\anaconda3\\lib\\site-packages (from jupyter==1.0.0->-r requirements.txt (line 6)) (6.0.7)\n",
            "Requirement already satisfied: qtconsole in d:\\appdata\\local\\anaconda3\\lib\\site-packages (from jupyter==1.0.0->-r requirements.txt (line 6)) (5.0.3)\n",
            "Requirement already satisfied: ipykernel in d:\\appdata\\local\\anaconda3\\lib\\site-packages (from jupyter==1.0.0->-r requirements.txt (line 6)) (5.3.4)\n",
            "Requirement already satisfied: ipywidgets in d:\\appdata\\local\\anaconda3\\lib\\site-packages (from jupyter==1.0.0->-r requirements.txt (line 6)) (7.6.3)\n",
            "Requirement already satisfied: notebook in d:\\appdata\\local\\anaconda3\\lib\\site-packages (from jupyter==1.0.0->-r requirements.txt (line 6)) (6.3.0)\n",
            "Requirement already satisfied: jupyter-console in d:\\appdata\\local\\anaconda3\\lib\\site-packages (from jupyter==1.0.0->-r requirements.txt (line 6)) (6.4.0)\n",
            "Requirement already satisfied: cycler>=0.10 in d:\\appdata\\local\\anaconda3\\lib\\site-packages (from matplotlib==3.3.4->-r requirements.txt (line 7)) (0.10.0)\n",
            "Requirement already satisfied: kiwisolver>=1.0.1 in d:\\appdata\\local\\anaconda3\\lib\\site-packages (from matplotlib==3.3.4->-r requirements.txt (line 7)) (1.3.1)\n",
            "Requirement already satisfied: pillow>=6.2.0 in d:\\appdata\\local\\anaconda3\\lib\\site-packages (from matplotlib==3.3.4->-r requirements.txt (line 7)) (8.2.0)\n",
            "Requirement already satisfied: pyparsing!=2.0.4,!=2.1.2,!=2.1.6,>=2.0.3 in d:\\appdata\\local\\anaconda3\\lib\\site-packages (from matplotlib==3.3.4->-r requirements.txt (line 7)) (2.4.7)\n",
            "Requirement already satisfied: python-dateutil>=2.1 in d:\\appdata\\local\\anaconda3\\lib\\site-packages (from matplotlib==3.3.4->-r requirements.txt (line 7)) (2.8.1)\n",
            "Requirement already satisfied: pytz>=2017.2 in d:\\appdata\\local\\anaconda3\\lib\\site-packages (from pandas==1.1.5->-r requirements.txt (line 9)) (2021.1)\n",
            "Requirement already satisfied: scipy>=0.19.1 in d:\\appdata\\local\\anaconda3\\lib\\site-packages (from scikit-learn==0.24.2->-r requirements.txt (line 10)) (1.6.2)\n",
            "Requirement already satisfied: joblib>=0.11 in d:\\appdata\\local\\anaconda3\\lib\\site-packages (from scikit-learn==0.24.2->-r requirements.txt (line 10)) (1.0.1)\n",
            "Requirement already satisfied: threadpoolctl>=2.0.0 in d:\\appdata\\local\\anaconda3\\lib\\site-packages (from scikit-learn==0.24.2->-r requirements.txt (line 10)) (2.1.0)\n",
            "Requirement already satisfied: six in d:\\appdata\\local\\anaconda3\\lib\\site-packages (from cycler>=0.10->matplotlib==3.3.4->-r requirements.txt (line 7)) (1.15.0)\n",
            "Requirement already satisfied: skope-rules>=1.0.1 in d:\\appdata\\local\\anaconda3\\lib\\site-packages (from interpret-core[dash,debug,decisiontree,ebm,lime,linear,notebook,plotly,required,sensitivity,shap,skoperules,treeinterpreter]>=0.2.4->interpret==0.2.4->-r requirements.txt (line 5)) (1.0.1)\n",
            "Requirement already satisfied: SALib>=1.3.3 in d:\\appdata\\local\\anaconda3\\lib\\site-packages (from interpret-core[dash,debug,decisiontree,ebm,lime,linear,notebook,plotly,required,sensitivity,shap,skoperules,treeinterpreter]>=0.2.4->interpret==0.2.4->-r requirements.txt (line 5)) (1.4.5)\n",
            "Requirement already satisfied: plotly>=3.8.1 in d:\\appdata\\local\\anaconda3\\lib\\site-packages (from interpret-core[dash,debug,decisiontree,ebm,lime,linear,notebook,plotly,required,sensitivity,shap,skoperules,treeinterpreter]>=0.2.4->interpret==0.2.4->-r requirements.txt (line 5)) (5.8.0)\n",
            "Requirement already satisfied: psutil>=5.6.2 in d:\\appdata\\local\\anaconda3\\lib\\site-packages (from interpret-core[dash,debug,decisiontree,ebm,lime,linear,notebook,plotly,required,sensitivity,shap,skoperules,treeinterpreter]>=0.2.4->interpret==0.2.4->-r requirements.txt (line 5)) (5.8.0)\n",
            "Requirement already satisfied: lime>=0.1.1.33 in d:\\appdata\\local\\anaconda3\\lib\\site-packages (from interpret-core[dash,debug,decisiontree,ebm,lime,linear,notebook,plotly,required,sensitivity,shap,skoperules,treeinterpreter]>=0.2.4->interpret==0.2.4->-r requirements.txt (line 5)) (0.2.0.1)\n",
            "Requirement already satisfied: ipython>=7.4.0 in d:\\appdata\\local\\anaconda3\\lib\\site-packages (from interpret-core[dash,debug,decisiontree,ebm,lime,linear,notebook,plotly,required,sensitivity,shap,skoperules,treeinterpreter]>=0.2.4->interpret==0.2.4->-r requirements.txt (line 5)) (7.22.0)\n",
            "Requirement already satisfied: dash>=1.0.0 in d:\\appdata\\local\\anaconda3\\lib\\site-packages (from interpret-core[dash,debug,decisiontree,ebm,lime,linear,notebook,plotly,required,sensitivity,shap,skoperules,treeinterpreter]>=0.2.4->interpret==0.2.4->-r requirements.txt (line 5)) (2.4.1)\n",
            "Requirement already satisfied: dash-cytoscape>=0.1.1 in d:\\appdata\\local\\anaconda3\\lib\\site-packages (from interpret-core[dash,debug,decisiontree,ebm,lime,linear,notebook,plotly,required,sensitivity,shap,skoperules,treeinterpreter]>=0.2.4->interpret==0.2.4->-r requirements.txt (line 5)) (0.3.0)\n",
            "Requirement already satisfied: dash-table>=4.1.0 in d:\\appdata\\local\\anaconda3\\lib\\site-packages (from interpret-core[dash,debug,decisiontree,ebm,lime,linear,notebook,plotly,required,sensitivity,shap,skoperules,treeinterpreter]>=0.2.4->interpret==0.2.4->-r requirements.txt (line 5)) (5.0.0)\n",
            "Requirement already satisfied: gevent>=1.3.6 in d:\\appdata\\local\\anaconda3\\lib\\site-packages (from interpret-core[dash,debug,decisiontree,ebm,lime,linear,notebook,plotly,required,sensitivity,shap,skoperules,treeinterpreter]>=0.2.4->interpret==0.2.4->-r requirements.txt (line 5)) (21.1.2)\n",
            "Requirement already satisfied: treeinterpreter>=0.2.2 in d:\\appdata\\local\\anaconda3\\lib\\site-packages (from interpret-core[dash,debug,decisiontree,ebm,lime,linear,notebook,plotly,required,sensitivity,shap,skoperules,treeinterpreter]>=0.2.4->interpret==0.2.4->-r requirements.txt (line 5)) (0.2.3)\n",
            "Requirement already satisfied: shap>=0.28.5 in d:\\appdata\\local\\anaconda3\\lib\\site-packages (from interpret-core[dash,debug,decisiontree,ebm,lime,linear,notebook,plotly,required,sensitivity,shap,skoperules,treeinterpreter]>=0.2.4->interpret==0.2.4->-r requirements.txt (line 5)) (0.40.0)\n",
            "Requirement already satisfied: dill>=0.2.5 in d:\\appdata\\local\\anaconda3\\lib\\site-packages (from interpret-core[dash,debug,decisiontree,ebm,lime,linear,notebook,plotly,required,sensitivity,shap,skoperules,treeinterpreter]>=0.2.4->interpret==0.2.4->-r requirements.txt (line 5)) (0.3.5.1)\n",
            "Requirement already satisfied: flask-compress in d:\\appdata\\local\\anaconda3\\lib\\site-packages (from dash>=1.0.0->interpret-core[dash,debug,decisiontree,ebm,lime,linear,notebook,plotly,required,sensitivity,shap,skoperules,treeinterpreter]>=0.2.4->interpret==0.2.4->-r requirements.txt (line 5)) (1.12)\n",
            "Requirement already satisfied: Flask>=1.0.4 in d:\\appdata\\local\\anaconda3\\lib\\site-packages (from dash>=1.0.0->interpret-core[dash,debug,decisiontree,ebm,lime,linear,notebook,plotly,required,sensitivity,shap,skoperules,treeinterpreter]>=0.2.4->interpret==0.2.4->-r requirements.txt (line 5)) (1.1.2)\n",
            "Requirement already satisfied: dash-core-components==2.0.0 in d:\\appdata\\local\\anaconda3\\lib\\site-packages (from dash>=1.0.0->interpret-core[dash,debug,decisiontree,ebm,lime,linear,notebook,plotly,required,sensitivity,shap,skoperules,treeinterpreter]>=0.2.4->interpret==0.2.4->-r requirements.txt (line 5)) (2.0.0)\n",
            "Requirement already satisfied: dash-html-components==2.0.0 in d:\\appdata\\local\\anaconda3\\lib\\site-packages (from dash>=1.0.0->interpret-core[dash,debug,decisiontree,ebm,lime,linear,notebook,plotly,required,sensitivity,shap,skoperules,treeinterpreter]>=0.2.4->interpret==0.2.4->-r requirements.txt (line 5)) (2.0.0)\n",
            "Requirement already satisfied: Werkzeug>=0.15 in d:\\appdata\\local\\anaconda3\\lib\\site-packages (from Flask>=1.0.4->dash>=1.0.0->interpret-core[dash,debug,decisiontree,ebm,lime,linear,notebook,plotly,required,sensitivity,shap,skoperules,treeinterpreter]>=0.2.4->interpret==0.2.4->-r requirements.txt (line 5)) (1.0.1)\n",
            "Requirement already satisfied: itsdangerous>=0.24 in d:\\appdata\\local\\anaconda3\\lib\\site-packages (from Flask>=1.0.4->dash>=1.0.0->interpret-core[dash,debug,decisiontree,ebm,lime,linear,notebook,plotly,required,sensitivity,shap,skoperules,treeinterpreter]>=0.2.4->interpret==0.2.4->-r requirements.txt (line 5)) (1.1.0)\n",
            "Requirement already satisfied: click>=5.1 in d:\\appdata\\local\\anaconda3\\lib\\site-packages (from Flask>=1.0.4->dash>=1.0.0->interpret-core[dash,debug,decisiontree,ebm,lime,linear,notebook,plotly,required,sensitivity,shap,skoperules,treeinterpreter]>=0.2.4->interpret==0.2.4->-r requirements.txt (line 5)) (7.1.2)\n",
            "Requirement already satisfied: Jinja2>=2.10.1 in d:\\appdata\\local\\anaconda3\\lib\\site-packages (from Flask>=1.0.4->dash>=1.0.0->interpret-core[dash,debug,decisiontree,ebm,lime,linear,notebook,plotly,required,sensitivity,shap,skoperules,treeinterpreter]>=0.2.4->interpret==0.2.4->-r requirements.txt (line 5)) (2.11.3)\n",
            "Requirement already satisfied: zope.interface in d:\\appdata\\local\\anaconda3\\lib\\site-packages (from gevent>=1.3.6->interpret-core[dash,debug,decisiontree,ebm,lime,linear,notebook,plotly,required,sensitivity,shap,skoperules,treeinterpreter]>=0.2.4->interpret==0.2.4->-r requirements.txt (line 5)) (5.3.0)\n",
            "Requirement already satisfied: zope.event in d:\\appdata\\local\\anaconda3\\lib\\site-packages (from gevent>=1.3.6->interpret-core[dash,debug,decisiontree,ebm,lime,linear,notebook,plotly,required,sensitivity,shap,skoperules,treeinterpreter]>=0.2.4->interpret==0.2.4->-r requirements.txt (line 5)) (4.5.0)\n",
            "Requirement already satisfied: cffi>=1.12.2 in d:\\appdata\\local\\anaconda3\\lib\\site-packages (from gevent>=1.3.6->interpret-core[dash,debug,decisiontree,ebm,lime,linear,notebook,plotly,required,sensitivity,shap,skoperules,treeinterpreter]>=0.2.4->interpret==0.2.4->-r requirements.txt (line 5)) (1.14.5)\n",
            "Requirement already satisfied: greenlet<2.0,>=0.4.17 in d:\\appdata\\local\\anaconda3\\lib\\site-packages (from gevent>=1.3.6->interpret-core[dash,debug,decisiontree,ebm,lime,linear,notebook,plotly,required,sensitivity,shap,skoperules,treeinterpreter]>=0.2.4->interpret==0.2.4->-r requirements.txt (line 5)) (1.0.0)\n",
            "Requirement already satisfied: setuptools in d:\\appdata\\local\\anaconda3\\lib\\site-packages (from gevent>=1.3.6->interpret-core[dash,debug,decisiontree,ebm,lime,linear,notebook,plotly,required,sensitivity,shap,skoperules,treeinterpreter]>=0.2.4->interpret==0.2.4->-r requirements.txt (line 5)) (52.0.0.post20210125)\n",
            "Requirement already satisfied: pycparser in d:\\appdata\\local\\anaconda3\\lib\\site-packages (from cffi>=1.12.2->gevent>=1.3.6->interpret-core[dash,debug,decisiontree,ebm,lime,linear,notebook,plotly,required,sensitivity,shap,skoperules,treeinterpreter]>=0.2.4->interpret==0.2.4->-r requirements.txt (line 5)) (2.20)\n",
            "Requirement already satisfied: traitlets>=4.1.0 in d:\\appdata\\local\\anaconda3\\lib\\site-packages (from ipykernel->jupyter==1.0.0->-r requirements.txt (line 6)) (5.0.5)\n",
            "Requirement already satisfied: tornado>=4.2 in d:\\appdata\\local\\anaconda3\\lib\\site-packages (from ipykernel->jupyter==1.0.0->-r requirements.txt (line 6)) (6.1)\n",
            "Requirement already satisfied: jupyter-client in d:\\appdata\\local\\anaconda3\\lib\\site-packages (from ipykernel->jupyter==1.0.0->-r requirements.txt (line 6)) (6.1.12)\n",
            "Requirement already satisfied: prompt-toolkit!=3.0.0,!=3.0.1,<3.1.0,>=2.0.0 in d:\\appdata\\local\\anaconda3\\lib\\site-packages (from ipython>=7.4.0->interpret-core[dash,debug,decisiontree,ebm,lime,linear,notebook,plotly,required,sensitivity,shap,skoperules,treeinterpreter]>=0.2.4->interpret==0.2.4->-r requirements.txt (line 5)) (3.0.17)\n",
            "Requirement already satisfied: backcall in d:\\appdata\\local\\anaconda3\\lib\\site-packages (from ipython>=7.4.0->interpret-core[dash,debug,decisiontree,ebm,lime,linear,notebook,plotly,required,sensitivity,shap,skoperules,treeinterpreter]>=0.2.4->interpret==0.2.4->-r requirements.txt (line 5)) (0.2.0)\n",
            "Requirement already satisfied: decorator in d:\\appdata\\local\\anaconda3\\lib\\site-packages (from ipython>=7.4.0->interpret-core[dash,debug,decisiontree,ebm,lime,linear,notebook,plotly,required,sensitivity,shap,skoperules,treeinterpreter]>=0.2.4->interpret==0.2.4->-r requirements.txt (line 5)) (5.0.6)\n",
            "Requirement already satisfied: pygments in d:\\appdata\\local\\anaconda3\\lib\\site-packages (from ipython>=7.4.0->interpret-core[dash,debug,decisiontree,ebm,lime,linear,notebook,plotly,required,sensitivity,shap,skoperules,treeinterpreter]>=0.2.4->interpret==0.2.4->-r requirements.txt (line 5)) (2.8.1)\n",
            "Requirement already satisfied: pickleshare in d:\\appdata\\local\\anaconda3\\lib\\site-packages (from ipython>=7.4.0->interpret-core[dash,debug,decisiontree,ebm,lime,linear,notebook,plotly,required,sensitivity,shap,skoperules,treeinterpreter]>=0.2.4->interpret==0.2.4->-r requirements.txt (line 5)) (0.7.5)\n",
            "Requirement already satisfied: jedi>=0.16 in d:\\appdata\\local\\anaconda3\\lib\\site-packages (from ipython>=7.4.0->interpret-core[dash,debug,decisiontree,ebm,lime,linear,notebook,plotly,required,sensitivity,shap,skoperules,treeinterpreter]>=0.2.4->interpret==0.2.4->-r requirements.txt (line 5)) (0.17.2)\n",
            "Requirement already satisfied: parso<0.8.0,>=0.7.0 in d:\\appdata\\local\\anaconda3\\lib\\site-packages (from jedi>=0.16->ipython>=7.4.0->interpret-core[dash,debug,decisiontree,ebm,lime,linear,notebook,plotly,required,sensitivity,shap,skoperules,treeinterpreter]>=0.2.4->interpret==0.2.4->-r requirements.txt (line 5)) (0.7.0)\n",
            "Requirement already satisfied: MarkupSafe>=0.23 in d:\\appdata\\local\\anaconda3\\lib\\site-packages (from Jinja2>=2.10.1->Flask>=1.0.4->dash>=1.0.0->interpret-core[dash,debug,decisiontree,ebm,lime,linear,notebook,plotly,required,sensitivity,shap,skoperules,treeinterpreter]>=0.2.4->interpret==0.2.4->-r requirements.txt (line 5)) (1.1.1)\n",
            "Requirement already satisfied: tqdm in d:\\appdata\\local\\anaconda3\\lib\\site-packages (from lime>=0.1.1.33->interpret-core[dash,debug,decisiontree,ebm,lime,linear,notebook,plotly,required,sensitivity,shap,skoperules,treeinterpreter]>=0.2.4->interpret==0.2.4->-r requirements.txt (line 5)) (4.59.0)\n",
            "Requirement already satisfied: scikit-image>=0.12 in d:\\appdata\\local\\anaconda3\\lib\\site-packages (from lime>=0.1.1.33->interpret-core[dash,debug,decisiontree,ebm,lime,linear,notebook,plotly,required,sensitivity,shap,skoperules,treeinterpreter]>=0.2.4->interpret==0.2.4->-r requirements.txt (line 5)) (0.18.1)\n",
            "Requirement already satisfied: tenacity>=6.2.0 in d:\\appdata\\local\\anaconda3\\lib\\site-packages (from plotly>=3.8.1->interpret-core[dash,debug,decisiontree,ebm,lime,linear,notebook,plotly,required,sensitivity,shap,skoperules,treeinterpreter]>=0.2.4->interpret==0.2.4->-r requirements.txt (line 5)) (8.0.1)\n",
            "Requirement already satisfied: wcwidth in d:\\appdata\\local\\anaconda3\\lib\\site-packages (from prompt-toolkit!=3.0.0,!=3.0.1,<3.1.0,>=2.0.0->ipython>=7.4.0->interpret-core[dash,debug,decisiontree,ebm,lime,linear,notebook,plotly,required,sensitivity,shap,skoperules,treeinterpreter]>=0.2.4->interpret==0.2.4->-r requirements.txt (line 5)) (0.2.5)\n",
            "Requirement already satisfied: certifi>=2017.4.17 in d:\\appdata\\local\\anaconda3\\lib\\site-packages (from requests->h2o==3.32.1.3->-r requirements.txt (line 4)) (2021.10.8)\n",
            "Requirement already satisfied: urllib3<1.27,>=1.21.1 in d:\\appdata\\local\\anaconda3\\lib\\site-packages (from requests->h2o==3.32.1.3->-r requirements.txt (line 4)) (1.26.4)\n",
            "Requirement already satisfied: chardet<5,>=3.0.2 in d:\\appdata\\local\\anaconda3\\lib\\site-packages (from requests->h2o==3.32.1.3->-r requirements.txt (line 4)) (4.0.0)\n",
            "Requirement already satisfied: idna<3,>=2.5 in d:\\appdata\\local\\anaconda3\\lib\\site-packages (from requests->h2o==3.32.1.3->-r requirements.txt (line 4)) (2.10)\n",
            "Requirement already satisfied: wheel in d:\\appdata\\local\\anaconda3\\lib\\site-packages (from SALib>=1.3.3->interpret-core[dash,debug,decisiontree,ebm,lime,linear,notebook,plotly,required,sensitivity,shap,skoperules,treeinterpreter]>=0.2.4->interpret==0.2.4->-r requirements.txt (line 5)) (0.36.2)\n",
            "Requirement already satisfied: pathos in d:\\appdata\\local\\anaconda3\\lib\\site-packages (from SALib>=1.3.3->interpret-core[dash,debug,decisiontree,ebm,lime,linear,notebook,plotly,required,sensitivity,shap,skoperules,treeinterpreter]>=0.2.4->interpret==0.2.4->-r requirements.txt (line 5)) (0.2.9)\n",
            "Requirement already satisfied: networkx>=2.0 in d:\\appdata\\local\\anaconda3\\lib\\site-packages (from scikit-image>=0.12->lime>=0.1.1.33->interpret-core[dash,debug,decisiontree,ebm,lime,linear,notebook,plotly,required,sensitivity,shap,skoperules,treeinterpreter]>=0.2.4->interpret==0.2.4->-r requirements.txt (line 5)) (2.5)\n",
            "Requirement already satisfied: imageio>=2.3.0 in d:\\appdata\\local\\anaconda3\\lib\\site-packages (from scikit-image>=0.12->lime>=0.1.1.33->interpret-core[dash,debug,decisiontree,ebm,lime,linear,notebook,plotly,required,sensitivity,shap,skoperules,treeinterpreter]>=0.2.4->interpret==0.2.4->-r requirements.txt (line 5)) (2.9.0)\n",
            "Requirement already satisfied: tifffile>=2019.7.26 in d:\\appdata\\local\\anaconda3\\lib\\site-packages (from scikit-image>=0.12->lime>=0.1.1.33->interpret-core[dash,debug,decisiontree,ebm,lime,linear,notebook,plotly,required,sensitivity,shap,skoperules,treeinterpreter]>=0.2.4->interpret==0.2.4->-r requirements.txt (line 5)) (2021.4.8)\n",
            "Requirement already satisfied: PyWavelets>=1.1.1 in d:\\appdata\\local\\anaconda3\\lib\\site-packages (from scikit-image>=0.12->lime>=0.1.1.33->interpret-core[dash,debug,decisiontree,ebm,lime,linear,notebook,plotly,required,sensitivity,shap,skoperules,treeinterpreter]>=0.2.4->interpret==0.2.4->-r requirements.txt (line 5)) (1.1.1)\n",
            "Requirement already satisfied: slicer==0.0.7 in d:\\appdata\\local\\anaconda3\\lib\\site-packages (from shap>=0.28.5->interpret-core[dash,debug,decisiontree,ebm,lime,linear,notebook,plotly,required,sensitivity,shap,skoperules,treeinterpreter]>=0.2.4->interpret==0.2.4->-r requirements.txt (line 5)) (0.0.7)\n",
            "Requirement already satisfied: numba in d:\\appdata\\local\\anaconda3\\lib\\site-packages (from shap>=0.28.5->interpret-core[dash,debug,decisiontree,ebm,lime,linear,notebook,plotly,required,sensitivity,shap,skoperules,treeinterpreter]>=0.2.4->interpret==0.2.4->-r requirements.txt (line 5)) (0.53.1)\n",
            "Requirement already satisfied: cloudpickle in d:\\appdata\\local\\anaconda3\\lib\\site-packages (from shap>=0.28.5->interpret-core[dash,debug,decisiontree,ebm,lime,linear,notebook,plotly,required,sensitivity,shap,skoperules,treeinterpreter]>=0.2.4->interpret==0.2.4->-r requirements.txt (line 5)) (1.6.0)\n",
            "Requirement already satisfied: packaging>20.9 in d:\\appdata\\local\\anaconda3\\lib\\site-packages (from shap>=0.28.5->interpret-core[dash,debug,decisiontree,ebm,lime,linear,notebook,plotly,required,sensitivity,shap,skoperules,treeinterpreter]>=0.2.4->interpret==0.2.4->-r requirements.txt (line 5)) (21.3)\n",
            "Requirement already satisfied: ipython-genutils in d:\\appdata\\local\\anaconda3\\lib\\site-packages (from traitlets>=4.1.0->ipykernel->jupyter==1.0.0->-r requirements.txt (line 6)) (0.2.0)\n",
            "Requirement already satisfied: brotli in d:\\appdata\\local\\anaconda3\\lib\\site-packages (from flask-compress->dash>=1.0.0->interpret-core[dash,debug,decisiontree,ebm,lime,linear,notebook,plotly,required,sensitivity,shap,skoperules,treeinterpreter]>=0.2.4->interpret==0.2.4->-r requirements.txt (line 5)) (1.0.9)\n",
            "Requirement already satisfied: widgetsnbextension~=3.5.0 in d:\\appdata\\local\\anaconda3\\lib\\site-packages (from ipywidgets->jupyter==1.0.0->-r requirements.txt (line 6)) (3.5.1)\n",
            "Requirement already satisfied: nbformat>=4.2.0 in d:\\appdata\\local\\anaconda3\\lib\\site-packages (from ipywidgets->jupyter==1.0.0->-r requirements.txt (line 6)) (5.1.3)\n",
            "Requirement already satisfied: jupyterlab-widgets>=1.0.0 in d:\\appdata\\local\\anaconda3\\lib\\site-packages (from ipywidgets->jupyter==1.0.0->-r requirements.txt (line 6)) (1.0.0)\n",
            "Requirement already satisfied: jupyter-core in d:\\appdata\\local\\anaconda3\\lib\\site-packages (from nbformat>=4.2.0->ipywidgets->jupyter==1.0.0->-r requirements.txt (line 6)) (4.7.1)\n",
            "Requirement already satisfied: jsonschema!=2.5.0,>=2.4 in d:\\appdata\\local\\anaconda3\\lib\\site-packages (from nbformat>=4.2.0->ipywidgets->jupyter==1.0.0->-r requirements.txt (line 6)) (3.2.0)\n",
            "Requirement already satisfied: pyrsistent>=0.14.0 in d:\\appdata\\local\\anaconda3\\lib\\site-packages (from jsonschema!=2.5.0,>=2.4->nbformat>=4.2.0->ipywidgets->jupyter==1.0.0->-r requirements.txt (line 6)) (0.17.3)\n",
            "Requirement already satisfied: attrs>=17.4.0 in d:\\appdata\\local\\anaconda3\\lib\\site-packages (from jsonschema!=2.5.0,>=2.4->nbformat>=4.2.0->ipywidgets->jupyter==1.0.0->-r requirements.txt (line 6)) (20.3.0)\n",
            "Requirement already satisfied: prometheus-client in d:\\appdata\\local\\anaconda3\\lib\\site-packages (from notebook->jupyter==1.0.0->-r requirements.txt (line 6)) (0.10.1)\n",
            "Requirement already satisfied: pyzmq>=17 in d:\\appdata\\local\\anaconda3\\lib\\site-packages (from notebook->jupyter==1.0.0->-r requirements.txt (line 6)) (20.0.0)\n",
            "Requirement already satisfied: argon2-cffi in d:\\appdata\\local\\anaconda3\\lib\\site-packages (from notebook->jupyter==1.0.0->-r requirements.txt (line 6)) (20.1.0)\n",
            "Requirement already satisfied: Send2Trash>=1.5.0 in d:\\appdata\\local\\anaconda3\\lib\\site-packages (from notebook->jupyter==1.0.0->-r requirements.txt (line 6)) (1.5.0)\n",
            "Requirement already satisfied: terminado>=0.8.3 in d:\\appdata\\local\\anaconda3\\lib\\site-packages (from notebook->jupyter==1.0.0->-r requirements.txt (line 6)) (0.9.4)\n",
            "Requirement already satisfied: pywin32>=1.0 in d:\\appdata\\local\\anaconda3\\lib\\site-packages (from jupyter-core->nbformat>=4.2.0->ipywidgets->jupyter==1.0.0->-r requirements.txt (line 6)) (227)\n",
            "Requirement already satisfied: pywinpty>=0.5 in d:\\appdata\\local\\anaconda3\\lib\\site-packages (from terminado>=0.8.3->notebook->jupyter==1.0.0->-r requirements.txt (line 6)) (0.5.7)\n",
            "Requirement already satisfied: pandocfilters>=1.4.1 in d:\\appdata\\local\\anaconda3\\lib\\site-packages (from nbconvert->jupyter==1.0.0->-r requirements.txt (line 6)) (1.4.3)\n",
            "Requirement already satisfied: testpath in d:\\appdata\\local\\anaconda3\\lib\\site-packages (from nbconvert->jupyter==1.0.0->-r requirements.txt (line 6)) (0.4.4)\n",
            "Requirement already satisfied: jupyterlab-pygments in d:\\appdata\\local\\anaconda3\\lib\\site-packages (from nbconvert->jupyter==1.0.0->-r requirements.txt (line 6)) (0.1.2)\n",
            "Requirement already satisfied: defusedxml in d:\\appdata\\local\\anaconda3\\lib\\site-packages (from nbconvert->jupyter==1.0.0->-r requirements.txt (line 6)) (0.7.1)\n",
            "Requirement already satisfied: mistune<2,>=0.8.1 in d:\\appdata\\local\\anaconda3\\lib\\site-packages (from nbconvert->jupyter==1.0.0->-r requirements.txt (line 6)) (0.8.4)\n",
            "Requirement already satisfied: nbclient<0.6.0,>=0.5.0 in d:\\appdata\\local\\anaconda3\\lib\\site-packages (from nbconvert->jupyter==1.0.0->-r requirements.txt (line 6)) (0.5.3)\n",
            "Requirement already satisfied: entrypoints>=0.2.2 in d:\\appdata\\local\\anaconda3\\lib\\site-packages (from nbconvert->jupyter==1.0.0->-r requirements.txt (line 6)) (0.3)\n",
            "Requirement already satisfied: bleach in d:\\appdata\\local\\anaconda3\\lib\\site-packages (from nbconvert->jupyter==1.0.0->-r requirements.txt (line 6)) (3.3.0)\n",
            "Requirement already satisfied: async-generator in d:\\appdata\\local\\anaconda3\\lib\\site-packages (from nbclient<0.6.0,>=0.5.0->nbconvert->jupyter==1.0.0->-r requirements.txt (line 6)) (1.10)\n",
            "Requirement already satisfied: nest-asyncio in d:\\appdata\\local\\anaconda3\\lib\\site-packages (from nbclient<0.6.0,>=0.5.0->nbconvert->jupyter==1.0.0->-r requirements.txt (line 6)) (1.5.1)\n",
            "Requirement already satisfied: webencodings in d:\\appdata\\local\\anaconda3\\lib\\site-packages (from bleach->nbconvert->jupyter==1.0.0->-r requirements.txt (line 6)) (0.5.1)\n",
            "Requirement already satisfied: llvmlite<0.37,>=0.36.0rc1 in d:\\appdata\\local\\anaconda3\\lib\\site-packages (from numba->shap>=0.28.5->interpret-core[dash,debug,decisiontree,ebm,lime,linear,notebook,plotly,required,sensitivity,shap,skoperules,treeinterpreter]>=0.2.4->interpret==0.2.4->-r requirements.txt (line 5)) (0.36.0)\n",
            "Requirement already satisfied: multiprocess>=0.70.13 in d:\\appdata\\local\\anaconda3\\lib\\site-packages (from pathos->SALib>=1.3.3->interpret-core[dash,debug,decisiontree,ebm,lime,linear,notebook,plotly,required,sensitivity,shap,skoperules,treeinterpreter]>=0.2.4->interpret==0.2.4->-r requirements.txt (line 5)) (0.70.13)\n",
            "Requirement already satisfied: ppft>=1.7.6.5 in d:\\appdata\\local\\anaconda3\\lib\\site-packages (from pathos->SALib>=1.3.3->interpret-core[dash,debug,decisiontree,ebm,lime,linear,notebook,plotly,required,sensitivity,shap,skoperules,treeinterpreter]>=0.2.4->interpret==0.2.4->-r requirements.txt (line 5)) (1.7.6.5)\n",
            "Requirement already satisfied: pox>=0.3.1 in d:\\appdata\\local\\anaconda3\\lib\\site-packages (from pathos->SALib>=1.3.3->interpret-core[dash,debug,decisiontree,ebm,lime,linear,notebook,plotly,required,sensitivity,shap,skoperules,treeinterpreter]>=0.2.4->interpret==0.2.4->-r requirements.txt (line 5)) (0.3.1)\n",
            "Requirement already satisfied: qtpy in d:\\appdata\\local\\anaconda3\\lib\\site-packages (from qtconsole->jupyter==1.0.0->-r requirements.txt (line 6)) (1.9.0)\n"
          ]
        },
        {
          "name": "stderr",
          "output_type": "stream",
          "text": [
            "WARNING: Ignoring invalid distribution -ip (d:\\appdata\\local\\anaconda3\\lib\\site-packages)\n",
            "WARNING: Ignoring invalid distribution -ip (d:\\appdata\\local\\anaconda3\\lib\\site-packages)\n",
            "WARNING: Ignoring invalid distribution -ip (d:\\appdata\\local\\anaconda3\\lib\\site-packages)\n",
            "WARNING: Ignoring invalid distribution -ip (d:\\appdata\\local\\anaconda3\\lib\\site-packages)\n",
            "WARNING: Ignoring invalid distribution -ip (d:\\appdata\\local\\anaconda3\\lib\\site-packages)\n",
            "WARNING: Ignoring invalid distribution -ip (d:\\appdata\\local\\anaconda3\\lib\\site-packages)\n",
            "WARNING: You are using pip version 21.3; however, version 22.1.2 is available.\n",
            "You should consider upgrading via the 'D:\\AppData\\Local\\Anaconda3\\python.exe -m pip install --upgrade pip' command.\n"
          ]
        }
      ],
      "source": [
        "!pip install -r requirements.txt"
      ]
    },
    {
      "cell_type": "code",
      "execution_count": null,
      "id": "4baedf75",
      "metadata": {
        "scrolled": true,
        "id": "4baedf75"
      },
      "outputs": [],
      "source": [
        "from interpret.glassbox import ExplainableBoostingClassifier      # interpret ebm class\n",
        "from interpret.perf import ROC                                    # ROC measure for ebm\n",
        "import numpy as np                                                # for basic array manipulation                            \n",
        "import pandas as pd                                               # for dataframe manipulation\n",
        "import time                                                       # for timers\n",
        "\n",
        "# plotting functionality\n",
        "import matplotlib.pyplot as plt\n",
        "from matplotlib.lines import Line2D # necessary for custom legends\n",
        "\n",
        "# display plots in notebook\n",
        "%matplotlib inline\n",
        "\n",
        "# set numpy random seed for better reproducibility\n",
        "SEED = 12345 \n",
        "np.random.seed(SEED)\n",
        "\n",
        "# set number of threads\n",
        "NTHREAD = 4"
      ]
    },
    {
      "cell_type": "markdown",
      "id": "152e8474",
      "metadata": {
        "id": "152e8474"
      },
      "source": [
        "#### Start global timer"
      ]
    },
    {
      "cell_type": "code",
      "execution_count": null,
      "id": "110ae3e4",
      "metadata": {
        "id": "110ae3e4"
      },
      "outputs": [],
      "source": [
        "tic = time.time()"
      ]
    },
    {
      "cell_type": "markdown",
      "id": "e36c81fd",
      "metadata": {
        "id": "e36c81fd"
      },
      "source": [
        "#### Import data"
      ]
    },
    {
      "cell_type": "code",
      "execution_count": null,
      "id": "36898e3f",
      "metadata": {
        "id": "36898e3f"
      },
      "outputs": [],
      "source": [
        "data = pd.read_csv('../data/hmda_train_preprocessed.csv')"
      ]
    },
    {
      "cell_type": "markdown",
      "id": "02f780ca",
      "metadata": {
        "id": "02f780ca"
      },
      "source": [
        "#### Assign basic modeling roles"
      ]
    },
    {
      "cell_type": "code",
      "execution_count": null,
      "id": "374364cd",
      "metadata": {
        "id": "374364cd"
      },
      "outputs": [],
      "source": [
        "y_name = 'high_priced'"
      ]
    },
    {
      "cell_type": "markdown",
      "id": "2bd91ac7",
      "metadata": {
        "id": "2bd91ac7"
      },
      "source": [
        "## Fit interpretable model"
      ]
    },
    {
      "cell_type": "markdown",
      "id": "b63c7465",
      "metadata": {
        "id": "b63c7465"
      },
      "source": [
        "#### Split data into train and validation partitions "
      ]
    },
    {
      "cell_type": "code",
      "execution_count": null,
      "id": "d82faabc",
      "metadata": {
        "scrolled": true,
        "id": "d82faabc",
        "outputId": "eec6788d-8498-437c-9e25-909df2020e4c"
      },
      "outputs": [
        {
          "name": "stdout",
          "output_type": "stream",
          "text": [
            "Train data rows = 112253, columns = 23\n",
            "Validation data rows = 48085, columns = 23\n"
          ]
        }
      ],
      "source": [
        "np.random.seed(SEED) # preserve exact reproducibility for this cell\n",
        "\n",
        "split_ratio = 0.7 # 70%/30% train/test split\n",
        "\n",
        "# execute split\n",
        "split = np.random.rand(len(data)) < split_ratio\n",
        "train = data[split]\n",
        "valid = data[~split]\n",
        "\n",
        "# summarize split\n",
        "print('Train data rows = %d, columns = %d' % (train.shape[0], train.shape[1]))\n",
        "print('Validation data rows = %d, columns = %d' % (valid.shape[0], valid.shape[1]))\n",
        "\n",
        "# benchmark - Train data rows = 112253, columns = 23\n",
        "# benchmark - Validation data rows = 48085, columns = 23"
      ]
    },
    {
      "cell_type": "markdown",
      "id": "348b7fb0",
      "metadata": {
        "id": "348b7fb0"
      },
      "source": [
        "### Explainable Boosting Machine"
      ]
    },
    {
      "cell_type": "markdown",
      "id": "df03ff02",
      "metadata": {
        "id": "df03ff02"
      },
      "source": [
        "#### Retrain most accurate model above 0.8 AIR to debug"
      ]
    },
    {
      "cell_type": "code",
      "execution_count": null,
      "id": "363c0f63",
      "metadata": {
        "id": "363c0f63",
        "outputId": "189b7b60-9c60-4967-f013-f11b76c2aceb"
      },
      "outputs": [
        {
          "name": "stdout",
          "output_type": "stream",
          "text": [
            "Remediated EBM retrained with AUC: 0.7815.\n"
          ]
        }
      ],
      "source": [
        "# params dict for remediated models\n",
        "rem_params = {'max_bins': 512,\n",
        "              'max_interaction_bins': 32,\n",
        "              'interactions': 10,\n",
        "              'outer_bags': 8,\n",
        "              'inner_bags': 4,\n",
        "              'learning_rate': 0.05,\n",
        "              'validation_size': 0.5,\n",
        "              'min_samples_leaf': 5,\n",
        "              'max_leaves': 5,\n",
        "              'early_stopping_rounds': 100.0,\n",
        "              'n_jobs': NTHREAD, \n",
        "              'random_state': SEED}\n",
        "\n",
        "rem_x_names = ['debt_to_income_ratio_std',\n",
        "               'term_360',\n",
        "               'income_std',\n",
        "               'property_value_std',\n",
        "               'conforming',\n",
        "               'intro_rate_period_std',\n",
        "               'no_intro_rate_period_std',\n",
        "               'debt_to_income_ratio_missing']\n",
        "\n",
        "# retrain\n",
        "rem_ebm = ExplainableBoostingClassifier(**rem_params)\n",
        "rem_ebm.fit(train[rem_x_names], train[y_name]) \n",
        "rem_ebm_perf = ROC(rem_ebm.predict_proba).explain_perf(valid[rem_x_names], valid[y_name])\n",
        "rem_auc = rem_ebm_perf._internal_obj['overall']['auc']\n",
        "print('Remediated EBM retrained with AUC: %.4f.' % rem_auc)"
      ]
    },
    {
      "cell_type": "markdown",
      "id": "cfb8c431",
      "metadata": {
        "id": "cfb8c431"
      },
      "source": [
        "## Sensitivity Analysis: Stress Testing"
      ]
    },
    {
      "cell_type": "markdown",
      "id": "dbddbe49",
      "metadata": {
        "id": "dbddbe49"
      },
      "source": [
        "#### Simulate recession conditions in validation data"
      ]
    },
    {
      "cell_type": "code",
      "execution_count": null,
      "id": "5ccac210",
      "metadata": {
        "id": "5ccac210",
        "outputId": "22951592-9553-4627-a09f-c10adef7b5c0"
      },
      "outputs": [
        {
          "data": {
            "image/png": "[encoded data removed]",
            "text/plain": [
              "<Figure size 1080x1080 with 9 Axes>"
            ]
          },
          "metadata": {
            "needs_background": "light"
          },
          "output_type": "display_data"
        }
      ],
      "source": [
        "np.random.seed(SEED) # set seed for this cell\n",
        "\n",
        "rec_valid = valid.copy(deep=True) # deep copy of validation data\n",
        "\n",
        "# use severity variable to control how many customers are affected\n",
        "severity = 0.1\n",
        "affected = np.random.rand(len(rec_valid)) < severity\n",
        "\n",
        "# decrease property values by 5%\n",
        "rec_valid.loc[affected, 'property_value_std'] = rec_valid.loc[affected, 'property_value_std'] * 0.95\n",
        "\n",
        "# less intro rates\n",
        "rec_valid.loc[affected, 'no_intro_rate_period_std'] = 0.2443944\n",
        "\n",
        "# more missing debt-to-income ratios \n",
        "rec_valid.loc[affected, 'debt_to_income_ratio_missing'] = 1\n",
        "\n",
        "# lower income by 5%\n",
        "rec_valid.loc[affected, 'income_std'] = rec_valid.loc[affected, 'income_std'] * 0.95\n",
        "\n",
        "# less conforming loans\n",
        "rec_valid.loc[affected, 'conforming'] = 0\n",
        "\n",
        "# shorter intro rate periods\n",
        "rec_valid.loc[affected, 'intro_rate_period_std'] = rec_valid.loc[affected, 'intro_rate_period_std'] * 0.95\n",
        "\n",
        "# 5% higher debt-to-income ratios \n",
        "rec_valid.loc[affected, 'debt_to_income_ratio_std'] = rec_valid.loc[affected, 'debt_to_income_ratio_std'] * 1.05\n",
        "\n",
        "# more long loans\n",
        "rec_valid.loc[affected, 'term_360'] = 1\n",
        "\n",
        "# update target\n",
        "rec_valid.loc[affected, y_name] = np.random.choice(2, len(rec_valid.loc[affected, y_name]))\n",
        "\n",
        "# visualize results\n",
        "_ = rec_valid[rem_x_names + [y_name]].hist(bins=50, figsize=(15, 15))"
      ]
    },
    {
      "cell_type": "markdown",
      "id": "063c0d9a",
      "metadata": {
        "id": "063c0d9a"
      },
      "source": [
        "#### Find AUC for best model in simulated recession conditions"
      ]
    },
    {
      "cell_type": "code",
      "execution_count": null,
      "id": "d07eec8c",
      "metadata": {
        "id": "d07eec8c",
        "outputId": "0d6efab0-bfe9-49e3-d3df-ca175bdfbaa2"
      },
      "outputs": [
        {
          "name": "stdout",
          "output_type": "stream",
          "text": [
            "Remediated EBM retrained with AUC: 0.6850.\n"
          ]
        }
      ],
      "source": [
        "rec_rem_ebm_perf = ROC(rem_ebm.predict_proba).explain_perf(rec_valid[rem_x_names], rec_valid[y_name])\n",
        "rec_rem_auc = rec_rem_ebm_perf._internal_obj['overall']['auc']\n",
        "print('Remediated EBM retrained with AUC: %.4f.' % rec_rem_auc)"
      ]
    },
    {
      "cell_type": "markdown",
      "id": "f47d17d8",
      "metadata": {
        "id": "f47d17d8"
      },
      "source": [
        "Note the major drop in performance for recession conditions, which is normal for all models and usually worse for complex ML models. It's not unlikely that the more constrained monotonic GBM or penalized GLM could perform better in these conditions. \n",
        "\n",
        "Also, this tells us we need to monitor this model carefully, because when recession conditions begin, this model will fail quickly."
      ]
    },
    {
      "cell_type": "markdown",
      "id": "db549da5",
      "metadata": {
        "id": "db549da5"
      },
      "source": [
        "## Residual Analysis"
      ]
    },
    {
      "cell_type": "markdown",
      "id": "e133d56b",
      "metadata": {
        "id": "e133d56b"
      },
      "source": [
        "#### Calculate predictions and logloss residuals for all data "
      ]
    },
    {
      "cell_type": "code",
      "execution_count": null,
      "id": "ad6178f9",
      "metadata": {
        "id": "ad6178f9"
      },
      "outputs": [],
      "source": [
        "# shortcut names\n",
        "yhat_name = 'phat'\n",
        "r_name = 'r' \n",
        "\n",
        "# calculate predictions\n",
        "rem_ebm_phat = pd.DataFrame(rem_ebm.predict_proba(data[rem_x_names])[:, 1], columns=['phat']) \n",
        "rem_ebm_phat = pd.concat([data.reset_index(drop=True), rem_ebm_phat], axis=1)\n",
        "\n",
        "# calculate logloss residuals\n",
        "rem_ebm_phat[r_name] = -rem_ebm_phat[y_name]*np.log(rem_ebm_phat[yhat_name]) -\\\n",
        "                       (1 - rem_ebm_phat[y_name])*np.log(1 - rem_ebm_phat[yhat_name])   "
      ]
    },
    {
      "cell_type": "markdown",
      "id": "466b7643",
      "metadata": {
        "id": "466b7643"
      },
      "source": [
        "#### Plot residuals"
      ]
    },
    {
      "cell_type": "code",
      "execution_count": null,
      "id": "cb1268d0",
      "metadata": {
        "id": "cb1268d0",
        "outputId": "6384e8b2-ac8f-4ad8-fa54-489d0a4a4771"
      },
      "outputs": [
        {
          "data": {
            "image/png": "[encoded data removed]",
            "text/plain": [
              "<Figure size 576x576 with 1 Axes>"
            ]
          },
          "metadata": {
            "needs_background": "light"
          },
          "output_type": "display_data"
        }
      ],
      "source": [
        "# initialize figure\n",
        "fig, ax_ = plt.subplots(figsize=(8, 8))         \n",
        "\n",
        "# plot groups with appropriate color\n",
        "color_list = ['royalblue', 'magenta'] \n",
        "c_idx = 0\n",
        "groups = rem_ebm_phat.groupby(y_name) # define groups for levels of PAY_0\n",
        "for name, group in groups:\n",
        "    ax_.plot(group.phat, group.r, \n",
        "             label=' '.join([y_name, str(name)]),\n",
        "             marker='o', linestyle='', color=color_list[c_idx], alpha=0.3)\n",
        "    c_idx += 1\n",
        "    \n",
        "# annotate plot\n",
        "_ = plt.xlabel(yhat_name)\n",
        "_ = plt.ylabel(r_name)\n",
        "_ = ax_.legend(loc=1)\n",
        "_ = plt.title('Global Logloss Residuals')"
      ]
    },
    {
      "cell_type": "markdown",
      "id": "032a2279",
      "metadata": {
        "id": "032a2279"
      },
      "source": [
        "Residuals are very unbalanced. This model struggles to predict when customers will recieve a high-priced loan correctly. It does much better when predicting customers will NOT receive a high-priced loan. There are also some very noticable outliers."
      ]
    },
    {
      "cell_type": "markdown",
      "id": "34d57885",
      "metadata": {
        "id": "34d57885"
      },
      "source": [
        "## Remediation: Remove Outliers"
      ]
    },
    {
      "cell_type": "markdown",
      "id": "a77f9847",
      "metadata": {
        "id": "a77f9847"
      },
      "source": [
        "#### Find outliers"
      ]
    },
    {
      "cell_type": "code",
      "execution_count": null,
      "id": "8785a979",
      "metadata": {
        "id": "8785a979",
        "outputId": "f4c1f5c0-157d-4e90-ae7d-4e5769a8d7c9"
      },
      "outputs": [
        {
          "data": {
            "text/html": [
              "<div>\n",
              "<style scoped>\n",
              "    .dataframe tbody tr th:only-of-type {\n",
              "        vertical-align: middle;\n",
              "    }\n",
              "\n",
              "    .dataframe tbody tr th {\n",
              "        vertical-align: top;\n",
              "    }\n",
              "\n",
              "    .dataframe thead th {\n",
              "        text-align: right;\n",
              "    }\n",
              "</style>\n",
              "<table border=\"1\" class=\"dataframe\">\n",
              "  <thead>\n",
              "    <tr style=\"text-align: right;\">\n",
              "      <th></th>\n",
              "      <th>row_id</th>\n",
              "      <th>black</th>\n",
              "      <th>asian</th>\n",
              "      <th>white</th>\n",
              "      <th>amind</th>\n",
              "      <th>hipac</th>\n",
              "      <th>hispanic</th>\n",
              "      <th>non_hispanic</th>\n",
              "      <th>male</th>\n",
              "      <th>female</th>\n",
              "      <th>...</th>\n",
              "      <th>loan_amount_std</th>\n",
              "      <th>loan_to_value_ratio_std</th>\n",
              "      <th>no_intro_rate_period_std</th>\n",
              "      <th>intro_rate_period_std</th>\n",
              "      <th>property_value_std</th>\n",
              "      <th>income_std</th>\n",
              "      <th>debt_to_income_ratio_std</th>\n",
              "      <th>high_priced</th>\n",
              "      <th>phat</th>\n",
              "      <th>r</th>\n",
              "    </tr>\n",
              "  </thead>\n",
              "  <tbody>\n",
              "    <tr>\n",
              "      <th>110822</th>\n",
              "      <td>110822</td>\n",
              "      <td>0.0</td>\n",
              "      <td>1.0</td>\n",
              "      <td>0.0</td>\n",
              "      <td>0.0</td>\n",
              "      <td>0.0</td>\n",
              "      <td>0.0</td>\n",
              "      <td>1.0</td>\n",
              "      <td>0.0</td>\n",
              "      <td>1.0</td>\n",
              "      <td>...</td>\n",
              "      <td>0.892723</td>\n",
              "      <td>-0.874794</td>\n",
              "      <td>0.244394</td>\n",
              "      <td>-0.215304</td>\n",
              "      <td>1.252485</td>\n",
              "      <td>-0.007738</td>\n",
              "      <td>-1.156406</td>\n",
              "      <td>1</td>\n",
              "      <td>0.000664</td>\n",
              "      <td>7.316683</td>\n",
              "    </tr>\n",
              "    <tr>\n",
              "      <th>83113</th>\n",
              "      <td>83113</td>\n",
              "      <td>0.0</td>\n",
              "      <td>0.0</td>\n",
              "      <td>1.0</td>\n",
              "      <td>0.0</td>\n",
              "      <td>0.0</td>\n",
              "      <td>1.0</td>\n",
              "      <td>0.0</td>\n",
              "      <td>1.0</td>\n",
              "      <td>0.0</td>\n",
              "      <td>...</td>\n",
              "      <td>0.760806</td>\n",
              "      <td>-0.277030</td>\n",
              "      <td>0.244394</td>\n",
              "      <td>-0.215304</td>\n",
              "      <td>0.697459</td>\n",
              "      <td>0.017208</td>\n",
              "      <td>-0.059493</td>\n",
              "      <td>1</td>\n",
              "      <td>0.001340</td>\n",
              "      <td>6.615051</td>\n",
              "    </tr>\n",
              "    <tr>\n",
              "      <th>82041</th>\n",
              "      <td>82041</td>\n",
              "      <td>0.0</td>\n",
              "      <td>0.0</td>\n",
              "      <td>1.0</td>\n",
              "      <td>0.0</td>\n",
              "      <td>0.0</td>\n",
              "      <td>0.0</td>\n",
              "      <td>1.0</td>\n",
              "      <td>NaN</td>\n",
              "      <td>NaN</td>\n",
              "      <td>...</td>\n",
              "      <td>-0.954117</td>\n",
              "      <td>-2.973067</td>\n",
              "      <td>0.244394</td>\n",
              "      <td>-0.215304</td>\n",
              "      <td>0.697459</td>\n",
              "      <td>-0.052781</td>\n",
              "      <td>-0.425131</td>\n",
              "      <td>1</td>\n",
              "      <td>0.001774</td>\n",
              "      <td>6.334596</td>\n",
              "    </tr>\n",
              "    <tr>\n",
              "      <th>45113</th>\n",
              "      <td>45113</td>\n",
              "      <td>0.0</td>\n",
              "      <td>1.0</td>\n",
              "      <td>0.0</td>\n",
              "      <td>0.0</td>\n",
              "      <td>0.0</td>\n",
              "      <td>0.0</td>\n",
              "      <td>1.0</td>\n",
              "      <td>1.0</td>\n",
              "      <td>0.0</td>\n",
              "      <td>...</td>\n",
              "      <td>-0.162614</td>\n",
              "      <td>-2.422899</td>\n",
              "      <td>0.244394</td>\n",
              "      <td>-0.215304</td>\n",
              "      <td>1.869180</td>\n",
              "      <td>-0.021597</td>\n",
              "      <td>0.397554</td>\n",
              "      <td>1</td>\n",
              "      <td>0.002193</td>\n",
              "      <td>6.122560</td>\n",
              "    </tr>\n",
              "    <tr>\n",
              "      <th>68353</th>\n",
              "      <td>68353</td>\n",
              "      <td>0.0</td>\n",
              "      <td>0.0</td>\n",
              "      <td>1.0</td>\n",
              "      <td>0.0</td>\n",
              "      <td>0.0</td>\n",
              "      <td>0.0</td>\n",
              "      <td>1.0</td>\n",
              "      <td>NaN</td>\n",
              "      <td>NaN</td>\n",
              "      <td>...</td>\n",
              "      <td>1.156557</td>\n",
              "      <td>-0.262110</td>\n",
              "      <td>0.244394</td>\n",
              "      <td>-0.215304</td>\n",
              "      <td>1.036641</td>\n",
              "      <td>-0.052781</td>\n",
              "      <td>0.306144</td>\n",
              "      <td>1</td>\n",
              "      <td>0.002397</td>\n",
              "      <td>6.033557</td>\n",
              "    </tr>\n",
              "  </tbody>\n",
              "</table>\n",
              "<p>5 rows × 25 columns</p>\n",
              "</div>"
            ],
            "text/plain": [
              "        row_id  black  asian  white  amind  hipac  hispanic  non_hispanic  \\\n",
              "110822  110822    0.0    1.0    0.0    0.0    0.0       0.0           1.0   \n",
              "83113    83113    0.0    0.0    1.0    0.0    0.0       1.0           0.0   \n",
              "82041    82041    0.0    0.0    1.0    0.0    0.0       0.0           1.0   \n",
              "45113    45113    0.0    1.0    0.0    0.0    0.0       0.0           1.0   \n",
              "68353    68353    0.0    0.0    1.0    0.0    0.0       0.0           1.0   \n",
              "\n",
              "        male  female  ...  loan_amount_std  loan_to_value_ratio_std  \\\n",
              "110822   0.0     1.0  ...         0.892723                -0.874794   \n",
              "83113    1.0     0.0  ...         0.760806                -0.277030   \n",
              "82041    NaN     NaN  ...        -0.954117                -2.973067   \n",
              "45113    1.0     0.0  ...        -0.162614                -2.422899   \n",
              "68353    NaN     NaN  ...         1.156557                -0.262110   \n",
              "\n",
              "        no_intro_rate_period_std  intro_rate_period_std  property_value_std  \\\n",
              "110822                  0.244394              -0.215304            1.252485   \n",
              "83113                   0.244394              -0.215304            0.697459   \n",
              "82041                   0.244394              -0.215304            0.697459   \n",
              "45113                   0.244394              -0.215304            1.869180   \n",
              "68353                   0.244394              -0.215304            1.036641   \n",
              "\n",
              "        income_std  debt_to_income_ratio_std  high_priced      phat         r  \n",
              "110822   -0.007738                 -1.156406            1  0.000664  7.316683  \n",
              "83113     0.017208                 -0.059493            1  0.001340  6.615051  \n",
              "82041    -0.052781                 -0.425131            1  0.001774  6.334596  \n",
              "45113    -0.021597                  0.397554            1  0.002193  6.122560  \n",
              "68353    -0.052781                  0.306144            1  0.002397  6.033557  \n",
              "\n",
              "[5 rows x 25 columns]"
            ]
          },
          "execution_count": 12,
          "metadata": {},
          "output_type": "execute_result"
        }
      ],
      "source": [
        "rem_ebm_phat.sort_values(by='r', ascending=False).head()"
      ]
    },
    {
      "cell_type": "markdown",
      "id": "9628f342",
      "metadata": {
        "id": "9628f342"
      },
      "source": [
        "#### Remove worst outliers"
      ]
    },
    {
      "cell_type": "code",
      "execution_count": null,
      "id": "fca198d8",
      "metadata": {
        "id": "fca198d8"
      },
      "outputs": [],
      "source": [
        "n_remove = 10\n",
        "rem_data = data.copy(deep=True)\n",
        "rem_data.drop(list(rem_ebm_phat.sort_values(by='r', ascending=False).head(n=n_remove).index), axis=0, inplace=True)"
      ]
    },
    {
      "cell_type": "markdown",
      "id": "9d8e9079",
      "metadata": {
        "id": "9d8e9079"
      },
      "source": [
        "## Remediation: Down-sample to Increase Signal from High-priced Loans"
      ]
    },
    {
      "cell_type": "code",
      "execution_count": null,
      "id": "ec5f3a62",
      "metadata": {
        "id": "ec5f3a62"
      },
      "outputs": [],
      "source": [
        "inverse_proportion_remove = 2 # corresponds to keeping 1 - (1/inverse_proportion_remove) rows\n",
        "rem_data.drop(list(rem_data[rem_data[y_name] == 0].index)[::inverse_proportion_remove], axis=0, inplace=True)"
      ]
    },
    {
      "cell_type": "markdown",
      "id": "bf4de784",
      "metadata": {
        "id": "bf4de784"
      },
      "source": [
        "#### Retrain remediated EBM"
      ]
    },
    {
      "cell_type": "code",
      "execution_count": null,
      "id": "bc5ffaac",
      "metadata": {
        "id": "bc5ffaac",
        "outputId": "ca4c8265-0851-4026-a9d1-b1951972f56d"
      },
      "outputs": [
        {
          "name": "stdout",
          "output_type": "stream",
          "text": [
            "Remediated train data rows = 61518, columns = 23\n",
            "Remediated validation data rows = 26393, columns = 23\n",
            "Remediated EBM under-sampled AUC: 0.7731.\n"
          ]
        }
      ],
      "source": [
        "np.random.seed(SEED) # preserve exact reproducibility for this cell\n",
        "\n",
        "# execute split\n",
        "split = np.random.rand(len(rem_data)) < split_ratio\n",
        "rem_train = rem_data[split]\n",
        "rem_valid = rem_data[~split]\n",
        "\n",
        "# summarize split\n",
        "print('Remediated train data rows = %d, columns = %d' % (rem_train.shape[0], rem_train.shape[1]))\n",
        "print('Remediated validation data rows = %d, columns = %d' % (rem_valid.shape[0], rem_valid.shape[1]))\n",
        "\n",
        "# retrain\n",
        "rem_ebm2 = ExplainableBoostingClassifier(**rem_params)\n",
        "rem_ebm2.fit(rem_train[rem_x_names], rem_train[y_name]) \n",
        "rem_ebm_perf2 = ROC(rem_ebm2.predict_proba).explain_perf(rem_valid[rem_x_names], rem_valid[y_name])\n",
        "rem_auc2 = rem_ebm_perf2._internal_obj['overall']['auc']\n",
        "print('Remediated EBM under-sampled AUC: %.4f.' % rem_auc2)"
      ]
    },
    {
      "cell_type": "markdown",
      "id": "6acde37e",
      "metadata": {
        "id": "6acde37e"
      },
      "source": [
        "#### Test remediated EBM on true validation data"
      ]
    },
    {
      "cell_type": "code",
      "execution_count": null,
      "id": "218b96b1",
      "metadata": {
        "id": "218b96b1",
        "outputId": "e0fd27d4-e3d8-4b45-d07d-ecea8e015770"
      },
      "outputs": [
        {
          "name": "stdout",
          "output_type": "stream",
          "text": [
            "Remediated EBM true AUC: 0.7839.\n"
          ]
        }
      ],
      "source": [
        "# calculate predictions\n",
        "rem_ebm_phat2 = pd.DataFrame(rem_ebm.predict_proba(valid[rem_x_names])[:, 1], columns=['phat']) \n",
        "rem_ebm_phat2 = pd.concat([valid.reset_index(drop=True), rem_ebm_phat2], axis=1)\n",
        "rem_ebm_perf3 = ROC(rem_ebm2.predict_proba).explain_perf(valid[rem_x_names], valid[y_name])\n",
        "rem_auc3 = rem_ebm_perf3._internal_obj['overall']['auc']\n",
        "print('Remediated EBM true AUC: %.4f.' % rem_auc3) "
      ]
    },
    {
      "cell_type": "markdown",
      "id": "a5e5fbf4",
      "metadata": {
        "id": "a5e5fbf4"
      },
      "source": [
        "Dropping outliers and under-sampling increases true AUC!"
      ]
    },
    {
      "cell_type": "markdown",
      "id": "73765e94",
      "metadata": {
        "id": "73765e94"
      },
      "source": [
        "#### End global timer"
      ]
    },
    {
      "cell_type": "code",
      "execution_count": null,
      "id": "e978d190",
      "metadata": {
        "id": "e978d190",
        "outputId": "524ffcea-5821-4b84-920a-fbebc05fa5d4"
      },
      "outputs": [
        {
          "name": "stdout",
          "output_type": "stream",
          "text": [
            "All tasks completed in 50.46 s.\n"
          ]
        }
      ],
      "source": [
        "toc = time.time() - tic\n",
        "print('All tasks completed in %.2f s.' % (toc))"
      ]
    }
  ],
  "metadata": {
    "kernelspec": {
      "display_name": "Python 3",
      "language": "python",
      "name": "python3"
    },
    "language_info": {
      "codemirror_mode": {
        "name": "ipython",
        "version": 3
      },
      "file_extension": ".py",
      "mimetype": "text/x-python",
      "name": "python",
      "nbconvert_exporter": "python",
      "pygments_lexer": "ipython3",
      "version": "3.8.8"
    },
    "colab": {
      "name": "assignment_5.ipynb",
      "provenance": [],
      "include_colab_link": true
    }
  },
  "nbformat": 4,
  "nbformat_minor": 5
}