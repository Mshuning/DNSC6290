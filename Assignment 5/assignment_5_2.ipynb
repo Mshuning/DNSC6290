{
  "cells": [
    {
      "cell_type": "markdown",
      "metadata": {
        "id": "view-in-github",
        "colab_type": "text"
      },
      "source": [
        "<a href=\"https://colab.research.google.com/github/Mshuning/DNSC6290/blob/main/Assignment%205/assignment_5_2.ipynb\" target=\"_parent\"><img src=\"https://colab.research.google.com/assets/colab-badge.svg\" alt=\"Open In Colab\"/></a>"
      ]
    },
    {
      "cell_type": "markdown",
      "id": "1934d2de",
      "metadata": {
        "id": "1934d2de"
      },
      "source": [
        "## License \n",
        "\n",
        "Copyright 2021 Patrick Hall (jphall@gwu.edu), Shuning Ma (shuningma@gwu.edu)\n",
        "\n",
        "Licensed under the Apache License, Version 2.0 (the \"License\");\n",
        "you may not use this file except in compliance with the License.\n",
        "You may obtain a copy of the License at\n",
        "\n",
        "    http://www.apache.org/licenses/LICENSE-2.0\n",
        "\n",
        "Unless required by applicable law or agreed to in writing, software\n",
        "distributed under the License is distributed on an \"AS IS\" BASIS,\n",
        "WITHOUT WARRANTIES OR CONDITIONS OF ANY KIND, either express or implied.\n",
        "See the License for the specific language governing permissions and\n",
        "limitations under the License.\n",
        "\n",
        "*DISCLAIMER*: This notebook is not legal or compliance advice."
      ]
    },
    {
      "cell_type": "markdown",
      "id": "c7556803",
      "metadata": {
        "id": "c7556803"
      },
      "source": [
        "# Assignment 5"
      ]
    },
    {
      "cell_type": "markdown",
      "id": "44ddbb28",
      "metadata": {
        "id": "44ddbb28"
      },
      "source": [
        "#### Imports and inits"
      ]
    },
    {
      "cell_type": "code",
      "source": [
        "import warnings\n",
        "warnings.filterwarnings('ignore')\n",
        "warnings.simplefilter('ignore')"
      ],
      "metadata": {
        "id": "F9E-UTer45Tg"
      },
      "id": "F9E-UTer45Tg",
      "execution_count": 1,
      "outputs": []
    },
    {
      "cell_type": "code",
      "execution_count": 2,
      "id": "49422b54",
      "metadata": {
        "id": "49422b54",
        "outputId": "ef3b60d3-1760-457c-a553-eca49b6ff6cd",
        "colab": {
          "base_uri": "https://localhost:8080/"
        }
      },
      "outputs": [
        {
          "output_type": "stream",
          "name": "stdout",
          "text": [
            "Looking in indexes: https://pypi.org/simple, https://us-python.pkg.dev/colab-wheels/public/simple/\n",
            "Requirement already satisfied: h2o==3.32.1.3 in /usr/local/lib/python3.7/dist-packages (from -r requirements.txt (line 4)) (3.32.1.3)\n",
            "Requirement already satisfied: interpret==0.2.4 in /usr/local/lib/python3.7/dist-packages (from -r requirements.txt (line 5)) (0.2.4)\n",
            "Requirement already satisfied: jupyter==1.0.0 in /usr/local/lib/python3.7/dist-packages (from -r requirements.txt (line 6)) (1.0.0)\n",
            "Requirement already satisfied: matplotlib==3.3.4 in /usr/local/lib/python3.7/dist-packages (from -r requirements.txt (line 7)) (3.3.4)\n",
            "Requirement already satisfied: numpy==1.19.5 in /usr/local/lib/python3.7/dist-packages (from -r requirements.txt (line 8)) (1.19.5)\n",
            "Requirement already satisfied: pandas==1.1.5 in /usr/local/lib/python3.7/dist-packages (from -r requirements.txt (line 9)) (1.1.5)\n",
            "Requirement already satisfied: scikit-learn==0.24.2 in /usr/local/lib/python3.7/dist-packages (from -r requirements.txt (line 10)) (0.24.2)\n",
            "Requirement already satisfied: seaborn==0.11.1 in /usr/local/lib/python3.7/dist-packages (from -r requirements.txt (line 11)) (0.11.1)\n",
            "Requirement already satisfied: xgboost==1.4.2 in /usr/local/lib/python3.7/dist-packages (from -r requirements.txt (line 12)) (1.4.2)\n",
            "Requirement already satisfied: future in /usr/local/lib/python3.7/dist-packages (from h2o==3.32.1.3->-r requirements.txt (line 4)) (0.16.0)\n",
            "Requirement already satisfied: tabulate in /usr/local/lib/python3.7/dist-packages (from h2o==3.32.1.3->-r requirements.txt (line 4)) (0.8.9)\n",
            "Requirement already satisfied: requests in /usr/local/lib/python3.7/dist-packages (from h2o==3.32.1.3->-r requirements.txt (line 4)) (2.23.0)\n",
            "Requirement already satisfied: colorama>=0.3.8 in /usr/local/lib/python3.7/dist-packages (from h2o==3.32.1.3->-r requirements.txt (line 4)) (0.4.5)\n",
            "Requirement already satisfied: interpret-core[dash,debug,decisiontree,ebm,lime,linear,notebook,plotly,required,sensitivity,shap,skoperules,treeinterpreter]>=0.2.4 in /usr/local/lib/python3.7/dist-packages (from interpret==0.2.4->-r requirements.txt (line 5)) (0.2.7)\n",
            "Requirement already satisfied: qtconsole in /usr/local/lib/python3.7/dist-packages (from jupyter==1.0.0->-r requirements.txt (line 6)) (5.3.1)\n",
            "Requirement already satisfied: nbconvert in /usr/local/lib/python3.7/dist-packages (from jupyter==1.0.0->-r requirements.txt (line 6)) (5.6.1)\n",
            "Requirement already satisfied: notebook in /usr/local/lib/python3.7/dist-packages (from jupyter==1.0.0->-r requirements.txt (line 6)) (5.3.1)\n",
            "Requirement already satisfied: jupyter-console in /usr/local/lib/python3.7/dist-packages (from jupyter==1.0.0->-r requirements.txt (line 6)) (6.4.4)\n",
            "Requirement already satisfied: ipykernel in /usr/local/lib/python3.7/dist-packages (from jupyter==1.0.0->-r requirements.txt (line 6)) (6.15.0)\n",
            "Requirement already satisfied: ipywidgets in /usr/local/lib/python3.7/dist-packages (from jupyter==1.0.0->-r requirements.txt (line 6)) (7.7.0)\n",
            "Requirement already satisfied: pyparsing!=2.0.4,!=2.1.2,!=2.1.6,>=2.0.3 in /usr/local/lib/python3.7/dist-packages (from matplotlib==3.3.4->-r requirements.txt (line 7)) (3.0.9)\n",
            "Requirement already satisfied: pillow>=6.2.0 in /usr/local/lib/python3.7/dist-packages (from matplotlib==3.3.4->-r requirements.txt (line 7)) (7.1.2)\n",
            "Requirement already satisfied: cycler>=0.10 in /usr/local/lib/python3.7/dist-packages (from matplotlib==3.3.4->-r requirements.txt (line 7)) (0.11.0)\n",
            "Requirement already satisfied: kiwisolver>=1.0.1 in /usr/local/lib/python3.7/dist-packages (from matplotlib==3.3.4->-r requirements.txt (line 7)) (1.4.3)\n",
            "Requirement already satisfied: python-dateutil>=2.1 in /usr/local/lib/python3.7/dist-packages (from matplotlib==3.3.4->-r requirements.txt (line 7)) (2.8.2)\n",
            "Requirement already satisfied: pytz>=2017.2 in /usr/local/lib/python3.7/dist-packages (from pandas==1.1.5->-r requirements.txt (line 9)) (2022.1)\n",
            "Requirement already satisfied: threadpoolctl>=2.0.0 in /usr/local/lib/python3.7/dist-packages (from scikit-learn==0.24.2->-r requirements.txt (line 10)) (3.1.0)\n",
            "Requirement already satisfied: scipy>=0.19.1 in /usr/local/lib/python3.7/dist-packages (from scikit-learn==0.24.2->-r requirements.txt (line 10)) (1.4.1)\n",
            "Requirement already satisfied: joblib>=0.11 in /usr/local/lib/python3.7/dist-packages (from scikit-learn==0.24.2->-r requirements.txt (line 10)) (1.1.0)\n",
            "Requirement already satisfied: dash>=1.0.0 in /usr/local/lib/python3.7/dist-packages (from interpret-core[dash,debug,decisiontree,ebm,lime,linear,notebook,plotly,required,sensitivity,shap,skoperules,treeinterpreter]>=0.2.4->interpret==0.2.4->-r requirements.txt (line 5)) (2.5.1)\n",
            "Requirement already satisfied: dash-cytoscape>=0.1.1 in /usr/local/lib/python3.7/dist-packages (from interpret-core[dash,debug,decisiontree,ebm,lime,linear,notebook,plotly,required,sensitivity,shap,skoperules,treeinterpreter]>=0.2.4->interpret==0.2.4->-r requirements.txt (line 5)) (0.3.0)\n",
            "Requirement already satisfied: gevent>=1.3.6 in /usr/local/lib/python3.7/dist-packages (from interpret-core[dash,debug,decisiontree,ebm,lime,linear,notebook,plotly,required,sensitivity,shap,skoperules,treeinterpreter]>=0.2.4->interpret==0.2.4->-r requirements.txt (line 5)) (21.12.0)\n",
            "Requirement already satisfied: dash-table>=4.1.0 in /usr/local/lib/python3.7/dist-packages (from interpret-core[dash,debug,decisiontree,ebm,lime,linear,notebook,plotly,required,sensitivity,shap,skoperules,treeinterpreter]>=0.2.4->interpret==0.2.4->-r requirements.txt (line 5)) (5.0.0)\n",
            "Requirement already satisfied: shap>=0.28.5 in /usr/local/lib/python3.7/dist-packages (from interpret-core[dash,debug,decisiontree,ebm,lime,linear,notebook,plotly,required,sensitivity,shap,skoperules,treeinterpreter]>=0.2.4->interpret==0.2.4->-r requirements.txt (line 5)) (0.41.0)\n",
            "Requirement already satisfied: dill>=0.2.5 in /usr/local/lib/python3.7/dist-packages (from interpret-core[dash,debug,decisiontree,ebm,lime,linear,notebook,plotly,required,sensitivity,shap,skoperules,treeinterpreter]>=0.2.4->interpret==0.2.4->-r requirements.txt (line 5)) (0.3.5.1)\n",
            "Requirement already satisfied: psutil>=5.6.2 in /usr/local/lib/python3.7/dist-packages (from interpret-core[dash,debug,decisiontree,ebm,lime,linear,notebook,plotly,required,sensitivity,shap,skoperules,treeinterpreter]>=0.2.4->interpret==0.2.4->-r requirements.txt (line 5)) (5.9.1)\n",
            "Requirement already satisfied: ipython>=7.4.0 in /usr/local/lib/python3.7/dist-packages (from interpret-core[dash,debug,decisiontree,ebm,lime,linear,notebook,plotly,required,sensitivity,shap,skoperules,treeinterpreter]>=0.2.4->interpret==0.2.4->-r requirements.txt (line 5)) (7.34.0)\n",
            "Requirement already satisfied: skope-rules>=1.0.1 in /usr/local/lib/python3.7/dist-packages (from interpret-core[dash,debug,decisiontree,ebm,lime,linear,notebook,plotly,required,sensitivity,shap,skoperules,treeinterpreter]>=0.2.4->interpret==0.2.4->-r requirements.txt (line 5)) (1.0.1)\n",
            "Requirement already satisfied: plotly>=3.8.1 in /usr/local/lib/python3.7/dist-packages (from interpret-core[dash,debug,decisiontree,ebm,lime,linear,notebook,plotly,required,sensitivity,shap,skoperules,treeinterpreter]>=0.2.4->interpret==0.2.4->-r requirements.txt (line 5)) (5.5.0)\n",
            "Requirement already satisfied: treeinterpreter>=0.2.2 in /usr/local/lib/python3.7/dist-packages (from interpret-core[dash,debug,decisiontree,ebm,lime,linear,notebook,plotly,required,sensitivity,shap,skoperules,treeinterpreter]>=0.2.4->interpret==0.2.4->-r requirements.txt (line 5)) (0.2.3)\n",
            "Requirement already satisfied: lime>=0.1.1.33 in /usr/local/lib/python3.7/dist-packages (from interpret-core[dash,debug,decisiontree,ebm,lime,linear,notebook,plotly,required,sensitivity,shap,skoperules,treeinterpreter]>=0.2.4->interpret==0.2.4->-r requirements.txt (line 5)) (0.2.0.1)\n",
            "Requirement already satisfied: SALib>=1.3.3 in /usr/local/lib/python3.7/dist-packages (from interpret-core[dash,debug,decisiontree,ebm,lime,linear,notebook,plotly,required,sensitivity,shap,skoperules,treeinterpreter]>=0.2.4->interpret==0.2.4->-r requirements.txt (line 5)) (1.4.5)\n",
            "Requirement already satisfied: dash-core-components==2.0.0 in /usr/local/lib/python3.7/dist-packages (from dash>=1.0.0->interpret-core[dash,debug,decisiontree,ebm,lime,linear,notebook,plotly,required,sensitivity,shap,skoperules,treeinterpreter]>=0.2.4->interpret==0.2.4->-r requirements.txt (line 5)) (2.0.0)\n",
            "Requirement already satisfied: dash-html-components==2.0.0 in /usr/local/lib/python3.7/dist-packages (from dash>=1.0.0->interpret-core[dash,debug,decisiontree,ebm,lime,linear,notebook,plotly,required,sensitivity,shap,skoperules,treeinterpreter]>=0.2.4->interpret==0.2.4->-r requirements.txt (line 5)) (2.0.0)\n",
            "Requirement already satisfied: flask-compress in /usr/local/lib/python3.7/dist-packages (from dash>=1.0.0->interpret-core[dash,debug,decisiontree,ebm,lime,linear,notebook,plotly,required,sensitivity,shap,skoperules,treeinterpreter]>=0.2.4->interpret==0.2.4->-r requirements.txt (line 5)) (1.12)\n",
            "Requirement already satisfied: Flask>=1.0.4 in /usr/local/lib/python3.7/dist-packages (from dash>=1.0.0->interpret-core[dash,debug,decisiontree,ebm,lime,linear,notebook,plotly,required,sensitivity,shap,skoperules,treeinterpreter]>=0.2.4->interpret==0.2.4->-r requirements.txt (line 5)) (1.1.4)\n",
            "Requirement already satisfied: Werkzeug<2.0,>=0.15 in /usr/local/lib/python3.7/dist-packages (from Flask>=1.0.4->dash>=1.0.0->interpret-core[dash,debug,decisiontree,ebm,lime,linear,notebook,plotly,required,sensitivity,shap,skoperules,treeinterpreter]>=0.2.4->interpret==0.2.4->-r requirements.txt (line 5)) (1.0.1)\n",
            "Requirement already satisfied: itsdangerous<2.0,>=0.24 in /usr/local/lib/python3.7/dist-packages (from Flask>=1.0.4->dash>=1.0.0->interpret-core[dash,debug,decisiontree,ebm,lime,linear,notebook,plotly,required,sensitivity,shap,skoperules,treeinterpreter]>=0.2.4->interpret==0.2.4->-r requirements.txt (line 5)) (1.1.0)\n",
            "Requirement already satisfied: Jinja2<3.0,>=2.10.1 in /usr/local/lib/python3.7/dist-packages (from Flask>=1.0.4->dash>=1.0.0->interpret-core[dash,debug,decisiontree,ebm,lime,linear,notebook,plotly,required,sensitivity,shap,skoperules,treeinterpreter]>=0.2.4->interpret==0.2.4->-r requirements.txt (line 5)) (2.11.3)\n",
            "Requirement already satisfied: click<8.0,>=5.1 in /usr/local/lib/python3.7/dist-packages (from Flask>=1.0.4->dash>=1.0.0->interpret-core[dash,debug,decisiontree,ebm,lime,linear,notebook,plotly,required,sensitivity,shap,skoperules,treeinterpreter]>=0.2.4->interpret==0.2.4->-r requirements.txt (line 5)) (7.1.2)\n",
            "Requirement already satisfied: setuptools in /usr/local/lib/python3.7/dist-packages (from gevent>=1.3.6->interpret-core[dash,debug,decisiontree,ebm,lime,linear,notebook,plotly,required,sensitivity,shap,skoperules,treeinterpreter]>=0.2.4->interpret==0.2.4->-r requirements.txt (line 5)) (57.4.0)\n",
            "Requirement already satisfied: zope.event in /usr/local/lib/python3.7/dist-packages (from gevent>=1.3.6->interpret-core[dash,debug,decisiontree,ebm,lime,linear,notebook,plotly,required,sensitivity,shap,skoperules,treeinterpreter]>=0.2.4->interpret==0.2.4->-r requirements.txt (line 5)) (4.5.0)\n",
            "Requirement already satisfied: zope.interface in /usr/local/lib/python3.7/dist-packages (from gevent>=1.3.6->interpret-core[dash,debug,decisiontree,ebm,lime,linear,notebook,plotly,required,sensitivity,shap,skoperules,treeinterpreter]>=0.2.4->interpret==0.2.4->-r requirements.txt (line 5)) (5.4.0)\n",
            "Requirement already satisfied: greenlet<2.0,>=1.1.0 in /usr/local/lib/python3.7/dist-packages (from gevent>=1.3.6->interpret-core[dash,debug,decisiontree,ebm,lime,linear,notebook,plotly,required,sensitivity,shap,skoperules,treeinterpreter]>=0.2.4->interpret==0.2.4->-r requirements.txt (line 5)) (1.1.2)\n",
            "Requirement already satisfied: tornado>=6.1 in /usr/local/lib/python3.7/dist-packages (from ipykernel->jupyter==1.0.0->-r requirements.txt (line 6)) (6.2)\n",
            "Requirement already satisfied: debugpy>=1.0 in /usr/local/lib/python3.7/dist-packages (from ipykernel->jupyter==1.0.0->-r requirements.txt (line 6)) (1.0.0)\n",
            "Requirement already satisfied: pyzmq>=17 in /usr/local/lib/python3.7/dist-packages (from ipykernel->jupyter==1.0.0->-r requirements.txt (line 6)) (23.1.0)\n",
            "Requirement already satisfied: traitlets>=5.1.0 in /usr/local/lib/python3.7/dist-packages (from ipykernel->jupyter==1.0.0->-r requirements.txt (line 6)) (5.1.1)\n",
            "Requirement already satisfied: nest-asyncio in /usr/local/lib/python3.7/dist-packages (from ipykernel->jupyter==1.0.0->-r requirements.txt (line 6)) (1.5.5)\n",
            "Requirement already satisfied: jupyter-client>=6.1.12 in /usr/local/lib/python3.7/dist-packages (from ipykernel->jupyter==1.0.0->-r requirements.txt (line 6)) (7.3.4)\n",
            "Requirement already satisfied: packaging in /usr/local/lib/python3.7/dist-packages (from ipykernel->jupyter==1.0.0->-r requirements.txt (line 6)) (21.3)\n",
            "Requirement already satisfied: matplotlib-inline>=0.1 in /usr/local/lib/python3.7/dist-packages (from ipykernel->jupyter==1.0.0->-r requirements.txt (line 6)) (0.1.3)\n",
            "Requirement already satisfied: backcall in /usr/local/lib/python3.7/dist-packages (from ipython>=7.4.0->interpret-core[dash,debug,decisiontree,ebm,lime,linear,notebook,plotly,required,sensitivity,shap,skoperules,treeinterpreter]>=0.2.4->interpret==0.2.4->-r requirements.txt (line 5)) (0.2.0)\n",
            "Requirement already satisfied: pexpect>4.3 in /usr/local/lib/python3.7/dist-packages (from ipython>=7.4.0->interpret-core[dash,debug,decisiontree,ebm,lime,linear,notebook,plotly,required,sensitivity,shap,skoperules,treeinterpreter]>=0.2.4->interpret==0.2.4->-r requirements.txt (line 5)) (4.8.0)\n",
            "Requirement already satisfied: prompt-toolkit!=3.0.0,!=3.0.1,<3.1.0,>=2.0.0 in /usr/local/lib/python3.7/dist-packages (from ipython>=7.4.0->interpret-core[dash,debug,decisiontree,ebm,lime,linear,notebook,plotly,required,sensitivity,shap,skoperules,treeinterpreter]>=0.2.4->interpret==0.2.4->-r requirements.txt (line 5)) (3.0.30)\n",
            "Requirement already satisfied: pickleshare in /usr/local/lib/python3.7/dist-packages (from ipython>=7.4.0->interpret-core[dash,debug,decisiontree,ebm,lime,linear,notebook,plotly,required,sensitivity,shap,skoperules,treeinterpreter]>=0.2.4->interpret==0.2.4->-r requirements.txt (line 5)) (0.7.5)\n",
            "Requirement already satisfied: jedi>=0.16 in /usr/local/lib/python3.7/dist-packages (from ipython>=7.4.0->interpret-core[dash,debug,decisiontree,ebm,lime,linear,notebook,plotly,required,sensitivity,shap,skoperules,treeinterpreter]>=0.2.4->interpret==0.2.4->-r requirements.txt (line 5)) (0.18.1)\n",
            "Requirement already satisfied: decorator in /usr/local/lib/python3.7/dist-packages (from ipython>=7.4.0->interpret-core[dash,debug,decisiontree,ebm,lime,linear,notebook,plotly,required,sensitivity,shap,skoperules,treeinterpreter]>=0.2.4->interpret==0.2.4->-r requirements.txt (line 5)) (4.4.2)\n",
            "Requirement already satisfied: pygments in /usr/local/lib/python3.7/dist-packages (from ipython>=7.4.0->interpret-core[dash,debug,decisiontree,ebm,lime,linear,notebook,plotly,required,sensitivity,shap,skoperules,treeinterpreter]>=0.2.4->interpret==0.2.4->-r requirements.txt (line 5)) (2.6.1)\n",
            "Requirement already satisfied: parso<0.9.0,>=0.8.0 in /usr/local/lib/python3.7/dist-packages (from jedi>=0.16->ipython>=7.4.0->interpret-core[dash,debug,decisiontree,ebm,lime,linear,notebook,plotly,required,sensitivity,shap,skoperules,treeinterpreter]>=0.2.4->interpret==0.2.4->-r requirements.txt (line 5)) (0.8.3)\n",
            "Requirement already satisfied: MarkupSafe>=0.23 in /usr/local/lib/python3.7/dist-packages (from Jinja2<3.0,>=2.10.1->Flask>=1.0.4->dash>=1.0.0->interpret-core[dash,debug,decisiontree,ebm,lime,linear,notebook,plotly,required,sensitivity,shap,skoperules,treeinterpreter]>=0.2.4->interpret==0.2.4->-r requirements.txt (line 5)) (2.0.1)\n",
            "Requirement already satisfied: jupyter-core>=4.9.2 in /usr/local/lib/python3.7/dist-packages (from jupyter-client>=6.1.12->ipykernel->jupyter==1.0.0->-r requirements.txt (line 6)) (4.10.0)\n",
            "Requirement already satisfied: entrypoints in /usr/local/lib/python3.7/dist-packages (from jupyter-client>=6.1.12->ipykernel->jupyter==1.0.0->-r requirements.txt (line 6)) (0.4)\n",
            "Requirement already satisfied: typing-extensions in /usr/local/lib/python3.7/dist-packages (from kiwisolver>=1.0.1->matplotlib==3.3.4->-r requirements.txt (line 7)) (4.1.1)\n",
            "Requirement already satisfied: scikit-image>=0.12 in /usr/local/lib/python3.7/dist-packages (from lime>=0.1.1.33->interpret-core[dash,debug,decisiontree,ebm,lime,linear,notebook,plotly,required,sensitivity,shap,skoperules,treeinterpreter]>=0.2.4->interpret==0.2.4->-r requirements.txt (line 5)) (0.18.3)\n",
            "Requirement already satisfied: tqdm in /usr/local/lib/python3.7/dist-packages (from lime>=0.1.1.33->interpret-core[dash,debug,decisiontree,ebm,lime,linear,notebook,plotly,required,sensitivity,shap,skoperules,treeinterpreter]>=0.2.4->interpret==0.2.4->-r requirements.txt (line 5)) (4.64.0)\n",
            "Requirement already satisfied: ptyprocess>=0.5 in /usr/local/lib/python3.7/dist-packages (from pexpect>4.3->ipython>=7.4.0->interpret-core[dash,debug,decisiontree,ebm,lime,linear,notebook,plotly,required,sensitivity,shap,skoperules,treeinterpreter]>=0.2.4->interpret==0.2.4->-r requirements.txt (line 5)) (0.7.0)\n",
            "Requirement already satisfied: tenacity>=6.2.0 in /usr/local/lib/python3.7/dist-packages (from plotly>=3.8.1->interpret-core[dash,debug,decisiontree,ebm,lime,linear,notebook,plotly,required,sensitivity,shap,skoperules,treeinterpreter]>=0.2.4->interpret==0.2.4->-r requirements.txt (line 5)) (8.0.1)\n",
            "Requirement already satisfied: six in /usr/local/lib/python3.7/dist-packages (from plotly>=3.8.1->interpret-core[dash,debug,decisiontree,ebm,lime,linear,notebook,plotly,required,sensitivity,shap,skoperules,treeinterpreter]>=0.2.4->interpret==0.2.4->-r requirements.txt (line 5)) (1.15.0)\n",
            "Requirement already satisfied: wcwidth in /usr/local/lib/python3.7/dist-packages (from prompt-toolkit!=3.0.0,!=3.0.1,<3.1.0,>=2.0.0->ipython>=7.4.0->interpret-core[dash,debug,decisiontree,ebm,lime,linear,notebook,plotly,required,sensitivity,shap,skoperules,treeinterpreter]>=0.2.4->interpret==0.2.4->-r requirements.txt (line 5)) (0.2.5)\n",
            "Requirement already satisfied: chardet<4,>=3.0.2 in /usr/local/lib/python3.7/dist-packages (from requests->h2o==3.32.1.3->-r requirements.txt (line 4)) (3.0.4)\n",
            "Requirement already satisfied: idna<3,>=2.5 in /usr/local/lib/python3.7/dist-packages (from requests->h2o==3.32.1.3->-r requirements.txt (line 4)) (2.10)\n",
            "Requirement already satisfied: certifi>=2017.4.17 in /usr/local/lib/python3.7/dist-packages (from requests->h2o==3.32.1.3->-r requirements.txt (line 4)) (2022.6.15)\n",
            "Requirement already satisfied: urllib3!=1.25.0,!=1.25.1,<1.26,>=1.21.1 in /usr/local/lib/python3.7/dist-packages (from requests->h2o==3.32.1.3->-r requirements.txt (line 4)) (1.24.3)\n",
            "Requirement already satisfied: wheel in /usr/local/lib/python3.7/dist-packages (from SALib>=1.3.3->interpret-core[dash,debug,decisiontree,ebm,lime,linear,notebook,plotly,required,sensitivity,shap,skoperules,treeinterpreter]>=0.2.4->interpret==0.2.4->-r requirements.txt (line 5)) (0.37.1)\n",
            "Requirement already satisfied: importlib-metadata in /usr/local/lib/python3.7/dist-packages (from SALib>=1.3.3->interpret-core[dash,debug,decisiontree,ebm,lime,linear,notebook,plotly,required,sensitivity,shap,skoperules,treeinterpreter]>=0.2.4->interpret==0.2.4->-r requirements.txt (line 5)) (4.11.4)\n",
            "Requirement already satisfied: pathos in /usr/local/lib/python3.7/dist-packages (from SALib>=1.3.3->interpret-core[dash,debug,decisiontree,ebm,lime,linear,notebook,plotly,required,sensitivity,shap,skoperules,treeinterpreter]>=0.2.4->interpret==0.2.4->-r requirements.txt (line 5)) (0.2.9)\n",
            "Requirement already satisfied: tifffile>=2019.7.26 in /usr/local/lib/python3.7/dist-packages (from scikit-image>=0.12->lime>=0.1.1.33->interpret-core[dash,debug,decisiontree,ebm,lime,linear,notebook,plotly,required,sensitivity,shap,skoperules,treeinterpreter]>=0.2.4->interpret==0.2.4->-r requirements.txt (line 5)) (2021.11.2)\n",
            "Requirement already satisfied: networkx>=2.0 in /usr/local/lib/python3.7/dist-packages (from scikit-image>=0.12->lime>=0.1.1.33->interpret-core[dash,debug,decisiontree,ebm,lime,linear,notebook,plotly,required,sensitivity,shap,skoperules,treeinterpreter]>=0.2.4->interpret==0.2.4->-r requirements.txt (line 5)) (2.6.3)\n",
            "Requirement already satisfied: imageio>=2.3.0 in /usr/local/lib/python3.7/dist-packages (from scikit-image>=0.12->lime>=0.1.1.33->interpret-core[dash,debug,decisiontree,ebm,lime,linear,notebook,plotly,required,sensitivity,shap,skoperules,treeinterpreter]>=0.2.4->interpret==0.2.4->-r requirements.txt (line 5)) (2.4.1)\n",
            "Requirement already satisfied: PyWavelets>=1.1.1 in /usr/local/lib/python3.7/dist-packages (from scikit-image>=0.12->lime>=0.1.1.33->interpret-core[dash,debug,decisiontree,ebm,lime,linear,notebook,plotly,required,sensitivity,shap,skoperules,treeinterpreter]>=0.2.4->interpret==0.2.4->-r requirements.txt (line 5)) (1.3.0)\n",
            "Requirement already satisfied: slicer==0.0.7 in /usr/local/lib/python3.7/dist-packages (from shap>=0.28.5->interpret-core[dash,debug,decisiontree,ebm,lime,linear,notebook,plotly,required,sensitivity,shap,skoperules,treeinterpreter]>=0.2.4->interpret==0.2.4->-r requirements.txt (line 5)) (0.0.7)\n",
            "Requirement already satisfied: numba in /usr/local/lib/python3.7/dist-packages (from shap>=0.28.5->interpret-core[dash,debug,decisiontree,ebm,lime,linear,notebook,plotly,required,sensitivity,shap,skoperules,treeinterpreter]>=0.2.4->interpret==0.2.4->-r requirements.txt (line 5)) (0.51.2)\n",
            "Requirement already satisfied: cloudpickle in /usr/local/lib/python3.7/dist-packages (from shap>=0.28.5->interpret-core[dash,debug,decisiontree,ebm,lime,linear,notebook,plotly,required,sensitivity,shap,skoperules,treeinterpreter]>=0.2.4->interpret==0.2.4->-r requirements.txt (line 5)) (1.3.0)\n",
            "Requirement already satisfied: brotli in /usr/local/lib/python3.7/dist-packages (from flask-compress->dash>=1.0.0->interpret-core[dash,debug,decisiontree,ebm,lime,linear,notebook,plotly,required,sensitivity,shap,skoperules,treeinterpreter]>=0.2.4->interpret==0.2.4->-r requirements.txt (line 5)) (1.0.9)\n",
            "Requirement already satisfied: zipp>=0.5 in /usr/local/lib/python3.7/dist-packages (from importlib-metadata->SALib>=1.3.3->interpret-core[dash,debug,decisiontree,ebm,lime,linear,notebook,plotly,required,sensitivity,shap,skoperules,treeinterpreter]>=0.2.4->interpret==0.2.4->-r requirements.txt (line 5)) (3.8.0)\n",
            "Requirement already satisfied: widgetsnbextension~=3.6.0 in /usr/local/lib/python3.7/dist-packages (from ipywidgets->jupyter==1.0.0->-r requirements.txt (line 6)) (3.6.0)\n",
            "Requirement already satisfied: nbformat>=4.2.0 in /usr/local/lib/python3.7/dist-packages (from ipywidgets->jupyter==1.0.0->-r requirements.txt (line 6)) (5.4.0)\n",
            "Requirement already satisfied: jupyterlab-widgets>=1.0.0 in /usr/local/lib/python3.7/dist-packages (from ipywidgets->jupyter==1.0.0->-r requirements.txt (line 6)) (1.1.0)\n",
            "Requirement already satisfied: ipython-genutils~=0.2.0 in /usr/local/lib/python3.7/dist-packages (from ipywidgets->jupyter==1.0.0->-r requirements.txt (line 6)) (0.2.0)\n",
            "Requirement already satisfied: jsonschema>=2.6 in /usr/local/lib/python3.7/dist-packages (from nbformat>=4.2.0->ipywidgets->jupyter==1.0.0->-r requirements.txt (line 6)) (4.3.3)\n",
            "Requirement already satisfied: fastjsonschema in /usr/local/lib/python3.7/dist-packages (from nbformat>=4.2.0->ipywidgets->jupyter==1.0.0->-r requirements.txt (line 6)) (2.15.3)\n",
            "Requirement already satisfied: attrs>=17.4.0 in /usr/local/lib/python3.7/dist-packages (from jsonschema>=2.6->nbformat>=4.2.0->ipywidgets->jupyter==1.0.0->-r requirements.txt (line 6)) (21.4.0)\n",
            "Requirement already satisfied: pyrsistent!=0.17.0,!=0.17.1,!=0.17.2,>=0.14.0 in /usr/local/lib/python3.7/dist-packages (from jsonschema>=2.6->nbformat>=4.2.0->ipywidgets->jupyter==1.0.0->-r requirements.txt (line 6)) (0.18.1)\n",
            "Requirement already satisfied: importlib-resources>=1.4.0 in /usr/local/lib/python3.7/dist-packages (from jsonschema>=2.6->nbformat>=4.2.0->ipywidgets->jupyter==1.0.0->-r requirements.txt (line 6)) (5.7.1)\n",
            "Requirement already satisfied: terminado>=0.8.1 in /usr/local/lib/python3.7/dist-packages (from notebook->jupyter==1.0.0->-r requirements.txt (line 6)) (0.13.3)\n",
            "Requirement already satisfied: Send2Trash in /usr/local/lib/python3.7/dist-packages (from notebook->jupyter==1.0.0->-r requirements.txt (line 6)) (1.8.0)\n",
            "Requirement already satisfied: pandocfilters>=1.4.1 in /usr/local/lib/python3.7/dist-packages (from nbconvert->jupyter==1.0.0->-r requirements.txt (line 6)) (1.5.0)\n",
            "Requirement already satisfied: mistune<2,>=0.8.1 in /usr/local/lib/python3.7/dist-packages (from nbconvert->jupyter==1.0.0->-r requirements.txt (line 6)) (0.8.4)\n",
            "Requirement already satisfied: testpath in /usr/local/lib/python3.7/dist-packages (from nbconvert->jupyter==1.0.0->-r requirements.txt (line 6)) (0.6.0)\n",
            "Requirement already satisfied: bleach in /usr/local/lib/python3.7/dist-packages (from nbconvert->jupyter==1.0.0->-r requirements.txt (line 6)) (5.0.0)\n",
            "Requirement already satisfied: defusedxml in /usr/local/lib/python3.7/dist-packages (from nbconvert->jupyter==1.0.0->-r requirements.txt (line 6)) (0.7.1)\n",
            "Requirement already satisfied: webencodings in /usr/local/lib/python3.7/dist-packages (from bleach->nbconvert->jupyter==1.0.0->-r requirements.txt (line 6)) (0.5.1)\n",
            "Requirement already satisfied: llvmlite<0.35,>=0.34.0.dev0 in /usr/local/lib/python3.7/dist-packages (from numba->shap>=0.28.5->interpret-core[dash,debug,decisiontree,ebm,lime,linear,notebook,plotly,required,sensitivity,shap,skoperules,treeinterpreter]>=0.2.4->interpret==0.2.4->-r requirements.txt (line 5)) (0.34.0)\n",
            "Requirement already satisfied: ppft>=1.7.6.5 in /usr/local/lib/python3.7/dist-packages (from pathos->SALib>=1.3.3->interpret-core[dash,debug,decisiontree,ebm,lime,linear,notebook,plotly,required,sensitivity,shap,skoperules,treeinterpreter]>=0.2.4->interpret==0.2.4->-r requirements.txt (line 5)) (1.7.6.5)\n",
            "Requirement already satisfied: pox>=0.3.1 in /usr/local/lib/python3.7/dist-packages (from pathos->SALib>=1.3.3->interpret-core[dash,debug,decisiontree,ebm,lime,linear,notebook,plotly,required,sensitivity,shap,skoperules,treeinterpreter]>=0.2.4->interpret==0.2.4->-r requirements.txt (line 5)) (0.3.1)\n",
            "Requirement already satisfied: multiprocess>=0.70.13 in /usr/local/lib/python3.7/dist-packages (from pathos->SALib>=1.3.3->interpret-core[dash,debug,decisiontree,ebm,lime,linear,notebook,plotly,required,sensitivity,shap,skoperules,treeinterpreter]>=0.2.4->interpret==0.2.4->-r requirements.txt (line 5)) (0.70.13)\n",
            "Requirement already satisfied: qtpy>=2.0.1 in /usr/local/lib/python3.7/dist-packages (from qtconsole->jupyter==1.0.0->-r requirements.txt (line 6)) (2.1.0)\n"
          ]
        }
      ],
      "source": [
        "!pip install -r requirements.txt"
      ]
    },
    {
      "cell_type": "code",
      "execution_count": null,
      "id": "4baedf75",
      "metadata": {
        "scrolled": true,
        "id": "4baedf75"
      },
      "outputs": [],
      "source": [
        "import itertools                                              # for cartesian product of parameters\n",
        "import xgboost as xgb                                         # base xgboost package for python\n",
        "from interpret.glassbox import ExplainableBoostingClassifier      # interpret ebm class\n",
        "from interpret.perf import ROC                                    # ROC measure for ebm\n",
        "import numpy as np                                                # for basic array manipulation                            \n",
        "import pandas as pd                                               # for dataframe manipulation\n",
        "import time                                                       # for timers\n",
        "\n",
        "# plotting functionality\n",
        "import matplotlib.pyplot as plt\n",
        "from matplotlib.lines import Line2D # necessary for custom legends\n",
        "\n",
        "# display plots in notebook\n",
        "%matplotlib inline\n",
        "\n",
        "# set numpy random seed for better reproducibility\n",
        "SEED = 12345 \n",
        "np.random.seed(SEED)\n",
        "\n",
        "# set number of threads\n",
        "NTHREAD = 4"
      ]
    },
    {
      "cell_type": "markdown",
      "id": "152e8474",
      "metadata": {
        "id": "152e8474"
      },
      "source": [
        "#### Start global timer"
      ]
    },
    {
      "cell_type": "code",
      "execution_count": null,
      "id": "110ae3e4",
      "metadata": {
        "id": "110ae3e4"
      },
      "outputs": [],
      "source": [
        "tic = time.time()"
      ]
    },
    {
      "cell_type": "markdown",
      "id": "e36c81fd",
      "metadata": {
        "id": "e36c81fd"
      },
      "source": [
        "#### Import data"
      ]
    },
    {
      "cell_type": "code",
      "execution_count": null,
      "id": "36898e3f",
      "metadata": {
        "id": "36898e3f"
      },
      "outputs": [],
      "source": [
        "data = pd.read_csv('../data/hmda_train_preprocessed.csv')\n",
        "test = pd.read_csv('../data/hmda_test_preprocessed.csv')"
      ]
    },
    {
      "cell_type": "markdown",
      "id": "02f780ca",
      "metadata": {
        "id": "02f780ca"
      },
      "source": [
        "#### Assign basic modeling roles"
      ]
    },
    {
      "cell_type": "code",
      "execution_count": null,
      "id": "374364cd",
      "metadata": {
        "id": "374364cd"
      },
      "outputs": [],
      "source": [
        "y_name = 'high_priced'"
      ]
    },
    {
      "cell_type": "markdown",
      "id": "2bd91ac7",
      "metadata": {
        "id": "2bd91ac7"
      },
      "source": [
        "## Fit interpretable model"
      ]
    },
    {
      "cell_type": "markdown",
      "id": "b63c7465",
      "metadata": {
        "id": "b63c7465"
      },
      "source": [
        "#### Split data into train and validation partitions "
      ]
    },
    {
      "cell_type": "code",
      "execution_count": null,
      "id": "d82faabc",
      "metadata": {
        "scrolled": true,
        "id": "d82faabc",
        "outputId": "8140ddcf-33ce-4a90-94cd-3e8b510da431"
      },
      "outputs": [
        {
          "name": "stdout",
          "output_type": "stream",
          "text": [
            "Train data rows = 112253, columns = 23\n",
            "Validation data rows = 48085, columns = 23\n"
          ]
        }
      ],
      "source": [
        "np.random.seed(SEED) # preserve exact reproducibility for this cell\n",
        "\n",
        "split_ratio = 0.7 # 70%/30% train/test split\n",
        "\n",
        "# execute split\n",
        "split = np.random.rand(len(data)) < split_ratio\n",
        "train = data[split]\n",
        "valid = data[~split]\n",
        "\n",
        "# summarize split\n",
        "print('Train data rows = %d, columns = %d' % (train.shape[0], train.shape[1]))\n",
        "print('Validation data rows = %d, columns = %d' % (valid.shape[0], valid.shape[1]))\n",
        "\n",
        "# benchmark - Train data rows = 112253, columns = 23\n",
        "# benchmark - Validation data rows = 48085, columns = 23"
      ]
    },
    {
      "cell_type": "markdown",
      "id": "348b7fb0",
      "metadata": {
        "id": "348b7fb0"
      },
      "source": [
        "### XGBoost Machine"
      ]
    },
    {
      "cell_type": "markdown",
      "id": "df03ff02",
      "metadata": {
        "id": "df03ff02"
      },
      "source": [
        "#### Retrain most accurate model above 0.8 AIR to debug"
      ]
    },
    {
      "cell_type": "code",
      "execution_count": null,
      "id": "c60363e1",
      "metadata": {
        "id": "c60363e1"
      },
      "outputs": [],
      "source": [
        "def xgb_grid(dtrain, dvalid, mono_constraints=None, gs_params=None, n_models=None,\n",
        "             ntree=None, early_stopping_rounds=None, verbose=False, seed=None):\n",
        "    \n",
        "    \"\"\" Performs a random grid search over n_models and gs_params.\n",
        "\n",
        "    :param dtrain: Training data in LightSVM format.\n",
        "    :param dvalid: Validation data in LightSVM format.\n",
        "    :param mono_constraints: User-supplied monotonicity constraints.\n",
        "    :param gs_params: Dictionary of lists of potential XGBoost parameters over which to search.\n",
        "    :param n_models: Number of random models to evaluate.\n",
        "    :param ntree: Number of trees in XGBoost model.\n",
        "    :param early_stopping_rounds: XGBoost early stopping rounds.\n",
        "    :param verbose: Whether to display training iterations, default False.\n",
        "    :param seed: Random seed for better interpretability.\n",
        "    :return: Best candidate model from random grid search.\n",
        "\n",
        "    \"\"\"\n",
        "    \n",
        "    # cartesian product of gs_params\n",
        "    keys, values = zip(*gs_params.items())\n",
        "    experiments = [dict(zip(keys, v)) for v in itertools.product(*values)]\n",
        "\n",
        "    # preserve exact reproducibility for this function\n",
        "    np.random.seed(SEED) \n",
        "    \n",
        "    # select randomly from cartesian product space\n",
        "    selected_experiments = np.random.choice(len(experiments), n_models)\n",
        "\n",
        "    # set global params for objective,  etc.\n",
        "    params = {'booster': 'gbtree',\n",
        "              'eval_metric': 'auc',\n",
        "              'nthread': NTHREAD,\n",
        "              'objective': 'binary:logistic',\n",
        "              'seed': SEED}\n",
        "\n",
        "    # init grid search loop\n",
        "    best_candidate = None\n",
        "    best_score = 0\n",
        "\n",
        "    # grid search loop\n",
        "    for i, exp in enumerate(selected_experiments):\n",
        "\n",
        "        params.update(experiments[exp])  # override global params with current grid run params\n",
        "\n",
        "        print('Grid search run %d/%d:' % (int(i + 1), int(n_models)))\n",
        "        print('Training with parameters:', params)\n",
        "\n",
        "        # train on current params\n",
        "        watchlist = [(dtrain, 'train'), (dvalid, 'eval')]\n",
        "        \n",
        "        if mono_constraints is not None:\n",
        "            params['monotone_constraints'] = mono_constraints\n",
        "        \n",
        "        candidate = xgb.train(params,\n",
        "                              dtrain,\n",
        "                              ntree,\n",
        "                              early_stopping_rounds=early_stopping_rounds,\n",
        "                              evals=watchlist,\n",
        "                              verbose_eval=verbose)    \n",
        "\n",
        "        # determine if current model is better than previous best\n",
        "        if candidate.best_score > best_score:\n",
        "            best_candidate = candidate\n",
        "            best_score = candidate.best_score\n",
        "            print('Grid search new best score discovered at iteration %d/%d: %.4f.' %\n",
        "                             (int(i + 1), int(n_models), candidate.best_score))\n",
        "\n",
        "        print('---------- ----------')\n",
        "            \n",
        "    return best_candidate"
      ]
    },
    {
      "cell_type": "code",
      "execution_count": null,
      "id": "363c0f63",
      "metadata": {
        "id": "363c0f63",
        "outputId": "d7f61571-4905-410e-fc16-8ffbbddd4cab"
      },
      "outputs": [
        {
          "name": "stdout",
          "output_type": "stream",
          "text": [
            "Grid search run 1/1:\n",
            "Training with parameters: {'booster': 'gbtree', 'eval_metric': 'auc', 'nthread': 4, 'objective': 'binary:logistic', 'seed': 12345, 'colsample_bytree': 0.3, 'colsample_bylevel': 0.3, 'eta': 0.05, 'max_depth': 3, 'reg_alpha': 0.0005, 'reg_lambda': 0.0005, 'subsample': 0.3, 'min_child_weight': 10, 'gamma': 0.2}\n",
            "Grid search new best score discovered at iteration 1/1: 0.7907.\n",
            "---------- ----------\n"
          ]
        }
      ],
      "source": [
        "# params dict for remediated models\n",
        "rem_gs_params = {'colsample_bytree': [0.3],\n",
        "             'colsample_bylevel': [0.3],\n",
        "             'eta': [0.05],\n",
        "             'max_depth': [3],\n",
        "             'reg_alpha': [0.0005],\n",
        "             'reg_lambda': [0.0005],\n",
        "             'subsample': [0.3],\n",
        "             'min_child_weight': [10], \n",
        "             'gamma': [0.2]}\n",
        "\n",
        "mono_constraints = (1, 1, 1, -1, 0, -1, 0, 1, 0, 1)\n",
        "\n",
        "rem_x_names = ['debt_to_income_ratio_std',\n",
        "          'income_std',\n",
        "          'term_360',\n",
        "          'property_value_std',\n",
        "          'intro_rate_period_std',\n",
        "          'loan_to_value_ratio_std',\n",
        "          'loan_amount_std',\n",
        "          'debt_to_income_ratio_missing',\n",
        "          'conforming',\n",
        "          'no_intro_rate_period_std']\n",
        "\n",
        "# Convert data to SVMLight format\n",
        "dtrain = xgb.DMatrix(train[rem_x_names], train[y_name])\n",
        "dvalid = xgb.DMatrix(valid[rem_x_names], valid[y_name])\n",
        "\n",
        "# retrain\n",
        "rem_mxgb = xgb_grid(dtrain, dvalid, gs_params=rem_gs_params, n_models=1, ntree=1000, early_stopping_rounds=100, \n",
        "                     mono_constraints=mono_constraints, seed=SEED)"
      ]
    },
    {
      "cell_type": "code",
      "execution_count": null,
      "id": "079e623c",
      "metadata": {
        "id": "079e623c",
        "outputId": "288ba3b7-ce3c-4a70-8d1b-d7564e10382e"
      },
      "outputs": [
        {
          "name": "stdout",
          "output_type": "stream",
          "text": [
            "Grid search run 1/1:\n",
            "Training with parameters: {'booster': 'gbtree', 'eval_metric': 'auc', 'nthread': 4, 'objective': 'binary:logistic', 'seed': 12345, 'colsample_bytree': 0.3, 'colsample_bylevel': 0.3, 'eta': 0.05, 'max_depth': 3, 'reg_alpha': 0.0005, 'reg_lambda': 0.0005, 'subsample': 0.3, 'min_child_weight': 10, 'gamma': 0.2}\n",
            "Grid search new best score discovered at iteration 1/1: 0.7894.\n",
            "---------- ----------\n"
          ]
        },
        {
          "data": {
            "text/plain": [
              "<xgboost.core.Booster at 0x1b39814aa90>"
            ]
          },
          "execution_count": 9,
          "metadata": {},
          "output_type": "execute_result"
        }
      ],
      "source": [
        "# Get training AUC\n",
        "xgb_grid(dtrain, dtrain, gs_params=rem_gs_params, n_models=1, ntree=1000, early_stopping_rounds=100, \n",
        "                     mono_constraints=mono_constraints, seed=SEED)"
      ]
    },
    {
      "cell_type": "markdown",
      "id": "cfb8c431",
      "metadata": {
        "id": "cfb8c431"
      },
      "source": [
        "## Sensitivity Analysis: Stress Testing"
      ]
    },
    {
      "cell_type": "markdown",
      "id": "dbddbe49",
      "metadata": {
        "id": "dbddbe49"
      },
      "source": [
        "#### Simulate recession conditions in validation data"
      ]
    },
    {
      "cell_type": "code",
      "execution_count": null,
      "id": "5ccac210",
      "metadata": {
        "id": "5ccac210",
        "outputId": "136aa323-3a86-4ab1-ef82-5f483d588035"
      },
      "outputs": [
        {
          "data": {
            "image/png": "[encoded data removed]",
            "text/plain": [
              "<Figure size 1080x1080 with 12 Axes>"
            ]
          },
          "metadata": {
            "needs_background": "light"
          },
          "output_type": "display_data"
        }
      ],
      "source": [
        "np.random.seed(SEED) # set seed for this cell\n",
        "\n",
        "rec_valid = valid.copy(deep=True) # deep copy of validation data\n",
        "\n",
        "# use severity variable to control how many customers are affected\n",
        "severity = 0.1\n",
        "affected = np.random.rand(len(rec_valid)) < severity\n",
        "\n",
        "# decrease property values by 5%\n",
        "rec_valid.loc[affected, 'property_value_std'] = rec_valid.loc[affected, 'property_value_std'] * 0.95\n",
        "\n",
        "# less intro rates\n",
        "rec_valid.loc[affected, 'no_intro_rate_period_std'] = 0.2443944\n",
        "\n",
        "# more missing debt-to-income ratios \n",
        "rec_valid.loc[affected, 'debt_to_income_ratio_missing'] = 1\n",
        "\n",
        "# lower income by 5%\n",
        "rec_valid.loc[affected, 'income_std'] = rec_valid.loc[affected, 'income_std'] * 0.95\n",
        "\n",
        "# less conforming loans\n",
        "rec_valid.loc[affected, 'conforming'] = 0\n",
        "\n",
        "# shorter intro rate periods\n",
        "rec_valid.loc[affected, 'intro_rate_period_std'] = rec_valid.loc[affected, 'intro_rate_period_std'] * 0.95\n",
        "\n",
        "# 5% higher debt-to-income ratios \n",
        "rec_valid.loc[affected, 'debt_to_income_ratio_std'] = rec_valid.loc[affected, 'debt_to_income_ratio_std'] * 1.05\n",
        "\n",
        "# more long loans\n",
        "rec_valid.loc[affected, 'term_360'] = 1\n",
        "\n",
        "# update target\n",
        "rec_valid.loc[affected, y_name] = np.random.choice(2, len(rec_valid.loc[affected, y_name]))\n",
        "\n",
        "# visualize results\n",
        "_ = rec_valid[rem_x_names + [y_name]].hist(bins=50, figsize=(15, 15))"
      ]
    },
    {
      "cell_type": "markdown",
      "id": "063c0d9a",
      "metadata": {
        "id": "063c0d9a"
      },
      "source": [
        "#### Find AUC for best model in simulated recession conditions"
      ]
    },
    {
      "cell_type": "code",
      "execution_count": null,
      "id": "8e2f5495",
      "metadata": {
        "id": "8e2f5495",
        "outputId": "d88d63bc-ee7b-4177-f7a2-cc3e47704c9a"
      },
      "outputs": [
        {
          "name": "stdout",
          "output_type": "stream",
          "text": [
            "Grid search run 1/1:\n",
            "Training with parameters: {'booster': 'gbtree', 'eval_metric': 'auc', 'nthread': 4, 'objective': 'binary:logistic', 'seed': 12345, 'colsample_bytree': 0.3, 'colsample_bylevel': 0.3, 'eta': 0.05, 'max_depth': 3, 'reg_alpha': 0.0005, 'reg_lambda': 0.0005, 'subsample': 0.3, 'min_child_weight': 10, 'gamma': 0.2}\n",
            "Grid search new best score discovered at iteration 1/1: 0.6215.\n",
            "---------- ----------\n"
          ]
        }
      ],
      "source": [
        "rec_dvalid = xgb.DMatrix(rec_valid[rem_x_names], rec_valid[y_name])\n",
        "rec_rem_mxgb = xgb_grid(dtrain, rec_dvalid, gs_params=rem_gs_params, n_models=1, ntree=1000, early_stopping_rounds=100, \n",
        "                     mono_constraints=mono_constraints, seed=SEED)"
      ]
    },
    {
      "cell_type": "markdown",
      "id": "f47d17d8",
      "metadata": {
        "id": "f47d17d8"
      },
      "source": [
        "Note the major drop in performance for recession conditions, which is normal for all models and usually worse for complex ML models. It's not unlikely that the more constrained monotonic GBM or penalized GLM could perform better in these conditions. \n",
        "\n",
        "Also, this tells us we need to monitor this model carefully, because when recession conditions begin, this model will fail quickly."
      ]
    },
    {
      "cell_type": "markdown",
      "id": "db549da5",
      "metadata": {
        "id": "db549da5"
      },
      "source": [
        "## Residual Analysis"
      ]
    },
    {
      "cell_type": "markdown",
      "id": "e133d56b",
      "metadata": {
        "id": "e133d56b"
      },
      "source": [
        "#### Calculate predictions and logloss residuals for all data "
      ]
    },
    {
      "cell_type": "code",
      "execution_count": null,
      "id": "ad6178f9",
      "metadata": {
        "id": "ad6178f9"
      },
      "outputs": [],
      "source": [
        "# shortcut names\n",
        "yhat_name = 'phat'\n",
        "r_name = 'r' \n",
        "\n",
        "ddata = xgb.DMatrix(data[rem_x_names], data[y_name])\n",
        "# calculate predictions\n",
        "rem_mxgb_phat = pd.DataFrame(rem_mxgb.predict(ddata, iteration_range=(0, rem_mxgb.best_ntree_limit)), columns=['phat']) \n",
        "rem_mxgb_phat = pd.concat([data.reset_index(drop=True), rem_mxgb_phat], axis=1)\n",
        "\n",
        "# calculate logloss residuals\n",
        "rem_mxgb_phat[r_name] = -rem_mxgb_phat[y_name]*np.log(rem_mxgb_phat[yhat_name]) -\\\n",
        "                       (1 - rem_mxgb_phat[y_name])*np.log(1 - rem_mxgb_phat[yhat_name])   "
      ]
    },
    {
      "cell_type": "markdown",
      "id": "466b7643",
      "metadata": {
        "id": "466b7643"
      },
      "source": [
        "#### Plot residuals"
      ]
    },
    {
      "cell_type": "code",
      "execution_count": null,
      "id": "cb1268d0",
      "metadata": {
        "id": "cb1268d0",
        "outputId": "519785ed-b324-4929-fe46-78ab1973efd6"
      },
      "outputs": [
        {
          "data": {
            "image/png": "[encoded data removed]",
            "text/plain": [
              "<Figure size 576x576 with 1 Axes>"
            ]
          },
          "metadata": {
            "needs_background": "light"
          },
          "output_type": "display_data"
        }
      ],
      "source": [
        "# initialize figure\n",
        "fig, ax_ = plt.subplots(figsize=(8, 8))         \n",
        "\n",
        "# plot groups with appropriate color\n",
        "color_list = ['royalblue', 'magenta'] \n",
        "c_idx = 0\n",
        "groups = rem_mxgb_phat.groupby(y_name) # define groups for levels of PAY_0\n",
        "for name, group in groups:\n",
        "    ax_.plot(group.phat, group.r, \n",
        "             label=' '.join([y_name, str(name)]),\n",
        "             marker='o', linestyle='', color=color_list[c_idx], alpha=0.3)\n",
        "    c_idx += 1\n",
        "    \n",
        "# annotate plot\n",
        "_ = plt.xlabel(yhat_name)\n",
        "_ = plt.ylabel(r_name)\n",
        "_ = ax_.legend(loc=1)\n",
        "_ = plt.title('Global Logloss Residuals')"
      ]
    },
    {
      "cell_type": "markdown",
      "id": "032a2279",
      "metadata": {
        "id": "032a2279"
      },
      "source": [
        "Residuals are very unbalanced. This model struggles to predict when customers will recieve a high-priced loan correctly. It does much better when predicting customers will NOT receive a high-priced loan. There are also some very noticable outliers."
      ]
    },
    {
      "cell_type": "markdown",
      "id": "34d57885",
      "metadata": {
        "id": "34d57885"
      },
      "source": [
        "## Remediation: Remove Outliers"
      ]
    },
    {
      "cell_type": "markdown",
      "id": "a77f9847",
      "metadata": {
        "id": "a77f9847"
      },
      "source": [
        "#### Find outliers"
      ]
    },
    {
      "cell_type": "code",
      "execution_count": null,
      "id": "8785a979",
      "metadata": {
        "id": "8785a979",
        "outputId": "0cba8948-8601-4369-86c6-68bd792d3c8f"
      },
      "outputs": [
        {
          "data": {
            "text/html": [
              "<div>\n",
              "<style scoped>\n",
              "    .dataframe tbody tr th:only-of-type {\n",
              "        vertical-align: middle;\n",
              "    }\n",
              "\n",
              "    .dataframe tbody tr th {\n",
              "        vertical-align: top;\n",
              "    }\n",
              "\n",
              "    .dataframe thead th {\n",
              "        text-align: right;\n",
              "    }\n",
              "</style>\n",
              "<table border=\"1\" class=\"dataframe\">\n",
              "  <thead>\n",
              "    <tr style=\"text-align: right;\">\n",
              "      <th></th>\n",
              "      <th>row_id</th>\n",
              "      <th>black</th>\n",
              "      <th>asian</th>\n",
              "      <th>white</th>\n",
              "      <th>amind</th>\n",
              "      <th>hipac</th>\n",
              "      <th>hispanic</th>\n",
              "      <th>non_hispanic</th>\n",
              "      <th>male</th>\n",
              "      <th>female</th>\n",
              "      <th>...</th>\n",
              "      <th>loan_amount_std</th>\n",
              "      <th>loan_to_value_ratio_std</th>\n",
              "      <th>no_intro_rate_period_std</th>\n",
              "      <th>intro_rate_period_std</th>\n",
              "      <th>property_value_std</th>\n",
              "      <th>income_std</th>\n",
              "      <th>debt_to_income_ratio_std</th>\n",
              "      <th>high_priced</th>\n",
              "      <th>phat</th>\n",
              "      <th>r</th>\n",
              "    </tr>\n",
              "  </thead>\n",
              "  <tbody>\n",
              "    <tr>\n",
              "      <th>2650</th>\n",
              "      <td>2650</td>\n",
              "      <td>0.0</td>\n",
              "      <td>0.0</td>\n",
              "      <td>1.0</td>\n",
              "      <td>0.0</td>\n",
              "      <td>0.0</td>\n",
              "      <td>0.0</td>\n",
              "      <td>1.0</td>\n",
              "      <td>0.0</td>\n",
              "      <td>1.0</td>\n",
              "      <td>...</td>\n",
              "      <td>1.948060</td>\n",
              "      <td>-0.442940</td>\n",
              "      <td>0.244394</td>\n",
              "      <td>-0.215304</td>\n",
              "      <td>1.900015</td>\n",
              "      <td>-0.052781</td>\n",
              "      <td>-2.527547</td>\n",
              "      <td>1</td>\n",
              "      <td>0.000821</td>\n",
              "      <td>7.105468</td>\n",
              "    </tr>\n",
              "    <tr>\n",
              "      <th>82041</th>\n",
              "      <td>82041</td>\n",
              "      <td>0.0</td>\n",
              "      <td>0.0</td>\n",
              "      <td>1.0</td>\n",
              "      <td>0.0</td>\n",
              "      <td>0.0</td>\n",
              "      <td>0.0</td>\n",
              "      <td>1.0</td>\n",
              "      <td>NaN</td>\n",
              "      <td>NaN</td>\n",
              "      <td>...</td>\n",
              "      <td>-0.954117</td>\n",
              "      <td>-2.973067</td>\n",
              "      <td>0.244394</td>\n",
              "      <td>-0.215304</td>\n",
              "      <td>0.697459</td>\n",
              "      <td>-0.052781</td>\n",
              "      <td>-0.425131</td>\n",
              "      <td>1</td>\n",
              "      <td>0.001047</td>\n",
              "      <td>6.861403</td>\n",
              "    </tr>\n",
              "    <tr>\n",
              "      <th>100712</th>\n",
              "      <td>100712</td>\n",
              "      <td>0.0</td>\n",
              "      <td>0.0</td>\n",
              "      <td>1.0</td>\n",
              "      <td>0.0</td>\n",
              "      <td>0.0</td>\n",
              "      <td>0.0</td>\n",
              "      <td>1.0</td>\n",
              "      <td>0.0</td>\n",
              "      <td>1.0</td>\n",
              "      <td>...</td>\n",
              "      <td>2.036004</td>\n",
              "      <td>-0.483396</td>\n",
              "      <td>0.244394</td>\n",
              "      <td>-0.215304</td>\n",
              "      <td>2.023354</td>\n",
              "      <td>-0.052781</td>\n",
              "      <td>-1.156406</td>\n",
              "      <td>1</td>\n",
              "      <td>0.001069</td>\n",
              "      <td>6.841026</td>\n",
              "    </tr>\n",
              "    <tr>\n",
              "      <th>110822</th>\n",
              "      <td>110822</td>\n",
              "      <td>0.0</td>\n",
              "      <td>1.0</td>\n",
              "      <td>0.0</td>\n",
              "      <td>0.0</td>\n",
              "      <td>0.0</td>\n",
              "      <td>0.0</td>\n",
              "      <td>1.0</td>\n",
              "      <td>0.0</td>\n",
              "      <td>1.0</td>\n",
              "      <td>...</td>\n",
              "      <td>0.892723</td>\n",
              "      <td>-0.874794</td>\n",
              "      <td>0.244394</td>\n",
              "      <td>-0.215304</td>\n",
              "      <td>1.252485</td>\n",
              "      <td>-0.007738</td>\n",
              "      <td>-1.156406</td>\n",
              "      <td>1</td>\n",
              "      <td>0.001650</td>\n",
              "      <td>6.406950</td>\n",
              "    </tr>\n",
              "    <tr>\n",
              "      <th>83113</th>\n",
              "      <td>83113</td>\n",
              "      <td>0.0</td>\n",
              "      <td>0.0</td>\n",
              "      <td>1.0</td>\n",
              "      <td>0.0</td>\n",
              "      <td>0.0</td>\n",
              "      <td>1.0</td>\n",
              "      <td>0.0</td>\n",
              "      <td>1.0</td>\n",
              "      <td>0.0</td>\n",
              "      <td>...</td>\n",
              "      <td>0.760806</td>\n",
              "      <td>-0.277030</td>\n",
              "      <td>0.244394</td>\n",
              "      <td>-0.215304</td>\n",
              "      <td>0.697459</td>\n",
              "      <td>0.017208</td>\n",
              "      <td>-0.059493</td>\n",
              "      <td>1</td>\n",
              "      <td>0.002213</td>\n",
              "      <td>6.113442</td>\n",
              "    </tr>\n",
              "  </tbody>\n",
              "</table>\n",
              "<p>5 rows × 25 columns</p>\n",
              "</div>"
            ],
            "text/plain": [
              "        row_id  black  asian  white  amind  hipac  hispanic  non_hispanic  \\\n",
              "2650      2650    0.0    0.0    1.0    0.0    0.0       0.0           1.0   \n",
              "82041    82041    0.0    0.0    1.0    0.0    0.0       0.0           1.0   \n",
              "100712  100712    0.0    0.0    1.0    0.0    0.0       0.0           1.0   \n",
              "110822  110822    0.0    1.0    0.0    0.0    0.0       0.0           1.0   \n",
              "83113    83113    0.0    0.0    1.0    0.0    0.0       1.0           0.0   \n",
              "\n",
              "        male  female  ...  loan_amount_std  loan_to_value_ratio_std  \\\n",
              "2650     0.0     1.0  ...         1.948060                -0.442940   \n",
              "82041    NaN     NaN  ...        -0.954117                -2.973067   \n",
              "100712   0.0     1.0  ...         2.036004                -0.483396   \n",
              "110822   0.0     1.0  ...         0.892723                -0.874794   \n",
              "83113    1.0     0.0  ...         0.760806                -0.277030   \n",
              "\n",
              "        no_intro_rate_period_std  intro_rate_period_std  property_value_std  \\\n",
              "2650                    0.244394              -0.215304            1.900015   \n",
              "82041                   0.244394              -0.215304            0.697459   \n",
              "100712                  0.244394              -0.215304            2.023354   \n",
              "110822                  0.244394              -0.215304            1.252485   \n",
              "83113                   0.244394              -0.215304            0.697459   \n",
              "\n",
              "        income_std  debt_to_income_ratio_std  high_priced      phat         r  \n",
              "2650     -0.052781                 -2.527547            1  0.000821  7.105468  \n",
              "82041    -0.052781                 -0.425131            1  0.001047  6.861403  \n",
              "100712   -0.052781                 -1.156406            1  0.001069  6.841026  \n",
              "110822   -0.007738                 -1.156406            1  0.001650  6.406950  \n",
              "83113     0.017208                 -0.059493            1  0.002213  6.113442  \n",
              "\n",
              "[5 rows x 25 columns]"
            ]
          },
          "execution_count": 13,
          "metadata": {},
          "output_type": "execute_result"
        }
      ],
      "source": [
        "rem_mxgb_phat.sort_values(by='r', ascending=False).head()"
      ]
    },
    {
      "cell_type": "markdown",
      "id": "9628f342",
      "metadata": {
        "id": "9628f342"
      },
      "source": [
        "#### Remove worst outliers"
      ]
    },
    {
      "cell_type": "code",
      "execution_count": null,
      "id": "fca198d8",
      "metadata": {
        "id": "fca198d8"
      },
      "outputs": [],
      "source": [
        "n_remove = 10\n",
        "rem_data = data.copy(deep=True)\n",
        "rem_data.drop(list(rem_mxgb_phat.sort_values(by='r', ascending=False).head(n=n_remove).index), axis=0, inplace=True)"
      ]
    },
    {
      "cell_type": "markdown",
      "id": "9d8e9079",
      "metadata": {
        "id": "9d8e9079"
      },
      "source": [
        "## Remediation: Down-sample to Increase Signal from High-priced Loans"
      ]
    },
    {
      "cell_type": "code",
      "execution_count": null,
      "id": "ec5f3a62",
      "metadata": {
        "id": "ec5f3a62"
      },
      "outputs": [],
      "source": [
        "inverse_proportion_remove = 2 # corresponds to keeping 1 - (1/inverse_proportion_remove) rows\n",
        "rem_data.drop(list(rem_data[rem_data[y_name] == 0].index)[::inverse_proportion_remove], axis=0, inplace=True)"
      ]
    },
    {
      "cell_type": "markdown",
      "id": "bf4de784",
      "metadata": {
        "id": "bf4de784"
      },
      "source": [
        "#### Retrain remediated XGBoost"
      ]
    },
    {
      "cell_type": "code",
      "execution_count": null,
      "id": "bc5ffaac",
      "metadata": {
        "id": "bc5ffaac",
        "outputId": "bf18ef4a-7d1d-4733-8fae-d7708fe3d2eb"
      },
      "outputs": [
        {
          "name": "stdout",
          "output_type": "stream",
          "text": [
            "Remediated train data rows = 61518, columns = 23\n",
            "Remediated validation data rows = 26393, columns = 23\n",
            "Grid search run 1/1:\n",
            "Training with parameters: {'booster': 'gbtree', 'eval_metric': 'auc', 'nthread': 4, 'objective': 'binary:logistic', 'seed': 12345, 'colsample_bytree': 0.3, 'colsample_bylevel': 0.3, 'eta': 0.05, 'max_depth': 3, 'reg_alpha': 0.0005, 'reg_lambda': 0.0005, 'subsample': 0.3, 'min_child_weight': 10, 'gamma': 0.2}\n",
            "Grid search new best score discovered at iteration 1/1: 0.7847.\n",
            "---------- ----------\n"
          ]
        }
      ],
      "source": [
        "np.random.seed(SEED) # preserve exact reproducibility for this cell\n",
        "\n",
        "# execute split\n",
        "split = np.random.rand(len(rem_data)) < split_ratio\n",
        "rem_train = rem_data[split]\n",
        "rem_valid = rem_data[~split]\n",
        "\n",
        "# summarize split\n",
        "print('Remediated train data rows = %d, columns = %d' % (rem_train.shape[0], rem_train.shape[1]))\n",
        "print('Remediated validation data rows = %d, columns = %d' % (rem_valid.shape[0], rem_valid.shape[1]))\n",
        "\n",
        "# retrain\n",
        "rem_dtrain = xgb.DMatrix(rem_train[rem_x_names], rem_train[y_name])\n",
        "rem_dvalid = xgb.DMatrix(rem_valid[rem_x_names], rem_valid[y_name])\n",
        "rem_mxgb2 = xgb_grid(rem_dtrain, rem_dvalid, gs_params=rem_gs_params, n_models=1, ntree=1000, early_stopping_rounds=100, \n",
        "                     mono_constraints=mono_constraints, seed=SEED)"
      ]
    },
    {
      "cell_type": "markdown",
      "id": "6acde37e",
      "metadata": {
        "id": "6acde37e"
      },
      "source": [
        "#### Test remediated XGBoost on true validation data"
      ]
    },
    {
      "cell_type": "code",
      "execution_count": null,
      "id": "218b96b1",
      "metadata": {
        "id": "218b96b1",
        "outputId": "17e96f4b-1176-4fcf-b68f-166dc120fd4d"
      },
      "outputs": [
        {
          "name": "stdout",
          "output_type": "stream",
          "text": [
            "Grid search run 1/1:\n",
            "Training with parameters: {'booster': 'gbtree', 'eval_metric': 'auc', 'nthread': 4, 'objective': 'binary:logistic', 'seed': 12345, 'colsample_bytree': 0.3, 'colsample_bylevel': 0.3, 'eta': 0.05, 'max_depth': 3, 'reg_alpha': 0.0005, 'reg_lambda': 0.0005, 'subsample': 0.3, 'min_child_weight': 10, 'gamma': 0.2}\n",
            "Grid search new best score discovered at iteration 1/1: 0.7920.\n",
            "---------- ----------\n"
          ]
        }
      ],
      "source": [
        "# calculate predictions\n",
        "rem_mxgb2 = xgb_grid(rem_dtrain, dvalid, gs_params=rem_gs_params, n_models=1, ntree=1000, early_stopping_rounds=100, \n",
        "                     mono_constraints=mono_constraints, seed=SEED)"
      ]
    },
    {
      "cell_type": "markdown",
      "id": "a5e5fbf4",
      "metadata": {
        "id": "a5e5fbf4"
      },
      "source": [
        "Dropping outliers and under-sampling increases true AUC!"
      ]
    },
    {
      "cell_type": "markdown",
      "id": "73765e94",
      "metadata": {
        "id": "73765e94"
      },
      "source": [
        "#### End global timer"
      ]
    },
    {
      "cell_type": "code",
      "execution_count": null,
      "id": "e978d190",
      "metadata": {
        "id": "e978d190",
        "outputId": "09faee1c-af35-430a-b7d3-ca89e70e7c0c"
      },
      "outputs": [
        {
          "name": "stdout",
          "output_type": "stream",
          "text": [
            "All tasks completed in 61.24 s.\n"
          ]
        }
      ],
      "source": [
        "toc = time.time() - tic\n",
        "print('All tasks completed in %.2f s.' % (toc))"
      ]
    }
  ],
  "metadata": {
    "kernelspec": {
      "display_name": "Python 3",
      "language": "python",
      "name": "python3"
    },
    "language_info": {
      "codemirror_mode": {
        "name": "ipython",
        "version": 3
      },
      "file_extension": ".py",
      "mimetype": "text/x-python",
      "name": "python",
      "nbconvert_exporter": "python",
      "pygments_lexer": "ipython3",
      "version": "3.8.8"
    },
    "colab": {
      "name": "assignment_5_2.ipynb",
      "provenance": [],
      "include_colab_link": true
    }
  },
  "nbformat": 4,
  "nbformat_minor": 5
}