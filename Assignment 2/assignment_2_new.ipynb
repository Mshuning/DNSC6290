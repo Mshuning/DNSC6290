{
  "cells": [
    {
      "cell_type": "markdown",
      "metadata": {
        "id": "view-in-github",
        "colab_type": "text"
      },
      "source": [
        "<a href=\"https://colab.research.google.com/github/Mshuning/DNSC6290/blob/main/Assignment%202/assignment_2_new.ipynb\" target=\"_parent\"><img src=\"https://colab.research.google.com/assets/colab-badge.svg\" alt=\"Open In Colab\"/></a>"
      ]
    },
    {
      "cell_type": "markdown",
      "id": "1934d2de",
      "metadata": {
        "id": "1934d2de"
      },
      "source": [
        "## License \n",
        "\n",
        "Copyright 2021 Patrick Hall (jphall@gwu.edu), Shuning Ma (shuningma@gwu.edu)\n",
        "\n",
        "Licensed under the Apache License, Version 2.0 (the \"License\");\n",
        "you may not use this file except in compliance with the License.\n",
        "You may obtain a copy of the License at\n",
        "\n",
        "    http://www.apache.org/licenses/LICENSE-2.0\n",
        "\n",
        "Unless required by applicable law or agreed to in writing, software\n",
        "distributed under the License is distributed on an \"AS IS\" BASIS,\n",
        "WITHOUT WARRANTIES OR CONDITIONS OF ANY KIND, either express or implied.\n",
        "See the License for the specific language governing permissions and\n",
        "limitations under the License.\n",
        "\n",
        "*DISCLAIMER*: This notebook is not legal or compliance advice."
      ]
    },
    {
      "cell_type": "markdown",
      "id": "c7556803",
      "metadata": {
        "id": "c7556803"
      },
      "source": [
        "# Assignment 2 Template"
      ]
    },
    {
      "cell_type": "markdown",
      "id": "44ddbb28",
      "metadata": {
        "id": "44ddbb28"
      },
      "source": [
        "#### Imports and inits"
      ]
    },
    {
      "cell_type": "code",
      "source": [
        "!pip install -r requirements.txt"
      ],
      "metadata": {
        "colab": {
          "base_uri": "https://localhost:8080/"
        },
        "id": "7WSHeeaPIjWm",
        "outputId": "496db12c-87e2-4413-efce-a581c47bf894"
      },
      "id": "7WSHeeaPIjWm",
      "execution_count": 1,
      "outputs": [
        {
          "output_type": "stream",
          "name": "stdout",
          "text": [
            "Looking in indexes: https://pypi.org/simple, https://us-python.pkg.dev/colab-wheels/public/simple/\n",
            "Requirement already satisfied: h2o==3.32.1.3 in /usr/local/lib/python3.7/dist-packages (from -r requirements.txt (line 4)) (3.32.1.3)\n",
            "Requirement already satisfied: interpret==0.2.4 in /usr/local/lib/python3.7/dist-packages (from -r requirements.txt (line 5)) (0.2.4)\n",
            "Requirement already satisfied: jupyter==1.0.0 in /usr/local/lib/python3.7/dist-packages (from -r requirements.txt (line 6)) (1.0.0)\n",
            "Requirement already satisfied: matplotlib==3.3.4 in /usr/local/lib/python3.7/dist-packages (from -r requirements.txt (line 7)) (3.3.4)\n",
            "Requirement already satisfied: numpy==1.19.5 in /usr/local/lib/python3.7/dist-packages (from -r requirements.txt (line 8)) (1.19.5)\n",
            "Requirement already satisfied: pandas==1.1.5 in /usr/local/lib/python3.7/dist-packages (from -r requirements.txt (line 9)) (1.1.5)\n",
            "Requirement already satisfied: scikit-learn==0.24.2 in /usr/local/lib/python3.7/dist-packages (from -r requirements.txt (line 10)) (0.24.2)\n",
            "Requirement already satisfied: seaborn==0.11.1 in /usr/local/lib/python3.7/dist-packages (from -r requirements.txt (line 11)) (0.11.1)\n",
            "Requirement already satisfied: xgboost==1.4.2 in /usr/local/lib/python3.7/dist-packages (from -r requirements.txt (line 12)) (1.4.2)\n",
            "Requirement already satisfied: colorama>=0.3.8 in /usr/local/lib/python3.7/dist-packages (from h2o==3.32.1.3->-r requirements.txt (line 4)) (0.4.4)\n",
            "Requirement already satisfied: future in /usr/local/lib/python3.7/dist-packages (from h2o==3.32.1.3->-r requirements.txt (line 4)) (0.16.0)\n",
            "Requirement already satisfied: requests in /usr/local/lib/python3.7/dist-packages (from h2o==3.32.1.3->-r requirements.txt (line 4)) (2.23.0)\n",
            "Requirement already satisfied: tabulate in /usr/local/lib/python3.7/dist-packages (from h2o==3.32.1.3->-r requirements.txt (line 4)) (0.8.9)\n",
            "Requirement already satisfied: interpret-core[dash,debug,decisiontree,ebm,lime,linear,notebook,plotly,required,sensitivity,shap,skoperules,treeinterpreter]>=0.2.4 in /usr/local/lib/python3.7/dist-packages (from interpret==0.2.4->-r requirements.txt (line 5)) (0.2.7)\n",
            "Requirement already satisfied: nbconvert in /usr/local/lib/python3.7/dist-packages (from jupyter==1.0.0->-r requirements.txt (line 6)) (5.6.1)\n",
            "Requirement already satisfied: jupyter-console in /usr/local/lib/python3.7/dist-packages (from jupyter==1.0.0->-r requirements.txt (line 6)) (6.4.3)\n",
            "Requirement already satisfied: qtconsole in /usr/local/lib/python3.7/dist-packages (from jupyter==1.0.0->-r requirements.txt (line 6)) (5.3.0)\n",
            "Requirement already satisfied: ipykernel in /usr/local/lib/python3.7/dist-packages (from jupyter==1.0.0->-r requirements.txt (line 6)) (6.13.0)\n",
            "Requirement already satisfied: notebook in /usr/local/lib/python3.7/dist-packages (from jupyter==1.0.0->-r requirements.txt (line 6)) (5.3.1)\n",
            "Requirement already satisfied: ipywidgets in /usr/local/lib/python3.7/dist-packages (from jupyter==1.0.0->-r requirements.txt (line 6)) (7.7.0)\n",
            "Requirement already satisfied: pillow>=6.2.0 in /usr/local/lib/python3.7/dist-packages (from matplotlib==3.3.4->-r requirements.txt (line 7)) (7.1.2)\n",
            "Requirement already satisfied: kiwisolver>=1.0.1 in /usr/local/lib/python3.7/dist-packages (from matplotlib==3.3.4->-r requirements.txt (line 7)) (1.4.2)\n",
            "Requirement already satisfied: python-dateutil>=2.1 in /usr/local/lib/python3.7/dist-packages (from matplotlib==3.3.4->-r requirements.txt (line 7)) (2.8.2)\n",
            "Requirement already satisfied: cycler>=0.10 in /usr/local/lib/python3.7/dist-packages (from matplotlib==3.3.4->-r requirements.txt (line 7)) (0.11.0)\n",
            "Requirement already satisfied: pyparsing!=2.0.4,!=2.1.2,!=2.1.6,>=2.0.3 in /usr/local/lib/python3.7/dist-packages (from matplotlib==3.3.4->-r requirements.txt (line 7)) (3.0.9)\n",
            "Requirement already satisfied: pytz>=2017.2 in /usr/local/lib/python3.7/dist-packages (from pandas==1.1.5->-r requirements.txt (line 9)) (2022.1)\n",
            "Requirement already satisfied: scipy>=0.19.1 in /usr/local/lib/python3.7/dist-packages (from scikit-learn==0.24.2->-r requirements.txt (line 10)) (1.4.1)\n",
            "Requirement already satisfied: threadpoolctl>=2.0.0 in /usr/local/lib/python3.7/dist-packages (from scikit-learn==0.24.2->-r requirements.txt (line 10)) (3.1.0)\n",
            "Requirement already satisfied: joblib>=0.11 in /usr/local/lib/python3.7/dist-packages (from scikit-learn==0.24.2->-r requirements.txt (line 10)) (1.1.0)\n",
            "Requirement already satisfied: SALib>=1.3.3 in /usr/local/lib/python3.7/dist-packages (from interpret-core[dash,debug,decisiontree,ebm,lime,linear,notebook,plotly,required,sensitivity,shap,skoperules,treeinterpreter]>=0.2.4->interpret==0.2.4->-r requirements.txt (line 5)) (1.4.5)\n",
            "Requirement already satisfied: lime>=0.1.1.33 in /usr/local/lib/python3.7/dist-packages (from interpret-core[dash,debug,decisiontree,ebm,lime,linear,notebook,plotly,required,sensitivity,shap,skoperules,treeinterpreter]>=0.2.4->interpret==0.2.4->-r requirements.txt (line 5)) (0.2.0.1)\n",
            "Requirement already satisfied: dash>=1.0.0 in /usr/local/lib/python3.7/dist-packages (from interpret-core[dash,debug,decisiontree,ebm,lime,linear,notebook,plotly,required,sensitivity,shap,skoperules,treeinterpreter]>=0.2.4->interpret==0.2.4->-r requirements.txt (line 5)) (2.4.1)\n",
            "Requirement already satisfied: gevent>=1.3.6 in /usr/local/lib/python3.7/dist-packages (from interpret-core[dash,debug,decisiontree,ebm,lime,linear,notebook,plotly,required,sensitivity,shap,skoperules,treeinterpreter]>=0.2.4->interpret==0.2.4->-r requirements.txt (line 5)) (21.12.0)\n",
            "Requirement already satisfied: dash-cytoscape>=0.1.1 in /usr/local/lib/python3.7/dist-packages (from interpret-core[dash,debug,decisiontree,ebm,lime,linear,notebook,plotly,required,sensitivity,shap,skoperules,treeinterpreter]>=0.2.4->interpret==0.2.4->-r requirements.txt (line 5)) (0.3.0)\n",
            "Requirement already satisfied: dash-table>=4.1.0 in /usr/local/lib/python3.7/dist-packages (from interpret-core[dash,debug,decisiontree,ebm,lime,linear,notebook,plotly,required,sensitivity,shap,skoperules,treeinterpreter]>=0.2.4->interpret==0.2.4->-r requirements.txt (line 5)) (5.0.0)\n",
            "Requirement already satisfied: plotly>=3.8.1 in /usr/local/lib/python3.7/dist-packages (from interpret-core[dash,debug,decisiontree,ebm,lime,linear,notebook,plotly,required,sensitivity,shap,skoperules,treeinterpreter]>=0.2.4->interpret==0.2.4->-r requirements.txt (line 5)) (5.5.0)\n",
            "Requirement already satisfied: treeinterpreter>=0.2.2 in /usr/local/lib/python3.7/dist-packages (from interpret-core[dash,debug,decisiontree,ebm,lime,linear,notebook,plotly,required,sensitivity,shap,skoperules,treeinterpreter]>=0.2.4->interpret==0.2.4->-r requirements.txt (line 5)) (0.2.3)\n",
            "Requirement already satisfied: skope-rules>=1.0.1 in /usr/local/lib/python3.7/dist-packages (from interpret-core[dash,debug,decisiontree,ebm,lime,linear,notebook,plotly,required,sensitivity,shap,skoperules,treeinterpreter]>=0.2.4->interpret==0.2.4->-r requirements.txt (line 5)) (1.0.1)\n",
            "Requirement already satisfied: psutil>=5.6.2 in /usr/local/lib/python3.7/dist-packages (from interpret-core[dash,debug,decisiontree,ebm,lime,linear,notebook,plotly,required,sensitivity,shap,skoperules,treeinterpreter]>=0.2.4->interpret==0.2.4->-r requirements.txt (line 5)) (5.9.1)\n",
            "Requirement already satisfied: ipython>=7.4.0 in /usr/local/lib/python3.7/dist-packages (from interpret-core[dash,debug,decisiontree,ebm,lime,linear,notebook,plotly,required,sensitivity,shap,skoperules,treeinterpreter]>=0.2.4->interpret==0.2.4->-r requirements.txt (line 5)) (7.34.0)\n",
            "Requirement already satisfied: dill>=0.2.5 in /usr/local/lib/python3.7/dist-packages (from interpret-core[dash,debug,decisiontree,ebm,lime,linear,notebook,plotly,required,sensitivity,shap,skoperules,treeinterpreter]>=0.2.4->interpret==0.2.4->-r requirements.txt (line 5)) (0.3.5.1)\n",
            "Requirement already satisfied: shap>=0.28.5 in /usr/local/lib/python3.7/dist-packages (from interpret-core[dash,debug,decisiontree,ebm,lime,linear,notebook,plotly,required,sensitivity,shap,skoperules,treeinterpreter]>=0.2.4->interpret==0.2.4->-r requirements.txt (line 5)) (0.40.0)\n",
            "Requirement already satisfied: dash-html-components==2.0.0 in /usr/local/lib/python3.7/dist-packages (from dash>=1.0.0->interpret-core[dash,debug,decisiontree,ebm,lime,linear,notebook,plotly,required,sensitivity,shap,skoperules,treeinterpreter]>=0.2.4->interpret==0.2.4->-r requirements.txt (line 5)) (2.0.0)\n",
            "Requirement already satisfied: flask-compress in /usr/local/lib/python3.7/dist-packages (from dash>=1.0.0->interpret-core[dash,debug,decisiontree,ebm,lime,linear,notebook,plotly,required,sensitivity,shap,skoperules,treeinterpreter]>=0.2.4->interpret==0.2.4->-r requirements.txt (line 5)) (1.12)\n",
            "Requirement already satisfied: Flask>=1.0.4 in /usr/local/lib/python3.7/dist-packages (from dash>=1.0.0->interpret-core[dash,debug,decisiontree,ebm,lime,linear,notebook,plotly,required,sensitivity,shap,skoperules,treeinterpreter]>=0.2.4->interpret==0.2.4->-r requirements.txt (line 5)) (1.1.4)\n",
            "Requirement already satisfied: dash-core-components==2.0.0 in /usr/local/lib/python3.7/dist-packages (from dash>=1.0.0->interpret-core[dash,debug,decisiontree,ebm,lime,linear,notebook,plotly,required,sensitivity,shap,skoperules,treeinterpreter]>=0.2.4->interpret==0.2.4->-r requirements.txt (line 5)) (2.0.0)\n",
            "Requirement already satisfied: itsdangerous<2.0,>=0.24 in /usr/local/lib/python3.7/dist-packages (from Flask>=1.0.4->dash>=1.0.0->interpret-core[dash,debug,decisiontree,ebm,lime,linear,notebook,plotly,required,sensitivity,shap,skoperules,treeinterpreter]>=0.2.4->interpret==0.2.4->-r requirements.txt (line 5)) (1.1.0)\n",
            "Requirement already satisfied: click<8.0,>=5.1 in /usr/local/lib/python3.7/dist-packages (from Flask>=1.0.4->dash>=1.0.0->interpret-core[dash,debug,decisiontree,ebm,lime,linear,notebook,plotly,required,sensitivity,shap,skoperules,treeinterpreter]>=0.2.4->interpret==0.2.4->-r requirements.txt (line 5)) (7.1.2)\n",
            "Requirement already satisfied: Jinja2<3.0,>=2.10.1 in /usr/local/lib/python3.7/dist-packages (from Flask>=1.0.4->dash>=1.0.0->interpret-core[dash,debug,decisiontree,ebm,lime,linear,notebook,plotly,required,sensitivity,shap,skoperules,treeinterpreter]>=0.2.4->interpret==0.2.4->-r requirements.txt (line 5)) (2.11.3)\n",
            "Requirement already satisfied: Werkzeug<2.0,>=0.15 in /usr/local/lib/python3.7/dist-packages (from Flask>=1.0.4->dash>=1.0.0->interpret-core[dash,debug,decisiontree,ebm,lime,linear,notebook,plotly,required,sensitivity,shap,skoperules,treeinterpreter]>=0.2.4->interpret==0.2.4->-r requirements.txt (line 5)) (1.0.1)\n",
            "Requirement already satisfied: zope.interface in /usr/local/lib/python3.7/dist-packages (from gevent>=1.3.6->interpret-core[dash,debug,decisiontree,ebm,lime,linear,notebook,plotly,required,sensitivity,shap,skoperules,treeinterpreter]>=0.2.4->interpret==0.2.4->-r requirements.txt (line 5)) (5.4.0)\n",
            "Requirement already satisfied: zope.event in /usr/local/lib/python3.7/dist-packages (from gevent>=1.3.6->interpret-core[dash,debug,decisiontree,ebm,lime,linear,notebook,plotly,required,sensitivity,shap,skoperules,treeinterpreter]>=0.2.4->interpret==0.2.4->-r requirements.txt (line 5)) (4.5.0)\n",
            "Requirement already satisfied: setuptools in /usr/local/lib/python3.7/dist-packages (from gevent>=1.3.6->interpret-core[dash,debug,decisiontree,ebm,lime,linear,notebook,plotly,required,sensitivity,shap,skoperules,treeinterpreter]>=0.2.4->interpret==0.2.4->-r requirements.txt (line 5)) (57.4.0)\n",
            "Requirement already satisfied: greenlet<2.0,>=1.1.0 in /usr/local/lib/python3.7/dist-packages (from gevent>=1.3.6->interpret-core[dash,debug,decisiontree,ebm,lime,linear,notebook,plotly,required,sensitivity,shap,skoperules,treeinterpreter]>=0.2.4->interpret==0.2.4->-r requirements.txt (line 5)) (1.1.2)\n",
            "Requirement already satisfied: tornado>=6.1 in /usr/local/lib/python3.7/dist-packages (from ipykernel->jupyter==1.0.0->-r requirements.txt (line 6)) (6.1)\n",
            "Requirement already satisfied: nest-asyncio in /usr/local/lib/python3.7/dist-packages (from ipykernel->jupyter==1.0.0->-r requirements.txt (line 6)) (1.5.5)\n",
            "Requirement already satisfied: matplotlib-inline>=0.1 in /usr/local/lib/python3.7/dist-packages (from ipykernel->jupyter==1.0.0->-r requirements.txt (line 6)) (0.1.3)\n",
            "Requirement already satisfied: debugpy>=1.0 in /usr/local/lib/python3.7/dist-packages (from ipykernel->jupyter==1.0.0->-r requirements.txt (line 6)) (1.0.0)\n",
            "Requirement already satisfied: packaging in /usr/local/lib/python3.7/dist-packages (from ipykernel->jupyter==1.0.0->-r requirements.txt (line 6)) (21.3)\n",
            "Requirement already satisfied: traitlets>=5.1.0 in /usr/local/lib/python3.7/dist-packages (from ipykernel->jupyter==1.0.0->-r requirements.txt (line 6)) (5.1.1)\n",
            "Requirement already satisfied: jupyter-client>=6.1.12 in /usr/local/lib/python3.7/dist-packages (from ipykernel->jupyter==1.0.0->-r requirements.txt (line 6)) (7.3.1)\n",
            "Requirement already satisfied: pickleshare in /usr/local/lib/python3.7/dist-packages (from ipython>=7.4.0->interpret-core[dash,debug,decisiontree,ebm,lime,linear,notebook,plotly,required,sensitivity,shap,skoperules,treeinterpreter]>=0.2.4->interpret==0.2.4->-r requirements.txt (line 5)) (0.7.5)\n",
            "Requirement already satisfied: backcall in /usr/local/lib/python3.7/dist-packages (from ipython>=7.4.0->interpret-core[dash,debug,decisiontree,ebm,lime,linear,notebook,plotly,required,sensitivity,shap,skoperules,treeinterpreter]>=0.2.4->interpret==0.2.4->-r requirements.txt (line 5)) (0.2.0)\n",
            "Requirement already satisfied: pexpect>4.3 in /usr/local/lib/python3.7/dist-packages (from ipython>=7.4.0->interpret-core[dash,debug,decisiontree,ebm,lime,linear,notebook,plotly,required,sensitivity,shap,skoperules,treeinterpreter]>=0.2.4->interpret==0.2.4->-r requirements.txt (line 5)) (4.8.0)\n",
            "Requirement already satisfied: prompt-toolkit!=3.0.0,!=3.0.1,<3.1.0,>=2.0.0 in /usr/local/lib/python3.7/dist-packages (from ipython>=7.4.0->interpret-core[dash,debug,decisiontree,ebm,lime,linear,notebook,plotly,required,sensitivity,shap,skoperules,treeinterpreter]>=0.2.4->interpret==0.2.4->-r requirements.txt (line 5)) (3.0.29)\n",
            "Requirement already satisfied: decorator in /usr/local/lib/python3.7/dist-packages (from ipython>=7.4.0->interpret-core[dash,debug,decisiontree,ebm,lime,linear,notebook,plotly,required,sensitivity,shap,skoperules,treeinterpreter]>=0.2.4->interpret==0.2.4->-r requirements.txt (line 5)) (4.4.2)\n",
            "Requirement already satisfied: jedi>=0.16 in /usr/local/lib/python3.7/dist-packages (from ipython>=7.4.0->interpret-core[dash,debug,decisiontree,ebm,lime,linear,notebook,plotly,required,sensitivity,shap,skoperules,treeinterpreter]>=0.2.4->interpret==0.2.4->-r requirements.txt (line 5)) (0.18.1)\n",
            "Requirement already satisfied: pygments in /usr/local/lib/python3.7/dist-packages (from ipython>=7.4.0->interpret-core[dash,debug,decisiontree,ebm,lime,linear,notebook,plotly,required,sensitivity,shap,skoperules,treeinterpreter]>=0.2.4->interpret==0.2.4->-r requirements.txt (line 5)) (2.6.1)\n",
            "Requirement already satisfied: parso<0.9.0,>=0.8.0 in /usr/local/lib/python3.7/dist-packages (from jedi>=0.16->ipython>=7.4.0->interpret-core[dash,debug,decisiontree,ebm,lime,linear,notebook,plotly,required,sensitivity,shap,skoperules,treeinterpreter]>=0.2.4->interpret==0.2.4->-r requirements.txt (line 5)) (0.8.3)\n",
            "Requirement already satisfied: MarkupSafe>=0.23 in /usr/local/lib/python3.7/dist-packages (from Jinja2<3.0,>=2.10.1->Flask>=1.0.4->dash>=1.0.0->interpret-core[dash,debug,decisiontree,ebm,lime,linear,notebook,plotly,required,sensitivity,shap,skoperules,treeinterpreter]>=0.2.4->interpret==0.2.4->-r requirements.txt (line 5)) (2.0.1)\n",
            "Requirement already satisfied: entrypoints in /usr/local/lib/python3.7/dist-packages (from jupyter-client>=6.1.12->ipykernel->jupyter==1.0.0->-r requirements.txt (line 6)) (0.4)\n",
            "Requirement already satisfied: jupyter-core>=4.9.2 in /usr/local/lib/python3.7/dist-packages (from jupyter-client>=6.1.12->ipykernel->jupyter==1.0.0->-r requirements.txt (line 6)) (4.10.0)\n",
            "Requirement already satisfied: pyzmq>=22.3 in /usr/local/lib/python3.7/dist-packages (from jupyter-client>=6.1.12->ipykernel->jupyter==1.0.0->-r requirements.txt (line 6)) (23.0.0)\n",
            "Requirement already satisfied: typing-extensions in /usr/local/lib/python3.7/dist-packages (from kiwisolver>=1.0.1->matplotlib==3.3.4->-r requirements.txt (line 7)) (4.2.0)\n",
            "Requirement already satisfied: tqdm in /usr/local/lib/python3.7/dist-packages (from lime>=0.1.1.33->interpret-core[dash,debug,decisiontree,ebm,lime,linear,notebook,plotly,required,sensitivity,shap,skoperules,treeinterpreter]>=0.2.4->interpret==0.2.4->-r requirements.txt (line 5)) (4.64.0)\n",
            "Requirement already satisfied: scikit-image>=0.12 in /usr/local/lib/python3.7/dist-packages (from lime>=0.1.1.33->interpret-core[dash,debug,decisiontree,ebm,lime,linear,notebook,plotly,required,sensitivity,shap,skoperules,treeinterpreter]>=0.2.4->interpret==0.2.4->-r requirements.txt (line 5)) (0.18.3)\n",
            "Requirement already satisfied: ptyprocess>=0.5 in /usr/local/lib/python3.7/dist-packages (from pexpect>4.3->ipython>=7.4.0->interpret-core[dash,debug,decisiontree,ebm,lime,linear,notebook,plotly,required,sensitivity,shap,skoperules,treeinterpreter]>=0.2.4->interpret==0.2.4->-r requirements.txt (line 5)) (0.7.0)\n",
            "Requirement already satisfied: tenacity>=6.2.0 in /usr/local/lib/python3.7/dist-packages (from plotly>=3.8.1->interpret-core[dash,debug,decisiontree,ebm,lime,linear,notebook,plotly,required,sensitivity,shap,skoperules,treeinterpreter]>=0.2.4->interpret==0.2.4->-r requirements.txt (line 5)) (8.0.1)\n",
            "Requirement already satisfied: six in /usr/local/lib/python3.7/dist-packages (from plotly>=3.8.1->interpret-core[dash,debug,decisiontree,ebm,lime,linear,notebook,plotly,required,sensitivity,shap,skoperules,treeinterpreter]>=0.2.4->interpret==0.2.4->-r requirements.txt (line 5)) (1.15.0)\n",
            "Requirement already satisfied: wcwidth in /usr/local/lib/python3.7/dist-packages (from prompt-toolkit!=3.0.0,!=3.0.1,<3.1.0,>=2.0.0->ipython>=7.4.0->interpret-core[dash,debug,decisiontree,ebm,lime,linear,notebook,plotly,required,sensitivity,shap,skoperules,treeinterpreter]>=0.2.4->interpret==0.2.4->-r requirements.txt (line 5)) (0.2.5)\n",
            "Requirement already satisfied: certifi>=2017.4.17 in /usr/local/lib/python3.7/dist-packages (from requests->h2o==3.32.1.3->-r requirements.txt (line 4)) (2022.5.18.1)\n",
            "Requirement already satisfied: idna<3,>=2.5 in /usr/local/lib/python3.7/dist-packages (from requests->h2o==3.32.1.3->-r requirements.txt (line 4)) (2.10)\n",
            "Requirement already satisfied: urllib3!=1.25.0,!=1.25.1,<1.26,>=1.21.1 in /usr/local/lib/python3.7/dist-packages (from requests->h2o==3.32.1.3->-r requirements.txt (line 4)) (1.24.3)\n",
            "Requirement already satisfied: chardet<4,>=3.0.2 in /usr/local/lib/python3.7/dist-packages (from requests->h2o==3.32.1.3->-r requirements.txt (line 4)) (3.0.4)\n",
            "Requirement already satisfied: pathos in /usr/local/lib/python3.7/dist-packages (from SALib>=1.3.3->interpret-core[dash,debug,decisiontree,ebm,lime,linear,notebook,plotly,required,sensitivity,shap,skoperules,treeinterpreter]>=0.2.4->interpret==0.2.4->-r requirements.txt (line 5)) (0.2.9)\n",
            "Requirement already satisfied: importlib-metadata in /usr/local/lib/python3.7/dist-packages (from SALib>=1.3.3->interpret-core[dash,debug,decisiontree,ebm,lime,linear,notebook,plotly,required,sensitivity,shap,skoperules,treeinterpreter]>=0.2.4->interpret==0.2.4->-r requirements.txt (line 5)) (4.11.4)\n",
            "Requirement already satisfied: wheel in /usr/local/lib/python3.7/dist-packages (from SALib>=1.3.3->interpret-core[dash,debug,decisiontree,ebm,lime,linear,notebook,plotly,required,sensitivity,shap,skoperules,treeinterpreter]>=0.2.4->interpret==0.2.4->-r requirements.txt (line 5)) (0.37.1)\n",
            "Requirement already satisfied: PyWavelets>=1.1.1 in /usr/local/lib/python3.7/dist-packages (from scikit-image>=0.12->lime>=0.1.1.33->interpret-core[dash,debug,decisiontree,ebm,lime,linear,notebook,plotly,required,sensitivity,shap,skoperules,treeinterpreter]>=0.2.4->interpret==0.2.4->-r requirements.txt (line 5)) (1.3.0)\n",
            "Requirement already satisfied: imageio>=2.3.0 in /usr/local/lib/python3.7/dist-packages (from scikit-image>=0.12->lime>=0.1.1.33->interpret-core[dash,debug,decisiontree,ebm,lime,linear,notebook,plotly,required,sensitivity,shap,skoperules,treeinterpreter]>=0.2.4->interpret==0.2.4->-r requirements.txt (line 5)) (2.4.1)\n",
            "Requirement already satisfied: tifffile>=2019.7.26 in /usr/local/lib/python3.7/dist-packages (from scikit-image>=0.12->lime>=0.1.1.33->interpret-core[dash,debug,decisiontree,ebm,lime,linear,notebook,plotly,required,sensitivity,shap,skoperules,treeinterpreter]>=0.2.4->interpret==0.2.4->-r requirements.txt (line 5)) (2021.11.2)\n",
            "Requirement already satisfied: networkx>=2.0 in /usr/local/lib/python3.7/dist-packages (from scikit-image>=0.12->lime>=0.1.1.33->interpret-core[dash,debug,decisiontree,ebm,lime,linear,notebook,plotly,required,sensitivity,shap,skoperules,treeinterpreter]>=0.2.4->interpret==0.2.4->-r requirements.txt (line 5)) (2.6.3)\n",
            "Requirement already satisfied: numba in /usr/local/lib/python3.7/dist-packages (from shap>=0.28.5->interpret-core[dash,debug,decisiontree,ebm,lime,linear,notebook,plotly,required,sensitivity,shap,skoperules,treeinterpreter]>=0.2.4->interpret==0.2.4->-r requirements.txt (line 5)) (0.51.2)\n",
            "Requirement already satisfied: cloudpickle in /usr/local/lib/python3.7/dist-packages (from shap>=0.28.5->interpret-core[dash,debug,decisiontree,ebm,lime,linear,notebook,plotly,required,sensitivity,shap,skoperules,treeinterpreter]>=0.2.4->interpret==0.2.4->-r requirements.txt (line 5)) (1.3.0)\n",
            "Requirement already satisfied: slicer==0.0.7 in /usr/local/lib/python3.7/dist-packages (from shap>=0.28.5->interpret-core[dash,debug,decisiontree,ebm,lime,linear,notebook,plotly,required,sensitivity,shap,skoperules,treeinterpreter]>=0.2.4->interpret==0.2.4->-r requirements.txt (line 5)) (0.0.7)\n",
            "Requirement already satisfied: brotli in /usr/local/lib/python3.7/dist-packages (from flask-compress->dash>=1.0.0->interpret-core[dash,debug,decisiontree,ebm,lime,linear,notebook,plotly,required,sensitivity,shap,skoperules,treeinterpreter]>=0.2.4->interpret==0.2.4->-r requirements.txt (line 5)) (1.0.9)\n",
            "Requirement already satisfied: zipp>=0.5 in /usr/local/lib/python3.7/dist-packages (from importlib-metadata->SALib>=1.3.3->interpret-core[dash,debug,decisiontree,ebm,lime,linear,notebook,plotly,required,sensitivity,shap,skoperules,treeinterpreter]>=0.2.4->interpret==0.2.4->-r requirements.txt (line 5)) (3.8.0)\n",
            "Requirement already satisfied: nbformat>=4.2.0 in /usr/local/lib/python3.7/dist-packages (from ipywidgets->jupyter==1.0.0->-r requirements.txt (line 6)) (5.4.0)\n",
            "Requirement already satisfied: ipython-genutils~=0.2.0 in /usr/local/lib/python3.7/dist-packages (from ipywidgets->jupyter==1.0.0->-r requirements.txt (line 6)) (0.2.0)\n",
            "Requirement already satisfied: widgetsnbextension~=3.6.0 in /usr/local/lib/python3.7/dist-packages (from ipywidgets->jupyter==1.0.0->-r requirements.txt (line 6)) (3.6.0)\n",
            "Requirement already satisfied: jupyterlab-widgets>=1.0.0 in /usr/local/lib/python3.7/dist-packages (from ipywidgets->jupyter==1.0.0->-r requirements.txt (line 6)) (1.1.0)\n",
            "Requirement already satisfied: jsonschema>=2.6 in /usr/local/lib/python3.7/dist-packages (from nbformat>=4.2.0->ipywidgets->jupyter==1.0.0->-r requirements.txt (line 6)) (4.3.3)\n",
            "Requirement already satisfied: fastjsonschema in /usr/local/lib/python3.7/dist-packages (from nbformat>=4.2.0->ipywidgets->jupyter==1.0.0->-r requirements.txt (line 6)) (2.15.3)\n",
            "Requirement already satisfied: attrs>=17.4.0 in /usr/local/lib/python3.7/dist-packages (from jsonschema>=2.6->nbformat>=4.2.0->ipywidgets->jupyter==1.0.0->-r requirements.txt (line 6)) (21.4.0)\n",
            "Requirement already satisfied: pyrsistent!=0.17.0,!=0.17.1,!=0.17.2,>=0.14.0 in /usr/local/lib/python3.7/dist-packages (from jsonschema>=2.6->nbformat>=4.2.0->ipywidgets->jupyter==1.0.0->-r requirements.txt (line 6)) (0.18.1)\n",
            "Requirement already satisfied: importlib-resources>=1.4.0 in /usr/local/lib/python3.7/dist-packages (from jsonschema>=2.6->nbformat>=4.2.0->ipywidgets->jupyter==1.0.0->-r requirements.txt (line 6)) (5.7.1)\n",
            "Requirement already satisfied: terminado>=0.8.1 in /usr/local/lib/python3.7/dist-packages (from notebook->jupyter==1.0.0->-r requirements.txt (line 6)) (0.13.3)\n",
            "Requirement already satisfied: Send2Trash in /usr/local/lib/python3.7/dist-packages (from notebook->jupyter==1.0.0->-r requirements.txt (line 6)) (1.8.0)\n",
            "Requirement already satisfied: testpath in /usr/local/lib/python3.7/dist-packages (from nbconvert->jupyter==1.0.0->-r requirements.txt (line 6)) (0.6.0)\n",
            "Requirement already satisfied: pandocfilters>=1.4.1 in /usr/local/lib/python3.7/dist-packages (from nbconvert->jupyter==1.0.0->-r requirements.txt (line 6)) (1.5.0)\n",
            "Requirement already satisfied: defusedxml in /usr/local/lib/python3.7/dist-packages (from nbconvert->jupyter==1.0.0->-r requirements.txt (line 6)) (0.7.1)\n",
            "Requirement already satisfied: bleach in /usr/local/lib/python3.7/dist-packages (from nbconvert->jupyter==1.0.0->-r requirements.txt (line 6)) (5.0.0)\n",
            "Requirement already satisfied: mistune<2,>=0.8.1 in /usr/local/lib/python3.7/dist-packages (from nbconvert->jupyter==1.0.0->-r requirements.txt (line 6)) (0.8.4)\n",
            "Requirement already satisfied: webencodings in /usr/local/lib/python3.7/dist-packages (from bleach->nbconvert->jupyter==1.0.0->-r requirements.txt (line 6)) (0.5.1)\n",
            "Requirement already satisfied: llvmlite<0.35,>=0.34.0.dev0 in /usr/local/lib/python3.7/dist-packages (from numba->shap>=0.28.5->interpret-core[dash,debug,decisiontree,ebm,lime,linear,notebook,plotly,required,sensitivity,shap,skoperules,treeinterpreter]>=0.2.4->interpret==0.2.4->-r requirements.txt (line 5)) (0.34.0)\n",
            "Requirement already satisfied: ppft>=1.7.6.5 in /usr/local/lib/python3.7/dist-packages (from pathos->SALib>=1.3.3->interpret-core[dash,debug,decisiontree,ebm,lime,linear,notebook,plotly,required,sensitivity,shap,skoperules,treeinterpreter]>=0.2.4->interpret==0.2.4->-r requirements.txt (line 5)) (1.7.6.5)\n",
            "Requirement already satisfied: multiprocess>=0.70.13 in /usr/local/lib/python3.7/dist-packages (from pathos->SALib>=1.3.3->interpret-core[dash,debug,decisiontree,ebm,lime,linear,notebook,plotly,required,sensitivity,shap,skoperules,treeinterpreter]>=0.2.4->interpret==0.2.4->-r requirements.txt (line 5)) (0.70.13)\n",
            "Requirement already satisfied: pox>=0.3.1 in /usr/local/lib/python3.7/dist-packages (from pathos->SALib>=1.3.3->interpret-core[dash,debug,decisiontree,ebm,lime,linear,notebook,plotly,required,sensitivity,shap,skoperules,treeinterpreter]>=0.2.4->interpret==0.2.4->-r requirements.txt (line 5)) (0.3.1)\n",
            "Requirement already satisfied: qtpy>=2.0.1 in /usr/local/lib/python3.7/dist-packages (from qtconsole->jupyter==1.0.0->-r requirements.txt (line 6)) (2.1.0)\n"
          ]
        }
      ]
    },
    {
      "cell_type": "code",
      "execution_count": 2,
      "id": "4baedf75",
      "metadata": {
        "scrolled": true,
        "colab": {
          "base_uri": "https://localhost:8080/",
          "height": 567
        },
        "id": "4baedf75",
        "outputId": "dd891c18-9432-4442-9982-cefab66fd6cd"
      },
      "outputs": [
        {
          "output_type": "stream",
          "name": "stdout",
          "text": [
            "Checking whether there is an H2O instance running at http://localhost:54321 ..... not found.\n",
            "Attempting to start a local H2O server...\n",
            "  Java Version: openjdk version \"11.0.15\" 2022-04-19; OpenJDK Runtime Environment (build 11.0.15+10-Ubuntu-0ubuntu0.18.04.1); OpenJDK 64-Bit Server VM (build 11.0.15+10-Ubuntu-0ubuntu0.18.04.1, mixed mode, sharing)\n",
            "  Starting server from /usr/local/lib/python3.7/dist-packages/h2o/backend/bin/h2o.jar\n",
            "  Ice root: /tmp/tmpa7ij7f51\n",
            "  JVM stdout: /tmp/tmpa7ij7f51/h2o_unknownUser_started_from_python.out\n",
            "  JVM stderr: /tmp/tmpa7ij7f51/h2o_unknownUser_started_from_python.err\n",
            "  Server is running at http://127.0.0.1:54321\n",
            "Connecting to H2O server at http://127.0.0.1:54321 ... successful.\n",
            "Warning: Your H2O cluster version is too old (1 year and 17 days)! Please download and install the latest version from http://h2o.ai/download/\n"
          ]
        },
        {
          "output_type": "display_data",
          "data": {
            "text/plain": [
              "--------------------------  ------------------------------------------------------------------\n",
              "H2O_cluster_uptime:         05 secs\n",
              "H2O_cluster_timezone:       Etc/UTC\n",
              "H2O_data_parsing_timezone:  UTC\n",
              "H2O_cluster_version:        3.32.1.3\n",
              "H2O_cluster_version_age:    1 year and 17 days !!!\n",
              "H2O_cluster_name:           H2O_from_python_unknownUser_2dk0nl\n",
              "H2O_cluster_total_nodes:    1\n",
              "H2O_cluster_free_memory:    6 Gb\n",
              "H2O_cluster_total_cores:    2\n",
              "H2O_cluster_allowed_cores:  2\n",
              "H2O_cluster_status:         accepting new members, healthy\n",
              "H2O_connection_url:         http://127.0.0.1:54321\n",
              "H2O_connection_proxy:       {\"http\": null, \"https\": null}\n",
              "H2O_internal_security:      False\n",
              "H2O_API_Extensions:         Amazon S3, XGBoost, Algos, AutoML, Core V3, TargetEncoder, Core V4\n",
              "Python_version:             3.7.13 final\n",
              "--------------------------  ------------------------------------------------------------------"
            ],
            "text/html": [
              "<div style=\"overflow:auto\"><table style=\"width:50%\"><tr><td>H2O_cluster_uptime:</td>\n",
              "<td>05 secs</td></tr>\n",
              "<tr><td>H2O_cluster_timezone:</td>\n",
              "<td>Etc/UTC</td></tr>\n",
              "<tr><td>H2O_data_parsing_timezone:</td>\n",
              "<td>UTC</td></tr>\n",
              "<tr><td>H2O_cluster_version:</td>\n",
              "<td>3.32.1.3</td></tr>\n",
              "<tr><td>H2O_cluster_version_age:</td>\n",
              "<td>1 year and 17 days !!!</td></tr>\n",
              "<tr><td>H2O_cluster_name:</td>\n",
              "<td>H2O_from_python_unknownUser_2dk0nl</td></tr>\n",
              "<tr><td>H2O_cluster_total_nodes:</td>\n",
              "<td>1</td></tr>\n",
              "<tr><td>H2O_cluster_free_memory:</td>\n",
              "<td>6 Gb</td></tr>\n",
              "<tr><td>H2O_cluster_total_cores:</td>\n",
              "<td>2</td></tr>\n",
              "<tr><td>H2O_cluster_allowed_cores:</td>\n",
              "<td>2</td></tr>\n",
              "<tr><td>H2O_cluster_status:</td>\n",
              "<td>accepting new members, healthy</td></tr>\n",
              "<tr><td>H2O_connection_url:</td>\n",
              "<td>http://127.0.0.1:54321</td></tr>\n",
              "<tr><td>H2O_connection_proxy:</td>\n",
              "<td>{\"http\": null, \"https\": null}</td></tr>\n",
              "<tr><td>H2O_internal_security:</td>\n",
              "<td>False</td></tr>\n",
              "<tr><td>H2O_API_Extensions:</td>\n",
              "<td>Amazon S3, XGBoost, Algos, AutoML, Core V3, TargetEncoder, Core V4</td></tr>\n",
              "<tr><td>Python_version:</td>\n",
              "<td>3.7.13 final</td></tr></table></div>"
            ]
          },
          "metadata": {}
        }
      ],
      "source": [
        "import datetime                                               # for timestamp \n",
        "import h2o                                                    # base h2o package for python\n",
        "from h2o.estimators.glm import H2OGeneralizedLinearEstimator  # h2o elastic net models class\n",
        "from h2o.grid.grid_search import H2OGridSearch                # grid search class and syntax for h2o models\n",
        "from interpret import show                                    # basic visualizations from interpret package\n",
        "from interpret.glassbox import ExplainableBoostingClassifier  # interpret ebm class\n",
        "from interpret.perf import ROC                                # ROC measure for ebm\n",
        "import itertools                                              # for cartesian product of parameters\n",
        "import matplotlib.pyplot as plt                               # basic plotting\n",
        "import numpy as np                                            # for basic array manipulation                            \n",
        "import pandas as pd                                           # for dataframe manipulation\n",
        "import seaborn as sns                                         # slightly better plotting  \n",
        "import time                                                   # for timers\n",
        "import xgboost as xgb                                         # base xgboost package for python\n",
        "\n",
        "# set numpy random seed for better reproducibility\n",
        "SEED = 12345 \n",
        "\n",
        "# set number of threads\n",
        "NTHREAD = 4\n",
        "\n",
        "h2o.init(max_mem_size='6G', nthreads=NTHREAD) # start h2o with plenty of memory and threads\n",
        "h2o.remove_all()                              # clears h2o memory\n",
        "h2o.no_progress()                             # turn off h2o progress indicators    "
      ]
    },
    {
      "cell_type": "markdown",
      "id": "152e8474",
      "metadata": {
        "id": "152e8474"
      },
      "source": [
        "#### Start global timer"
      ]
    },
    {
      "cell_type": "code",
      "execution_count": null,
      "id": "110ae3e4",
      "metadata": {
        "id": "110ae3e4"
      },
      "outputs": [],
      "source": [
        "tic = time.time()"
      ]
    },
    {
      "cell_type": "markdown",
      "id": "e36c81fd",
      "metadata": {
        "id": "e36c81fd"
      },
      "source": [
        "#### Import data"
      ]
    },
    {
      "cell_type": "code",
      "execution_count": 3,
      "id": "36898e3f",
      "metadata": {
        "id": "36898e3f"
      },
      "outputs": [],
      "source": [
        "data = pd.read_csv('data/hmda_train_preprocessed.csv')\n",
        "test = pd.read_csv('data/hmda_test_preprocessed.csv')"
      ]
    },
    {
      "cell_type": "markdown",
      "id": "02f780ca",
      "metadata": {
        "id": "02f780ca"
      },
      "source": [
        "#### Assign basic modeling roles"
      ]
    },
    {
      "cell_type": "code",
      "execution_count": 4,
      "id": "374364cd",
      "metadata": {
        "id": "374364cd"
      },
      "outputs": [],
      "source": [
        "y_name = 'high_priced'\n",
        "x_names = ['term_360', 'conforming', 'debt_to_income_ratio_missing', 'loan_amount_std', 'loan_to_value_ratio_std', 'no_intro_rate_period_std',\n",
        "           'intro_rate_period_std', 'property_value_std', 'income_std', 'debt_to_income_ratio_std']"
      ]
    },
    {
      "cell_type": "markdown",
      "id": "2bd91ac7",
      "metadata": {
        "id": "2bd91ac7"
      },
      "source": [
        "## Fit interpretable models"
      ]
    },
    {
      "cell_type": "markdown",
      "id": "b63c7465",
      "metadata": {
        "id": "b63c7465"
      },
      "source": [
        "#### Split data into train and validation partitions "
      ]
    },
    {
      "cell_type": "code",
      "execution_count": 5,
      "id": "d82faabc",
      "metadata": {
        "colab": {
          "base_uri": "https://localhost:8080/"
        },
        "id": "d82faabc",
        "outputId": "1ca40770-a610-4559-b6b8-f8150925def8"
      },
      "outputs": [
        {
          "output_type": "stream",
          "name": "stdout",
          "text": [
            "Train data rows = 112253, columns = 23\n",
            "Validation data rows = 48085, columns = 23\n"
          ]
        }
      ],
      "source": [
        "np.random.seed(SEED) # preserve exact reproducibility for this cell\n",
        "\n",
        "split_ratio = 0.7 # 70%/30% train/test split\n",
        "\n",
        "# execute split\n",
        "split = np.random.rand(len(data)) < split_ratio\n",
        "train = data[split]\n",
        "valid = data[~split]\n",
        "\n",
        "# summarize split\n",
        "print('Train data rows = %d, columns = %d' % (train.shape[0], train.shape[1]))\n",
        "print('Validation data rows = %d, columns = %d' % (valid.shape[0], valid.shape[1]))\n",
        "\n",
        "# benchmark - Train data rows = 112253, columns = 23\n",
        "# benchmark - Validation data rows = 48085, columns = 23"
      ]
    },
    {
      "cell_type": "markdown",
      "id": "c1323de6",
      "metadata": {
        "id": "c1323de6"
      },
      "source": [
        "### Elastic net"
      ]
    },
    {
      "cell_type": "markdown",
      "id": "b37508ef",
      "metadata": {
        "id": "b37508ef"
      },
      "source": [
        "#### Define wrapper function for grid search"
      ]
    },
    {
      "cell_type": "code",
      "execution_count": 50,
      "id": "e65a8102",
      "metadata": {
        "id": "e65a8102"
      },
      "outputs": [],
      "source": [
        "def glm_grid(x_names, y_name, htrain, hvalid, seed):\n",
        "\n",
        "    \"\"\" Wrapper function for penalized GLM with alpha and lambda search.\n",
        "\n",
        "    :param x_names: Names of input features.\n",
        "    :param y_name: Name of target feature.\n",
        "    :param htrain: Training H2OFrame.\n",
        "    :param hvalid: Validation H2OFrame.\n",
        "    :param seed: Random seed for better reproducibility.\n",
        "    :return: Best H2OGeneralizedLinearEstimator.\n",
        "    \"\"\"\n",
        "\n",
        "    alpha_opts = [0.01, 0.25, 0.5, 0.99]  # always keep some L2\n",
        "\n",
        "    # define search criteria\n",
        "    # i.e., over alpha\n",
        "    # lamda search handled by lambda_search param below\n",
        "    hyper_parameters = {'alpha': alpha_opts}\n",
        "\n",
        "    # initialize grid search\n",
        "    grid = H2OGridSearch(\n",
        "        H2OGeneralizedLinearEstimator(family='binomial',\n",
        "                                      lambda_search=True,\n",
        "                                      seed=seed), # seed for grid search\n",
        "        hyper_params=hyper_parameters)\n",
        "\n",
        "    # execute training w/ grid search\n",
        "    grid.train(y=y_name,\n",
        "               x=x_names,\n",
        "               training_frame=htrain,\n",
        "               validation_frame=hvalid,\n",
        "               seed=seed) # seed for training\n",
        "\n",
        "    # select best model from grid search\n",
        "    best_model = grid.get_grid()[0]\n",
        "    del grid\n",
        "\n",
        "    return best_model"
      ]
    },
    {
      "cell_type": "markdown",
      "id": "9927a1f2",
      "metadata": {
        "id": "9927a1f2"
      },
      "source": [
        "#### Fit elastic net with grid search"
      ]
    },
    {
      "cell_type": "code",
      "execution_count": 51,
      "id": "46a30359",
      "metadata": {
        "colab": {
          "base_uri": "https://localhost:8080/"
        },
        "id": "46a30359",
        "outputId": "32d08a27-d0cd-4f52-a194-67dc2bc1d8a1"
      },
      "outputs": [
        {
          "output_type": "stream",
          "name": "stdout",
          "text": [
            "Elastic net GLM training completed in 35.82 s.\n"
          ]
        }
      ],
      "source": [
        "# start local timer\n",
        "glm_tic = time.time()\n",
        "\n",
        "# convert data to h2o frames\n",
        "htrain = h2o.H2OFrame(train)\n",
        "hvalid = h2o.H2OFrame(valid)\n",
        "\n",
        "# train with grid search\n",
        "best_glm = glm_grid(x_names, y_name, htrain, hvalid, SEED)\n",
        "\n",
        "# end local timer\n",
        "glm_toc = time.time() - glm_tic\n",
        "print('Elastic net GLM training completed in %.2f s.' % (glm_toc))"
      ]
    },
    {
      "cell_type": "markdown",
      "id": "21e37f0a",
      "metadata": {
        "id": "21e37f0a"
      },
      "source": [
        "#### Basic AUC assessment"
      ]
    },
    {
      "cell_type": "code",
      "execution_count": 52,
      "id": "4a08a632",
      "metadata": {
        "colab": {
          "base_uri": "https://localhost:8080/"
        },
        "id": "4a08a632",
        "outputId": "7531e26a-9a55-4435-f422-4a0e3dfe3c76"
      },
      "outputs": [
        {
          "output_type": "stream",
          "name": "stdout",
          "text": [
            "Validation AUC: 0.7538.\n"
          ]
        }
      ],
      "source": [
        "print('Validation AUC: %.4f.' % best_glm.auc(valid=True))"
      ]
    },
    {
      "cell_type": "markdown",
      "id": "39360042",
      "metadata": {
        "id": "39360042"
      },
      "source": [
        "#### Score validation data with model"
      ]
    },
    {
      "cell_type": "code",
      "execution_count": 53,
      "id": "7741137e",
      "metadata": {
        "colab": {
          "base_uri": "https://localhost:8080/",
          "height": 0
        },
        "id": "7741137e",
        "outputId": "0520a69a-1310-41a8-f0b2-48f1a35a3ea4"
      },
      "outputs": [
        {
          "output_type": "execute_result",
          "data": {
            "text/plain": [
              "   row_id  black  asian  white  amind  hipac  hispanic  non_hispanic  male  \\\n",
              "0       0    NaN    NaN    NaN    NaN    NaN       NaN           NaN   1.0   \n",
              "1       6    0.0    0.0    1.0    0.0    0.0       0.0           1.0   0.0   \n",
              "2       8    0.0    0.0    1.0    0.0    0.0       0.0           1.0   NaN   \n",
              "3      10    0.0    0.0    1.0    0.0    0.0       0.0           1.0   NaN   \n",
              "4      11    0.0    0.0    1.0    0.0    0.0       1.0           0.0   NaN   \n",
              "\n",
              "   female  ...  debt_to_income_ratio_missing  loan_amount_std  \\\n",
              "0     0.0  ...                             0        -0.514393   \n",
              "1     1.0  ...                             0        -0.426448   \n",
              "2     NaN  ...                             0         0.277109   \n",
              "3     NaN  ...                             0        -0.382476   \n",
              "4     NaN  ...                             0         0.101220   \n",
              "\n",
              "   loan_to_value_ratio_std  no_intro_rate_period_std  intro_rate_period_std  \\\n",
              "0                 0.333922                  0.244394              -0.215304   \n",
              "1                 0.355249                  0.244394              -0.215304   \n",
              "2                 0.142995                  0.244394              -0.215304   \n",
              "3                -0.240432                  0.244394              -0.215304   \n",
              "4                -0.266529                  0.244394              -0.215304   \n",
              "\n",
              "   property_value_std  income_std  debt_to_income_ratio_std  high_priced  \\\n",
              "0           -0.535932   -0.040307                  0.854601            0   \n",
              "1           -0.474263   -0.020904                  1.037419            0   \n",
              "2            0.111598   -0.019865                  0.031916            0   \n",
              "3           -0.320089   -0.028181                  0.946010            0   \n",
              "4            0.111598    0.016515                 -1.156406            0   \n",
              "\n",
              "       phat  \n",
              "0  0.158336  \n",
              "1  0.159289  \n",
              "2  0.070368  \n",
              "3  0.124670  \n",
              "4  0.045170  \n",
              "\n",
              "[5 rows x 24 columns]"
            ],
            "text/html": [
              "\n",
              "  <div id=\"df-7d6afcae-4305-4919-bc9e-e5175a163ee7\">\n",
              "    <div class=\"colab-df-container\">\n",
              "      <div>\n",
              "<style scoped>\n",
              "    .dataframe tbody tr th:only-of-type {\n",
              "        vertical-align: middle;\n",
              "    }\n",
              "\n",
              "    .dataframe tbody tr th {\n",
              "        vertical-align: top;\n",
              "    }\n",
              "\n",
              "    .dataframe thead th {\n",
              "        text-align: right;\n",
              "    }\n",
              "</style>\n",
              "<table border=\"1\" class=\"dataframe\">\n",
              "  <thead>\n",
              "    <tr style=\"text-align: right;\">\n",
              "      <th></th>\n",
              "      <th>row_id</th>\n",
              "      <th>black</th>\n",
              "      <th>asian</th>\n",
              "      <th>white</th>\n",
              "      <th>amind</th>\n",
              "      <th>hipac</th>\n",
              "      <th>hispanic</th>\n",
              "      <th>non_hispanic</th>\n",
              "      <th>male</th>\n",
              "      <th>female</th>\n",
              "      <th>...</th>\n",
              "      <th>debt_to_income_ratio_missing</th>\n",
              "      <th>loan_amount_std</th>\n",
              "      <th>loan_to_value_ratio_std</th>\n",
              "      <th>no_intro_rate_period_std</th>\n",
              "      <th>intro_rate_period_std</th>\n",
              "      <th>property_value_std</th>\n",
              "      <th>income_std</th>\n",
              "      <th>debt_to_income_ratio_std</th>\n",
              "      <th>high_priced</th>\n",
              "      <th>phat</th>\n",
              "    </tr>\n",
              "  </thead>\n",
              "  <tbody>\n",
              "    <tr>\n",
              "      <th>0</th>\n",
              "      <td>0</td>\n",
              "      <td>NaN</td>\n",
              "      <td>NaN</td>\n",
              "      <td>NaN</td>\n",
              "      <td>NaN</td>\n",
              "      <td>NaN</td>\n",
              "      <td>NaN</td>\n",
              "      <td>NaN</td>\n",
              "      <td>1.0</td>\n",
              "      <td>0.0</td>\n",
              "      <td>...</td>\n",
              "      <td>0</td>\n",
              "      <td>-0.514393</td>\n",
              "      <td>0.333922</td>\n",
              "      <td>0.244394</td>\n",
              "      <td>-0.215304</td>\n",
              "      <td>-0.535932</td>\n",
              "      <td>-0.040307</td>\n",
              "      <td>0.854601</td>\n",
              "      <td>0</td>\n",
              "      <td>0.158336</td>\n",
              "    </tr>\n",
              "    <tr>\n",
              "      <th>1</th>\n",
              "      <td>6</td>\n",
              "      <td>0.0</td>\n",
              "      <td>0.0</td>\n",
              "      <td>1.0</td>\n",
              "      <td>0.0</td>\n",
              "      <td>0.0</td>\n",
              "      <td>0.0</td>\n",
              "      <td>1.0</td>\n",
              "      <td>0.0</td>\n",
              "      <td>1.0</td>\n",
              "      <td>...</td>\n",
              "      <td>0</td>\n",
              "      <td>-0.426448</td>\n",
              "      <td>0.355249</td>\n",
              "      <td>0.244394</td>\n",
              "      <td>-0.215304</td>\n",
              "      <td>-0.474263</td>\n",
              "      <td>-0.020904</td>\n",
              "      <td>1.037419</td>\n",
              "      <td>0</td>\n",
              "      <td>0.159289</td>\n",
              "    </tr>\n",
              "    <tr>\n",
              "      <th>2</th>\n",
              "      <td>8</td>\n",
              "      <td>0.0</td>\n",
              "      <td>0.0</td>\n",
              "      <td>1.0</td>\n",
              "      <td>0.0</td>\n",
              "      <td>0.0</td>\n",
              "      <td>0.0</td>\n",
              "      <td>1.0</td>\n",
              "      <td>NaN</td>\n",
              "      <td>NaN</td>\n",
              "      <td>...</td>\n",
              "      <td>0</td>\n",
              "      <td>0.277109</td>\n",
              "      <td>0.142995</td>\n",
              "      <td>0.244394</td>\n",
              "      <td>-0.215304</td>\n",
              "      <td>0.111598</td>\n",
              "      <td>-0.019865</td>\n",
              "      <td>0.031916</td>\n",
              "      <td>0</td>\n",
              "      <td>0.070368</td>\n",
              "    </tr>\n",
              "    <tr>\n",
              "      <th>3</th>\n",
              "      <td>10</td>\n",
              "      <td>0.0</td>\n",
              "      <td>0.0</td>\n",
              "      <td>1.0</td>\n",
              "      <td>0.0</td>\n",
              "      <td>0.0</td>\n",
              "      <td>0.0</td>\n",
              "      <td>1.0</td>\n",
              "      <td>NaN</td>\n",
              "      <td>NaN</td>\n",
              "      <td>...</td>\n",
              "      <td>0</td>\n",
              "      <td>-0.382476</td>\n",
              "      <td>-0.240432</td>\n",
              "      <td>0.244394</td>\n",
              "      <td>-0.215304</td>\n",
              "      <td>-0.320089</td>\n",
              "      <td>-0.028181</td>\n",
              "      <td>0.946010</td>\n",
              "      <td>0</td>\n",
              "      <td>0.124670</td>\n",
              "    </tr>\n",
              "    <tr>\n",
              "      <th>4</th>\n",
              "      <td>11</td>\n",
              "      <td>0.0</td>\n",
              "      <td>0.0</td>\n",
              "      <td>1.0</td>\n",
              "      <td>0.0</td>\n",
              "      <td>0.0</td>\n",
              "      <td>1.0</td>\n",
              "      <td>0.0</td>\n",
              "      <td>NaN</td>\n",
              "      <td>NaN</td>\n",
              "      <td>...</td>\n",
              "      <td>0</td>\n",
              "      <td>0.101220</td>\n",
              "      <td>-0.266529</td>\n",
              "      <td>0.244394</td>\n",
              "      <td>-0.215304</td>\n",
              "      <td>0.111598</td>\n",
              "      <td>0.016515</td>\n",
              "      <td>-1.156406</td>\n",
              "      <td>0</td>\n",
              "      <td>0.045170</td>\n",
              "    </tr>\n",
              "  </tbody>\n",
              "</table>\n",
              "<p>5 rows × 24 columns</p>\n",
              "</div>\n",
              "      <button class=\"colab-df-convert\" onclick=\"convertToInteractive('df-7d6afcae-4305-4919-bc9e-e5175a163ee7')\"\n",
              "              title=\"Convert this dataframe to an interactive table.\"\n",
              "              style=\"display:none;\">\n",
              "        \n",
              "  <svg xmlns=\"http://www.w3.org/2000/svg\" height=\"24px\"viewBox=\"0 0 24 24\"\n",
              "       width=\"24px\">\n",
              "    <path d=\"M0 0h24v24H0V0z\" fill=\"none\"/>\n",
              "    <path d=\"M18.56 5.44l.94 2.06.94-2.06 2.06-.94-2.06-.94-.94-2.06-.94 2.06-2.06.94zm-11 1L8.5 8.5l.94-2.06 2.06-.94-2.06-.94L8.5 2.5l-.94 2.06-2.06.94zm10 10l.94 2.06.94-2.06 2.06-.94-2.06-.94-.94-2.06-.94 2.06-2.06.94z\"/><path d=\"M17.41 7.96l-1.37-1.37c-.4-.4-.92-.59-1.43-.59-.52 0-1.04.2-1.43.59L10.3 9.45l-7.72 7.72c-.78.78-.78 2.05 0 2.83L4 21.41c.39.39.9.59 1.41.59.51 0 1.02-.2 1.41-.59l7.78-7.78 2.81-2.81c.8-.78.8-2.07 0-2.86zM5.41 20L4 18.59l7.72-7.72 1.47 1.35L5.41 20z\"/>\n",
              "  </svg>\n",
              "      </button>\n",
              "      \n",
              "  <style>\n",
              "    .colab-df-container {\n",
              "      display:flex;\n",
              "      flex-wrap:wrap;\n",
              "      gap: 12px;\n",
              "    }\n",
              "\n",
              "    .colab-df-convert {\n",
              "      background-color: #E8F0FE;\n",
              "      border: none;\n",
              "      border-radius: 50%;\n",
              "      cursor: pointer;\n",
              "      display: none;\n",
              "      fill: #1967D2;\n",
              "      height: 32px;\n",
              "      padding: 0 0 0 0;\n",
              "      width: 32px;\n",
              "    }\n",
              "\n",
              "    .colab-df-convert:hover {\n",
              "      background-color: #E2EBFA;\n",
              "      box-shadow: 0px 1px 2px rgba(60, 64, 67, 0.3), 0px 1px 3px 1px rgba(60, 64, 67, 0.15);\n",
              "      fill: #174EA6;\n",
              "    }\n",
              "\n",
              "    [theme=dark] .colab-df-convert {\n",
              "      background-color: #3B4455;\n",
              "      fill: #D2E3FC;\n",
              "    }\n",
              "\n",
              "    [theme=dark] .colab-df-convert:hover {\n",
              "      background-color: #434B5C;\n",
              "      box-shadow: 0px 1px 3px 1px rgba(0, 0, 0, 0.15);\n",
              "      filter: drop-shadow(0px 1px 2px rgba(0, 0, 0, 0.3));\n",
              "      fill: #FFFFFF;\n",
              "    }\n",
              "  </style>\n",
              "\n",
              "      <script>\n",
              "        const buttonEl =\n",
              "          document.querySelector('#df-7d6afcae-4305-4919-bc9e-e5175a163ee7 button.colab-df-convert');\n",
              "        buttonEl.style.display =\n",
              "          google.colab.kernel.accessAllowed ? 'block' : 'none';\n",
              "\n",
              "        async function convertToInteractive(key) {\n",
              "          const element = document.querySelector('#df-7d6afcae-4305-4919-bc9e-e5175a163ee7');\n",
              "          const dataTable =\n",
              "            await google.colab.kernel.invokeFunction('convertToInteractive',\n",
              "                                                     [key], {});\n",
              "          if (!dataTable) return;\n",
              "\n",
              "          const docLinkHtml = 'Like what you see? Visit the ' +\n",
              "            '<a target=\"_blank\" href=https://colab.research.google.com/notebooks/data_table.ipynb>data table notebook</a>'\n",
              "            + ' to learn more about interactive tables.';\n",
              "          element.innerHTML = '';\n",
              "          dataTable['output_type'] = 'display_data';\n",
              "          await google.colab.output.renderOutput(dataTable, element);\n",
              "          const docLink = document.createElement('div');\n",
              "          docLink.innerHTML = docLinkHtml;\n",
              "          element.appendChild(docLink);\n",
              "        }\n",
              "      </script>\n",
              "    </div>\n",
              "  </div>\n",
              "  "
            ]
          },
          "metadata": {},
          "execution_count": 53
        }
      ],
      "source": [
        "best_glm_phat = best_glm.predict(hvalid).as_data_frame() \n",
        "best_glm_phat.drop(['predict', 'p0'], axis=1, inplace=True)\n",
        "best_glm_phat.columns = ['phat']\n",
        "best_glm_phat = pd.concat([valid.reset_index(drop=True), best_glm_phat], axis=1)\n",
        "best_glm_phat.head()"
      ]
    },
    {
      "cell_type": "markdown",
      "id": "026139a9",
      "metadata": {
        "id": "026139a9"
      },
      "source": [
        "#### Utility function for selecting percentiles"
      ]
    },
    {
      "cell_type": "code",
      "execution_count": 6,
      "id": "ca972f60",
      "metadata": {
        "id": "ca972f60"
      },
      "outputs": [],
      "source": [
        "def get_percentile_dict(yhat_name, frame, id_):\n",
        "\n",
        "    \"\"\" Returns the percentiles of a column, yhat_name, as the indices based on\n",
        "        another column id_.\n",
        "        :param yhat_name: Name of column in frame in which to find percentiles.\n",
        "        :param frame: Pandas frame.\n",
        "        :param id_: Validation Pandas frame containing yhat and id_.\n",
        "        :return: Dictionary of percentile values and index column values.\n",
        "    \"\"\"\n",
        "\n",
        "    # create a copy of frame and sort it by yhat\n",
        "    sort_df = frame.copy(deep=True)\n",
        "    sort_df.sort_values(yhat_name, inplace=True)\n",
        "    sort_df.reset_index(inplace=True)\n",
        "\n",
        "    # find top and bottom percentiles\n",
        "    percentiles_dict = {0: sort_df.loc[0, id_], 99: sort_df.loc[sort_df.shape[0] - 1, id_]}\n",
        "\n",
        "    # find 10th-90th percentiles\n",
        "    inc = sort_df.shape[0] // 10\n",
        "    for i in range(1, 10):\n",
        "        percentiles_dict[i * 10] = sort_df.loc[i * inc, id_]\n",
        "\n",
        "    return percentiles_dict"
      ]
    },
    {
      "cell_type": "markdown",
      "id": "d9095532",
      "metadata": {
        "id": "d9095532"
      },
      "source": [
        "#### Select percentiles from predictions"
      ]
    },
    {
      "cell_type": "code",
      "execution_count": 54,
      "id": "c9b69058",
      "metadata": {
        "colab": {
          "base_uri": "https://localhost:8080/"
        },
        "id": "c9b69058",
        "outputId": "c8c79453-115f-40ef-95b6-ca2c8d692f4d"
      },
      "outputs": [
        {
          "output_type": "stream",
          "name": "stdout",
          "text": [
            "0: 152878\n",
            "10: 154185\n",
            "20: 74908\n",
            "30: 37440\n",
            "40: 138502\n",
            "50: 78582\n",
            "60: 139677\n",
            "70: 156880\n",
            "80: 26748\n",
            "90: 95570\n",
            "99: 46601\n"
          ]
        }
      ],
      "source": [
        "best_glm_percentiles = get_percentile_dict('phat', best_glm_phat, 'row_id')\n",
        "for key in sorted(best_glm_percentiles.keys()):\n",
        "    print(str(key) + ': ' + str(best_glm_percentiles[key]))"
      ]
    },
    {
      "cell_type": "markdown",
      "id": "3136ceee",
      "metadata": {
        "id": "3136ceee"
      },
      "source": [
        "#### Collect global feature importance info"
      ]
    },
    {
      "cell_type": "code",
      "execution_count": 55,
      "id": "a12367f0",
      "metadata": {
        "id": "a12367f0"
      },
      "outputs": [],
      "source": [
        "# use coefficients as relative global feature importance\n",
        "global_fi = pd.DataFrame.from_dict(best_glm.coef(), columns=['GLM Importance'], orient='index')\n",
        "global_fi.drop('Intercept', inplace=True)\n",
        "global_fi['GLM Importance'] = np.abs(global_fi['GLM Importance'])"
      ]
    },
    {
      "cell_type": "markdown",
      "id": "f1196f05",
      "metadata": {
        "id": "f1196f05"
      },
      "source": [
        "#### Collect local feature importance info"
      ]
    },
    {
      "cell_type": "code",
      "execution_count": 56,
      "id": "6898f1e2",
      "metadata": {
        "id": "6898f1e2"
      },
      "outputs": [],
      "source": [
        "# use (coefficient * value) as local feature importance\n",
        "\n",
        "# init frame to store local contribs\n",
        "local_fi_dict = {10: pd.DataFrame(columns = ['GLM Contribution'], index=x_names),\n",
        "                 50: pd.DataFrame(columns = ['GLM Contribution'], index=x_names),\n",
        "                 90: pd.DataFrame(columns = ['GLM Contribution'], index=x_names)}\n",
        "\n",
        "# get (coefficient * value) at three percentiles of phat\n",
        "for name in x_names:\n",
        "    for percentile in [10, 50, 90]:\n",
        "    \n",
        "        # local contributions = beta_j * x_i,j\n",
        "        local_fi_dict[percentile].loc[name, 'GLM Contribution'] =\\\n",
        "            best_glm.coef()[name] *\\\n",
        "            valid[valid['row_id'] == int(best_glm_percentiles[percentile])][name].values[0]"
      ]
    },
    {
      "cell_type": "markdown",
      "id": "935f9302",
      "metadata": {
        "id": "935f9302"
      },
      "source": [
        "### Monotonic XGBoost"
      ]
    },
    {
      "cell_type": "markdown",
      "id": "fe03d082",
      "metadata": {
        "id": "fe03d082"
      },
      "source": [
        "#### Define utility function for random grid search"
      ]
    },
    {
      "cell_type": "code",
      "execution_count": 7,
      "id": "02f6deef",
      "metadata": {
        "id": "02f6deef"
      },
      "outputs": [],
      "source": [
        "def xgb_grid(dtrain, dvalid, mono_constraints=None, gs_params=None, n_models=None,\n",
        "             ntree=None, early_stopping_rounds=None, verbose=False, seed=None):\n",
        "    \n",
        "    \"\"\" Performs a random grid search over n_models and gs_params.\n",
        "\n",
        "    :param dtrain: Training data in LightSVM format.\n",
        "    :param dvalid: Validation data in LightSVM format.\n",
        "    :param mono_constraints: User-supplied monotonicity constraints.\n",
        "    :param gs_params: Dictionary of lists of potential XGBoost parameters over which to search.\n",
        "    :param n_models: Number of random models to evaluate.\n",
        "    :param ntree: Number of trees in XGBoost model.\n",
        "    :param early_stopping_rounds: XGBoost early stopping rounds.\n",
        "    :param verbose: Whether to display training iterations, default False.\n",
        "    :param seed: Random seed for better interpretability.\n",
        "    :return: Best candidate model from random grid search.\n",
        "\n",
        "    \"\"\"\n",
        "\n",
        "    # cartesian product of gs_params\n",
        "    keys, values = zip(*gs_params.items())\n",
        "    experiments = [dict(zip(keys, v)) for v in itertools.product(*values)]\n",
        "\n",
        "    # preserve exact reproducibility for this function\n",
        "    np.random.seed(SEED) \n",
        "    \n",
        "    # select randomly from cartesian product space\n",
        "    selected_experiments = np.random.choice(len(experiments), n_models)\n",
        "\n",
        "    # set global params for objective,  etc.\n",
        "    params = {'booster': 'gbtree',\n",
        "              'eval_metric': 'auc',\n",
        "              'nthread': NTHREAD,\n",
        "              'objective': 'binary:logistic',\n",
        "              'seed': SEED}\n",
        "\n",
        "    # init grid search loop\n",
        "    best_candidate = None\n",
        "    best_score = 0\n",
        "\n",
        "    # grid search loop\n",
        "    for i, exp in enumerate(selected_experiments):\n",
        "\n",
        "        params.update(experiments[exp])  # override global params with current grid run params\n",
        "\n",
        "        print('Grid search run %d/%d:' % (int(i + 1), int(n_models)))\n",
        "        print('Training with parameters:', params)\n",
        "\n",
        "        # train on current params\n",
        "        watchlist = [(dtrain, 'train'), (dvalid, 'eval')]\n",
        "        \n",
        "        if mono_constraints is not None:\n",
        "            params['monotone_constraints'] = mono_constraints\n",
        "        \n",
        "        candidate = xgb.train(params,\n",
        "                              dtrain,\n",
        "                              ntree,\n",
        "                              early_stopping_rounds=early_stopping_rounds,\n",
        "                              evals=watchlist,\n",
        "                              verbose_eval=verbose)    \n",
        "\n",
        "        # determine if current model is better than previous best\n",
        "        if candidate.best_score > best_score:\n",
        "            best_candidate = candidate\n",
        "            best_score = candidate.best_score\n",
        "            print('Grid search new best score discovered at iteration %d/%d: %.4f.' %\n",
        "                             (int(i + 1), int(n_models), candidate.best_score))\n",
        "\n",
        "        print('---------- ----------')\n",
        "            \n",
        "    return best_candidate"
      ]
    },
    {
      "cell_type": "markdown",
      "id": "f022e24a",
      "metadata": {
        "id": "f022e24a"
      },
      "source": [
        "#### Fit monotonic XGBoost with random grid search"
      ]
    },
    {
      "cell_type": "code",
      "execution_count": 8,
      "id": "ac9cb630",
      "metadata": {
        "colab": {
          "base_uri": "https://localhost:8080/"
        },
        "id": "ac9cb630",
        "outputId": "6f5623ad-bfa3-40a5-dfa4-dac392cbd648"
      },
      "outputs": [
        {
          "output_type": "stream",
          "name": "stdout",
          "text": [
            "Grid search run 1/55:\n",
            "Training with parameters: {'booster': 'gbtree', 'eval_metric': 'auc', 'nthread': 4, 'objective': 'binary:logistic', 'seed': 12345, 'colsample_bytree': 0.9, 'colsample_bylevel': 0.9, 'eta': 0.5, 'max_depth': 7, 'reg_alpha': 0.0005, 'reg_lambda': 0.005, 'subsample': 0.3, 'min_child_weight': 5, 'gamma': 0.0}\n",
            "Grid search new best score discovered at iteration 1/55: 0.7915.\n",
            "---------- ----------\n",
            "Grid search run 2/55:\n",
            "Training with parameters: {'booster': 'gbtree', 'eval_metric': 'auc', 'nthread': 4, 'objective': 'binary:logistic', 'seed': 12345, 'colsample_bytree': 0.3, 'colsample_bylevel': 0.3, 'eta': 0.05, 'max_depth': 5, 'reg_alpha': 0.0005, 'reg_lambda': 0.0005, 'subsample': 0.5, 'min_child_weight': 1, 'gamma': 0.2, 'monotone_constraints': (1, 1, 1, -1, 1, 1, -1, -1, -1, 1)}\n",
            "---------- ----------\n",
            "Grid search run 3/55:\n",
            "Training with parameters: {'booster': 'gbtree', 'eval_metric': 'auc', 'nthread': 4, 'objective': 'binary:logistic', 'seed': 12345, 'colsample_bytree': 0.3, 'colsample_bylevel': 0.3, 'eta': 0.5, 'max_depth': 5, 'reg_alpha': 0.005, 'reg_lambda': 0.05, 'subsample': 0.3, 'min_child_weight': 10, 'gamma': 0.4, 'monotone_constraints': (1, 1, 1, -1, 1, 1, -1, -1, -1, 1)}\n",
            "---------- ----------\n",
            "Grid search run 4/55:\n",
            "Training with parameters: {'booster': 'gbtree', 'eval_metric': 'auc', 'nthread': 4, 'objective': 'binary:logistic', 'seed': 12345, 'colsample_bytree': 0.5, 'colsample_bylevel': 0.5, 'eta': 0.5, 'max_depth': 3, 'reg_alpha': 0.05, 'reg_lambda': 0.005, 'subsample': 0.9, 'min_child_weight': 1, 'gamma': 0.0, 'monotone_constraints': (1, 1, 1, -1, 1, 1, -1, -1, -1, 1)}\n",
            "---------- ----------\n",
            "Grid search run 5/55:\n",
            "Training with parameters: {'booster': 'gbtree', 'eval_metric': 'auc', 'nthread': 4, 'objective': 'binary:logistic', 'seed': 12345, 'colsample_bytree': 0.3, 'colsample_bylevel': 0.9, 'eta': 0.05, 'max_depth': 5, 'reg_alpha': 0.005, 'reg_lambda': 0.0005, 'subsample': 0.3, 'min_child_weight': 10, 'gamma': 0.0, 'monotone_constraints': (1, 1, 1, -1, 1, 1, -1, -1, -1, 1)}\n",
            "---------- ----------\n",
            "Grid search run 6/55:\n",
            "Training with parameters: {'booster': 'gbtree', 'eval_metric': 'auc', 'nthread': 4, 'objective': 'binary:logistic', 'seed': 12345, 'colsample_bytree': 0.7, 'colsample_bylevel': 0.5, 'eta': 0.5, 'max_depth': 5, 'reg_alpha': 0.005, 'reg_lambda': 0.05, 'subsample': 0.9, 'min_child_weight': 5, 'gamma': 0.3, 'monotone_constraints': (1, 1, 1, -1, 1, 1, -1, -1, -1, 1)}\n",
            "---------- ----------\n",
            "Grid search run 7/55:\n",
            "Training with parameters: {'booster': 'gbtree', 'eval_metric': 'auc', 'nthread': 4, 'objective': 'binary:logistic', 'seed': 12345, 'colsample_bytree': 0.5, 'colsample_bylevel': 0.5, 'eta': 0.5, 'max_depth': 3, 'reg_alpha': 0.005, 'reg_lambda': 0.0005, 'subsample': 0.9, 'min_child_weight': 1, 'gamma': 0.1, 'monotone_constraints': (1, 1, 1, -1, 1, 1, -1, -1, -1, 1)}\n",
            "---------- ----------\n",
            "Grid search run 8/55:\n",
            "Training with parameters: {'booster': 'gbtree', 'eval_metric': 'auc', 'nthread': 4, 'objective': 'binary:logistic', 'seed': 12345, 'colsample_bytree': 0.7, 'colsample_bylevel': 0.7, 'eta': 0.5, 'max_depth': 5, 'reg_alpha': 0.005, 'reg_lambda': 0.0005, 'subsample': 0.7, 'min_child_weight': 1, 'gamma': 0.3, 'monotone_constraints': (1, 1, 1, -1, 1, 1, -1, -1, -1, 1)}\n",
            "---------- ----------\n",
            "Grid search run 9/55:\n",
            "Training with parameters: {'booster': 'gbtree', 'eval_metric': 'auc', 'nthread': 4, 'objective': 'binary:logistic', 'seed': 12345, 'colsample_bytree': 0.7, 'colsample_bylevel': 0.3, 'eta': 0.005, 'max_depth': 7, 'reg_alpha': 0.005, 'reg_lambda': 0.005, 'subsample': 0.9, 'min_child_weight': 5, 'gamma': 0.1, 'monotone_constraints': (1, 1, 1, -1, 1, 1, -1, -1, -1, 1)}\n",
            "---------- ----------\n",
            "Grid search run 10/55:\n",
            "Training with parameters: {'booster': 'gbtree', 'eval_metric': 'auc', 'nthread': 4, 'objective': 'binary:logistic', 'seed': 12345, 'colsample_bytree': 0.3, 'colsample_bylevel': 0.5, 'eta': 0.05, 'max_depth': 3, 'reg_alpha': 0.005, 'reg_lambda': 0.05, 'subsample': 0.5, 'min_child_weight': 1, 'gamma': 0.3, 'monotone_constraints': (1, 1, 1, -1, 1, 1, -1, -1, -1, 1)}\n",
            "---------- ----------\n",
            "Grid search run 11/55:\n",
            "Training with parameters: {'booster': 'gbtree', 'eval_metric': 'auc', 'nthread': 4, 'objective': 'binary:logistic', 'seed': 12345, 'colsample_bytree': 0.5, 'colsample_bylevel': 0.3, 'eta': 0.05, 'max_depth': 7, 'reg_alpha': 0.05, 'reg_lambda': 0.05, 'subsample': 0.3, 'min_child_weight': 10, 'gamma': 0.3, 'monotone_constraints': (1, 1, 1, -1, 1, 1, -1, -1, -1, 1)}\n",
            "---------- ----------\n",
            "Grid search run 12/55:\n",
            "Training with parameters: {'booster': 'gbtree', 'eval_metric': 'auc', 'nthread': 4, 'objective': 'binary:logistic', 'seed': 12345, 'colsample_bytree': 0.5, 'colsample_bylevel': 0.3, 'eta': 0.5, 'max_depth': 5, 'reg_alpha': 0.0005, 'reg_lambda': 0.005, 'subsample': 0.3, 'min_child_weight': 5, 'gamma': 0.2, 'monotone_constraints': (1, 1, 1, -1, 1, 1, -1, -1, -1, 1)}\n",
            "---------- ----------\n",
            "Grid search run 13/55:\n",
            "Training with parameters: {'booster': 'gbtree', 'eval_metric': 'auc', 'nthread': 4, 'objective': 'binary:logistic', 'seed': 12345, 'colsample_bytree': 0.5, 'colsample_bylevel': 0.3, 'eta': 0.05, 'max_depth': 5, 'reg_alpha': 0.005, 'reg_lambda': 0.005, 'subsample': 0.7, 'min_child_weight': 5, 'gamma': 0.3, 'monotone_constraints': (1, 1, 1, -1, 1, 1, -1, -1, -1, 1)}\n",
            "---------- ----------\n",
            "Grid search run 14/55:\n",
            "Training with parameters: {'booster': 'gbtree', 'eval_metric': 'auc', 'nthread': 4, 'objective': 'binary:logistic', 'seed': 12345, 'colsample_bytree': 0.3, 'colsample_bylevel': 0.9, 'eta': 0.005, 'max_depth': 5, 'reg_alpha': 0.05, 'reg_lambda': 0.005, 'subsample': 0.5, 'min_child_weight': 10, 'gamma': 0.3, 'monotone_constraints': (1, 1, 1, -1, 1, 1, -1, -1, -1, 1)}\n",
            "---------- ----------\n",
            "Grid search run 15/55:\n",
            "Training with parameters: {'booster': 'gbtree', 'eval_metric': 'auc', 'nthread': 4, 'objective': 'binary:logistic', 'seed': 12345, 'colsample_bytree': 0.7, 'colsample_bylevel': 0.3, 'eta': 0.05, 'max_depth': 7, 'reg_alpha': 0.005, 'reg_lambda': 0.005, 'subsample': 0.5, 'min_child_weight': 5, 'gamma': 0.2, 'monotone_constraints': (1, 1, 1, -1, 1, 1, -1, -1, -1, 1)}\n",
            "---------- ----------\n",
            "Grid search run 16/55:\n",
            "Training with parameters: {'booster': 'gbtree', 'eval_metric': 'auc', 'nthread': 4, 'objective': 'binary:logistic', 'seed': 12345, 'colsample_bytree': 0.3, 'colsample_bylevel': 0.7, 'eta': 0.5, 'max_depth': 3, 'reg_alpha': 0.0005, 'reg_lambda': 0.0005, 'subsample': 0.7, 'min_child_weight': 10, 'gamma': 0.1, 'monotone_constraints': (1, 1, 1, -1, 1, 1, -1, -1, -1, 1)}\n",
            "---------- ----------\n",
            "Grid search run 17/55:\n",
            "Training with parameters: {'booster': 'gbtree', 'eval_metric': 'auc', 'nthread': 4, 'objective': 'binary:logistic', 'seed': 12345, 'colsample_bytree': 0.3, 'colsample_bylevel': 0.5, 'eta': 0.005, 'max_depth': 5, 'reg_alpha': 0.05, 'reg_lambda': 0.005, 'subsample': 0.5, 'min_child_weight': 5, 'gamma': 0.2, 'monotone_constraints': (1, 1, 1, -1, 1, 1, -1, -1, -1, 1)}\n",
            "---------- ----------\n",
            "Grid search run 18/55:\n",
            "Training with parameters: {'booster': 'gbtree', 'eval_metric': 'auc', 'nthread': 4, 'objective': 'binary:logistic', 'seed': 12345, 'colsample_bytree': 0.5, 'colsample_bylevel': 0.7, 'eta': 0.05, 'max_depth': 3, 'reg_alpha': 0.005, 'reg_lambda': 0.0005, 'subsample': 0.5, 'min_child_weight': 5, 'gamma': 0.3, 'monotone_constraints': (1, 1, 1, -1, 1, 1, -1, -1, -1, 1)}\n",
            "---------- ----------\n",
            "Grid search run 19/55:\n",
            "Training with parameters: {'booster': 'gbtree', 'eval_metric': 'auc', 'nthread': 4, 'objective': 'binary:logistic', 'seed': 12345, 'colsample_bytree': 0.5, 'colsample_bylevel': 0.9, 'eta': 0.05, 'max_depth': 7, 'reg_alpha': 0.005, 'reg_lambda': 0.0005, 'subsample': 0.3, 'min_child_weight': 5, 'gamma': 0.2, 'monotone_constraints': (1, 1, 1, -1, 1, 1, -1, -1, -1, 1)}\n",
            "---------- ----------\n",
            "Grid search run 20/55:\n",
            "Training with parameters: {'booster': 'gbtree', 'eval_metric': 'auc', 'nthread': 4, 'objective': 'binary:logistic', 'seed': 12345, 'colsample_bytree': 0.9, 'colsample_bylevel': 0.3, 'eta': 0.05, 'max_depth': 3, 'reg_alpha': 0.05, 'reg_lambda': 0.0005, 'subsample': 0.7, 'min_child_weight': 10, 'gamma': 0.4, 'monotone_constraints': (1, 1, 1, -1, 1, 1, -1, -1, -1, 1)}\n",
            "---------- ----------\n",
            "Grid search run 21/55:\n",
            "Training with parameters: {'booster': 'gbtree', 'eval_metric': 'auc', 'nthread': 4, 'objective': 'binary:logistic', 'seed': 12345, 'colsample_bytree': 0.3, 'colsample_bylevel': 0.3, 'eta': 0.5, 'max_depth': 3, 'reg_alpha': 0.005, 'reg_lambda': 0.005, 'subsample': 0.7, 'min_child_weight': 1, 'gamma': 0.1, 'monotone_constraints': (1, 1, 1, -1, 1, 1, -1, -1, -1, 1)}\n",
            "---------- ----------\n",
            "Grid search run 22/55:\n",
            "Training with parameters: {'booster': 'gbtree', 'eval_metric': 'auc', 'nthread': 4, 'objective': 'binary:logistic', 'seed': 12345, 'colsample_bytree': 0.9, 'colsample_bylevel': 0.9, 'eta': 0.05, 'max_depth': 3, 'reg_alpha': 0.05, 'reg_lambda': 0.05, 'subsample': 0.7, 'min_child_weight': 5, 'gamma': 0.4, 'monotone_constraints': (1, 1, 1, -1, 1, 1, -1, -1, -1, 1)}\n",
            "Grid search new best score discovered at iteration 22/55: 0.7915.\n",
            "---------- ----------\n",
            "Grid search run 23/55:\n",
            "Training with parameters: {'booster': 'gbtree', 'eval_metric': 'auc', 'nthread': 4, 'objective': 'binary:logistic', 'seed': 12345, 'colsample_bytree': 0.9, 'colsample_bylevel': 0.3, 'eta': 0.5, 'max_depth': 5, 'reg_alpha': 0.0005, 'reg_lambda': 0.0005, 'subsample': 0.7, 'min_child_weight': 10, 'gamma': 0.1, 'monotone_constraints': (1, 1, 1, -1, 1, 1, -1, -1, -1, 1)}\n",
            "---------- ----------\n",
            "Grid search run 24/55:\n",
            "Training with parameters: {'booster': 'gbtree', 'eval_metric': 'auc', 'nthread': 4, 'objective': 'binary:logistic', 'seed': 12345, 'colsample_bytree': 0.7, 'colsample_bylevel': 0.7, 'eta': 0.05, 'max_depth': 5, 'reg_alpha': 0.005, 'reg_lambda': 0.005, 'subsample': 0.7, 'min_child_weight': 5, 'gamma': 0.0, 'monotone_constraints': (1, 1, 1, -1, 1, 1, -1, -1, -1, 1)}\n",
            "---------- ----------\n",
            "Grid search run 25/55:\n",
            "Training with parameters: {'booster': 'gbtree', 'eval_metric': 'auc', 'nthread': 4, 'objective': 'binary:logistic', 'seed': 12345, 'colsample_bytree': 0.9, 'colsample_bylevel': 0.7, 'eta': 0.005, 'max_depth': 3, 'reg_alpha': 0.0005, 'reg_lambda': 0.05, 'subsample': 0.3, 'min_child_weight': 1, 'gamma': 0.0, 'monotone_constraints': (1, 1, 1, -1, 1, 1, -1, -1, -1, 1)}\n",
            "---------- ----------\n",
            "Grid search run 26/55:\n",
            "Training with parameters: {'booster': 'gbtree', 'eval_metric': 'auc', 'nthread': 4, 'objective': 'binary:logistic', 'seed': 12345, 'colsample_bytree': 0.5, 'colsample_bylevel': 0.9, 'eta': 0.05, 'max_depth': 7, 'reg_alpha': 0.05, 'reg_lambda': 0.05, 'subsample': 0.9, 'min_child_weight': 5, 'gamma': 0.1, 'monotone_constraints': (1, 1, 1, -1, 1, 1, -1, -1, -1, 1)}\n",
            "---------- ----------\n",
            "Grid search run 27/55:\n",
            "Training with parameters: {'booster': 'gbtree', 'eval_metric': 'auc', 'nthread': 4, 'objective': 'binary:logistic', 'seed': 12345, 'colsample_bytree': 0.9, 'colsample_bylevel': 0.7, 'eta': 0.005, 'max_depth': 3, 'reg_alpha': 0.005, 'reg_lambda': 0.05, 'subsample': 0.3, 'min_child_weight': 5, 'gamma': 0.3, 'monotone_constraints': (1, 1, 1, -1, 1, 1, -1, -1, -1, 1)}\n",
            "---------- ----------\n",
            "Grid search run 28/55:\n",
            "Training with parameters: {'booster': 'gbtree', 'eval_metric': 'auc', 'nthread': 4, 'objective': 'binary:logistic', 'seed': 12345, 'colsample_bytree': 0.5, 'colsample_bylevel': 0.9, 'eta': 0.05, 'max_depth': 3, 'reg_alpha': 0.005, 'reg_lambda': 0.05, 'subsample': 0.7, 'min_child_weight': 10, 'gamma': 0.3, 'monotone_constraints': (1, 1, 1, -1, 1, 1, -1, -1, -1, 1)}\n",
            "---------- ----------\n",
            "Grid search run 29/55:\n",
            "Training with parameters: {'booster': 'gbtree', 'eval_metric': 'auc', 'nthread': 4, 'objective': 'binary:logistic', 'seed': 12345, 'colsample_bytree': 0.7, 'colsample_bylevel': 0.7, 'eta': 0.005, 'max_depth': 7, 'reg_alpha': 0.0005, 'reg_lambda': 0.005, 'subsample': 0.7, 'min_child_weight': 10, 'gamma': 0.3, 'monotone_constraints': (1, 1, 1, -1, 1, 1, -1, -1, -1, 1)}\n",
            "---------- ----------\n",
            "Grid search run 30/55:\n",
            "Training with parameters: {'booster': 'gbtree', 'eval_metric': 'auc', 'nthread': 4, 'objective': 'binary:logistic', 'seed': 12345, 'colsample_bytree': 0.9, 'colsample_bylevel': 0.3, 'eta': 0.005, 'max_depth': 5, 'reg_alpha': 0.005, 'reg_lambda': 0.05, 'subsample': 0.9, 'min_child_weight': 5, 'gamma': 0.1, 'monotone_constraints': (1, 1, 1, -1, 1, 1, -1, -1, -1, 1)}\n",
            "---------- ----------\n",
            "Grid search run 31/55:\n",
            "Training with parameters: {'booster': 'gbtree', 'eval_metric': 'auc', 'nthread': 4, 'objective': 'binary:logistic', 'seed': 12345, 'colsample_bytree': 0.9, 'colsample_bylevel': 0.3, 'eta': 0.05, 'max_depth': 7, 'reg_alpha': 0.005, 'reg_lambda': 0.05, 'subsample': 0.3, 'min_child_weight': 5, 'gamma': 0.1, 'monotone_constraints': (1, 1, 1, -1, 1, 1, -1, -1, -1, 1)}\n",
            "---------- ----------\n",
            "Grid search run 32/55:\n",
            "Training with parameters: {'booster': 'gbtree', 'eval_metric': 'auc', 'nthread': 4, 'objective': 'binary:logistic', 'seed': 12345, 'colsample_bytree': 0.9, 'colsample_bylevel': 0.5, 'eta': 0.5, 'max_depth': 7, 'reg_alpha': 0.05, 'reg_lambda': 0.005, 'subsample': 0.7, 'min_child_weight': 5, 'gamma': 0.0, 'monotone_constraints': (1, 1, 1, -1, 1, 1, -1, -1, -1, 1)}\n",
            "---------- ----------\n",
            "Grid search run 33/55:\n",
            "Training with parameters: {'booster': 'gbtree', 'eval_metric': 'auc', 'nthread': 4, 'objective': 'binary:logistic', 'seed': 12345, 'colsample_bytree': 0.9, 'colsample_bylevel': 0.7, 'eta': 0.05, 'max_depth': 3, 'reg_alpha': 0.0005, 'reg_lambda': 0.005, 'subsample': 0.5, 'min_child_weight': 5, 'gamma': 0.0, 'monotone_constraints': (1, 1, 1, -1, 1, 1, -1, -1, -1, 1)}\n",
            "---------- ----------\n",
            "Grid search run 34/55:\n",
            "Training with parameters: {'booster': 'gbtree', 'eval_metric': 'auc', 'nthread': 4, 'objective': 'binary:logistic', 'seed': 12345, 'colsample_bytree': 0.5, 'colsample_bylevel': 0.3, 'eta': 0.5, 'max_depth': 5, 'reg_alpha': 0.05, 'reg_lambda': 0.0005, 'subsample': 0.7, 'min_child_weight': 1, 'gamma': 0.1, 'monotone_constraints': (1, 1, 1, -1, 1, 1, -1, -1, -1, 1)}\n",
            "---------- ----------\n",
            "Grid search run 35/55:\n",
            "Training with parameters: {'booster': 'gbtree', 'eval_metric': 'auc', 'nthread': 4, 'objective': 'binary:logistic', 'seed': 12345, 'colsample_bytree': 0.7, 'colsample_bylevel': 0.3, 'eta': 0.5, 'max_depth': 5, 'reg_alpha': 0.05, 'reg_lambda': 0.005, 'subsample': 0.3, 'min_child_weight': 10, 'gamma': 0.1, 'monotone_constraints': (1, 1, 1, -1, 1, 1, -1, -1, -1, 1)}\n",
            "---------- ----------\n",
            "Grid search run 36/55:\n",
            "Training with parameters: {'booster': 'gbtree', 'eval_metric': 'auc', 'nthread': 4, 'objective': 'binary:logistic', 'seed': 12345, 'colsample_bytree': 0.9, 'colsample_bylevel': 0.9, 'eta': 0.5, 'max_depth': 7, 'reg_alpha': 0.0005, 'reg_lambda': 0.005, 'subsample': 0.7, 'min_child_weight': 10, 'gamma': 0.4, 'monotone_constraints': (1, 1, 1, -1, 1, 1, -1, -1, -1, 1)}\n",
            "Grid search new best score discovered at iteration 36/55: 0.7919.\n",
            "---------- ----------\n",
            "Grid search run 37/55:\n",
            "Training with parameters: {'booster': 'gbtree', 'eval_metric': 'auc', 'nthread': 4, 'objective': 'binary:logistic', 'seed': 12345, 'colsample_bytree': 0.9, 'colsample_bylevel': 0.9, 'eta': 0.05, 'max_depth': 5, 'reg_alpha': 0.05, 'reg_lambda': 0.005, 'subsample': 0.7, 'min_child_weight': 5, 'gamma': 0.0, 'monotone_constraints': (1, 1, 1, -1, 1, 1, -1, -1, -1, 1)}\n",
            "---------- ----------\n",
            "Grid search run 38/55:\n",
            "Training with parameters: {'booster': 'gbtree', 'eval_metric': 'auc', 'nthread': 4, 'objective': 'binary:logistic', 'seed': 12345, 'colsample_bytree': 0.7, 'colsample_bylevel': 0.3, 'eta': 0.5, 'max_depth': 5, 'reg_alpha': 0.05, 'reg_lambda': 0.05, 'subsample': 0.5, 'min_child_weight': 5, 'gamma': 0.3, 'monotone_constraints': (1, 1, 1, -1, 1, 1, -1, -1, -1, 1)}\n",
            "---------- ----------\n",
            "Grid search run 39/55:\n",
            "Training with parameters: {'booster': 'gbtree', 'eval_metric': 'auc', 'nthread': 4, 'objective': 'binary:logistic', 'seed': 12345, 'colsample_bytree': 0.9, 'colsample_bylevel': 0.5, 'eta': 0.05, 'max_depth': 3, 'reg_alpha': 0.0005, 'reg_lambda': 0.0005, 'subsample': 0.3, 'min_child_weight': 5, 'gamma': 0.1, 'monotone_constraints': (1, 1, 1, -1, 1, 1, -1, -1, -1, 1)}\n",
            "---------- ----------\n",
            "Grid search run 40/55:\n",
            "Training with parameters: {'booster': 'gbtree', 'eval_metric': 'auc', 'nthread': 4, 'objective': 'binary:logistic', 'seed': 12345, 'colsample_bytree': 0.9, 'colsample_bylevel': 0.7, 'eta': 0.5, 'max_depth': 3, 'reg_alpha': 0.0005, 'reg_lambda': 0.05, 'subsample': 0.3, 'min_child_weight': 1, 'gamma': 0.3, 'monotone_constraints': (1, 1, 1, -1, 1, 1, -1, -1, -1, 1)}\n",
            "---------- ----------\n",
            "Grid search run 41/55:\n",
            "Training with parameters: {'booster': 'gbtree', 'eval_metric': 'auc', 'nthread': 4, 'objective': 'binary:logistic', 'seed': 12345, 'colsample_bytree': 0.5, 'colsample_bylevel': 0.9, 'eta': 0.5, 'max_depth': 7, 'reg_alpha': 0.0005, 'reg_lambda': 0.05, 'subsample': 0.3, 'min_child_weight': 10, 'gamma': 0.4, 'monotone_constraints': (1, 1, 1, -1, 1, 1, -1, -1, -1, 1)}\n",
            "---------- ----------\n",
            "Grid search run 42/55:\n",
            "Training with parameters: {'booster': 'gbtree', 'eval_metric': 'auc', 'nthread': 4, 'objective': 'binary:logistic', 'seed': 12345, 'colsample_bytree': 0.5, 'colsample_bylevel': 0.9, 'eta': 0.05, 'max_depth': 3, 'reg_alpha': 0.005, 'reg_lambda': 0.005, 'subsample': 0.7, 'min_child_weight': 5, 'gamma': 0.1, 'monotone_constraints': (1, 1, 1, -1, 1, 1, -1, -1, -1, 1)}\n",
            "---------- ----------\n",
            "Grid search run 43/55:\n",
            "Training with parameters: {'booster': 'gbtree', 'eval_metric': 'auc', 'nthread': 4, 'objective': 'binary:logistic', 'seed': 12345, 'colsample_bytree': 0.7, 'colsample_bylevel': 0.3, 'eta': 0.5, 'max_depth': 7, 'reg_alpha': 0.05, 'reg_lambda': 0.0005, 'subsample': 0.5, 'min_child_weight': 5, 'gamma': 0.2, 'monotone_constraints': (1, 1, 1, -1, 1, 1, -1, -1, -1, 1)}\n",
            "---------- ----------\n",
            "Grid search run 44/55:\n",
            "Training with parameters: {'booster': 'gbtree', 'eval_metric': 'auc', 'nthread': 4, 'objective': 'binary:logistic', 'seed': 12345, 'colsample_bytree': 0.7, 'colsample_bylevel': 0.3, 'eta': 0.005, 'max_depth': 3, 'reg_alpha': 0.005, 'reg_lambda': 0.05, 'subsample': 0.5, 'min_child_weight': 10, 'gamma': 0.4, 'monotone_constraints': (1, 1, 1, -1, 1, 1, -1, -1, -1, 1)}\n",
            "---------- ----------\n",
            "Grid search run 45/55:\n",
            "Training with parameters: {'booster': 'gbtree', 'eval_metric': 'auc', 'nthread': 4, 'objective': 'binary:logistic', 'seed': 12345, 'colsample_bytree': 0.7, 'colsample_bylevel': 0.7, 'eta': 0.05, 'max_depth': 3, 'reg_alpha': 0.0005, 'reg_lambda': 0.005, 'subsample': 0.7, 'min_child_weight': 10, 'gamma': 0.2, 'monotone_constraints': (1, 1, 1, -1, 1, 1, -1, -1, -1, 1)}\n",
            "---------- ----------\n",
            "Grid search run 46/55:\n",
            "Training with parameters: {'booster': 'gbtree', 'eval_metric': 'auc', 'nthread': 4, 'objective': 'binary:logistic', 'seed': 12345, 'colsample_bytree': 0.5, 'colsample_bylevel': 0.9, 'eta': 0.5, 'max_depth': 3, 'reg_alpha': 0.005, 'reg_lambda': 0.005, 'subsample': 0.9, 'min_child_weight': 5, 'gamma': 0.4, 'monotone_constraints': (1, 1, 1, -1, 1, 1, -1, -1, -1, 1)}\n",
            "---------- ----------\n",
            "Grid search run 47/55:\n",
            "Training with parameters: {'booster': 'gbtree', 'eval_metric': 'auc', 'nthread': 4, 'objective': 'binary:logistic', 'seed': 12345, 'colsample_bytree': 0.9, 'colsample_bylevel': 0.9, 'eta': 0.005, 'max_depth': 7, 'reg_alpha': 0.005, 'reg_lambda': 0.05, 'subsample': 0.7, 'min_child_weight': 10, 'gamma': 0.2, 'monotone_constraints': (1, 1, 1, -1, 1, 1, -1, -1, -1, 1)}\n",
            "---------- ----------\n",
            "Grid search run 48/55:\n",
            "Training with parameters: {'booster': 'gbtree', 'eval_metric': 'auc', 'nthread': 4, 'objective': 'binary:logistic', 'seed': 12345, 'colsample_bytree': 0.9, 'colsample_bylevel': 0.7, 'eta': 0.5, 'max_depth': 7, 'reg_alpha': 0.05, 'reg_lambda': 0.0005, 'subsample': 0.7, 'min_child_weight': 10, 'gamma': 0.2, 'monotone_constraints': (1, 1, 1, -1, 1, 1, -1, -1, -1, 1)}\n",
            "Grid search new best score discovered at iteration 48/55: 0.7919.\n",
            "---------- ----------\n",
            "Grid search run 49/55:\n",
            "Training with parameters: {'booster': 'gbtree', 'eval_metric': 'auc', 'nthread': 4, 'objective': 'binary:logistic', 'seed': 12345, 'colsample_bytree': 0.3, 'colsample_bylevel': 0.3, 'eta': 0.005, 'max_depth': 3, 'reg_alpha': 0.005, 'reg_lambda': 0.005, 'subsample': 0.7, 'min_child_weight': 5, 'gamma': 0.4, 'monotone_constraints': (1, 1, 1, -1, 1, 1, -1, -1, -1, 1)}\n",
            "---------- ----------\n",
            "Grid search run 50/55:\n",
            "Training with parameters: {'booster': 'gbtree', 'eval_metric': 'auc', 'nthread': 4, 'objective': 'binary:logistic', 'seed': 12345, 'colsample_bytree': 0.7, 'colsample_bylevel': 0.9, 'eta': 0.005, 'max_depth': 5, 'reg_alpha': 0.005, 'reg_lambda': 0.05, 'subsample': 0.7, 'min_child_weight': 5, 'gamma': 0.0, 'monotone_constraints': (1, 1, 1, -1, 1, 1, -1, -1, -1, 1)}\n",
            "---------- ----------\n",
            "Grid search run 51/55:\n",
            "Training with parameters: {'booster': 'gbtree', 'eval_metric': 'auc', 'nthread': 4, 'objective': 'binary:logistic', 'seed': 12345, 'colsample_bytree': 0.5, 'colsample_bylevel': 0.5, 'eta': 0.5, 'max_depth': 5, 'reg_alpha': 0.005, 'reg_lambda': 0.005, 'subsample': 0.9, 'min_child_weight': 10, 'gamma': 0.3, 'monotone_constraints': (1, 1, 1, -1, 1, 1, -1, -1, -1, 1)}\n",
            "---------- ----------\n",
            "Grid search run 52/55:\n",
            "Training with parameters: {'booster': 'gbtree', 'eval_metric': 'auc', 'nthread': 4, 'objective': 'binary:logistic', 'seed': 12345, 'colsample_bytree': 0.3, 'colsample_bylevel': 0.9, 'eta': 0.5, 'max_depth': 7, 'reg_alpha': 0.005, 'reg_lambda': 0.0005, 'subsample': 0.7, 'min_child_weight': 5, 'gamma': 0.1, 'monotone_constraints': (1, 1, 1, -1, 1, 1, -1, -1, -1, 1)}\n",
            "---------- ----------\n",
            "Grid search run 53/55:\n",
            "Training with parameters: {'booster': 'gbtree', 'eval_metric': 'auc', 'nthread': 4, 'objective': 'binary:logistic', 'seed': 12345, 'colsample_bytree': 0.7, 'colsample_bylevel': 0.9, 'eta': 0.5, 'max_depth': 7, 'reg_alpha': 0.0005, 'reg_lambda': 0.0005, 'subsample': 0.3, 'min_child_weight': 5, 'gamma': 0.0, 'monotone_constraints': (1, 1, 1, -1, 1, 1, -1, -1, -1, 1)}\n",
            "---------- ----------\n",
            "Grid search run 54/55:\n",
            "Training with parameters: {'booster': 'gbtree', 'eval_metric': 'auc', 'nthread': 4, 'objective': 'binary:logistic', 'seed': 12345, 'colsample_bytree': 0.9, 'colsample_bylevel': 0.7, 'eta': 0.5, 'max_depth': 5, 'reg_alpha': 0.005, 'reg_lambda': 0.005, 'subsample': 0.7, 'min_child_weight': 1, 'gamma': 0.0, 'monotone_constraints': (1, 1, 1, -1, 1, 1, -1, -1, -1, 1)}\n",
            "Grid search new best score discovered at iteration 54/55: 0.7920.\n",
            "---------- ----------\n",
            "Grid search run 55/55:\n",
            "Training with parameters: {'booster': 'gbtree', 'eval_metric': 'auc', 'nthread': 4, 'objective': 'binary:logistic', 'seed': 12345, 'colsample_bytree': 0.9, 'colsample_bylevel': 0.5, 'eta': 0.5, 'max_depth': 5, 'reg_alpha': 0.005, 'reg_lambda': 0.005, 'subsample': 0.7, 'min_child_weight': 10, 'gamma': 0.3, 'monotone_constraints': (1, 1, 1, -1, 1, 1, -1, -1, -1, 1)}\n",
            "---------- ----------\n",
            "Monotonic GBM training completed in 1393.06 s.\n"
          ]
        }
      ],
      "source": [
        "# dictionary of hyperparameter value lists for grid search\n",
        "gs_params = {'colsample_bytree': [0.3, 0.5, 0.7, 0.9],\n",
        "             'colsample_bylevel': [0.3, 0.5, 0.7, 0.9],\n",
        "             'eta': [0.005, 0.05, 0.5],\n",
        "             'max_depth': [3, 5, 7],\n",
        "             'reg_alpha': [0.0005, 0.005, 0.05],\n",
        "             'reg_lambda': [0.0005, 0.005, 0.05],\n",
        "             'subsample': [0.3, 0.5, 0.7, 0.9],\n",
        "             'min_child_weight': [1, 5, 10], \n",
        "             'gamma': [0.0, 0.1, 0.2 , 0.3, 0.4]}\n",
        "\n",
        "# define monotonicity constraints\n",
        "mono_constraints = tuple([int(i) for i in np.sign(train[x_names + [y_name]].corr()[y_name].values[:-1])])\n",
        "\n",
        "# start local timer\n",
        "mxgb_tic = time.time()\n",
        "\n",
        "# Convert data to SVMLight format\n",
        "dtrain = xgb.DMatrix(train[x_names], train[y_name])\n",
        "dvalid = xgb.DMatrix(valid[x_names], valid[y_name])\n",
        "\n",
        "# Monotonic XGBoost grid search\n",
        "best_mxgb = xgb_grid(dtrain, dvalid, gs_params=gs_params, n_models=55, ntree=1000, early_stopping_rounds=100, \n",
        "                     mono_constraints=mono_constraints, seed=SEED)\n",
        "\n",
        "# end local timer\n",
        "mxgb_toc = time.time() - mxgb_tic\n",
        "print('Monotonic GBM training completed in %.2f s.' % (mxgb_toc))"
      ]
    },
    {
      "cell_type": "markdown",
      "source": [
        "#### Find best monotonic constraints"
      ],
      "metadata": {
        "id": "UzBh6U8W2orx"
      },
      "id": "UzBh6U8W2orx"
    },
    {
      "cell_type": "code",
      "source": [
        "best_gs_params = {'colsample_bytree': [0.9],\n",
        "             'colsample_bylevel': [0.7],\n",
        "             'eta': [0.5],\n",
        "             'max_depth': [5],\n",
        "             'reg_alpha': [0.005],\n",
        "             'reg_lambda': [0.005],\n",
        "             'subsample': [0.7],\n",
        "             'min_child_weight': [1], \n",
        "             'gamma': [0.0]}\n",
        "mono_constraints = tuple([int(i) for i in np.sign(train[x_names + [y_name]].corr()[y_name].values[:-1])])\n",
        "\n",
        "best_mxgb = xgb_grid(dtrain, dvalid, gs_params=best_gs_params, n_models=1, ntree=1000, early_stopping_rounds=100, \n",
        "                     mono_constraints=mono_constraints, seed=SEED)\n",
        "\n",
        "best_mxgb.best_score"
      ],
      "metadata": {
        "colab": {
          "base_uri": "https://localhost:8080/"
        },
        "id": "4XmdASo87idb",
        "outputId": "6c615acf-08eb-48be-b287-a7c181fc62bd"
      },
      "id": "4XmdASo87idb",
      "execution_count": 42,
      "outputs": [
        {
          "output_type": "stream",
          "name": "stdout",
          "text": [
            "Grid search run 1/1:\n",
            "Training with parameters: {'booster': 'gbtree', 'eval_metric': 'auc', 'nthread': 4, 'objective': 'binary:logistic', 'seed': 12345, 'colsample_bytree': 0.9, 'colsample_bylevel': 0.7, 'eta': 0.5, 'max_depth': 5, 'reg_alpha': 0.005, 'reg_lambda': 0.005, 'subsample': 0.7, 'min_child_weight': 1, 'gamma': 0.0}\n",
            "Grid search new best score discovered at iteration 1/1: 0.7920.\n",
            "---------- ----------\n"
          ]
        },
        {
          "output_type": "execute_result",
          "data": {
            "text/plain": [
              "0.791991"
            ]
          },
          "metadata": {},
          "execution_count": 42
        }
      ]
    },
    {
      "cell_type": "code",
      "source": [
        "best_gs_params = {'colsample_bytree': [0.9],\n",
        "             'colsample_bylevel': [0.7],\n",
        "             'eta': [0.5],\n",
        "             'max_depth': [5],\n",
        "             'reg_alpha': [0.005],\n",
        "             'reg_lambda': [0.005],\n",
        "             'subsample': [0.7],\n",
        "             'min_child_weight': [1], \n",
        "             'gamma': [0.0]}\n",
        "\n",
        "best_mono_constraints = list([int(i) for i in np.sign(train[x_names + [y_name]].corr()[y_name].values[:-1])])\n",
        "temp_mono_constraints = list([int(i) for i in np.sign(train[x_names + [y_name]].corr()[y_name].values[:-1])])\n",
        "\n",
        "for i in range(len(mono_constraints)):\n",
        "\n",
        "  for j in range(-1, 2):\n",
        "    temp_mono_constraints[i] = j\n",
        "    candidate = xgb_grid(dtrain, dvalid, gs_params=best_gs_params, n_models=1, ntree=1000, early_stopping_rounds=100, \n",
        "                     mono_constraints=tuple(temp_mono_constraints), seed=SEED)\n",
        "    print('XGBoost model score with monotonic constraints {}: {}'.format(temp_mono_constraints, candidate.best_score))\n",
        "\n",
        "    if candidate.best_score > best_mxgb.best_score:\n",
        "      best_mono_constraints[i] = j\n",
        "      best_mxgb = candidate\n",
        "      best_score = candidate.best_score\n",
        "\n",
        "      print('Monotone_constraints search new best score discovered with constraints {}: {}'.format(best_mono_constraints, best_mxgb.best_score))\n",
        "      print()\n",
        "      \n",
        "    else:\n",
        "      temp_mono_constraints[i] = best_mono_constraints[i]"
      ],
      "metadata": {
        "colab": {
          "base_uri": "https://localhost:8080/"
        },
        "id": "0KoSJFpEFsK5",
        "outputId": "1a98957a-950b-4e9d-b2a9-2932a61ab081"
      },
      "id": "0KoSJFpEFsK5",
      "execution_count": 43,
      "outputs": [
        {
          "output_type": "stream",
          "name": "stdout",
          "text": [
            "Grid search run 1/1:\n",
            "Training with parameters: {'booster': 'gbtree', 'eval_metric': 'auc', 'nthread': 4, 'objective': 'binary:logistic', 'seed': 12345, 'colsample_bytree': 0.9, 'colsample_bylevel': 0.7, 'eta': 0.5, 'max_depth': 5, 'reg_alpha': 0.005, 'reg_lambda': 0.005, 'subsample': 0.7, 'min_child_weight': 1, 'gamma': 0.0}\n",
            "Grid search new best score discovered at iteration 1/1: 0.7907.\n",
            "---------- ----------\n",
            "XGBoost model score with monotonic constraints [-1, 1, 1, -1, 1, 1, -1, -1, -1, 1]: 0.790673\n",
            "Grid search run 1/1:\n",
            "Training with parameters: {'booster': 'gbtree', 'eval_metric': 'auc', 'nthread': 4, 'objective': 'binary:logistic', 'seed': 12345, 'colsample_bytree': 0.9, 'colsample_bylevel': 0.7, 'eta': 0.5, 'max_depth': 5, 'reg_alpha': 0.005, 'reg_lambda': 0.005, 'subsample': 0.7, 'min_child_weight': 1, 'gamma': 0.0}\n",
            "Grid search new best score discovered at iteration 1/1: 0.7915.\n",
            "---------- ----------\n",
            "XGBoost model score with monotonic constraints [0, 1, 1, -1, 1, 1, -1, -1, -1, 1]: 0.791493\n",
            "Grid search run 1/1:\n",
            "Training with parameters: {'booster': 'gbtree', 'eval_metric': 'auc', 'nthread': 4, 'objective': 'binary:logistic', 'seed': 12345, 'colsample_bytree': 0.9, 'colsample_bylevel': 0.7, 'eta': 0.5, 'max_depth': 5, 'reg_alpha': 0.005, 'reg_lambda': 0.005, 'subsample': 0.7, 'min_child_weight': 1, 'gamma': 0.0}\n",
            "Grid search new best score discovered at iteration 1/1: 0.7920.\n",
            "---------- ----------\n",
            "XGBoost model score with monotonic constraints [1, 1, 1, -1, 1, 1, -1, -1, -1, 1]: 0.791991\n",
            "Grid search run 1/1:\n",
            "Training with parameters: {'booster': 'gbtree', 'eval_metric': 'auc', 'nthread': 4, 'objective': 'binary:logistic', 'seed': 12345, 'colsample_bytree': 0.9, 'colsample_bylevel': 0.7, 'eta': 0.5, 'max_depth': 5, 'reg_alpha': 0.005, 'reg_lambda': 0.005, 'subsample': 0.7, 'min_child_weight': 1, 'gamma': 0.0}\n",
            "Grid search new best score discovered at iteration 1/1: 0.7921.\n",
            "---------- ----------\n",
            "XGBoost model score with monotonic constraints [1, -1, 1, -1, 1, 1, -1, -1, -1, 1]: 0.792133\n",
            "Monotone_constraints search new best score discovered with constraints [1, -1, 1, -1, 1, 1, -1, -1, -1, 1]: 0.792133\n",
            "\n",
            "Grid search run 1/1:\n",
            "Training with parameters: {'booster': 'gbtree', 'eval_metric': 'auc', 'nthread': 4, 'objective': 'binary:logistic', 'seed': 12345, 'colsample_bytree': 0.9, 'colsample_bylevel': 0.7, 'eta': 0.5, 'max_depth': 5, 'reg_alpha': 0.005, 'reg_lambda': 0.005, 'subsample': 0.7, 'min_child_weight': 1, 'gamma': 0.0}\n",
            "Grid search new best score discovered at iteration 1/1: 0.7920.\n",
            "---------- ----------\n",
            "XGBoost model score with monotonic constraints [1, 0, 1, -1, 1, 1, -1, -1, -1, 1]: 0.791985\n",
            "Grid search run 1/1:\n",
            "Training with parameters: {'booster': 'gbtree', 'eval_metric': 'auc', 'nthread': 4, 'objective': 'binary:logistic', 'seed': 12345, 'colsample_bytree': 0.9, 'colsample_bylevel': 0.7, 'eta': 0.5, 'max_depth': 5, 'reg_alpha': 0.005, 'reg_lambda': 0.005, 'subsample': 0.7, 'min_child_weight': 1, 'gamma': 0.0}\n",
            "Grid search new best score discovered at iteration 1/1: 0.7920.\n",
            "---------- ----------\n",
            "XGBoost model score with monotonic constraints [1, 1, 1, -1, 1, 1, -1, -1, -1, 1]: 0.791991\n",
            "Grid search run 1/1:\n",
            "Training with parameters: {'booster': 'gbtree', 'eval_metric': 'auc', 'nthread': 4, 'objective': 'binary:logistic', 'seed': 12345, 'colsample_bytree': 0.9, 'colsample_bylevel': 0.7, 'eta': 0.5, 'max_depth': 5, 'reg_alpha': 0.005, 'reg_lambda': 0.005, 'subsample': 0.7, 'min_child_weight': 1, 'gamma': 0.0}\n",
            "Grid search new best score discovered at iteration 1/1: 0.7919.\n",
            "---------- ----------\n",
            "XGBoost model score with monotonic constraints [1, -1, -1, -1, 1, 1, -1, -1, -1, 1]: 0.791871\n",
            "Grid search run 1/1:\n",
            "Training with parameters: {'booster': 'gbtree', 'eval_metric': 'auc', 'nthread': 4, 'objective': 'binary:logistic', 'seed': 12345, 'colsample_bytree': 0.9, 'colsample_bylevel': 0.7, 'eta': 0.5, 'max_depth': 5, 'reg_alpha': 0.005, 'reg_lambda': 0.005, 'subsample': 0.7, 'min_child_weight': 1, 'gamma': 0.0}\n",
            "Grid search new best score discovered at iteration 1/1: 0.7920.\n",
            "---------- ----------\n",
            "XGBoost model score with monotonic constraints [1, -1, 0, -1, 1, 1, -1, -1, -1, 1]: 0.79203\n",
            "Grid search run 1/1:\n",
            "Training with parameters: {'booster': 'gbtree', 'eval_metric': 'auc', 'nthread': 4, 'objective': 'binary:logistic', 'seed': 12345, 'colsample_bytree': 0.9, 'colsample_bylevel': 0.7, 'eta': 0.5, 'max_depth': 5, 'reg_alpha': 0.005, 'reg_lambda': 0.005, 'subsample': 0.7, 'min_child_weight': 1, 'gamma': 0.0}\n",
            "Grid search new best score discovered at iteration 1/1: 0.7921.\n",
            "---------- ----------\n",
            "XGBoost model score with monotonic constraints [1, -1, 1, -1, 1, 1, -1, -1, -1, 1]: 0.792133\n",
            "Grid search run 1/1:\n",
            "Training with parameters: {'booster': 'gbtree', 'eval_metric': 'auc', 'nthread': 4, 'objective': 'binary:logistic', 'seed': 12345, 'colsample_bytree': 0.9, 'colsample_bylevel': 0.7, 'eta': 0.5, 'max_depth': 5, 'reg_alpha': 0.005, 'reg_lambda': 0.005, 'subsample': 0.7, 'min_child_weight': 1, 'gamma': 0.0}\n",
            "Grid search new best score discovered at iteration 1/1: 0.7921.\n",
            "---------- ----------\n",
            "XGBoost model score with monotonic constraints [1, -1, 1, -1, 1, 1, -1, -1, -1, 1]: 0.792133\n",
            "Grid search run 1/1:\n",
            "Training with parameters: {'booster': 'gbtree', 'eval_metric': 'auc', 'nthread': 4, 'objective': 'binary:logistic', 'seed': 12345, 'colsample_bytree': 0.9, 'colsample_bylevel': 0.7, 'eta': 0.5, 'max_depth': 5, 'reg_alpha': 0.005, 'reg_lambda': 0.005, 'subsample': 0.7, 'min_child_weight': 1, 'gamma': 0.0}\n",
            "Grid search new best score discovered at iteration 1/1: 0.7921.\n",
            "---------- ----------\n",
            "XGBoost model score with monotonic constraints [1, -1, 1, 0, 1, 1, -1, -1, -1, 1]: 0.792099\n",
            "Grid search run 1/1:\n",
            "Training with parameters: {'booster': 'gbtree', 'eval_metric': 'auc', 'nthread': 4, 'objective': 'binary:logistic', 'seed': 12345, 'colsample_bytree': 0.9, 'colsample_bylevel': 0.7, 'eta': 0.5, 'max_depth': 5, 'reg_alpha': 0.005, 'reg_lambda': 0.005, 'subsample': 0.7, 'min_child_weight': 1, 'gamma': 0.0}\n",
            "Grid search new best score discovered at iteration 1/1: 0.7894.\n",
            "---------- ----------\n",
            "XGBoost model score with monotonic constraints [1, -1, 1, 1, 1, 1, -1, -1, -1, 1]: 0.789436\n",
            "Grid search run 1/1:\n",
            "Training with parameters: {'booster': 'gbtree', 'eval_metric': 'auc', 'nthread': 4, 'objective': 'binary:logistic', 'seed': 12345, 'colsample_bytree': 0.9, 'colsample_bylevel': 0.7, 'eta': 0.5, 'max_depth': 5, 'reg_alpha': 0.005, 'reg_lambda': 0.005, 'subsample': 0.7, 'min_child_weight': 1, 'gamma': 0.0}\n",
            "Grid search new best score discovered at iteration 1/1: 0.7590.\n",
            "---------- ----------\n",
            "XGBoost model score with monotonic constraints [1, -1, 1, -1, -1, 1, -1, -1, -1, 1]: 0.758975\n",
            "Grid search run 1/1:\n",
            "Training with parameters: {'booster': 'gbtree', 'eval_metric': 'auc', 'nthread': 4, 'objective': 'binary:logistic', 'seed': 12345, 'colsample_bytree': 0.9, 'colsample_bylevel': 0.7, 'eta': 0.5, 'max_depth': 5, 'reg_alpha': 0.005, 'reg_lambda': 0.005, 'subsample': 0.7, 'min_child_weight': 1, 'gamma': 0.0}\n",
            "Grid search new best score discovered at iteration 1/1: 0.8044.\n",
            "---------- ----------\n",
            "XGBoost model score with monotonic constraints [1, -1, 1, -1, 0, 1, -1, -1, -1, 1]: 0.804375\n",
            "Monotone_constraints search new best score discovered with constraints [1, -1, 1, -1, 0, 1, -1, -1, -1, 1]: 0.804375\n",
            "\n",
            "Grid search run 1/1:\n",
            "Training with parameters: {'booster': 'gbtree', 'eval_metric': 'auc', 'nthread': 4, 'objective': 'binary:logistic', 'seed': 12345, 'colsample_bytree': 0.9, 'colsample_bylevel': 0.7, 'eta': 0.5, 'max_depth': 5, 'reg_alpha': 0.005, 'reg_lambda': 0.005, 'subsample': 0.7, 'min_child_weight': 1, 'gamma': 0.0}\n",
            "Grid search new best score discovered at iteration 1/1: 0.7921.\n",
            "---------- ----------\n",
            "XGBoost model score with monotonic constraints [1, -1, 1, -1, 1, 1, -1, -1, -1, 1]: 0.792133\n",
            "Grid search run 1/1:\n",
            "Training with parameters: {'booster': 'gbtree', 'eval_metric': 'auc', 'nthread': 4, 'objective': 'binary:logistic', 'seed': 12345, 'colsample_bytree': 0.9, 'colsample_bylevel': 0.7, 'eta': 0.5, 'max_depth': 5, 'reg_alpha': 0.005, 'reg_lambda': 0.005, 'subsample': 0.7, 'min_child_weight': 1, 'gamma': 0.0}\n",
            "Grid search new best score discovered at iteration 1/1: 0.8176.\n",
            "---------- ----------\n",
            "XGBoost model score with monotonic constraints [1, -1, 1, -1, 0, -1, -1, -1, -1, 1]: 0.817557\n",
            "Monotone_constraints search new best score discovered with constraints [1, -1, 1, -1, 0, -1, -1, -1, -1, 1]: 0.817557\n",
            "\n",
            "Grid search run 1/1:\n",
            "Training with parameters: {'booster': 'gbtree', 'eval_metric': 'auc', 'nthread': 4, 'objective': 'binary:logistic', 'seed': 12345, 'colsample_bytree': 0.9, 'colsample_bylevel': 0.7, 'eta': 0.5, 'max_depth': 5, 'reg_alpha': 0.005, 'reg_lambda': 0.005, 'subsample': 0.7, 'min_child_weight': 1, 'gamma': 0.0}\n",
            "Grid search new best score discovered at iteration 1/1: 0.8176.\n",
            "---------- ----------\n",
            "XGBoost model score with monotonic constraints [1, -1, 1, -1, 0, 0, -1, -1, -1, 1]: 0.817601\n",
            "Monotone_constraints search new best score discovered with constraints [1, -1, 1, -1, 0, 0, -1, -1, -1, 1]: 0.817601\n",
            "\n",
            "Grid search run 1/1:\n",
            "Training with parameters: {'booster': 'gbtree', 'eval_metric': 'auc', 'nthread': 4, 'objective': 'binary:logistic', 'seed': 12345, 'colsample_bytree': 0.9, 'colsample_bylevel': 0.7, 'eta': 0.5, 'max_depth': 5, 'reg_alpha': 0.005, 'reg_lambda': 0.005, 'subsample': 0.7, 'min_child_weight': 1, 'gamma': 0.0}\n",
            "Grid search new best score discovered at iteration 1/1: 0.8044.\n",
            "---------- ----------\n",
            "XGBoost model score with monotonic constraints [1, -1, 1, -1, 0, 1, -1, -1, -1, 1]: 0.804375\n",
            "Grid search run 1/1:\n",
            "Training with parameters: {'booster': 'gbtree', 'eval_metric': 'auc', 'nthread': 4, 'objective': 'binary:logistic', 'seed': 12345, 'colsample_bytree': 0.9, 'colsample_bylevel': 0.7, 'eta': 0.5, 'max_depth': 5, 'reg_alpha': 0.005, 'reg_lambda': 0.005, 'subsample': 0.7, 'min_child_weight': 1, 'gamma': 0.0}\n",
            "Grid search new best score discovered at iteration 1/1: 0.8176.\n",
            "---------- ----------\n",
            "XGBoost model score with monotonic constraints [1, -1, 1, -1, 0, 0, -1, -1, -1, 1]: 0.817601\n",
            "Grid search run 1/1:\n",
            "Training with parameters: {'booster': 'gbtree', 'eval_metric': 'auc', 'nthread': 4, 'objective': 'binary:logistic', 'seed': 12345, 'colsample_bytree': 0.9, 'colsample_bylevel': 0.7, 'eta': 0.5, 'max_depth': 5, 'reg_alpha': 0.005, 'reg_lambda': 0.005, 'subsample': 0.7, 'min_child_weight': 1, 'gamma': 0.0}\n",
            "Grid search new best score discovered at iteration 1/1: 0.8183.\n",
            "---------- ----------\n",
            "XGBoost model score with monotonic constraints [1, -1, 1, -1, 0, 0, 0, -1, -1, 1]: 0.818326\n",
            "Monotone_constraints search new best score discovered with constraints [1, -1, 1, -1, 0, 0, 0, -1, -1, 1]: 0.818326\n",
            "\n",
            "Grid search run 1/1:\n",
            "Training with parameters: {'booster': 'gbtree', 'eval_metric': 'auc', 'nthread': 4, 'objective': 'binary:logistic', 'seed': 12345, 'colsample_bytree': 0.9, 'colsample_bylevel': 0.7, 'eta': 0.5, 'max_depth': 5, 'reg_alpha': 0.005, 'reg_lambda': 0.005, 'subsample': 0.7, 'min_child_weight': 1, 'gamma': 0.0}\n",
            "Grid search new best score discovered at iteration 1/1: 0.8122.\n",
            "---------- ----------\n",
            "XGBoost model score with monotonic constraints [1, -1, 1, -1, 0, 0, 1, -1, -1, 1]: 0.812199\n",
            "Grid search run 1/1:\n",
            "Training with parameters: {'booster': 'gbtree', 'eval_metric': 'auc', 'nthread': 4, 'objective': 'binary:logistic', 'seed': 12345, 'colsample_bytree': 0.9, 'colsample_bylevel': 0.7, 'eta': 0.5, 'max_depth': 5, 'reg_alpha': 0.005, 'reg_lambda': 0.005, 'subsample': 0.7, 'min_child_weight': 1, 'gamma': 0.0}\n",
            "Grid search new best score discovered at iteration 1/1: 0.8183.\n",
            "---------- ----------\n",
            "XGBoost model score with monotonic constraints [1, -1, 1, -1, 0, 0, 0, -1, -1, 1]: 0.818326\n",
            "Grid search run 1/1:\n",
            "Training with parameters: {'booster': 'gbtree', 'eval_metric': 'auc', 'nthread': 4, 'objective': 'binary:logistic', 'seed': 12345, 'colsample_bytree': 0.9, 'colsample_bylevel': 0.7, 'eta': 0.5, 'max_depth': 5, 'reg_alpha': 0.005, 'reg_lambda': 0.005, 'subsample': 0.7, 'min_child_weight': 1, 'gamma': 0.0}\n",
            "Grid search new best score discovered at iteration 1/1: 0.8179.\n",
            "---------- ----------\n",
            "XGBoost model score with monotonic constraints [1, -1, 1, -1, 0, 0, 0, 0, -1, 1]: 0.817948\n",
            "Grid search run 1/1:\n",
            "Training with parameters: {'booster': 'gbtree', 'eval_metric': 'auc', 'nthread': 4, 'objective': 'binary:logistic', 'seed': 12345, 'colsample_bytree': 0.9, 'colsample_bylevel': 0.7, 'eta': 0.5, 'max_depth': 5, 'reg_alpha': 0.005, 'reg_lambda': 0.005, 'subsample': 0.7, 'min_child_weight': 1, 'gamma': 0.0}\n",
            "Grid search new best score discovered at iteration 1/1: 0.8181.\n",
            "---------- ----------\n",
            "XGBoost model score with monotonic constraints [1, -1, 1, -1, 0, 0, 0, 1, -1, 1]: 0.818082\n",
            "Grid search run 1/1:\n",
            "Training with parameters: {'booster': 'gbtree', 'eval_metric': 'auc', 'nthread': 4, 'objective': 'binary:logistic', 'seed': 12345, 'colsample_bytree': 0.9, 'colsample_bylevel': 0.7, 'eta': 0.5, 'max_depth': 5, 'reg_alpha': 0.005, 'reg_lambda': 0.005, 'subsample': 0.7, 'min_child_weight': 1, 'gamma': 0.0}\n",
            "Grid search new best score discovered at iteration 1/1: 0.8183.\n",
            "---------- ----------\n",
            "XGBoost model score with monotonic constraints [1, -1, 1, -1, 0, 0, 0, -1, -1, 1]: 0.818326\n",
            "Grid search run 1/1:\n",
            "Training with parameters: {'booster': 'gbtree', 'eval_metric': 'auc', 'nthread': 4, 'objective': 'binary:logistic', 'seed': 12345, 'colsample_bytree': 0.9, 'colsample_bylevel': 0.7, 'eta': 0.5, 'max_depth': 5, 'reg_alpha': 0.005, 'reg_lambda': 0.005, 'subsample': 0.7, 'min_child_weight': 1, 'gamma': 0.0}\n",
            "Grid search new best score discovered at iteration 1/1: 0.8230.\n",
            "---------- ----------\n",
            "XGBoost model score with monotonic constraints [1, -1, 1, -1, 0, 0, 0, -1, 0, 1]: 0.823049\n",
            "Monotone_constraints search new best score discovered with constraints [1, -1, 1, -1, 0, 0, 0, -1, 0, 1]: 0.823049\n",
            "\n",
            "Grid search run 1/1:\n",
            "Training with parameters: {'booster': 'gbtree', 'eval_metric': 'auc', 'nthread': 4, 'objective': 'binary:logistic', 'seed': 12345, 'colsample_bytree': 0.9, 'colsample_bylevel': 0.7, 'eta': 0.5, 'max_depth': 5, 'reg_alpha': 0.005, 'reg_lambda': 0.005, 'subsample': 0.7, 'min_child_weight': 1, 'gamma': 0.0}\n",
            "Grid search new best score discovered at iteration 1/1: 0.8229.\n",
            "---------- ----------\n",
            "XGBoost model score with monotonic constraints [1, -1, 1, -1, 0, 0, 0, -1, 1, 1]: 0.822935\n",
            "Grid search run 1/1:\n",
            "Training with parameters: {'booster': 'gbtree', 'eval_metric': 'auc', 'nthread': 4, 'objective': 'binary:logistic', 'seed': 12345, 'colsample_bytree': 0.9, 'colsample_bylevel': 0.7, 'eta': 0.5, 'max_depth': 5, 'reg_alpha': 0.005, 'reg_lambda': 0.005, 'subsample': 0.7, 'min_child_weight': 1, 'gamma': 0.0}\n",
            "Grid search new best score discovered at iteration 1/1: 0.8040.\n",
            "---------- ----------\n",
            "XGBoost model score with monotonic constraints [1, -1, 1, -1, 0, 0, 0, -1, 0, -1]: 0.803957\n",
            "Grid search run 1/1:\n",
            "Training with parameters: {'booster': 'gbtree', 'eval_metric': 'auc', 'nthread': 4, 'objective': 'binary:logistic', 'seed': 12345, 'colsample_bytree': 0.9, 'colsample_bylevel': 0.7, 'eta': 0.5, 'max_depth': 5, 'reg_alpha': 0.005, 'reg_lambda': 0.005, 'subsample': 0.7, 'min_child_weight': 1, 'gamma': 0.0}\n",
            "Grid search new best score discovered at iteration 1/1: 0.8241.\n",
            "---------- ----------\n",
            "XGBoost model score with monotonic constraints [1, -1, 1, -1, 0, 0, 0, -1, 0, 0]: 0.824076\n",
            "Monotone_constraints search new best score discovered with constraints [1, -1, 1, -1, 0, 0, 0, -1, 0, 0]: 0.824076\n",
            "\n",
            "Grid search run 1/1:\n",
            "Training with parameters: {'booster': 'gbtree', 'eval_metric': 'auc', 'nthread': 4, 'objective': 'binary:logistic', 'seed': 12345, 'colsample_bytree': 0.9, 'colsample_bylevel': 0.7, 'eta': 0.5, 'max_depth': 5, 'reg_alpha': 0.005, 'reg_lambda': 0.005, 'subsample': 0.7, 'min_child_weight': 1, 'gamma': 0.0}\n",
            "Grid search new best score discovered at iteration 1/1: 0.8230.\n",
            "---------- ----------\n",
            "XGBoost model score with monotonic constraints [1, -1, 1, -1, 0, 0, 0, -1, 0, 1]: 0.823049\n"
          ]
        }
      ]
    },
    {
      "cell_type": "markdown",
      "id": "a2d6e8e4",
      "metadata": {
        "id": "a2d6e8e4"
      },
      "source": [
        "#### Basic AUC assessment"
      ]
    },
    {
      "cell_type": "code",
      "execution_count": 44,
      "id": "3ce4a042",
      "metadata": {
        "colab": {
          "base_uri": "https://localhost:8080/"
        },
        "id": "3ce4a042",
        "outputId": "c3a6bfb6-271c-4fa8-e2c9-ad9171bc780d"
      },
      "outputs": [
        {
          "output_type": "stream",
          "name": "stdout",
          "text": [
            "Validation AUC: 0.8241.\n"
          ]
        }
      ],
      "source": [
        "print('Validation AUC: %.4f.' % best_mxgb.best_score)"
      ]
    },
    {
      "cell_type": "markdown",
      "id": "41e2db7a",
      "metadata": {
        "id": "41e2db7a"
      },
      "source": [
        "#### Score validation data with model"
      ]
    },
    {
      "cell_type": "code",
      "execution_count": 45,
      "id": "35b1471f",
      "metadata": {
        "colab": {
          "base_uri": "https://localhost:8080/",
          "height": 295
        },
        "id": "35b1471f",
        "outputId": "05ad4706-8212-474c-d1b6-d1dca41a942e"
      },
      "outputs": [
        {
          "output_type": "execute_result",
          "data": {
            "text/plain": [
              "   row_id  black  asian  white  amind  hipac  hispanic  non_hispanic  male  \\\n",
              "0       0    NaN    NaN    NaN    NaN    NaN       NaN           NaN   1.0   \n",
              "1       6    0.0    0.0    1.0    0.0    0.0       0.0           1.0   0.0   \n",
              "2       8    0.0    0.0    1.0    0.0    0.0       0.0           1.0   NaN   \n",
              "3      10    0.0    0.0    1.0    0.0    0.0       0.0           1.0   NaN   \n",
              "4      11    0.0    0.0    1.0    0.0    0.0       1.0           0.0   NaN   \n",
              "\n",
              "   female  ...  debt_to_income_ratio_missing  loan_amount_std  \\\n",
              "0     0.0  ...                             0        -0.514393   \n",
              "1     1.0  ...                             0        -0.426448   \n",
              "2     NaN  ...                             0         0.277109   \n",
              "3     NaN  ...                             0        -0.382476   \n",
              "4     NaN  ...                             0         0.101220   \n",
              "\n",
              "   loan_to_value_ratio_std  no_intro_rate_period_std  intro_rate_period_std  \\\n",
              "0                 0.333922                  0.244394              -0.215304   \n",
              "1                 0.355249                  0.244394              -0.215304   \n",
              "2                 0.142995                  0.244394              -0.215304   \n",
              "3                -0.240432                  0.244394              -0.215304   \n",
              "4                -0.266529                  0.244394              -0.215304   \n",
              "\n",
              "   property_value_std  income_std  debt_to_income_ratio_std  high_priced  \\\n",
              "0           -0.535932   -0.040307                  0.854601            0   \n",
              "1           -0.474263   -0.020904                  1.037419            0   \n",
              "2            0.111598   -0.019865                  0.031916            0   \n",
              "3           -0.320089   -0.028181                  0.946010            0   \n",
              "4            0.111598    0.016515                 -1.156406            0   \n",
              "\n",
              "       phat  \n",
              "0  0.178110  \n",
              "1  0.324576  \n",
              "2  0.026449  \n",
              "3  0.010695  \n",
              "4  0.003853  \n",
              "\n",
              "[5 rows x 24 columns]"
            ],
            "text/html": [
              "\n",
              "  <div id=\"df-50a782af-fe54-4056-abce-caab074f4b81\">\n",
              "    <div class=\"colab-df-container\">\n",
              "      <div>\n",
              "<style scoped>\n",
              "    .dataframe tbody tr th:only-of-type {\n",
              "        vertical-align: middle;\n",
              "    }\n",
              "\n",
              "    .dataframe tbody tr th {\n",
              "        vertical-align: top;\n",
              "    }\n",
              "\n",
              "    .dataframe thead th {\n",
              "        text-align: right;\n",
              "    }\n",
              "</style>\n",
              "<table border=\"1\" class=\"dataframe\">\n",
              "  <thead>\n",
              "    <tr style=\"text-align: right;\">\n",
              "      <th></th>\n",
              "      <th>row_id</th>\n",
              "      <th>black</th>\n",
              "      <th>asian</th>\n",
              "      <th>white</th>\n",
              "      <th>amind</th>\n",
              "      <th>hipac</th>\n",
              "      <th>hispanic</th>\n",
              "      <th>non_hispanic</th>\n",
              "      <th>male</th>\n",
              "      <th>female</th>\n",
              "      <th>...</th>\n",
              "      <th>debt_to_income_ratio_missing</th>\n",
              "      <th>loan_amount_std</th>\n",
              "      <th>loan_to_value_ratio_std</th>\n",
              "      <th>no_intro_rate_period_std</th>\n",
              "      <th>intro_rate_period_std</th>\n",
              "      <th>property_value_std</th>\n",
              "      <th>income_std</th>\n",
              "      <th>debt_to_income_ratio_std</th>\n",
              "      <th>high_priced</th>\n",
              "      <th>phat</th>\n",
              "    </tr>\n",
              "  </thead>\n",
              "  <tbody>\n",
              "    <tr>\n",
              "      <th>0</th>\n",
              "      <td>0</td>\n",
              "      <td>NaN</td>\n",
              "      <td>NaN</td>\n",
              "      <td>NaN</td>\n",
              "      <td>NaN</td>\n",
              "      <td>NaN</td>\n",
              "      <td>NaN</td>\n",
              "      <td>NaN</td>\n",
              "      <td>1.0</td>\n",
              "      <td>0.0</td>\n",
              "      <td>...</td>\n",
              "      <td>0</td>\n",
              "      <td>-0.514393</td>\n",
              "      <td>0.333922</td>\n",
              "      <td>0.244394</td>\n",
              "      <td>-0.215304</td>\n",
              "      <td>-0.535932</td>\n",
              "      <td>-0.040307</td>\n",
              "      <td>0.854601</td>\n",
              "      <td>0</td>\n",
              "      <td>0.178110</td>\n",
              "    </tr>\n",
              "    <tr>\n",
              "      <th>1</th>\n",
              "      <td>6</td>\n",
              "      <td>0.0</td>\n",
              "      <td>0.0</td>\n",
              "      <td>1.0</td>\n",
              "      <td>0.0</td>\n",
              "      <td>0.0</td>\n",
              "      <td>0.0</td>\n",
              "      <td>1.0</td>\n",
              "      <td>0.0</td>\n",
              "      <td>1.0</td>\n",
              "      <td>...</td>\n",
              "      <td>0</td>\n",
              "      <td>-0.426448</td>\n",
              "      <td>0.355249</td>\n",
              "      <td>0.244394</td>\n",
              "      <td>-0.215304</td>\n",
              "      <td>-0.474263</td>\n",
              "      <td>-0.020904</td>\n",
              "      <td>1.037419</td>\n",
              "      <td>0</td>\n",
              "      <td>0.324576</td>\n",
              "    </tr>\n",
              "    <tr>\n",
              "      <th>2</th>\n",
              "      <td>8</td>\n",
              "      <td>0.0</td>\n",
              "      <td>0.0</td>\n",
              "      <td>1.0</td>\n",
              "      <td>0.0</td>\n",
              "      <td>0.0</td>\n",
              "      <td>0.0</td>\n",
              "      <td>1.0</td>\n",
              "      <td>NaN</td>\n",
              "      <td>NaN</td>\n",
              "      <td>...</td>\n",
              "      <td>0</td>\n",
              "      <td>0.277109</td>\n",
              "      <td>0.142995</td>\n",
              "      <td>0.244394</td>\n",
              "      <td>-0.215304</td>\n",
              "      <td>0.111598</td>\n",
              "      <td>-0.019865</td>\n",
              "      <td>0.031916</td>\n",
              "      <td>0</td>\n",
              "      <td>0.026449</td>\n",
              "    </tr>\n",
              "    <tr>\n",
              "      <th>3</th>\n",
              "      <td>10</td>\n",
              "      <td>0.0</td>\n",
              "      <td>0.0</td>\n",
              "      <td>1.0</td>\n",
              "      <td>0.0</td>\n",
              "      <td>0.0</td>\n",
              "      <td>0.0</td>\n",
              "      <td>1.0</td>\n",
              "      <td>NaN</td>\n",
              "      <td>NaN</td>\n",
              "      <td>...</td>\n",
              "      <td>0</td>\n",
              "      <td>-0.382476</td>\n",
              "      <td>-0.240432</td>\n",
              "      <td>0.244394</td>\n",
              "      <td>-0.215304</td>\n",
              "      <td>-0.320089</td>\n",
              "      <td>-0.028181</td>\n",
              "      <td>0.946010</td>\n",
              "      <td>0</td>\n",
              "      <td>0.010695</td>\n",
              "    </tr>\n",
              "    <tr>\n",
              "      <th>4</th>\n",
              "      <td>11</td>\n",
              "      <td>0.0</td>\n",
              "      <td>0.0</td>\n",
              "      <td>1.0</td>\n",
              "      <td>0.0</td>\n",
              "      <td>0.0</td>\n",
              "      <td>1.0</td>\n",
              "      <td>0.0</td>\n",
              "      <td>NaN</td>\n",
              "      <td>NaN</td>\n",
              "      <td>...</td>\n",
              "      <td>0</td>\n",
              "      <td>0.101220</td>\n",
              "      <td>-0.266529</td>\n",
              "      <td>0.244394</td>\n",
              "      <td>-0.215304</td>\n",
              "      <td>0.111598</td>\n",
              "      <td>0.016515</td>\n",
              "      <td>-1.156406</td>\n",
              "      <td>0</td>\n",
              "      <td>0.003853</td>\n",
              "    </tr>\n",
              "  </tbody>\n",
              "</table>\n",
              "<p>5 rows × 24 columns</p>\n",
              "</div>\n",
              "      <button class=\"colab-df-convert\" onclick=\"convertToInteractive('df-50a782af-fe54-4056-abce-caab074f4b81')\"\n",
              "              title=\"Convert this dataframe to an interactive table.\"\n",
              "              style=\"display:none;\">\n",
              "        \n",
              "  <svg xmlns=\"http://www.w3.org/2000/svg\" height=\"24px\"viewBox=\"0 0 24 24\"\n",
              "       width=\"24px\">\n",
              "    <path d=\"M0 0h24v24H0V0z\" fill=\"none\"/>\n",
              "    <path d=\"M18.56 5.44l.94 2.06.94-2.06 2.06-.94-2.06-.94-.94-2.06-.94 2.06-2.06.94zm-11 1L8.5 8.5l.94-2.06 2.06-.94-2.06-.94L8.5 2.5l-.94 2.06-2.06.94zm10 10l.94 2.06.94-2.06 2.06-.94-2.06-.94-.94-2.06-.94 2.06-2.06.94z\"/><path d=\"M17.41 7.96l-1.37-1.37c-.4-.4-.92-.59-1.43-.59-.52 0-1.04.2-1.43.59L10.3 9.45l-7.72 7.72c-.78.78-.78 2.05 0 2.83L4 21.41c.39.39.9.59 1.41.59.51 0 1.02-.2 1.41-.59l7.78-7.78 2.81-2.81c.8-.78.8-2.07 0-2.86zM5.41 20L4 18.59l7.72-7.72 1.47 1.35L5.41 20z\"/>\n",
              "  </svg>\n",
              "      </button>\n",
              "      \n",
              "  <style>\n",
              "    .colab-df-container {\n",
              "      display:flex;\n",
              "      flex-wrap:wrap;\n",
              "      gap: 12px;\n",
              "    }\n",
              "\n",
              "    .colab-df-convert {\n",
              "      background-color: #E8F0FE;\n",
              "      border: none;\n",
              "      border-radius: 50%;\n",
              "      cursor: pointer;\n",
              "      display: none;\n",
              "      fill: #1967D2;\n",
              "      height: 32px;\n",
              "      padding: 0 0 0 0;\n",
              "      width: 32px;\n",
              "    }\n",
              "\n",
              "    .colab-df-convert:hover {\n",
              "      background-color: #E2EBFA;\n",
              "      box-shadow: 0px 1px 2px rgba(60, 64, 67, 0.3), 0px 1px 3px 1px rgba(60, 64, 67, 0.15);\n",
              "      fill: #174EA6;\n",
              "    }\n",
              "\n",
              "    [theme=dark] .colab-df-convert {\n",
              "      background-color: #3B4455;\n",
              "      fill: #D2E3FC;\n",
              "    }\n",
              "\n",
              "    [theme=dark] .colab-df-convert:hover {\n",
              "      background-color: #434B5C;\n",
              "      box-shadow: 0px 1px 3px 1px rgba(0, 0, 0, 0.15);\n",
              "      filter: drop-shadow(0px 1px 2px rgba(0, 0, 0, 0.3));\n",
              "      fill: #FFFFFF;\n",
              "    }\n",
              "  </style>\n",
              "\n",
              "      <script>\n",
              "        const buttonEl =\n",
              "          document.querySelector('#df-50a782af-fe54-4056-abce-caab074f4b81 button.colab-df-convert');\n",
              "        buttonEl.style.display =\n",
              "          google.colab.kernel.accessAllowed ? 'block' : 'none';\n",
              "\n",
              "        async function convertToInteractive(key) {\n",
              "          const element = document.querySelector('#df-50a782af-fe54-4056-abce-caab074f4b81');\n",
              "          const dataTable =\n",
              "            await google.colab.kernel.invokeFunction('convertToInteractive',\n",
              "                                                     [key], {});\n",
              "          if (!dataTable) return;\n",
              "\n",
              "          const docLinkHtml = 'Like what you see? Visit the ' +\n",
              "            '<a target=\"_blank\" href=https://colab.research.google.com/notebooks/data_table.ipynb>data table notebook</a>'\n",
              "            + ' to learn more about interactive tables.';\n",
              "          element.innerHTML = '';\n",
              "          dataTable['output_type'] = 'display_data';\n",
              "          await google.colab.output.renderOutput(dataTable, element);\n",
              "          const docLink = document.createElement('div');\n",
              "          docLink.innerHTML = docLinkHtml;\n",
              "          element.appendChild(docLink);\n",
              "        }\n",
              "      </script>\n",
              "    </div>\n",
              "  </div>\n",
              "  "
            ]
          },
          "metadata": {},
          "execution_count": 45
        }
      ],
      "source": [
        "best_mxgb_phat = pd.DataFrame(best_mxgb.predict(dvalid, iteration_range=(0, best_mxgb.best_ntree_limit)), columns=['phat']) \n",
        "best_mxgb_phat = pd.concat([valid.reset_index(drop=True), best_mxgb_phat], axis=1)\n",
        "best_mxgb_phat.head()"
      ]
    },
    {
      "cell_type": "markdown",
      "id": "46240920",
      "metadata": {
        "id": "46240920"
      },
      "source": [
        "#### Select percentiles from predictions"
      ]
    },
    {
      "cell_type": "code",
      "execution_count": 46,
      "id": "43f86448",
      "metadata": {
        "colab": {
          "base_uri": "https://localhost:8080/"
        },
        "id": "43f86448",
        "outputId": "1e634cee-6243-474f-e914-5f5b416f17c0"
      },
      "outputs": [
        {
          "output_type": "stream",
          "name": "stdout",
          "text": [
            "0: 22540\n",
            "10: 132371\n",
            "20: 21092\n",
            "30: 28874\n",
            "40: 68732\n",
            "50: 78883\n",
            "60: 158506\n",
            "70: 85219\n",
            "80: 83405\n",
            "90: 35260\n",
            "99: 80235\n"
          ]
        }
      ],
      "source": [
        "best_mxgb_percentiles = get_percentile_dict('phat', best_mxgb_phat, 'row_id')\n",
        "for key in sorted(best_mxgb_percentiles.keys()):\n",
        "    print(str(key) + ': ' + str(best_mxgb_percentiles[key]))"
      ]
    },
    {
      "cell_type": "markdown",
      "id": "ce75e163",
      "metadata": {
        "id": "ce75e163"
      },
      "source": [
        "#### Calculate Shapley values"
      ]
    },
    {
      "cell_type": "code",
      "execution_count": 47,
      "id": "9ccd4bbb",
      "metadata": {
        "id": "9ccd4bbb"
      },
      "outputs": [],
      "source": [
        "shapley_contribs = best_mxgb.predict(dvalid, pred_contribs=True, iteration_range=(0, best_mxgb.best_ntree_limit))"
      ]
    },
    {
      "cell_type": "markdown",
      "id": "c14f8858",
      "metadata": {
        "id": "c14f8858"
      },
      "source": [
        "#### Collect global feature importance info"
      ]
    },
    {
      "cell_type": "code",
      "execution_count": 57,
      "id": "2598eaa8",
      "metadata": {
        "id": "2598eaa8"
      },
      "outputs": [],
      "source": [
        "# use mean abs SHAP as feature importance\n",
        "shapley_contribs_df = pd.DataFrame(shapley_contribs, columns=x_names + ['intercept'])\n",
        "global_fi['MXGB Importance'] = np.abs(shapley_contribs_df.drop('intercept', axis=1)).mean()"
      ]
    },
    {
      "cell_type": "markdown",
      "id": "fde7fa11",
      "metadata": {
        "id": "fde7fa11"
      },
      "source": [
        "#### Collect local feature importance info"
      ]
    },
    {
      "cell_type": "code",
      "execution_count": 58,
      "id": "012809ab",
      "metadata": {
        "id": "012809ab"
      },
      "outputs": [],
      "source": [
        "# create mapping between validation row_id and Shapely array index values\n",
        "valid_idx_map = valid['row_id'].copy(deep=True)\n",
        "valid_idx_map.reset_index(drop=True, inplace=True)\n",
        "\n",
        "# collect SHAP values at three percentiles of phat\n",
        "for percentile in [10, 50, 90]:\n",
        "\n",
        "    # using valid_idx_map and percentiles dict\n",
        "    # to find the right local contributions\n",
        "    idx = valid_idx_map[valid_idx_map == int(best_mxgb_percentiles[percentile])].index[0]\n",
        "    s_df = pd.DataFrame(shapley_contribs[idx, :-1].T, columns=['MXGB Contribution'], index=x_names)\n",
        "    local_fi_dict[percentile]['MXGB Contribution'] = 0\n",
        "    local_fi_dict[percentile].update(s_df)"
      ]
    },
    {
      "cell_type": "markdown",
      "id": "348b7fb0",
      "metadata": {
        "id": "348b7fb0"
      },
      "source": [
        "### Explainable Boosting Machine"
      ]
    },
    {
      "cell_type": "markdown",
      "id": "223b7489",
      "metadata": {
        "id": "223b7489"
      },
      "source": [
        "#### Define utility function for random grid search"
      ]
    },
    {
      "cell_type": "code",
      "execution_count": 59,
      "id": "9da92af1",
      "metadata": {
        "id": "9da92af1"
      },
      "outputs": [],
      "source": [
        "def ebm_grid(train, valid, x_names, y_name, gs_params=None, n_models=None, early_stopping_rounds=None, seed=None):\n",
        "    \n",
        "    \"\"\" Performs a random grid search over n_models and gs_params.\n",
        "\n",
        "    :param train: Training data as Pandas DataFrame.\n",
        "    :param valid: Validation data as Pandas DataFrame.\n",
        "    :param x_names: Names of input features.\n",
        "    :param y_name: Name of target feature.\n",
        "    :param gs_params: Dictionary of lists of potential EBM parameters over which to search.   \n",
        "    :param n_models: Number of random models to evaluate.\n",
        "    :param early_stopping_rounds: EBM early stopping rounds.\n",
        "    :param seed: Random seed for better interpretability.\n",
        "    :return: Best candidate model from random grid search.\n",
        "\n",
        "    \"\"\"\n",
        "\n",
        "    # cartesian product of gs_params\n",
        "    keys, values = zip(*gs_params.items())\n",
        "    experiments = [dict(zip(keys, v)) for v in itertools.product(*values)]\n",
        "\n",
        "    # preserve exact reproducibility for this function\n",
        "    np.random.seed(SEED) \n",
        "    \n",
        "    # select randomly from cartesian product space\n",
        "    selected_experiments = np.random.choice(len(experiments), n_models)\n",
        "\n",
        "    # set global params for seed, etc.\n",
        "    params = {'n_jobs': NTHREAD,\n",
        "              'early_stopping_rounds': early_stopping_rounds, \n",
        "              'random_state': SEED}\n",
        "\n",
        "    # init grid search loop\n",
        "    best_candidate = None\n",
        "    best_score = 0\n",
        "\n",
        "    # grid search loop\n",
        "    for i, exp in enumerate(selected_experiments):\n",
        "\n",
        "        params.update(experiments[exp])  # override global params with current grid run params\n",
        "\n",
        "        print('Grid search run %d/%d:' % (int(i + 1), int(n_models)))\n",
        "        print('Training with parameters:', params)\n",
        "        \n",
        "        # train \n",
        "        ebm = ExplainableBoostingClassifier(**params)\n",
        "        candidate = ebm.fit(train[x_names], train[y_name]) \n",
        "        \n",
        "        # calculate AUC\n",
        "        ebm_perf = ROC(ebm.predict_proba).explain_perf(valid[x_names], valid[y_name])\n",
        "        candidate_best_score = ebm_perf._internal_obj['overall']['auc']\n",
        "    \n",
        "        # determine if current model is better than previous best\n",
        "        if candidate_best_score > best_score:\n",
        "            best_candidate = candidate\n",
        "            best_score = candidate_best_score\n",
        "            print('Grid search new best score discovered at iteration %d/%d: %.4f.' %\n",
        "                             (int(i + 1), int(n_models), candidate_best_score))\n",
        "\n",
        "        print('---------- ----------')\n",
        "        \n",
        "        del ebm\n",
        "            \n",
        "    return best_candidate"
      ]
    },
    {
      "cell_type": "markdown",
      "id": "2aee422c",
      "metadata": {
        "id": "2aee422c"
      },
      "source": [
        "#### Fit EBM with random grid search"
      ]
    },
    {
      "cell_type": "code",
      "execution_count": 60,
      "id": "f8e7edc7",
      "metadata": {
        "scrolled": true,
        "colab": {
          "base_uri": "https://localhost:8080/"
        },
        "id": "f8e7edc7",
        "outputId": "7602049d-c6fb-44ed-a91f-445bfb150aa2"
      },
      "outputs": [
        {
          "output_type": "stream",
          "name": "stdout",
          "text": [
            "Grid search run 1/5:\n",
            "Training with parameters: {'n_jobs': 4, 'early_stopping_rounds': 100, 'random_state': 12345, 'max_bins': 512, 'max_interaction_bins': 16, 'interactions': 5, 'outer_bags': 4, 'inner_bags': 0, 'learning_rate': 0.05, 'validation_size': 0.25, 'min_samples_leaf': 1, 'max_leaves': 3}\n",
            "Grid search new best score discovered at iteration 1/5: 0.8215.\n",
            "---------- ----------\n",
            "Grid search run 2/5:\n",
            "Training with parameters: {'n_jobs': 4, 'early_stopping_rounds': 100, 'random_state': 12345, 'max_bins': 128, 'max_interaction_bins': 32, 'interactions': 5, 'outer_bags': 8, 'inner_bags': 0, 'learning_rate': 0.001, 'validation_size': 0.25, 'min_samples_leaf': 2, 'max_leaves': 5}\n",
            "---------- ----------\n",
            "Grid search run 3/5:\n",
            "Training with parameters: {'n_jobs': 4, 'early_stopping_rounds': 100, 'random_state': 12345, 'max_bins': 512, 'max_interaction_bins': 16, 'interactions': 5, 'outer_bags': 4, 'inner_bags': 0, 'learning_rate': 0.001, 'validation_size': 0.5, 'min_samples_leaf': 1, 'max_leaves': 3}\n",
            "---------- ----------\n",
            "Grid search run 4/5:\n",
            "Training with parameters: {'n_jobs': 4, 'early_stopping_rounds': 100, 'random_state': 12345, 'max_bins': 128, 'max_interaction_bins': 64, 'interactions': 5, 'outer_bags': 4, 'inner_bags': 4, 'learning_rate': 0.05, 'validation_size': 0.5, 'min_samples_leaf': 1, 'max_leaves': 5}\n",
            "---------- ----------\n",
            "Grid search run 5/5:\n",
            "Training with parameters: {'n_jobs': 4, 'early_stopping_rounds': 100, 'random_state': 12345, 'max_bins': 512, 'max_interaction_bins': 64, 'interactions': 15, 'outer_bags': 4, 'inner_bags': 0, 'learning_rate': 0.05, 'validation_size': 0.1, 'min_samples_leaf': 10, 'max_leaves': 3}\n",
            "Grid search new best score discovered at iteration 5/5: 0.8249.\n",
            "---------- ----------\n",
            "EBM training completed in 514.65 s.\n"
          ]
        }
      ],
      "source": [
        "# dictionary of hyperparameter value lists for grid search\n",
        "gs_params = {'max_bins': [128, 256, 512],\n",
        "             'max_interaction_bins': [16, 32, 64],\n",
        "             'interactions': [5, 10, 15],\n",
        "             'outer_bags': [4, 8, 12], \n",
        "             'inner_bags': [0, 4],\n",
        "             'learning_rate': [0.001, 0.01, 0.05],\n",
        "             'validation_size': [0.1, 0.25, 0.5],\n",
        "             'min_samples_leaf': [1, 2, 5, 10],\n",
        "             'max_leaves': [1, 3, 5]}\n",
        "\n",
        "# start local timer\n",
        "ebm_tic = time.time()\n",
        "\n",
        "# EBM grid search\n",
        "best_ebm = ebm_grid(train, valid, x_names, y_name, gs_params=gs_params, n_models=5, \n",
        "                    early_stopping_rounds=100, seed=SEED)\n",
        "\n",
        "# end local timer\n",
        "ebm_toc = time.time() - ebm_tic\n",
        "print('EBM training completed in %.2f s.' % (ebm_toc))"
      ]
    },
    {
      "cell_type": "markdown",
      "id": "0248d5c2",
      "metadata": {
        "id": "0248d5c2"
      },
      "source": [
        "#### Basic AUC assessment"
      ]
    },
    {
      "cell_type": "code",
      "execution_count": 61,
      "id": "cd8c96fb",
      "metadata": {
        "colab": {
          "base_uri": "https://localhost:8080/"
        },
        "id": "cd8c96fb",
        "outputId": "2fc4ef6e-af1e-4640-d83f-f4ae891074f4"
      },
      "outputs": [
        {
          "output_type": "stream",
          "name": "stdout",
          "text": [
            "Validation AUC: 0.8249.\n"
          ]
        }
      ],
      "source": [
        "best_ebm_perf = ROC(best_ebm.predict_proba).explain_perf(valid[x_names], valid[y_name])\n",
        "print('Validation AUC: %.4f.' % best_ebm_perf._internal_obj['overall']['auc'])"
      ]
    },
    {
      "cell_type": "markdown",
      "id": "e2814a0a",
      "metadata": {
        "id": "e2814a0a"
      },
      "source": [
        "#### Score validation data with model"
      ]
    },
    {
      "cell_type": "code",
      "execution_count": 62,
      "id": "5f39bae7",
      "metadata": {
        "colab": {
          "base_uri": "https://localhost:8080/",
          "height": 0
        },
        "id": "5f39bae7",
        "outputId": "37e8107a-f340-4cc5-968b-4dbaa9314a6f"
      },
      "outputs": [
        {
          "output_type": "execute_result",
          "data": {
            "text/plain": [
              "   row_id  black  asian  white  amind  hipac  hispanic  non_hispanic  male  \\\n",
              "0       0    NaN    NaN    NaN    NaN    NaN       NaN           NaN   1.0   \n",
              "1       6    0.0    0.0    1.0    0.0    0.0       0.0           1.0   0.0   \n",
              "2       8    0.0    0.0    1.0    0.0    0.0       0.0           1.0   NaN   \n",
              "3      10    0.0    0.0    1.0    0.0    0.0       0.0           1.0   NaN   \n",
              "4      11    0.0    0.0    1.0    0.0    0.0       1.0           0.0   NaN   \n",
              "\n",
              "   female  ...  debt_to_income_ratio_missing  loan_amount_std  \\\n",
              "0     0.0  ...                             0        -0.514393   \n",
              "1     1.0  ...                             0        -0.426448   \n",
              "2     NaN  ...                             0         0.277109   \n",
              "3     NaN  ...                             0        -0.382476   \n",
              "4     NaN  ...                             0         0.101220   \n",
              "\n",
              "   loan_to_value_ratio_std  no_intro_rate_period_std  intro_rate_period_std  \\\n",
              "0                 0.333922                  0.244394              -0.215304   \n",
              "1                 0.355249                  0.244394              -0.215304   \n",
              "2                 0.142995                  0.244394              -0.215304   \n",
              "3                -0.240432                  0.244394              -0.215304   \n",
              "4                -0.266529                  0.244394              -0.215304   \n",
              "\n",
              "   property_value_std  income_std  debt_to_income_ratio_std  high_priced  \\\n",
              "0           -0.535932   -0.040307                  0.854601            0   \n",
              "1           -0.474263   -0.020904                  1.037419            0   \n",
              "2            0.111598   -0.019865                  0.031916            0   \n",
              "3           -0.320089   -0.028181                  0.946010            0   \n",
              "4            0.111598    0.016515                 -1.156406            0   \n",
              "\n",
              "       phat  \n",
              "0  0.171311  \n",
              "1  0.323608  \n",
              "2  0.023545  \n",
              "3  0.016156  \n",
              "4  0.004101  \n",
              "\n",
              "[5 rows x 24 columns]"
            ],
            "text/html": [
              "\n",
              "  <div id=\"df-07db644d-57f1-41b0-820e-eecbcd9db37e\">\n",
              "    <div class=\"colab-df-container\">\n",
              "      <div>\n",
              "<style scoped>\n",
              "    .dataframe tbody tr th:only-of-type {\n",
              "        vertical-align: middle;\n",
              "    }\n",
              "\n",
              "    .dataframe tbody tr th {\n",
              "        vertical-align: top;\n",
              "    }\n",
              "\n",
              "    .dataframe thead th {\n",
              "        text-align: right;\n",
              "    }\n",
              "</style>\n",
              "<table border=\"1\" class=\"dataframe\">\n",
              "  <thead>\n",
              "    <tr style=\"text-align: right;\">\n",
              "      <th></th>\n",
              "      <th>row_id</th>\n",
              "      <th>black</th>\n",
              "      <th>asian</th>\n",
              "      <th>white</th>\n",
              "      <th>amind</th>\n",
              "      <th>hipac</th>\n",
              "      <th>hispanic</th>\n",
              "      <th>non_hispanic</th>\n",
              "      <th>male</th>\n",
              "      <th>female</th>\n",
              "      <th>...</th>\n",
              "      <th>debt_to_income_ratio_missing</th>\n",
              "      <th>loan_amount_std</th>\n",
              "      <th>loan_to_value_ratio_std</th>\n",
              "      <th>no_intro_rate_period_std</th>\n",
              "      <th>intro_rate_period_std</th>\n",
              "      <th>property_value_std</th>\n",
              "      <th>income_std</th>\n",
              "      <th>debt_to_income_ratio_std</th>\n",
              "      <th>high_priced</th>\n",
              "      <th>phat</th>\n",
              "    </tr>\n",
              "  </thead>\n",
              "  <tbody>\n",
              "    <tr>\n",
              "      <th>0</th>\n",
              "      <td>0</td>\n",
              "      <td>NaN</td>\n",
              "      <td>NaN</td>\n",
              "      <td>NaN</td>\n",
              "      <td>NaN</td>\n",
              "      <td>NaN</td>\n",
              "      <td>NaN</td>\n",
              "      <td>NaN</td>\n",
              "      <td>1.0</td>\n",
              "      <td>0.0</td>\n",
              "      <td>...</td>\n",
              "      <td>0</td>\n",
              "      <td>-0.514393</td>\n",
              "      <td>0.333922</td>\n",
              "      <td>0.244394</td>\n",
              "      <td>-0.215304</td>\n",
              "      <td>-0.535932</td>\n",
              "      <td>-0.040307</td>\n",
              "      <td>0.854601</td>\n",
              "      <td>0</td>\n",
              "      <td>0.171311</td>\n",
              "    </tr>\n",
              "    <tr>\n",
              "      <th>1</th>\n",
              "      <td>6</td>\n",
              "      <td>0.0</td>\n",
              "      <td>0.0</td>\n",
              "      <td>1.0</td>\n",
              "      <td>0.0</td>\n",
              "      <td>0.0</td>\n",
              "      <td>0.0</td>\n",
              "      <td>1.0</td>\n",
              "      <td>0.0</td>\n",
              "      <td>1.0</td>\n",
              "      <td>...</td>\n",
              "      <td>0</td>\n",
              "      <td>-0.426448</td>\n",
              "      <td>0.355249</td>\n",
              "      <td>0.244394</td>\n",
              "      <td>-0.215304</td>\n",
              "      <td>-0.474263</td>\n",
              "      <td>-0.020904</td>\n",
              "      <td>1.037419</td>\n",
              "      <td>0</td>\n",
              "      <td>0.323608</td>\n",
              "    </tr>\n",
              "    <tr>\n",
              "      <th>2</th>\n",
              "      <td>8</td>\n",
              "      <td>0.0</td>\n",
              "      <td>0.0</td>\n",
              "      <td>1.0</td>\n",
              "      <td>0.0</td>\n",
              "      <td>0.0</td>\n",
              "      <td>0.0</td>\n",
              "      <td>1.0</td>\n",
              "      <td>NaN</td>\n",
              "      <td>NaN</td>\n",
              "      <td>...</td>\n",
              "      <td>0</td>\n",
              "      <td>0.277109</td>\n",
              "      <td>0.142995</td>\n",
              "      <td>0.244394</td>\n",
              "      <td>-0.215304</td>\n",
              "      <td>0.111598</td>\n",
              "      <td>-0.019865</td>\n",
              "      <td>0.031916</td>\n",
              "      <td>0</td>\n",
              "      <td>0.023545</td>\n",
              "    </tr>\n",
              "    <tr>\n",
              "      <th>3</th>\n",
              "      <td>10</td>\n",
              "      <td>0.0</td>\n",
              "      <td>0.0</td>\n",
              "      <td>1.0</td>\n",
              "      <td>0.0</td>\n",
              "      <td>0.0</td>\n",
              "      <td>0.0</td>\n",
              "      <td>1.0</td>\n",
              "      <td>NaN</td>\n",
              "      <td>NaN</td>\n",
              "      <td>...</td>\n",
              "      <td>0</td>\n",
              "      <td>-0.382476</td>\n",
              "      <td>-0.240432</td>\n",
              "      <td>0.244394</td>\n",
              "      <td>-0.215304</td>\n",
              "      <td>-0.320089</td>\n",
              "      <td>-0.028181</td>\n",
              "      <td>0.946010</td>\n",
              "      <td>0</td>\n",
              "      <td>0.016156</td>\n",
              "    </tr>\n",
              "    <tr>\n",
              "      <th>4</th>\n",
              "      <td>11</td>\n",
              "      <td>0.0</td>\n",
              "      <td>0.0</td>\n",
              "      <td>1.0</td>\n",
              "      <td>0.0</td>\n",
              "      <td>0.0</td>\n",
              "      <td>1.0</td>\n",
              "      <td>0.0</td>\n",
              "      <td>NaN</td>\n",
              "      <td>NaN</td>\n",
              "      <td>...</td>\n",
              "      <td>0</td>\n",
              "      <td>0.101220</td>\n",
              "      <td>-0.266529</td>\n",
              "      <td>0.244394</td>\n",
              "      <td>-0.215304</td>\n",
              "      <td>0.111598</td>\n",
              "      <td>0.016515</td>\n",
              "      <td>-1.156406</td>\n",
              "      <td>0</td>\n",
              "      <td>0.004101</td>\n",
              "    </tr>\n",
              "  </tbody>\n",
              "</table>\n",
              "<p>5 rows × 24 columns</p>\n",
              "</div>\n",
              "      <button class=\"colab-df-convert\" onclick=\"convertToInteractive('df-07db644d-57f1-41b0-820e-eecbcd9db37e')\"\n",
              "              title=\"Convert this dataframe to an interactive table.\"\n",
              "              style=\"display:none;\">\n",
              "        \n",
              "  <svg xmlns=\"http://www.w3.org/2000/svg\" height=\"24px\"viewBox=\"0 0 24 24\"\n",
              "       width=\"24px\">\n",
              "    <path d=\"M0 0h24v24H0V0z\" fill=\"none\"/>\n",
              "    <path d=\"M18.56 5.44l.94 2.06.94-2.06 2.06-.94-2.06-.94-.94-2.06-.94 2.06-2.06.94zm-11 1L8.5 8.5l.94-2.06 2.06-.94-2.06-.94L8.5 2.5l-.94 2.06-2.06.94zm10 10l.94 2.06.94-2.06 2.06-.94-2.06-.94-.94-2.06-.94 2.06-2.06.94z\"/><path d=\"M17.41 7.96l-1.37-1.37c-.4-.4-.92-.59-1.43-.59-.52 0-1.04.2-1.43.59L10.3 9.45l-7.72 7.72c-.78.78-.78 2.05 0 2.83L4 21.41c.39.39.9.59 1.41.59.51 0 1.02-.2 1.41-.59l7.78-7.78 2.81-2.81c.8-.78.8-2.07 0-2.86zM5.41 20L4 18.59l7.72-7.72 1.47 1.35L5.41 20z\"/>\n",
              "  </svg>\n",
              "      </button>\n",
              "      \n",
              "  <style>\n",
              "    .colab-df-container {\n",
              "      display:flex;\n",
              "      flex-wrap:wrap;\n",
              "      gap: 12px;\n",
              "    }\n",
              "\n",
              "    .colab-df-convert {\n",
              "      background-color: #E8F0FE;\n",
              "      border: none;\n",
              "      border-radius: 50%;\n",
              "      cursor: pointer;\n",
              "      display: none;\n",
              "      fill: #1967D2;\n",
              "      height: 32px;\n",
              "      padding: 0 0 0 0;\n",
              "      width: 32px;\n",
              "    }\n",
              "\n",
              "    .colab-df-convert:hover {\n",
              "      background-color: #E2EBFA;\n",
              "      box-shadow: 0px 1px 2px rgba(60, 64, 67, 0.3), 0px 1px 3px 1px rgba(60, 64, 67, 0.15);\n",
              "      fill: #174EA6;\n",
              "    }\n",
              "\n",
              "    [theme=dark] .colab-df-convert {\n",
              "      background-color: #3B4455;\n",
              "      fill: #D2E3FC;\n",
              "    }\n",
              "\n",
              "    [theme=dark] .colab-df-convert:hover {\n",
              "      background-color: #434B5C;\n",
              "      box-shadow: 0px 1px 3px 1px rgba(0, 0, 0, 0.15);\n",
              "      filter: drop-shadow(0px 1px 2px rgba(0, 0, 0, 0.3));\n",
              "      fill: #FFFFFF;\n",
              "    }\n",
              "  </style>\n",
              "\n",
              "      <script>\n",
              "        const buttonEl =\n",
              "          document.querySelector('#df-07db644d-57f1-41b0-820e-eecbcd9db37e button.colab-df-convert');\n",
              "        buttonEl.style.display =\n",
              "          google.colab.kernel.accessAllowed ? 'block' : 'none';\n",
              "\n",
              "        async function convertToInteractive(key) {\n",
              "          const element = document.querySelector('#df-07db644d-57f1-41b0-820e-eecbcd9db37e');\n",
              "          const dataTable =\n",
              "            await google.colab.kernel.invokeFunction('convertToInteractive',\n",
              "                                                     [key], {});\n",
              "          if (!dataTable) return;\n",
              "\n",
              "          const docLinkHtml = 'Like what you see? Visit the ' +\n",
              "            '<a target=\"_blank\" href=https://colab.research.google.com/notebooks/data_table.ipynb>data table notebook</a>'\n",
              "            + ' to learn more about interactive tables.';\n",
              "          element.innerHTML = '';\n",
              "          dataTable['output_type'] = 'display_data';\n",
              "          await google.colab.output.renderOutput(dataTable, element);\n",
              "          const docLink = document.createElement('div');\n",
              "          docLink.innerHTML = docLinkHtml;\n",
              "          element.appendChild(docLink);\n",
              "        }\n",
              "      </script>\n",
              "    </div>\n",
              "  </div>\n",
              "  "
            ]
          },
          "metadata": {},
          "execution_count": 62
        }
      ],
      "source": [
        "best_ebm_phat = pd.DataFrame(best_ebm.predict_proba(valid[x_names])[:, 1], columns=['phat']) \n",
        "best_ebm_phat = pd.concat([valid.reset_index(drop=True), best_ebm_phat], axis=1)\n",
        "best_ebm_phat.head()"
      ]
    },
    {
      "cell_type": "markdown",
      "id": "81fcf191",
      "metadata": {
        "id": "81fcf191"
      },
      "source": [
        "#### Select percentiles from predictions"
      ]
    },
    {
      "cell_type": "code",
      "execution_count": 63,
      "id": "0cb9c8a4",
      "metadata": {
        "colab": {
          "base_uri": "https://localhost:8080/"
        },
        "id": "0cb9c8a4",
        "outputId": "fc9b96e0-e93b-4c3a-d91e-896985385184"
      },
      "outputs": [
        {
          "output_type": "stream",
          "name": "stdout",
          "text": [
            "0: 112323\n",
            "10: 143152\n",
            "20: 144032\n",
            "30: 138131\n",
            "40: 113514\n",
            "50: 80162\n",
            "60: 138050\n",
            "70: 144678\n",
            "80: 6501\n",
            "90: 36383\n",
            "99: 33940\n"
          ]
        }
      ],
      "source": [
        "best_ebm_percentiles = get_percentile_dict('phat', best_ebm_phat, 'row_id')\n",
        "for key in sorted(best_ebm_percentiles.keys()):\n",
        "    print(str(key) + ': ' + str(best_ebm_percentiles[key]))"
      ]
    },
    {
      "cell_type": "markdown",
      "id": "578ae05a",
      "metadata": {
        "id": "578ae05a"
      },
      "source": [
        "#### Calculate EBM contributions"
      ]
    },
    {
      "cell_type": "code",
      "execution_count": 64,
      "id": "0361a520",
      "metadata": {
        "colab": {
          "base_uri": "https://localhost:8080/"
        },
        "id": "0361a520",
        "outputId": "821b1d73-2828-4e8e-d357-5843d9e26388"
      },
      "outputs": [
        {
          "output_type": "stream",
          "name": "stdout",
          "text": [
            "EBM contributions collected in 111.79 s.\n"
          ]
        }
      ],
      "source": [
        "# start local timer\n",
        "ebm_tic = time.time()\n",
        "\n",
        "# use EBM feature scores as local importance\n",
        "# use mean abs score as global importance\n",
        "best_ebm_contribs = best_ebm.explain_local(valid[x_names])\n",
        "names = best_ebm_contribs._internal_obj['specific'][0]['names']\n",
        "best_ebm_contribs_df = pd.DataFrame(columns=names)\n",
        "\n",
        "# extract scores from insane _internal_obj\n",
        "# new versions just have predict_and_explain() function\n",
        "# use that if you can\n",
        "for i in range(0, valid.shape[0]):\n",
        "    row_df = pd.DataFrame(np.array(best_ebm_contribs._internal_obj['specific'][i]['scores']).reshape(1, 25), columns=names)\n",
        "    best_ebm_contribs_df = best_ebm_contribs_df.append(row_df, ignore_index=True)\n",
        "    del row_df\n",
        "    \n",
        "# end local timer\n",
        "ebm_toc = time.time() - ebm_tic\n",
        "print('EBM contributions collected in %.2f s.' % (ebm_toc))"
      ]
    },
    {
      "cell_type": "markdown",
      "id": "2c511f54",
      "metadata": {
        "id": "2c511f54"
      },
      "source": [
        "#### Collect global feature importance info"
      ]
    },
    {
      "cell_type": "code",
      "execution_count": 65,
      "id": "bac63974",
      "metadata": {
        "id": "bac63974"
      },
      "outputs": [],
      "source": [
        "global_fi['EBM Importance'] = np.abs(best_ebm_contribs_df).mean()"
      ]
    },
    {
      "cell_type": "markdown",
      "id": "d1561ff1",
      "metadata": {
        "id": "d1561ff1"
      },
      "source": [
        "#### Collect local feature importance info"
      ]
    },
    {
      "cell_type": "code",
      "execution_count": 66,
      "id": "4b3d79ea",
      "metadata": {
        "id": "4b3d79ea"
      },
      "outputs": [],
      "source": [
        "# extract scores at three percentiles of phat\n",
        "for percentile in [10, 50, 90]:\n",
        " \n",
        "    # using valid_idx_map and percentiles dict\n",
        "    # to find the right local contributions\n",
        "    idx = valid_idx_map[valid_idx_map == int(best_ebm_percentiles[percentile])].index[0]\n",
        "    s_df = best_ebm_contribs_df.iloc[idx, :len(x_names)].T\n",
        "    s_df.columns = ['EBM Contribution']\n",
        "    local_fi_dict[percentile]['EBM Contribution'] = s_df"
      ]
    },
    {
      "cell_type": "markdown",
      "id": "ce209310",
      "metadata": {
        "id": "ce209310"
      },
      "source": [
        "## Analyze feature importance"
      ]
    },
    {
      "cell_type": "markdown",
      "id": "7bc90e28",
      "metadata": {
        "id": "7bc90e28"
      },
      "source": [
        "#### Compare global feature importance across models"
      ]
    },
    {
      "cell_type": "code",
      "execution_count": 67,
      "id": "ff43a195",
      "metadata": {
        "colab": {
          "base_uri": "https://localhost:8080/",
          "height": 393
        },
        "id": "ff43a195",
        "outputId": "cbf463e0-28b1-4e85-d292-61abe3500a60"
      },
      "outputs": [
        {
          "output_type": "display_data",
          "data": {
            "text/plain": [
              "<Figure size 432x288 with 3 Axes>"
            ],
            "image/png": "[encoded data removed]"
          },
          "metadata": {
            "needs_background": "light"
          }
        }
      ],
      "source": [
        "# init 3-pane plot \n",
        "fig, (ax0, ax1, ax2) = plt.subplots(ncols=3)\n",
        "plt.tight_layout()\n",
        "plt.subplots_adjust(left=0, right=2.2, wspace=0.2)\n",
        "\n",
        "# plot global FI across three panes\n",
        "_ = global_fi['GLM Importance'].plot(kind='bar', ax=ax0, title='Best GLM Feature Importance')\n",
        "_ = global_fi['MXGB Importance'].plot(kind='bar', ax=ax1, title='Best MXGB Feature Importance')\n",
        "_ = global_fi['EBM Importance'].plot(kind='bar', ax=ax2, title='Best EBM Feature Importance')"
      ]
    },
    {
      "cell_type": "markdown",
      "id": "8e38770b",
      "metadata": {
        "id": "8e38770b"
      },
      "source": [
        "#### Compare local feature importance across models"
      ]
    },
    {
      "cell_type": "code",
      "execution_count": 68,
      "id": "6faaaf35",
      "metadata": {
        "colab": {
          "base_uri": "https://localhost:8080/",
          "height": 425
        },
        "id": "6faaaf35",
        "outputId": "df08931b-047a-4127-aa25-70e15da5a756"
      },
      "outputs": [
        {
          "output_type": "display_data",
          "data": {
            "text/plain": [
              "<Figure size 432x288 with 3 Axes>"
            ],
            "image/png": "[encoded data removed]"
          },
          "metadata": {
            "needs_background": "light"
          }
        }
      ],
      "source": [
        "## init 3-pane plot \n",
        "fig, (ax0, ax1, ax2) = plt.subplots(ncols=3, sharey=True)\n",
        "plt.tight_layout()\n",
        "plt.subplots_adjust(left=0, right=2, wspace=0.1)\n",
        "\n",
        "# plot comparisons of local FI across 3 panes\n",
        "_ = local_fi_dict[10].plot(kind='bar', ax=ax0,\n",
        "                             title='10th PCTL of p_high_priced')\n",
        "\n",
        "_ = local_fi_dict[50].plot(kind='bar', ax=ax1,\n",
        "                             title='50th PCTL of p_high_priced')\n",
        "\n",
        "_ = local_fi_dict[90].plot(kind='bar', ax=ax2,\n",
        "                             title='90th PCTL of p_high_priced')\n"
      ]
    },
    {
      "cell_type": "markdown",
      "id": "d7ad4186",
      "metadata": {
        "id": "d7ad4186"
      },
      "source": [
        "#### Utility function for partial dependence "
      ]
    },
    {
      "cell_type": "code",
      "execution_count": 69,
      "id": "2106828a",
      "metadata": {
        "id": "2106828a"
      },
      "outputs": [],
      "source": [
        "def par_dep(x_name, valid, model, model_type, resolution=20, bins=None):\n",
        "\n",
        "    \"\"\" Creates Pandas DataFrame containing partial dependence or ICE\n",
        "        for a single input variable.\n",
        "        :param x_name: Variable for which to calculate partial dependence.\n",
        "        :param valid: Pandas validation frame.\n",
        "        :param model: Trained model object (assumes binary classifier).\n",
        "        :param model_type: Kind of model: h2o, xgb, or ebm.\n",
        "        :param resolution: The number of points across the domain of xs for which\n",
        "                           to calculate partial dependence, default 20.\n",
        "        :param bins: List of values at which to set xs, default 20 equally-spaced\n",
        "                     points between column minimum and maximum.\n",
        "        :return: Pandas DataFrame containing partial dependence values.\n",
        "    \"\"\"\n",
        "\n",
        "    # turn off pesky Pandas copy warning\n",
        "    pd.options.mode.chained_assignment = None\n",
        "\n",
        "    # determine values at which to calculate partial dependence\n",
        "    if bins is None:\n",
        "        min_ = valid[x_name].min()\n",
        "        max_ = valid[x_name].max()\n",
        "        by = (max_ - min_) / resolution\n",
        "        # modify max and by\n",
        "        # to preserve resolution and actually search up to max\n",
        "        bins = np.arange(min_, (max_ + by), (by + np.round((1. / resolution) * by, 3)))\n",
        "        \n",
        "    # cache original column values\n",
        "    col_cache = valid.loc[:, x_name].copy(deep=True)\n",
        "\n",
        "    # calculate partial dependence\n",
        "    # by setting column of interest to constant\n",
        "    # and scoring the altered data and taking the mean of the predictions\n",
        "    temp_df = valid.copy(deep=True)\n",
        "    temp_df.loc[:, x_name] = bins[0]\n",
        "    for j, _ in enumerate(bins):\n",
        "        if j + 1 < len(bins):\n",
        "            valid.loc[:, x_name] = bins[j + 1]\n",
        "            temp_df = temp_df.append(valid, ignore_index=True)\n",
        "\n",
        "    # return input frame to original cached state\n",
        "    valid.loc[:, x_name] = col_cache\n",
        "\n",
        "    # model predictions\n",
        "    # probably assumes binary classification\n",
        "    if model_type == 'h2o':\n",
        "        temp_df['partial_dependence'] = model.predict(h2o.H2OFrame(temp_df))['p1'].as_data_frame()\n",
        "    if model_type == 'xgb':\n",
        "        temp_df['partial_dependence'] = pd.DataFrame(model.predict(xgb.DMatrix(temp_df), iteration_range=(0, best_mxgb.best_ntree_limit)), columns=['phat'])\n",
        "    if model_type == 'ebm':\n",
        "        temp_df['partial_dependence'] = pd.DataFrame(model.predict_proba(temp_df)[:, 1], columns=['phat'])\n",
        "    \n",
        "    return pd.DataFrame(temp_df[[x_name, 'partial_dependence']].groupby([x_name]).mean()).reset_index()"
      ]
    },
    {
      "cell_type": "markdown",
      "id": "2149639b",
      "metadata": {
        "id": "2149639b"
      },
      "source": [
        "#### Calculate partial dependence for all X and models"
      ]
    },
    {
      "cell_type": "code",
      "execution_count": 70,
      "id": "79f579a4",
      "metadata": {
        "colab": {
          "base_uri": "https://localhost:8080/"
        },
        "id": "79f579a4",
        "outputId": "f4cf5893-6e13-4a1d-9c33-87599794b186"
      },
      "outputs": [
        {
          "output_type": "stream",
          "name": "stdout",
          "text": [
            "Calculating partial dependence for term_360 ...\n",
            "Calculating partial dependence for conforming ...\n",
            "Calculating partial dependence for debt_to_income_ratio_missing ...\n",
            "Calculating partial dependence for loan_amount_std ...\n",
            "Calculating partial dependence for loan_to_value_ratio_std ...\n",
            "Calculating partial dependence for no_intro_rate_period_std ...\n",
            "Calculating partial dependence for intro_rate_period_std ...\n",
            "Calculating partial dependence for property_value_std ...\n",
            "Calculating partial dependence for income_std ...\n",
            "Calculating partial dependence for debt_to_income_ratio_std ...\n",
            "Done.\n",
            "Partial dependence calculated in 284.74 s.\n"
          ]
        }
      ],
      "source": [
        "# start local timer\n",
        "pd_tic = time.time()\n",
        "\n",
        "# init dict to hold results\n",
        "pd_dict = {}\n",
        "\n",
        "# cycle through names and model types to calculate par dep\n",
        "for name in x_names:\n",
        "    \n",
        "    print('Calculating partial dependence for %s ...' % name)\n",
        "    \n",
        "    # setup a dataframe to hold results\n",
        "    # use bins from first par_dep() run\n",
        "    pd_dict[name] = pd.DataFrame(columns=[name, 'h2o', 'xgb', 'ebm'])\n",
        "    first_pd = par_dep(name, valid[x_names], best_glm, 'h2o')\n",
        "    pd_dict[name][name] = first_pd[name]\n",
        "    bins = first_pd[name]\n",
        "    pd_dict[name]['h2o'] = first_pd['partial_dependence']\n",
        "    \n",
        "    # calculate par dep for remaining models\n",
        "    pd_dict[name]['xgb'] = par_dep(name, valid[x_names], best_mxgb, 'xgb', bins=bins)['partial_dependence']\n",
        "    pd_dict[name]['ebm'] = par_dep(name, valid[x_names], best_ebm, 'ebm', bins=bins)['partial_dependence']\n",
        "    \n",
        "print('Done.')\n",
        "\n",
        "# end local timer\n",
        "pd_toc = time.time() - pd_tic\n",
        "print('Partial dependence calculated in %.2f s.' % (pd_toc))"
      ]
    },
    {
      "cell_type": "markdown",
      "id": "599ae9de",
      "metadata": {
        "id": "599ae9de"
      },
      "source": [
        "#### Plot partial dependence for all features and models"
      ]
    },
    {
      "cell_type": "code",
      "execution_count": 71,
      "id": "a3724be9",
      "metadata": {
        "colab": {
          "base_uri": "https://localhost:8080/",
          "height": 1000
        },
        "id": "a3724be9",
        "outputId": "cf629d99-2cee-4abf-fdb5-6810c6ad6a55"
      },
      "outputs": [
        {
          "output_type": "display_data",
          "data": {
            "text/plain": [
              "<Figure size 432x288 with 3 Axes>"
            ],
            "image/png": "[encoded data removed]"
          },
          "metadata": {
            "needs_background": "light"
          }
        },
        {
          "output_type": "display_data",
          "data": {
            "text/plain": [
              "<Figure size 432x288 with 3 Axes>"
            ],
            "image/png": "[encoded data removed]"
          },
          "metadata": {
            "needs_background": "light"
          }
        },
        {
          "output_type": "display_data",
          "data": {
            "text/plain": [
              "<Figure size 432x288 with 3 Axes>"
            ],
            "image/png": "[encoded data removed]"
          },
          "metadata": {
            "needs_background": "light"
          }
        },
        {
          "output_type": "display_data",
          "data": {
            "text/plain": [
              "<Figure size 432x288 with 3 Axes>"
            ],
            "image/png": "[encoded data removed]"
          },
          "metadata": {
            "needs_background": "light"
          }
        },
        {
          "output_type": "display_data",
          "data": {
            "text/plain": [
              "<Figure size 432x288 with 3 Axes>"
            ],
            "image/png": "[encoded data removed]"
          },
          "metadata": {
            "needs_background": "light"
          }
        },
        {
          "output_type": "display_data",
          "data": {
            "text/plain": [
              "<Figure size 432x288 with 3 Axes>"
            ],
            "image/png": "[encoded data removed]"
          },
          "metadata": {
            "needs_background": "light"
          }
        },
        {
          "output_type": "display_data",
          "data": {
            "text/plain": [
              "<Figure size 432x288 with 3 Axes>"
            ],
            "image/png": "[encoded data removed]"
          },
          "metadata": {
            "needs_background": "light"
          }
        },
        {
          "output_type": "display_data",
          "data": {
            "text/plain": [
              "<Figure size 432x288 with 3 Axes>"
            ],
            "image/png": "[encoded data removed]"
          },
          "metadata": {
            "needs_background": "light"
          }
        },
        {
          "output_type": "display_data",
          "data": {
            "text/plain": [
              "<Figure size 432x288 with 3 Axes>"
            ],
            "image/png": "[encoded data removed]"
          },
          "metadata": {
            "needs_background": "light"
          }
        },
        {
          "output_type": "display_data",
          "data": {
            "text/plain": [
              "<Figure size 432x288 with 3 Axes>"
            ],
            "image/png": "[encoded data removed]"
          },
          "metadata": {
            "needs_background": "light"
          }
        }
      ],
      "source": [
        "# loop through names to calculate par dep \n",
        "for name in x_names:\n",
        "    \n",
        "    # init 3-pane plot\n",
        "    fig, (ax0, ax1, ax2) = plt.subplots(ncols=3, sharey=True)\n",
        "    plt.tight_layout()\n",
        "    plt.subplots_adjust(left=0, right=2.2, wspace=0.2)\n",
        "  \n",
        "    # plot par dep from each model across frames\n",
        "    pd_dict[name].plot(kind='line', x=name, y='h2o', ax=ax0, title='Best GLM Partial Dependence')\n",
        "    ax0.set_xlabel(name)\n",
        "    pd_dict[name].plot(kind='line', x=name, y='xgb', ax=ax1, title='Best MXGB Partial Dependence') \n",
        "    ax1.set_xlabel(name)\n",
        "    pd_dict[name].plot(kind='line', x=name, y='ebm', ax=ax2, title='Best EBM Partial Dependence')\n",
        "    ax2.set_xlabel(name)\n"
      ]
    },
    {
      "cell_type": "markdown",
      "id": "35aaaa92",
      "metadata": {
        "id": "35aaaa92"
      },
      "source": [
        "#### End timer"
      ]
    },
    {
      "cell_type": "code",
      "execution_count": null,
      "id": "e978d190",
      "metadata": {
        "id": "e978d190",
        "outputId": "35e1fe67-f46d-43fe-9448-ec8d86058d16",
        "colab": {
          "base_uri": "https://localhost:8080/"
        }
      },
      "outputs": [
        {
          "output_type": "stream",
          "name": "stdout",
          "text": [
            "All tasks completed in 2307.83 s.\n"
          ]
        }
      ],
      "source": [
        "toc = time.time() - tic\n",
        "print('All tasks completed in %.2f s.' % (toc))"
      ]
    },
    {
      "cell_type": "markdown",
      "id": "35f92b13",
      "metadata": {
        "id": "35f92b13"
      },
      "source": [
        "#### Shutdown h2o"
      ]
    },
    {
      "cell_type": "code",
      "execution_count": null,
      "id": "436bc4fc",
      "metadata": {
        "id": "436bc4fc",
        "outputId": "0c9ec8cf-d096-4a40-a066-8c6cf56fa573",
        "colab": {
          "base_uri": "https://localhost:8080/"
        }
      },
      "outputs": [
        {
          "output_type": "stream",
          "name": "stdout",
          "text": [
            "H2O session _sid_84c3 closed.\n"
          ]
        }
      ],
      "source": [
        "h2o.cluster().shutdown(prompt=False)"
      ]
    }
  ],
  "metadata": {
    "kernelspec": {
      "display_name": "Python 3",
      "language": "python",
      "name": "python3"
    },
    "language_info": {
      "codemirror_mode": {
        "name": "ipython",
        "version": 3
      },
      "file_extension": ".py",
      "mimetype": "text/x-python",
      "name": "python",
      "nbconvert_exporter": "python",
      "pygments_lexer": "ipython3",
      "version": "3.6.9"
    },
    "colab": {
      "name": "assignment_2.ipynb",
      "provenance": [],
      "collapsed_sections": [
        "b37508ef",
        "9927a1f2",
        "21e37f0a",
        "39360042",
        "d9095532",
        "3136ceee",
        "f1196f05",
        "41e2db7a",
        "46240920",
        "c14f8858",
        "fde7fa11",
        "223b7489",
        "2aee422c",
        "0248d5c2",
        "e2814a0a",
        "81fcf191",
        "2c511f54",
        "d1561ff1",
        "d7ad4186",
        "2149639b",
        "35aaaa92",
        "35f92b13"
      ],
      "include_colab_link": true
    }
  },
  "nbformat": 4,
  "nbformat_minor": 5
}