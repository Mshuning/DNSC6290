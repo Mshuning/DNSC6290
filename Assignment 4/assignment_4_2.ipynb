{
  "cells": [
    {
      "cell_type": "markdown",
      "metadata": {
        "id": "view-in-github",
        "colab_type": "text"
      },
      "source": [
        "<a href=\"https://colab.research.google.com/github/Mshuning/DNSC6290/blob/main/Assignment%204/assignment_4_2.ipynb\" target=\"_parent\"><img src=\"https://colab.research.google.com/assets/colab-badge.svg\" alt=\"Open In Colab\"/></a>"
      ]
    },
    {
      "cell_type": "markdown",
      "id": "1934d2de",
      "metadata": {
        "id": "1934d2de"
      },
      "source": [
        "## License \n",
        "\n",
        "Copyright 2021 Patrick Hall (jphall@gwu.edu), Shuning Ma (shuningma@gwu.edu)\n",
        "\n",
        "Licensed under the Apache License, Version 2.0 (the \"License\");\n",
        "you may not use this file except in compliance with the License.\n",
        "You may obtain a copy of the License at\n",
        "\n",
        "    http://www.apache.org/licenses/LICENSE-2.0\n",
        "\n",
        "Unless required by applicable law or agreed to in writing, software\n",
        "distributed under the License is distributed on an \"AS IS\" BASIS,\n",
        "WITHOUT WARRANTIES OR CONDITIONS OF ANY KIND, either express or implied.\n",
        "See the License for the specific language governing permissions and\n",
        "limitations under the License.\n",
        "\n",
        "*DISCLAIMER*: This notebook is not legal or compliance advice."
      ]
    },
    {
      "cell_type": "markdown",
      "id": "c7556803",
      "metadata": {
        "id": "c7556803"
      },
      "source": [
        "# Assignment 4\n",
        "With two calls to a blackbox prediction API we can craft adversarial examples to manipulate the model toward higher and lower predictions. "
      ]
    },
    {
      "cell_type": "markdown",
      "id": "44ddbb28",
      "metadata": {
        "id": "44ddbb28"
      },
      "source": [
        "#### Imports and inits"
      ]
    },
    {
      "cell_type": "code",
      "execution_count": null,
      "id": "0LX9A3oRSNff",
      "metadata": {
        "colab": {
          "base_uri": "https://localhost:8080/"
        },
        "id": "0LX9A3oRSNff",
        "outputId": "9c9fadca-d56e-4bc2-8962-2af3cae28093"
      },
      "outputs": [
        {
          "output_type": "stream",
          "name": "stdout",
          "text": [
            "Looking in indexes: https://pypi.org/simple, https://us-python.pkg.dev/colab-wheels/public/simple/\n",
            "Requirement already satisfied: h2o in /usr/local/lib/python3.7/dist-packages (from -r requirements.txt (line 4)) (3.36.1.2)\n",
            "Requirement already satisfied: interpret==0.2.4 in /usr/local/lib/python3.7/dist-packages (from -r requirements.txt (line 5)) (0.2.4)\n",
            "Requirement already satisfied: jupyter==1.0.0 in /usr/local/lib/python3.7/dist-packages (from -r requirements.txt (line 6)) (1.0.0)\n",
            "Requirement already satisfied: matplotlib==3.3.4 in /usr/local/lib/python3.7/dist-packages (from -r requirements.txt (line 7)) (3.3.4)\n",
            "Requirement already satisfied: numpy==1.19.5 in /usr/local/lib/python3.7/dist-packages (from -r requirements.txt (line 8)) (1.19.5)\n",
            "Requirement already satisfied: pandas==1.1.5 in /usr/local/lib/python3.7/dist-packages (from -r requirements.txt (line 9)) (1.1.5)\n",
            "Requirement already satisfied: scikit-learn==0.24.2 in /usr/local/lib/python3.7/dist-packages (from -r requirements.txt (line 10)) (0.24.2)\n",
            "Requirement already satisfied: seaborn==0.11.1 in /usr/local/lib/python3.7/dist-packages (from -r requirements.txt (line 11)) (0.11.1)\n",
            "Requirement already satisfied: xgboost in /usr/local/lib/python3.7/dist-packages (from -r requirements.txt (line 12)) (0.90)\n",
            "Requirement already satisfied: interpret-core[dash,debug,decisiontree,ebm,lime,linear,notebook,plotly,required,sensitivity,shap,skoperules,treeinterpreter]>=0.2.4 in /usr/local/lib/python3.7/dist-packages (from interpret==0.2.4->-r requirements.txt (line 5)) (0.2.7)\n",
            "Requirement already satisfied: notebook in /usr/local/lib/python3.7/dist-packages (from jupyter==1.0.0->-r requirements.txt (line 6)) (5.3.1)\n",
            "Requirement already satisfied: qtconsole in /usr/local/lib/python3.7/dist-packages (from jupyter==1.0.0->-r requirements.txt (line 6)) (5.3.1)\n",
            "Requirement already satisfied: ipywidgets in /usr/local/lib/python3.7/dist-packages (from jupyter==1.0.0->-r requirements.txt (line 6)) (7.7.0)\n",
            "Requirement already satisfied: jupyter-console in /usr/local/lib/python3.7/dist-packages (from jupyter==1.0.0->-r requirements.txt (line 6)) (6.4.4)\n",
            "Requirement already satisfied: nbconvert in /usr/local/lib/python3.7/dist-packages (from jupyter==1.0.0->-r requirements.txt (line 6)) (5.6.1)\n",
            "Requirement already satisfied: ipykernel in /usr/local/lib/python3.7/dist-packages (from jupyter==1.0.0->-r requirements.txt (line 6)) (6.15.0)\n",
            "Requirement already satisfied: pyparsing!=2.0.4,!=2.1.2,!=2.1.6,>=2.0.3 in /usr/local/lib/python3.7/dist-packages (from matplotlib==3.3.4->-r requirements.txt (line 7)) (3.0.9)\n",
            "Requirement already satisfied: python-dateutil>=2.1 in /usr/local/lib/python3.7/dist-packages (from matplotlib==3.3.4->-r requirements.txt (line 7)) (2.8.2)\n",
            "Requirement already satisfied: kiwisolver>=1.0.1 in /usr/local/lib/python3.7/dist-packages (from matplotlib==3.3.4->-r requirements.txt (line 7)) (1.4.3)\n",
            "Requirement already satisfied: pillow>=6.2.0 in /usr/local/lib/python3.7/dist-packages (from matplotlib==3.3.4->-r requirements.txt (line 7)) (7.1.2)\n",
            "Requirement already satisfied: cycler>=0.10 in /usr/local/lib/python3.7/dist-packages (from matplotlib==3.3.4->-r requirements.txt (line 7)) (0.11.0)\n",
            "Requirement already satisfied: pytz>=2017.2 in /usr/local/lib/python3.7/dist-packages (from pandas==1.1.5->-r requirements.txt (line 9)) (2022.1)\n",
            "Requirement already satisfied: joblib>=0.11 in /usr/local/lib/python3.7/dist-packages (from scikit-learn==0.24.2->-r requirements.txt (line 10)) (1.1.0)\n",
            "Requirement already satisfied: threadpoolctl>=2.0.0 in /usr/local/lib/python3.7/dist-packages (from scikit-learn==0.24.2->-r requirements.txt (line 10)) (3.1.0)\n",
            "Requirement already satisfied: scipy>=0.19.1 in /usr/local/lib/python3.7/dist-packages (from scikit-learn==0.24.2->-r requirements.txt (line 10)) (1.4.1)\n",
            "Requirement already satisfied: plotly>=3.8.1 in /usr/local/lib/python3.7/dist-packages (from interpret-core[dash,debug,decisiontree,ebm,lime,linear,notebook,plotly,required,sensitivity,shap,skoperules,treeinterpreter]>=0.2.4->interpret==0.2.4->-r requirements.txt (line 5)) (5.5.0)\n",
            "Requirement already satisfied: treeinterpreter>=0.2.2 in /usr/local/lib/python3.7/dist-packages (from interpret-core[dash,debug,decisiontree,ebm,lime,linear,notebook,plotly,required,sensitivity,shap,skoperules,treeinterpreter]>=0.2.4->interpret==0.2.4->-r requirements.txt (line 5)) (0.2.3)\n",
            "Requirement already satisfied: dash-cytoscape>=0.1.1 in /usr/local/lib/python3.7/dist-packages (from interpret-core[dash,debug,decisiontree,ebm,lime,linear,notebook,plotly,required,sensitivity,shap,skoperules,treeinterpreter]>=0.2.4->interpret==0.2.4->-r requirements.txt (line 5)) (0.3.0)\n",
            "Requirement already satisfied: dash>=1.0.0 in /usr/local/lib/python3.7/dist-packages (from interpret-core[dash,debug,decisiontree,ebm,lime,linear,notebook,plotly,required,sensitivity,shap,skoperules,treeinterpreter]>=0.2.4->interpret==0.2.4->-r requirements.txt (line 5)) (2.5.1)\n",
            "Requirement already satisfied: gevent>=1.3.6 in /usr/local/lib/python3.7/dist-packages (from interpret-core[dash,debug,decisiontree,ebm,lime,linear,notebook,plotly,required,sensitivity,shap,skoperules,treeinterpreter]>=0.2.4->interpret==0.2.4->-r requirements.txt (line 5)) (21.12.0)\n",
            "Requirement already satisfied: dash-table>=4.1.0 in /usr/local/lib/python3.7/dist-packages (from interpret-core[dash,debug,decisiontree,ebm,lime,linear,notebook,plotly,required,sensitivity,shap,skoperules,treeinterpreter]>=0.2.4->interpret==0.2.4->-r requirements.txt (line 5)) (5.0.0)\n",
            "Requirement already satisfied: requests>=2.19.0 in /usr/local/lib/python3.7/dist-packages (from interpret-core[dash,debug,decisiontree,ebm,lime,linear,notebook,plotly,required,sensitivity,shap,skoperules,treeinterpreter]>=0.2.4->interpret==0.2.4->-r requirements.txt (line 5)) (2.23.0)\n",
            "Requirement already satisfied: lime>=0.1.1.33 in /usr/local/lib/python3.7/dist-packages (from interpret-core[dash,debug,decisiontree,ebm,lime,linear,notebook,plotly,required,sensitivity,shap,skoperules,treeinterpreter]>=0.2.4->interpret==0.2.4->-r requirements.txt (line 5)) (0.2.0.1)\n",
            "Requirement already satisfied: ipython>=7.4.0 in /usr/local/lib/python3.7/dist-packages (from interpret-core[dash,debug,decisiontree,ebm,lime,linear,notebook,plotly,required,sensitivity,shap,skoperules,treeinterpreter]>=0.2.4->interpret==0.2.4->-r requirements.txt (line 5)) (7.34.0)\n",
            "Requirement already satisfied: psutil>=5.6.2 in /usr/local/lib/python3.7/dist-packages (from interpret-core[dash,debug,decisiontree,ebm,lime,linear,notebook,plotly,required,sensitivity,shap,skoperules,treeinterpreter]>=0.2.4->interpret==0.2.4->-r requirements.txt (line 5)) (5.9.1)\n",
            "Requirement already satisfied: dill>=0.2.5 in /usr/local/lib/python3.7/dist-packages (from interpret-core[dash,debug,decisiontree,ebm,lime,linear,notebook,plotly,required,sensitivity,shap,skoperules,treeinterpreter]>=0.2.4->interpret==0.2.4->-r requirements.txt (line 5)) (0.3.5.1)\n",
            "Requirement already satisfied: shap>=0.28.5 in /usr/local/lib/python3.7/dist-packages (from interpret-core[dash,debug,decisiontree,ebm,lime,linear,notebook,plotly,required,sensitivity,shap,skoperules,treeinterpreter]>=0.2.4->interpret==0.2.4->-r requirements.txt (line 5)) (0.41.0)\n",
            "Requirement already satisfied: skope-rules>=1.0.1 in /usr/local/lib/python3.7/dist-packages (from interpret-core[dash,debug,decisiontree,ebm,lime,linear,notebook,plotly,required,sensitivity,shap,skoperules,treeinterpreter]>=0.2.4->interpret==0.2.4->-r requirements.txt (line 5)) (1.0.1)\n",
            "Requirement already satisfied: SALib>=1.3.3 in /usr/local/lib/python3.7/dist-packages (from interpret-core[dash,debug,decisiontree,ebm,lime,linear,notebook,plotly,required,sensitivity,shap,skoperules,treeinterpreter]>=0.2.4->interpret==0.2.4->-r requirements.txt (line 5)) (1.4.5)\n",
            "Requirement already satisfied: flask-compress in /usr/local/lib/python3.7/dist-packages (from dash>=1.0.0->interpret-core[dash,debug,decisiontree,ebm,lime,linear,notebook,plotly,required,sensitivity,shap,skoperules,treeinterpreter]>=0.2.4->interpret==0.2.4->-r requirements.txt (line 5)) (1.12)\n",
            "Requirement already satisfied: dash-html-components==2.0.0 in /usr/local/lib/python3.7/dist-packages (from dash>=1.0.0->interpret-core[dash,debug,decisiontree,ebm,lime,linear,notebook,plotly,required,sensitivity,shap,skoperules,treeinterpreter]>=0.2.4->interpret==0.2.4->-r requirements.txt (line 5)) (2.0.0)\n",
            "Requirement already satisfied: Flask>=1.0.4 in /usr/local/lib/python3.7/dist-packages (from dash>=1.0.0->interpret-core[dash,debug,decisiontree,ebm,lime,linear,notebook,plotly,required,sensitivity,shap,skoperules,treeinterpreter]>=0.2.4->interpret==0.2.4->-r requirements.txt (line 5)) (1.1.4)\n",
            "Requirement already satisfied: dash-core-components==2.0.0 in /usr/local/lib/python3.7/dist-packages (from dash>=1.0.0->interpret-core[dash,debug,decisiontree,ebm,lime,linear,notebook,plotly,required,sensitivity,shap,skoperules,treeinterpreter]>=0.2.4->interpret==0.2.4->-r requirements.txt (line 5)) (2.0.0)\n",
            "Requirement already satisfied: Jinja2<3.0,>=2.10.1 in /usr/local/lib/python3.7/dist-packages (from Flask>=1.0.4->dash>=1.0.0->interpret-core[dash,debug,decisiontree,ebm,lime,linear,notebook,plotly,required,sensitivity,shap,skoperules,treeinterpreter]>=0.2.4->interpret==0.2.4->-r requirements.txt (line 5)) (2.11.3)\n",
            "Requirement already satisfied: click<8.0,>=5.1 in /usr/local/lib/python3.7/dist-packages (from Flask>=1.0.4->dash>=1.0.0->interpret-core[dash,debug,decisiontree,ebm,lime,linear,notebook,plotly,required,sensitivity,shap,skoperules,treeinterpreter]>=0.2.4->interpret==0.2.4->-r requirements.txt (line 5)) (7.1.2)\n",
            "Requirement already satisfied: itsdangerous<2.0,>=0.24 in /usr/local/lib/python3.7/dist-packages (from Flask>=1.0.4->dash>=1.0.0->interpret-core[dash,debug,decisiontree,ebm,lime,linear,notebook,plotly,required,sensitivity,shap,skoperules,treeinterpreter]>=0.2.4->interpret==0.2.4->-r requirements.txt (line 5)) (1.1.0)\n",
            "Requirement already satisfied: Werkzeug<2.0,>=0.15 in /usr/local/lib/python3.7/dist-packages (from Flask>=1.0.4->dash>=1.0.0->interpret-core[dash,debug,decisiontree,ebm,lime,linear,notebook,plotly,required,sensitivity,shap,skoperules,treeinterpreter]>=0.2.4->interpret==0.2.4->-r requirements.txt (line 5)) (1.0.1)\n",
            "Requirement already satisfied: zope.event in /usr/local/lib/python3.7/dist-packages (from gevent>=1.3.6->interpret-core[dash,debug,decisiontree,ebm,lime,linear,notebook,plotly,required,sensitivity,shap,skoperules,treeinterpreter]>=0.2.4->interpret==0.2.4->-r requirements.txt (line 5)) (4.5.0)\n",
            "Requirement already satisfied: greenlet<2.0,>=1.1.0 in /usr/local/lib/python3.7/dist-packages (from gevent>=1.3.6->interpret-core[dash,debug,decisiontree,ebm,lime,linear,notebook,plotly,required,sensitivity,shap,skoperules,treeinterpreter]>=0.2.4->interpret==0.2.4->-r requirements.txt (line 5)) (1.1.2)\n",
            "Requirement already satisfied: setuptools in /usr/local/lib/python3.7/dist-packages (from gevent>=1.3.6->interpret-core[dash,debug,decisiontree,ebm,lime,linear,notebook,plotly,required,sensitivity,shap,skoperules,treeinterpreter]>=0.2.4->interpret==0.2.4->-r requirements.txt (line 5)) (57.4.0)\n",
            "Requirement already satisfied: zope.interface in /usr/local/lib/python3.7/dist-packages (from gevent>=1.3.6->interpret-core[dash,debug,decisiontree,ebm,lime,linear,notebook,plotly,required,sensitivity,shap,skoperules,treeinterpreter]>=0.2.4->interpret==0.2.4->-r requirements.txt (line 5)) (5.4.0)\n",
            "Requirement already satisfied: debugpy>=1.0 in /usr/local/lib/python3.7/dist-packages (from ipykernel->jupyter==1.0.0->-r requirements.txt (line 6)) (1.0.0)\n",
            "Requirement already satisfied: traitlets>=5.1.0 in /usr/local/lib/python3.7/dist-packages (from ipykernel->jupyter==1.0.0->-r requirements.txt (line 6)) (5.1.1)\n",
            "Requirement already satisfied: jupyter-client>=6.1.12 in /usr/local/lib/python3.7/dist-packages (from ipykernel->jupyter==1.0.0->-r requirements.txt (line 6)) (7.3.4)\n",
            "Requirement already satisfied: tornado>=6.1 in /usr/local/lib/python3.7/dist-packages (from ipykernel->jupyter==1.0.0->-r requirements.txt (line 6)) (6.1)\n",
            "Requirement already satisfied: pyzmq>=17 in /usr/local/lib/python3.7/dist-packages (from ipykernel->jupyter==1.0.0->-r requirements.txt (line 6)) (23.1.0)\n",
            "Requirement already satisfied: matplotlib-inline>=0.1 in /usr/local/lib/python3.7/dist-packages (from ipykernel->jupyter==1.0.0->-r requirements.txt (line 6)) (0.1.3)\n",
            "Requirement already satisfied: nest-asyncio in /usr/local/lib/python3.7/dist-packages (from ipykernel->jupyter==1.0.0->-r requirements.txt (line 6)) (1.5.5)\n",
            "Requirement already satisfied: packaging in /usr/local/lib/python3.7/dist-packages (from ipykernel->jupyter==1.0.0->-r requirements.txt (line 6)) (21.3)\n",
            "Requirement already satisfied: decorator in /usr/local/lib/python3.7/dist-packages (from ipython>=7.4.0->interpret-core[dash,debug,decisiontree,ebm,lime,linear,notebook,plotly,required,sensitivity,shap,skoperules,treeinterpreter]>=0.2.4->interpret==0.2.4->-r requirements.txt (line 5)) (4.4.2)\n",
            "Requirement already satisfied: pexpect>4.3 in /usr/local/lib/python3.7/dist-packages (from ipython>=7.4.0->interpret-core[dash,debug,decisiontree,ebm,lime,linear,notebook,plotly,required,sensitivity,shap,skoperules,treeinterpreter]>=0.2.4->interpret==0.2.4->-r requirements.txt (line 5)) (4.8.0)\n",
            "Requirement already satisfied: prompt-toolkit!=3.0.0,!=3.0.1,<3.1.0,>=2.0.0 in /usr/local/lib/python3.7/dist-packages (from ipython>=7.4.0->interpret-core[dash,debug,decisiontree,ebm,lime,linear,notebook,plotly,required,sensitivity,shap,skoperules,treeinterpreter]>=0.2.4->interpret==0.2.4->-r requirements.txt (line 5)) (3.0.30)\n",
            "Requirement already satisfied: jedi>=0.16 in /usr/local/lib/python3.7/dist-packages (from ipython>=7.4.0->interpret-core[dash,debug,decisiontree,ebm,lime,linear,notebook,plotly,required,sensitivity,shap,skoperules,treeinterpreter]>=0.2.4->interpret==0.2.4->-r requirements.txt (line 5)) (0.18.1)\n",
            "Requirement already satisfied: backcall in /usr/local/lib/python3.7/dist-packages (from ipython>=7.4.0->interpret-core[dash,debug,decisiontree,ebm,lime,linear,notebook,plotly,required,sensitivity,shap,skoperules,treeinterpreter]>=0.2.4->interpret==0.2.4->-r requirements.txt (line 5)) (0.2.0)\n",
            "Requirement already satisfied: pygments in /usr/local/lib/python3.7/dist-packages (from ipython>=7.4.0->interpret-core[dash,debug,decisiontree,ebm,lime,linear,notebook,plotly,required,sensitivity,shap,skoperules,treeinterpreter]>=0.2.4->interpret==0.2.4->-r requirements.txt (line 5)) (2.6.1)\n",
            "Requirement already satisfied: pickleshare in /usr/local/lib/python3.7/dist-packages (from ipython>=7.4.0->interpret-core[dash,debug,decisiontree,ebm,lime,linear,notebook,plotly,required,sensitivity,shap,skoperules,treeinterpreter]>=0.2.4->interpret==0.2.4->-r requirements.txt (line 5)) (0.7.5)\n",
            "Requirement already satisfied: parso<0.9.0,>=0.8.0 in /usr/local/lib/python3.7/dist-packages (from jedi>=0.16->ipython>=7.4.0->interpret-core[dash,debug,decisiontree,ebm,lime,linear,notebook,plotly,required,sensitivity,shap,skoperules,treeinterpreter]>=0.2.4->interpret==0.2.4->-r requirements.txt (line 5)) (0.8.3)\n",
            "Requirement already satisfied: MarkupSafe>=0.23 in /usr/local/lib/python3.7/dist-packages (from Jinja2<3.0,>=2.10.1->Flask>=1.0.4->dash>=1.0.0->interpret-core[dash,debug,decisiontree,ebm,lime,linear,notebook,plotly,required,sensitivity,shap,skoperules,treeinterpreter]>=0.2.4->interpret==0.2.4->-r requirements.txt (line 5)) (2.0.1)\n",
            "Requirement already satisfied: jupyter-core>=4.9.2 in /usr/local/lib/python3.7/dist-packages (from jupyter-client>=6.1.12->ipykernel->jupyter==1.0.0->-r requirements.txt (line 6)) (4.10.0)\n",
            "Requirement already satisfied: entrypoints in /usr/local/lib/python3.7/dist-packages (from jupyter-client>=6.1.12->ipykernel->jupyter==1.0.0->-r requirements.txt (line 6)) (0.4)\n",
            "Requirement already satisfied: typing-extensions in /usr/local/lib/python3.7/dist-packages (from kiwisolver>=1.0.1->matplotlib==3.3.4->-r requirements.txt (line 7)) (4.1.1)\n",
            "Requirement already satisfied: scikit-image>=0.12 in /usr/local/lib/python3.7/dist-packages (from lime>=0.1.1.33->interpret-core[dash,debug,decisiontree,ebm,lime,linear,notebook,plotly,required,sensitivity,shap,skoperules,treeinterpreter]>=0.2.4->interpret==0.2.4->-r requirements.txt (line 5)) (0.18.3)\n",
            "Requirement already satisfied: tqdm in /usr/local/lib/python3.7/dist-packages (from lime>=0.1.1.33->interpret-core[dash,debug,decisiontree,ebm,lime,linear,notebook,plotly,required,sensitivity,shap,skoperules,treeinterpreter]>=0.2.4->interpret==0.2.4->-r requirements.txt (line 5)) (4.64.0)\n",
            "Requirement already satisfied: ptyprocess>=0.5 in /usr/local/lib/python3.7/dist-packages (from pexpect>4.3->ipython>=7.4.0->interpret-core[dash,debug,decisiontree,ebm,lime,linear,notebook,plotly,required,sensitivity,shap,skoperules,treeinterpreter]>=0.2.4->interpret==0.2.4->-r requirements.txt (line 5)) (0.7.0)\n",
            "Requirement already satisfied: tenacity>=6.2.0 in /usr/local/lib/python3.7/dist-packages (from plotly>=3.8.1->interpret-core[dash,debug,decisiontree,ebm,lime,linear,notebook,plotly,required,sensitivity,shap,skoperules,treeinterpreter]>=0.2.4->interpret==0.2.4->-r requirements.txt (line 5)) (8.0.1)\n",
            "Requirement already satisfied: six in /usr/local/lib/python3.7/dist-packages (from plotly>=3.8.1->interpret-core[dash,debug,decisiontree,ebm,lime,linear,notebook,plotly,required,sensitivity,shap,skoperules,treeinterpreter]>=0.2.4->interpret==0.2.4->-r requirements.txt (line 5)) (1.15.0)\n",
            "Requirement already satisfied: wcwidth in /usr/local/lib/python3.7/dist-packages (from prompt-toolkit!=3.0.0,!=3.0.1,<3.1.0,>=2.0.0->ipython>=7.4.0->interpret-core[dash,debug,decisiontree,ebm,lime,linear,notebook,plotly,required,sensitivity,shap,skoperules,treeinterpreter]>=0.2.4->interpret==0.2.4->-r requirements.txt (line 5)) (0.2.5)\n",
            "Requirement already satisfied: urllib3!=1.25.0,!=1.25.1,<1.26,>=1.21.1 in /usr/local/lib/python3.7/dist-packages (from requests>=2.19.0->interpret-core[dash,debug,decisiontree,ebm,lime,linear,notebook,plotly,required,sensitivity,shap,skoperules,treeinterpreter]>=0.2.4->interpret==0.2.4->-r requirements.txt (line 5)) (1.24.3)\n",
            "Requirement already satisfied: idna<3,>=2.5 in /usr/local/lib/python3.7/dist-packages (from requests>=2.19.0->interpret-core[dash,debug,decisiontree,ebm,lime,linear,notebook,plotly,required,sensitivity,shap,skoperules,treeinterpreter]>=0.2.4->interpret==0.2.4->-r requirements.txt (line 5)) (2.10)\n",
            "Requirement already satisfied: certifi>=2017.4.17 in /usr/local/lib/python3.7/dist-packages (from requests>=2.19.0->interpret-core[dash,debug,decisiontree,ebm,lime,linear,notebook,plotly,required,sensitivity,shap,skoperules,treeinterpreter]>=0.2.4->interpret==0.2.4->-r requirements.txt (line 5)) (2022.6.15)\n",
            "Requirement already satisfied: chardet<4,>=3.0.2 in /usr/local/lib/python3.7/dist-packages (from requests>=2.19.0->interpret-core[dash,debug,decisiontree,ebm,lime,linear,notebook,plotly,required,sensitivity,shap,skoperules,treeinterpreter]>=0.2.4->interpret==0.2.4->-r requirements.txt (line 5)) (3.0.4)\n",
            "Requirement already satisfied: wheel in /usr/local/lib/python3.7/dist-packages (from SALib>=1.3.3->interpret-core[dash,debug,decisiontree,ebm,lime,linear,notebook,plotly,required,sensitivity,shap,skoperules,treeinterpreter]>=0.2.4->interpret==0.2.4->-r requirements.txt (line 5)) (0.37.1)\n",
            "Requirement already satisfied: importlib-metadata in /usr/local/lib/python3.7/dist-packages (from SALib>=1.3.3->interpret-core[dash,debug,decisiontree,ebm,lime,linear,notebook,plotly,required,sensitivity,shap,skoperules,treeinterpreter]>=0.2.4->interpret==0.2.4->-r requirements.txt (line 5)) (4.11.4)\n",
            "Requirement already satisfied: pathos in /usr/local/lib/python3.7/dist-packages (from SALib>=1.3.3->interpret-core[dash,debug,decisiontree,ebm,lime,linear,notebook,plotly,required,sensitivity,shap,skoperules,treeinterpreter]>=0.2.4->interpret==0.2.4->-r requirements.txt (line 5)) (0.2.9)\n",
            "Requirement already satisfied: tifffile>=2019.7.26 in /usr/local/lib/python3.7/dist-packages (from scikit-image>=0.12->lime>=0.1.1.33->interpret-core[dash,debug,decisiontree,ebm,lime,linear,notebook,plotly,required,sensitivity,shap,skoperules,treeinterpreter]>=0.2.4->interpret==0.2.4->-r requirements.txt (line 5)) (2021.11.2)\n",
            "Requirement already satisfied: networkx>=2.0 in /usr/local/lib/python3.7/dist-packages (from scikit-image>=0.12->lime>=0.1.1.33->interpret-core[dash,debug,decisiontree,ebm,lime,linear,notebook,plotly,required,sensitivity,shap,skoperules,treeinterpreter]>=0.2.4->interpret==0.2.4->-r requirements.txt (line 5)) (2.6.3)\n",
            "Requirement already satisfied: PyWavelets>=1.1.1 in /usr/local/lib/python3.7/dist-packages (from scikit-image>=0.12->lime>=0.1.1.33->interpret-core[dash,debug,decisiontree,ebm,lime,linear,notebook,plotly,required,sensitivity,shap,skoperules,treeinterpreter]>=0.2.4->interpret==0.2.4->-r requirements.txt (line 5)) (1.3.0)\n",
            "Requirement already satisfied: imageio>=2.3.0 in /usr/local/lib/python3.7/dist-packages (from scikit-image>=0.12->lime>=0.1.1.33->interpret-core[dash,debug,decisiontree,ebm,lime,linear,notebook,plotly,required,sensitivity,shap,skoperules,treeinterpreter]>=0.2.4->interpret==0.2.4->-r requirements.txt (line 5)) (2.4.1)\n",
            "Requirement already satisfied: slicer==0.0.7 in /usr/local/lib/python3.7/dist-packages (from shap>=0.28.5->interpret-core[dash,debug,decisiontree,ebm,lime,linear,notebook,plotly,required,sensitivity,shap,skoperules,treeinterpreter]>=0.2.4->interpret==0.2.4->-r requirements.txt (line 5)) (0.0.7)\n",
            "Requirement already satisfied: numba in /usr/local/lib/python3.7/dist-packages (from shap>=0.28.5->interpret-core[dash,debug,decisiontree,ebm,lime,linear,notebook,plotly,required,sensitivity,shap,skoperules,treeinterpreter]>=0.2.4->interpret==0.2.4->-r requirements.txt (line 5)) (0.51.2)\n",
            "Requirement already satisfied: cloudpickle in /usr/local/lib/python3.7/dist-packages (from shap>=0.28.5->interpret-core[dash,debug,decisiontree,ebm,lime,linear,notebook,plotly,required,sensitivity,shap,skoperules,treeinterpreter]>=0.2.4->interpret==0.2.4->-r requirements.txt (line 5)) (1.3.0)\n",
            "Requirement already satisfied: future in /usr/local/lib/python3.7/dist-packages (from h2o->-r requirements.txt (line 4)) (0.16.0)\n",
            "Requirement already satisfied: tabulate in /usr/local/lib/python3.7/dist-packages (from h2o->-r requirements.txt (line 4)) (0.8.9)\n",
            "Requirement already satisfied: brotli in /usr/local/lib/python3.7/dist-packages (from flask-compress->dash>=1.0.0->interpret-core[dash,debug,decisiontree,ebm,lime,linear,notebook,plotly,required,sensitivity,shap,skoperules,treeinterpreter]>=0.2.4->interpret==0.2.4->-r requirements.txt (line 5)) (1.0.9)\n",
            "Requirement already satisfied: zipp>=0.5 in /usr/local/lib/python3.7/dist-packages (from importlib-metadata->SALib>=1.3.3->interpret-core[dash,debug,decisiontree,ebm,lime,linear,notebook,plotly,required,sensitivity,shap,skoperules,treeinterpreter]>=0.2.4->interpret==0.2.4->-r requirements.txt (line 5)) (3.8.0)\n",
            "Requirement already satisfied: widgetsnbextension~=3.6.0 in /usr/local/lib/python3.7/dist-packages (from ipywidgets->jupyter==1.0.0->-r requirements.txt (line 6)) (3.6.0)\n",
            "Requirement already satisfied: ipython-genutils~=0.2.0 in /usr/local/lib/python3.7/dist-packages (from ipywidgets->jupyter==1.0.0->-r requirements.txt (line 6)) (0.2.0)\n",
            "Requirement already satisfied: nbformat>=4.2.0 in /usr/local/lib/python3.7/dist-packages (from ipywidgets->jupyter==1.0.0->-r requirements.txt (line 6)) (5.4.0)\n",
            "Requirement already satisfied: jupyterlab-widgets>=1.0.0 in /usr/local/lib/python3.7/dist-packages (from ipywidgets->jupyter==1.0.0->-r requirements.txt (line 6)) (1.1.0)\n",
            "Requirement already satisfied: jsonschema>=2.6 in /usr/local/lib/python3.7/dist-packages (from nbformat>=4.2.0->ipywidgets->jupyter==1.0.0->-r requirements.txt (line 6)) (4.3.3)\n",
            "Requirement already satisfied: fastjsonschema in /usr/local/lib/python3.7/dist-packages (from nbformat>=4.2.0->ipywidgets->jupyter==1.0.0->-r requirements.txt (line 6)) (2.15.3)\n",
            "Requirement already satisfied: pyrsistent!=0.17.0,!=0.17.1,!=0.17.2,>=0.14.0 in /usr/local/lib/python3.7/dist-packages (from jsonschema>=2.6->nbformat>=4.2.0->ipywidgets->jupyter==1.0.0->-r requirements.txt (line 6)) (0.18.1)\n",
            "Requirement already satisfied: attrs>=17.4.0 in /usr/local/lib/python3.7/dist-packages (from jsonschema>=2.6->nbformat>=4.2.0->ipywidgets->jupyter==1.0.0->-r requirements.txt (line 6)) (21.4.0)\n",
            "Requirement already satisfied: importlib-resources>=1.4.0 in /usr/local/lib/python3.7/dist-packages (from jsonschema>=2.6->nbformat>=4.2.0->ipywidgets->jupyter==1.0.0->-r requirements.txt (line 6)) (5.7.1)\n",
            "Requirement already satisfied: terminado>=0.8.1 in /usr/local/lib/python3.7/dist-packages (from notebook->jupyter==1.0.0->-r requirements.txt (line 6)) (0.13.3)\n",
            "Requirement already satisfied: Send2Trash in /usr/local/lib/python3.7/dist-packages (from notebook->jupyter==1.0.0->-r requirements.txt (line 6)) (1.8.0)\n",
            "Requirement already satisfied: mistune<2,>=0.8.1 in /usr/local/lib/python3.7/dist-packages (from nbconvert->jupyter==1.0.0->-r requirements.txt (line 6)) (0.8.4)\n",
            "Requirement already satisfied: testpath in /usr/local/lib/python3.7/dist-packages (from nbconvert->jupyter==1.0.0->-r requirements.txt (line 6)) (0.6.0)\n",
            "Requirement already satisfied: defusedxml in /usr/local/lib/python3.7/dist-packages (from nbconvert->jupyter==1.0.0->-r requirements.txt (line 6)) (0.7.1)\n",
            "Requirement already satisfied: bleach in /usr/local/lib/python3.7/dist-packages (from nbconvert->jupyter==1.0.0->-r requirements.txt (line 6)) (5.0.0)\n",
            "Requirement already satisfied: pandocfilters>=1.4.1 in /usr/local/lib/python3.7/dist-packages (from nbconvert->jupyter==1.0.0->-r requirements.txt (line 6)) (1.5.0)\n",
            "Requirement already satisfied: webencodings in /usr/local/lib/python3.7/dist-packages (from bleach->nbconvert->jupyter==1.0.0->-r requirements.txt (line 6)) (0.5.1)\n",
            "Requirement already satisfied: llvmlite<0.35,>=0.34.0.dev0 in /usr/local/lib/python3.7/dist-packages (from numba->shap>=0.28.5->interpret-core[dash,debug,decisiontree,ebm,lime,linear,notebook,plotly,required,sensitivity,shap,skoperules,treeinterpreter]>=0.2.4->interpret==0.2.4->-r requirements.txt (line 5)) (0.34.0)\n",
            "Requirement already satisfied: pox>=0.3.1 in /usr/local/lib/python3.7/dist-packages (from pathos->SALib>=1.3.3->interpret-core[dash,debug,decisiontree,ebm,lime,linear,notebook,plotly,required,sensitivity,shap,skoperules,treeinterpreter]>=0.2.4->interpret==0.2.4->-r requirements.txt (line 5)) (0.3.1)\n",
            "Requirement already satisfied: multiprocess>=0.70.13 in /usr/local/lib/python3.7/dist-packages (from pathos->SALib>=1.3.3->interpret-core[dash,debug,decisiontree,ebm,lime,linear,notebook,plotly,required,sensitivity,shap,skoperules,treeinterpreter]>=0.2.4->interpret==0.2.4->-r requirements.txt (line 5)) (0.70.13)\n",
            "Requirement already satisfied: ppft>=1.7.6.5 in /usr/local/lib/python3.7/dist-packages (from pathos->SALib>=1.3.3->interpret-core[dash,debug,decisiontree,ebm,lime,linear,notebook,plotly,required,sensitivity,shap,skoperules,treeinterpreter]>=0.2.4->interpret==0.2.4->-r requirements.txt (line 5)) (1.7.6.5)\n",
            "Requirement already satisfied: qtpy>=2.0.1 in /usr/local/lib/python3.7/dist-packages (from qtconsole->jupyter==1.0.0->-r requirements.txt (line 6)) (2.1.0)\n"
          ]
        }
      ],
      "source": [
        "!pip install -r requirements.txt"
      ]
    },
    {
      "cell_type": "code",
      "execution_count": null,
      "id": "4baedf75",
      "metadata": {
        "colab": {
          "base_uri": "https://localhost:8080/",
          "height": 516
        },
        "id": "4baedf75",
        "outputId": "d34b6f75-0d3c-4cc3-fb4e-528facd7aceb",
        "scrolled": true
      },
      "outputs": [
        {
          "output_type": "stream",
          "name": "stdout",
          "text": [
            "Checking whether there is an H2O instance running at http://localhost:54321 ..... not found.\n",
            "Attempting to start a local H2O server...\n",
            "  Java Version: openjdk version \"11.0.15\" 2022-04-19; OpenJDK Runtime Environment (build 11.0.15+10-Ubuntu-0ubuntu0.18.04.1); OpenJDK 64-Bit Server VM (build 11.0.15+10-Ubuntu-0ubuntu0.18.04.1, mixed mode, sharing)\n",
            "  Starting server from /usr/local/lib/python3.7/dist-packages/h2o/backend/bin/h2o.jar\n",
            "  Ice root: /tmp/tmpmyfxtl1u\n",
            "  JVM stdout: /tmp/tmpmyfxtl1u/h2o_unknownUser_started_from_python.out\n",
            "  JVM stderr: /tmp/tmpmyfxtl1u/h2o_unknownUser_started_from_python.err\n",
            "  Server is running at http://127.0.0.1:54321\n",
            "Connecting to H2O server at http://127.0.0.1:54321 ... successful.\n"
          ]
        },
        {
          "output_type": "display_data",
          "data": {
            "text/plain": [
              "--------------------------  ----------------------------------\n",
              "H2O_cluster_uptime:         05 secs\n",
              "H2O_cluster_timezone:       Etc/UTC\n",
              "H2O_data_parsing_timezone:  UTC\n",
              "H2O_cluster_version:        3.36.1.2\n",
              "H2O_cluster_version_age:    1 month and 3 days\n",
              "H2O_cluster_name:           H2O_from_python_unknownUser_glyn5v\n",
              "H2O_cluster_total_nodes:    1\n",
              "H2O_cluster_free_memory:    2 Gb\n",
              "H2O_cluster_total_cores:    2\n",
              "H2O_cluster_allowed_cores:  2\n",
              "H2O_cluster_status:         locked, healthy\n",
              "H2O_connection_url:         http://127.0.0.1:54321\n",
              "H2O_connection_proxy:       {\"http\": null, \"https\": null}\n",
              "H2O_internal_security:      False\n",
              "Python_version:             3.7.13 final\n",
              "--------------------------  ----------------------------------"
            ],
            "text/html": [
              "<div style=\"overflow:auto\"><table style=\"width:50%\"><tr><td>H2O_cluster_uptime:</td>\n",
              "<td>05 secs</td></tr>\n",
              "<tr><td>H2O_cluster_timezone:</td>\n",
              "<td>Etc/UTC</td></tr>\n",
              "<tr><td>H2O_data_parsing_timezone:</td>\n",
              "<td>UTC</td></tr>\n",
              "<tr><td>H2O_cluster_version:</td>\n",
              "<td>3.36.1.2</td></tr>\n",
              "<tr><td>H2O_cluster_version_age:</td>\n",
              "<td>1 month and 3 days </td></tr>\n",
              "<tr><td>H2O_cluster_name:</td>\n",
              "<td>H2O_from_python_unknownUser_glyn5v</td></tr>\n",
              "<tr><td>H2O_cluster_total_nodes:</td>\n",
              "<td>1</td></tr>\n",
              "<tr><td>H2O_cluster_free_memory:</td>\n",
              "<td>2 Gb</td></tr>\n",
              "<tr><td>H2O_cluster_total_cores:</td>\n",
              "<td>2</td></tr>\n",
              "<tr><td>H2O_cluster_allowed_cores:</td>\n",
              "<td>2</td></tr>\n",
              "<tr><td>H2O_cluster_status:</td>\n",
              "<td>locked, healthy</td></tr>\n",
              "<tr><td>H2O_connection_url:</td>\n",
              "<td>http://127.0.0.1:54321</td></tr>\n",
              "<tr><td>H2O_connection_proxy:</td>\n",
              "<td>{\"http\": null, \"https\": null}</td></tr>\n",
              "<tr><td>H2O_internal_security:</td>\n",
              "<td>False</td></tr>\n",
              "<tr><td>Python_version:</td>\n",
              "<td>3.7.13 final</td></tr></table></div>"
            ]
          },
          "metadata": {}
        }
      ],
      "source": [
        "import h2o                                                        # h2o python library\n",
        "from h2o.backend import H2OLocalServer                            # for model extraction\n",
        "from h2o.estimators.random_forest import H2ORandomForestEstimator # for decision tree in model extraction\n",
        "import itertools                                              # for cartesian product of parameters\n",
        "import xgboost as xgb                                         # base xgboost package for python\n",
        "from interpret.perf import ROC                                    # ROC measure for ebm\n",
        "import matplotlib.pyplot as plt                                   # for plots\n",
        "import numpy as np                                                # for basic array manipulation                            \n",
        "import pandas as pd                                               # for dataframe manipulation\n",
        "import subprocess                                                 # to run external processes for model extraction\n",
        "import time                                                       # for timers\n",
        "\n",
        "# enables display of images in notebook\n",
        "from IPython.display import Image\n",
        "from IPython.display import display\n",
        "\n",
        "# set numpy random seed for better reproducibility\n",
        "SEED = 12345 \n",
        "np.random.seed(SEED)\n",
        "\n",
        "# set number of threads\n",
        "NTHREAD = 4\n",
        "\n",
        "h2o.init(max_mem_size='2G')      # start h2o\n",
        "h2o.remove_all()                 # remove any existing data structures from h2o memory\n",
        "h2o.no_progress()                # turn off h2o progress indicators  "
      ]
    },
    {
      "cell_type": "markdown",
      "id": "71a7b83c",
      "metadata": {
        "id": "71a7b83c"
      },
      "source": [
        "### Define Utility Functions"
      ]
    },
    {
      "cell_type": "markdown",
      "id": "3971b7a1",
      "metadata": {
        "id": "3971b7a1"
      },
      "source": [
        "#### Utility function that trains a cross-validated decision tree"
      ]
    },
    {
      "cell_type": "code",
      "execution_count": null,
      "id": "6d50432a",
      "metadata": {
        "id": "6d50432a"
      },
      "outputs": [],
      "source": [
        "def get_cv_dt(x_names, y_name, train, model_id, seed_, title, valid=None):\n",
        "\n",
        "    \"\"\" Utility function to train decision trees.\n",
        "    Args:\n",
        "        x_names: Names of input variables as a list.\n",
        "        y_name: Name of target variable.\n",
        "        train: Pandas DataFrame containing x_names and y_name on which to train\n",
        "               decision tree.\n",
        "        model_id: h2o model identifier.\n",
        "        seed_: Random seed for improved reproducibility.\n",
        "        title: Title for generated plot of tree.\n",
        "        valid: Optional validation data.\n",
        "    Returns:\n",
        "        Model as h2o model object.\n",
        "    \"\"\"\n",
        "    \n",
        "    # initialize single tree model\n",
        "    tree = H2ORandomForestEstimator(ntrees=1,  # use only one tree\n",
        "                                    sample_rate=1,  # use all rows in that tree\n",
        "                                    mtries=-2,  # use all columns in that tree's split search\n",
        "                                    max_depth=4,  # shallow trees are easier to understand\n",
        "                                    seed=seed_,  # set random seed for reproducibility\n",
        "                                    nfolds=3,  # cross-validation for stability and ...\n",
        "                                    # only way to get metrics for 1 tree in h2o\n",
        "                                    model_id=model_id)  # gives MOJO artifact a recognizable name\n",
        "\n",
        "    # train single tree model\n",
        "    if valid is not None:\n",
        "        tree.train(x=x_names, y=y_name, training_frame=h2o.H2OFrame(train), validation_frame=h2o.H2OFrame(valid))\n",
        "    else:\n",
        "        htrain = h2o.H2OFrame(train)\n",
        "        htrain[x_names] = htrain[x_names].asnumeric()\n",
        "        tree.train(x=x_names, y=y_name, training_frame=htrain)\n",
        "\n",
        "    # persist MOJO (compiled Java representation of trained model)\n",
        "    # from which to generate plot of tree\n",
        "    mojo_path = tree.download_mojo(path='.')\n",
        "    print('Generated MOJO path:\\n', mojo_path)\n",
        "\n",
        "    # generate graphviz file and then PNG\n",
        "    get_gv(title, model_id, mojo_path)\n",
        "    get_png(model_id)\n",
        "\n",
        "    return tree\n"
      ]
    },
    {
      "cell_type": "markdown",
      "id": "a7520c66",
      "metadata": {
        "id": "a7520c66"
      },
      "source": [
        "#### Utility function that converts h2o MOJO into graphviz file"
      ]
    },
    {
      "cell_type": "code",
      "execution_count": null,
      "id": "06565643",
      "metadata": {
        "id": "06565643"
      },
      "outputs": [],
      "source": [
        "def get_gv(title, model_id, mojo_path):\n",
        "    \n",
        "    \"\"\" Utility function to generate graphviz dot file from h2o MOJO using\n",
        "        a subprocess.\n",
        "        \n",
        "    Args:\n",
        "        title: Title for displayed decision tree.\n",
        "        model_id: h2o model identifier.\n",
        "        mojo_path: Path to saved model MOJO (Java scoring artifact);\n",
        "                   generated by train_cv_dt function above.\n",
        "    \"\"\"\n",
        "\n",
        "    # locate h2o jar\n",
        "    hs = H2OLocalServer()\n",
        "    h2o_jar_path = hs._find_jar()\n",
        "    print('Discovered H2O jar path:\\n', h2o_jar_path)\n",
        "\n",
        "    # construct command line call to generate graphviz version of\n",
        "    # tree, see for more information:\n",
        "    # http://docs.h2o.ai/h2o/latest-stable/h2o-genmodel/javadoc/index.html\n",
        "    gv_file_name = model_id + '.gv'\n",
        "    gv_args = str('-cp ' + h2o_jar_path +\n",
        "                  ' hex.genmodel.tools.PrintMojo --tree 0 -i '\n",
        "                  + mojo_path + ' -o').split()\n",
        "    gv_args.insert(0, 'java')\n",
        "    gv_args.append(gv_file_name)\n",
        "    if title is not None:\n",
        "        gv_args = gv_args + ['--title', title]\n",
        "\n",
        "    # call constructed command\n",
        "    print()\n",
        "    print('Calling external process ...')\n",
        "    print(' '.join(gv_args))\n",
        "    # if the line below is failing for you, try instead:\n",
        "    # _ = subprocess.call(gv_args, shell=True)\n",
        "    _ = subprocess.call(gv_args)\n"
      ]
    },
    {
      "cell_type": "markdown",
      "id": "2c824edd",
      "metadata": {
        "id": "2c824edd"
      },
      "source": [
        "#### Utility function that converts graphviz file into PNG"
      ]
    },
    {
      "cell_type": "code",
      "execution_count": null,
      "id": "2c2783b6",
      "metadata": {
        "id": "2c2783b6"
      },
      "outputs": [],
      "source": [
        "def get_png(model_id):\n",
        "\n",
        "    \"\"\" Utility function to generate PNGs from .dots using a subprocess.\n",
        "    Arg:\n",
        "        model_id: h2o model identifier.\n",
        "    \"\"\"\n",
        "\n",
        "    gv_file_name = model_id + '.gv'\n",
        "\n",
        "    # construct call to generate PNG from\n",
        "    # graphviz representation of the tree\n",
        "    png_file_name = model_id + '.png'\n",
        "    png_args = str('dot -Tpng ' + gv_file_name + ' -o ' + png_file_name)\n",
        "    png_args = png_args.split()\n",
        "\n",
        "    # call\n",
        "    print('Calling external process ...')\n",
        "    print(' '.join(png_args))\n",
        "    # if the line below is failing for you, try instead:\n",
        "    # _ = subprocess.call(png_args, shell=True)\n",
        "    _ = subprocess.call(png_args)\n"
      ]
    },
    {
      "cell_type": "markdown",
      "source": [
        "#### Define utility function for random grid search"
      ],
      "metadata": {
        "id": "BR1A9F0yg6pN"
      },
      "id": "BR1A9F0yg6pN"
    },
    {
      "cell_type": "code",
      "source": [
        "def xgb_grid(dtrain, dvalid, mono_constraints=None, gs_params=None, n_models=None,\n",
        "             ntree=None, early_stopping_rounds=None, verbose=False, seed=None):\n",
        "    \n",
        "    \"\"\" Performs a random grid search over n_models and gs_params.\n",
        "\n",
        "    :param dtrain: Training data in LightSVM format.\n",
        "    :param dvalid: Validation data in LightSVM format.\n",
        "    :param mono_constraints: User-supplied monotonicity constraints.\n",
        "    :param gs_params: Dictionary of lists of potential XGBoost parameters over which to search.\n",
        "    :param n_models: Number of random models to evaluate.\n",
        "    :param ntree: Number of trees in XGBoost model.\n",
        "    :param early_stopping_rounds: XGBoost early stopping rounds.\n",
        "    :param verbose: Whether to display training iterations, default False.\n",
        "    :param seed: Random seed for better interpretability.\n",
        "    :return: Best candidate model from random grid search.\n",
        "\n",
        "    \"\"\"\n",
        "    \n",
        "    # cartesian product of gs_params\n",
        "    keys, values = zip(*gs_params.items())\n",
        "    experiments = [dict(zip(keys, v)) for v in itertools.product(*values)]\n",
        "\n",
        "    # preserve exact reproducibility for this function\n",
        "    np.random.seed(SEED) \n",
        "    \n",
        "    # select randomly from cartesian product space\n",
        "    selected_experiments = np.random.choice(len(experiments), n_models)\n",
        "\n",
        "    # set global params for objective,  etc.\n",
        "    params = {'booster': 'gbtree',\n",
        "              'eval_metric': 'auc',\n",
        "              'nthread': NTHREAD,\n",
        "              'objective': 'binary:logistic',\n",
        "              'seed': SEED}\n",
        "\n",
        "    # init grid search loop\n",
        "    best_candidate = None\n",
        "    best_score = 0\n",
        "\n",
        "    # grid search loop\n",
        "    for i, exp in enumerate(selected_experiments):\n",
        "\n",
        "        params.update(experiments[exp])  # override global params with current grid run params\n",
        "\n",
        "        print('Grid search run %d/%d:' % (int(i + 1), int(n_models)))\n",
        "        print('Training with parameters:', params)\n",
        "\n",
        "        # train on current params\n",
        "        watchlist = [(dtrain, 'train'), (dvalid, 'eval')]\n",
        "        \n",
        "        if mono_constraints is not None:\n",
        "            params['monotone_constraints'] = mono_constraints\n",
        "        \n",
        "        candidate = xgb.train(params,\n",
        "                              dtrain,\n",
        "                              ntree,\n",
        "                              early_stopping_rounds=early_stopping_rounds,\n",
        "                              evals=watchlist,\n",
        "                              verbose_eval=verbose)    \n",
        "\n",
        "        # determine if current model is better than previous best\n",
        "        if candidate.best_score > best_score:\n",
        "            best_candidate = candidate\n",
        "            best_score = candidate.best_score\n",
        "            print('Grid search new best score discovered at iteration %d/%d: %.4f.' %\n",
        "                             (int(i + 1), int(n_models), candidate.best_score))\n",
        "\n",
        "        print('---------- ----------')\n",
        "            \n",
        "    return best_candidate"
      ],
      "metadata": {
        "id": "rBQK41UIg7fm"
      },
      "id": "rBQK41UIg7fm",
      "execution_count": null,
      "outputs": []
    },
    {
      "cell_type": "markdown",
      "id": "152e8474",
      "metadata": {
        "id": "152e8474"
      },
      "source": [
        "#### Start global timer"
      ]
    },
    {
      "cell_type": "code",
      "execution_count": null,
      "id": "110ae3e4",
      "metadata": {
        "id": "110ae3e4"
      },
      "outputs": [],
      "source": [
        "tic = time.time()"
      ]
    },
    {
      "cell_type": "markdown",
      "id": "e36c81fd",
      "metadata": {
        "id": "e36c81fd"
      },
      "source": [
        "#### Import data"
      ]
    },
    {
      "cell_type": "code",
      "execution_count": null,
      "id": "36898e3f",
      "metadata": {
        "id": "36898e3f"
      },
      "outputs": [],
      "source": [
        "data = pd.read_csv('data/hmda_train_preprocessed.csv')"
      ]
    },
    {
      "cell_type": "markdown",
      "id": "02f780ca",
      "metadata": {
        "id": "02f780ca"
      },
      "source": [
        "#### Assign basic modeling roles"
      ]
    },
    {
      "cell_type": "code",
      "execution_count": null,
      "id": "374364cd",
      "metadata": {
        "id": "374364cd"
      },
      "outputs": [],
      "source": [
        "y_name = 'high_priced'"
      ]
    },
    {
      "cell_type": "markdown",
      "id": "2bd91ac7",
      "metadata": {
        "id": "2bd91ac7"
      },
      "source": [
        "## Fit interpretable model"
      ]
    },
    {
      "cell_type": "markdown",
      "id": "b63c7465",
      "metadata": {
        "id": "b63c7465"
      },
      "source": [
        "#### Split data into train and validation partitions "
      ]
    },
    {
      "cell_type": "code",
      "execution_count": null,
      "id": "d82faabc",
      "metadata": {
        "colab": {
          "base_uri": "https://localhost:8080/"
        },
        "id": "d82faabc",
        "outputId": "741c2662-cfc4-47e5-f9f0-cf8ccdfa686d",
        "scrolled": true
      },
      "outputs": [
        {
          "output_type": "stream",
          "name": "stdout",
          "text": [
            "Train data rows = 112253, columns = 23\n",
            "Validation data rows = 48085, columns = 23\n"
          ]
        }
      ],
      "source": [
        "np.random.seed(SEED) # preserve exact reproducibility for this cell\n",
        "\n",
        "split_ratio = 0.7 # 70%/30% train/test split\n",
        "\n",
        "# execute split\n",
        "split = np.random.rand(len(data)) < split_ratio\n",
        "train = data[split]\n",
        "valid = data[~split]\n",
        "\n",
        "# summarize split\n",
        "print('Train data rows = %d, columns = %d' % (train.shape[0], train.shape[1]))\n",
        "print('Validation data rows = %d, columns = %d' % (valid.shape[0], valid.shape[1]))\n",
        "\n",
        "# benchmark - Train data rows = 112253, columns = 23\n",
        "# benchmark - Validation data rows = 48085, columns = 23"
      ]
    },
    {
      "cell_type": "markdown",
      "id": "348b7fb0",
      "metadata": {
        "id": "348b7fb0"
      },
      "source": [
        "### Monotonic XGBoost"
      ]
    },
    {
      "cell_type": "markdown",
      "id": "df03ff02",
      "metadata": {
        "id": "df03ff02"
      },
      "source": [
        "#### Retrain most accurate model above 0.8 AIR to act as blackbox prediction API"
      ]
    },
    {
      "cell_type": "code",
      "execution_count": null,
      "id": "363c0f63",
      "metadata": {
        "colab": {
          "base_uri": "https://localhost:8080/"
        },
        "id": "363c0f63",
        "outputId": "e549aca4-adb6-4a0e-a4df-0861e99fc5fc"
      },
      "outputs": [
        {
          "output_type": "stream",
          "name": "stdout",
          "text": [
            "Grid search run 1/1:\n",
            "Training with parameters: {'booster': 'gbtree', 'eval_metric': 'auc', 'nthread': 4, 'objective': 'binary:logistic', 'seed': 12345, 'colsample_bytree': 0.3, 'colsample_bylevel': 0.3, 'eta': 0.05, 'max_depth': 3, 'reg_alpha': 0.0005, 'reg_lambda': 0.0005, 'subsample': 0.3, 'min_child_weight': 10, 'gamma': 0.2}\n",
            "Grid search new best score discovered at iteration 1/1: 0.7904.\n",
            "---------- ----------\n"
          ]
        }
      ],
      "source": [
        "# params dict for remediated models\n",
        "rem_gs_params = {'colsample_bytree': [0.3],\n",
        "             'colsample_bylevel': [0.3],\n",
        "             'eta': [0.05],\n",
        "             'max_depth': [3],\n",
        "             'reg_alpha': [0.0005],\n",
        "             'reg_lambda': [0.0005],\n",
        "             'subsample': [0.3],\n",
        "             'min_child_weight': [10], \n",
        "             'gamma': [0.2]}\n",
        "\n",
        "mono_constraints = (1, 1, 1, -1, 0, -1, 0, 1, 0, 1)\n",
        "\n",
        "rem_x_names = ['debt_to_income_ratio_std',\n",
        "          'income_std',\n",
        "          'term_360',\n",
        "          'property_value_std',\n",
        "          'intro_rate_period_std',\n",
        "          'loan_to_value_ratio_std',\n",
        "          'loan_amount_std',\n",
        "          'debt_to_income_ratio_missing',\n",
        "          'conforming',\n",
        "          'no_intro_rate_period_std']\n",
        "\n",
        "# Convert data to SVMLight format\n",
        "dtrain = xgb.DMatrix(train[rem_x_names], train[y_name])\n",
        "dvalid = xgb.DMatrix(valid[rem_x_names], valid[y_name])\n",
        "\n",
        "# retrain\n",
        "rem_mxgb = xgb_grid(dtrain, dvalid, gs_params=rem_gs_params, n_models=1, ntree=1000, early_stopping_rounds=100, \n",
        "                     mono_constraints=mono_constraints, seed=SEED)"
      ]
    },
    {
      "cell_type": "markdown",
      "id": "cfb8c431",
      "metadata": {
        "id": "cfb8c431"
      },
      "source": [
        "## Model Extraction Attack"
      ]
    },
    {
      "cell_type": "markdown",
      "id": "947518b5",
      "metadata": {
        "id": "947518b5"
      },
      "source": [
        "#### Generate synthetic data for extraction attack\n",
        "For an API or model to be usable by customers or others, the system documentation must contain basic information about expected input variables. Between that information, domain knowledge, and publicly available information, an attacker can make a good guess at what the input data should look like."
      ]
    },
    {
      "cell_type": "code",
      "execution_count": null,
      "id": "524c092b",
      "metadata": {
        "id": "524c092b"
      },
      "outputs": [],
      "source": [
        "# best guess at feature distributions\n",
        "schema_dict = {'term_360':                     {'p': 0.9, 'dist': 'binomial'},\n",
        "               'conforming':                   {'p': 0.9, 'dist': 'binomial'},\n",
        "               'no_intro_rate_period_std':     {'p': 0.1, 'dist': 'binomial'},\n",
        "               'loan_amount_std':              {'min': -5, 'scale': 10, 'dist': 'exponential'}, \n",
        "               'loan_to_value_ratio_std':     {'min': -5, 'scale': 20, 'dist': 'exponential'},\n",
        "               'debt_to_income_ratio_missing':              {'p': 0.1, 'dist': 'binomial'}, \n",
        "               'intro_rate_period_std':        {'min': 0, 'scale': 2, 'dist': 'exponential'},  \n",
        "               'property_value_std':           {'min': -5, 'scale': 5, 'dist': 'exponential'},\n",
        "               'income_std':                   {'min': -5, 'scale': 25, 'dist': 'exponential'},\n",
        "               'debt_to_income_ratio_std':     {'mean': 1, 'scale': 1, 'dist': 'normal'}}\n",
        "\n",
        "N = 10000 # rows of simulated data\n",
        "\n",
        "random_frame = pd.DataFrame(columns=list(schema_dict.keys())) # init empty frame\n",
        "                            \n",
        "np.random.seed(SEED) # same results each time cell is run    \n",
        "    \n",
        "for j in list(schema_dict.keys()): # loop through features\n",
        "    \n",
        "    # simulate normal features\n",
        "    if schema_dict[j]['dist'] == 'normal':\n",
        "        random_frame[j] = np.random.normal(loc=schema_dict[j]['mean'],\n",
        "                                           scale=schema_dict[j]['scale'], \n",
        "                                           size=N)\n",
        "    \n",
        "    # simulate expontential features\n",
        "    if schema_dict[j]['dist'] == 'exponential':\n",
        "        random_frame[j] = schema_dict[j]['min'] + np.random.exponential(scale=schema_dict[j]['scale'], \n",
        "                                                                        size=N)\n",
        "        \n",
        "    # simulate binomial features\n",
        "    if schema_dict[j]['dist'] == 'binomial':\n",
        "        random_frame[j] = np.random.binomial(1, schema_dict[j]['p'], N)\n",
        "        \n",
        "# make up for no_intro_rate_period_std scale shift\n",
        "random_frame['no_intro_rate_period_std'] = -4 * random_frame['no_intro_rate_period_std'] "
      ]
    },
    {
      "cell_type": "markdown",
      "id": "2418dc0f",
      "metadata": {
        "id": "2418dc0f"
      },
      "source": [
        "#### Visualize simulated data"
      ]
    },
    {
      "cell_type": "code",
      "execution_count": null,
      "id": "2e81a172",
      "metadata": {
        "colab": {
          "base_uri": "https://localhost:8080/",
          "height": 879
        },
        "id": "2e81a172",
        "outputId": "5c153b9b-9cc1-432e-ddbf-c693dcccd7ae"
      },
      "outputs": [
        {
          "output_type": "display_data",
          "data": {
            "text/plain": [
              "<Figure size 1080x1080 with 12 Axes>"
            ],
            "image/png": "[encoded data removed]"
          },
          "metadata": {
            "needs_background": "light"
          }
        }
      ],
      "source": [
        "_ = random_frame[rem_x_names].hist(bins=50, figsize=(15, 15))"
      ]
    },
    {
      "cell_type": "markdown",
      "id": "59714916",
      "metadata": {
        "id": "59714916"
      },
      "source": [
        "#### First call to blackbox model for predictions on random data"
      ]
    },
    {
      "cell_type": "code",
      "execution_count": null,
      "id": "3b446c68",
      "metadata": {
        "colab": {
          "base_uri": "https://localhost:8080/",
          "height": 268
        },
        "id": "3b446c68",
        "outputId": "5dc45c43-9235-41e1-d611-71adf76e7a3a"
      },
      "outputs": [
        {
          "output_type": "execute_result",
          "data": {
            "text/plain": [
              "   term_360  conforming  no_intro_rate_period_std  loan_amount_std  \\\n",
              "0       0.0         1.0                       0.0         7.848707   \n",
              "1       1.0         1.0                      -4.0        49.480298   \n",
              "2       1.0         1.0                       0.0         0.014153   \n",
              "3       1.0         1.0                       0.0         7.912400   \n",
              "4       1.0         1.0                       0.0        -4.538403   \n",
              "\n",
              "   loan_to_value_ratio_std  debt_to_income_ratio_missing  \\\n",
              "0                15.181068                           0.0   \n",
              "1                 5.299546                           0.0   \n",
              "2                23.538818                           1.0   \n",
              "3                -2.511781                           1.0   \n",
              "4                12.961149                           0.0   \n",
              "\n",
              "   intro_rate_period_std  property_value_std  income_std  \\\n",
              "0               1.004879           -2.731905   32.052887   \n",
              "1               0.277543            1.724979   -0.470255   \n",
              "2               1.496444           -4.277447   53.173455   \n",
              "3               0.551670           -2.803627    6.145163   \n",
              "4               2.602348           -4.420137   -1.653931   \n",
              "\n",
              "   debt_to_income_ratio_std      phat  \n",
              "0                 -0.295856  0.145338  \n",
              "1                  0.921457  0.235020  \n",
              "2                 -0.558132  0.041802  \n",
              "3                  1.943730  0.125118  \n",
              "4                 -0.093219  0.020330  "
            ],
            "text/html": [
              "\n",
              "  <div id=\"df-63b58e6a-254d-4305-b147-e071e0f02d19\">\n",
              "    <div class=\"colab-df-container\">\n",
              "      <div>\n",
              "<style scoped>\n",
              "    .dataframe tbody tr th:only-of-type {\n",
              "        vertical-align: middle;\n",
              "    }\n",
              "\n",
              "    .dataframe tbody tr th {\n",
              "        vertical-align: top;\n",
              "    }\n",
              "\n",
              "    .dataframe thead th {\n",
              "        text-align: right;\n",
              "    }\n",
              "</style>\n",
              "<table border=\"1\" class=\"dataframe\">\n",
              "  <thead>\n",
              "    <tr style=\"text-align: right;\">\n",
              "      <th></th>\n",
              "      <th>term_360</th>\n",
              "      <th>conforming</th>\n",
              "      <th>no_intro_rate_period_std</th>\n",
              "      <th>loan_amount_std</th>\n",
              "      <th>loan_to_value_ratio_std</th>\n",
              "      <th>debt_to_income_ratio_missing</th>\n",
              "      <th>intro_rate_period_std</th>\n",
              "      <th>property_value_std</th>\n",
              "      <th>income_std</th>\n",
              "      <th>debt_to_income_ratio_std</th>\n",
              "      <th>phat</th>\n",
              "    </tr>\n",
              "  </thead>\n",
              "  <tbody>\n",
              "    <tr>\n",
              "      <th>0</th>\n",
              "      <td>0.0</td>\n",
              "      <td>1.0</td>\n",
              "      <td>0.0</td>\n",
              "      <td>7.848707</td>\n",
              "      <td>15.181068</td>\n",
              "      <td>0.0</td>\n",
              "      <td>1.004879</td>\n",
              "      <td>-2.731905</td>\n",
              "      <td>32.052887</td>\n",
              "      <td>-0.295856</td>\n",
              "      <td>0.145338</td>\n",
              "    </tr>\n",
              "    <tr>\n",
              "      <th>1</th>\n",
              "      <td>1.0</td>\n",
              "      <td>1.0</td>\n",
              "      <td>-4.0</td>\n",
              "      <td>49.480298</td>\n",
              "      <td>5.299546</td>\n",
              "      <td>0.0</td>\n",
              "      <td>0.277543</td>\n",
              "      <td>1.724979</td>\n",
              "      <td>-0.470255</td>\n",
              "      <td>0.921457</td>\n",
              "      <td>0.235020</td>\n",
              "    </tr>\n",
              "    <tr>\n",
              "      <th>2</th>\n",
              "      <td>1.0</td>\n",
              "      <td>1.0</td>\n",
              "      <td>0.0</td>\n",
              "      <td>0.014153</td>\n",
              "      <td>23.538818</td>\n",
              "      <td>1.0</td>\n",
              "      <td>1.496444</td>\n",
              "      <td>-4.277447</td>\n",
              "      <td>53.173455</td>\n",
              "      <td>-0.558132</td>\n",
              "      <td>0.041802</td>\n",
              "    </tr>\n",
              "    <tr>\n",
              "      <th>3</th>\n",
              "      <td>1.0</td>\n",
              "      <td>1.0</td>\n",
              "      <td>0.0</td>\n",
              "      <td>7.912400</td>\n",
              "      <td>-2.511781</td>\n",
              "      <td>1.0</td>\n",
              "      <td>0.551670</td>\n",
              "      <td>-2.803627</td>\n",
              "      <td>6.145163</td>\n",
              "      <td>1.943730</td>\n",
              "      <td>0.125118</td>\n",
              "    </tr>\n",
              "    <tr>\n",
              "      <th>4</th>\n",
              "      <td>1.0</td>\n",
              "      <td>1.0</td>\n",
              "      <td>0.0</td>\n",
              "      <td>-4.538403</td>\n",
              "      <td>12.961149</td>\n",
              "      <td>0.0</td>\n",
              "      <td>2.602348</td>\n",
              "      <td>-4.420137</td>\n",
              "      <td>-1.653931</td>\n",
              "      <td>-0.093219</td>\n",
              "      <td>0.020330</td>\n",
              "    </tr>\n",
              "  </tbody>\n",
              "</table>\n",
              "</div>\n",
              "      <button class=\"colab-df-convert\" onclick=\"convertToInteractive('df-63b58e6a-254d-4305-b147-e071e0f02d19')\"\n",
              "              title=\"Convert this dataframe to an interactive table.\"\n",
              "              style=\"display:none;\">\n",
              "        \n",
              "  <svg xmlns=\"http://www.w3.org/2000/svg\" height=\"24px\"viewBox=\"0 0 24 24\"\n",
              "       width=\"24px\">\n",
              "    <path d=\"M0 0h24v24H0V0z\" fill=\"none\"/>\n",
              "    <path d=\"M18.56 5.44l.94 2.06.94-2.06 2.06-.94-2.06-.94-.94-2.06-.94 2.06-2.06.94zm-11 1L8.5 8.5l.94-2.06 2.06-.94-2.06-.94L8.5 2.5l-.94 2.06-2.06.94zm10 10l.94 2.06.94-2.06 2.06-.94-2.06-.94-.94-2.06-.94 2.06-2.06.94z\"/><path d=\"M17.41 7.96l-1.37-1.37c-.4-.4-.92-.59-1.43-.59-.52 0-1.04.2-1.43.59L10.3 9.45l-7.72 7.72c-.78.78-.78 2.05 0 2.83L4 21.41c.39.39.9.59 1.41.59.51 0 1.02-.2 1.41-.59l7.78-7.78 2.81-2.81c.8-.78.8-2.07 0-2.86zM5.41 20L4 18.59l7.72-7.72 1.47 1.35L5.41 20z\"/>\n",
              "  </svg>\n",
              "      </button>\n",
              "      \n",
              "  <style>\n",
              "    .colab-df-container {\n",
              "      display:flex;\n",
              "      flex-wrap:wrap;\n",
              "      gap: 12px;\n",
              "    }\n",
              "\n",
              "    .colab-df-convert {\n",
              "      background-color: #E8F0FE;\n",
              "      border: none;\n",
              "      border-radius: 50%;\n",
              "      cursor: pointer;\n",
              "      display: none;\n",
              "      fill: #1967D2;\n",
              "      height: 32px;\n",
              "      padding: 0 0 0 0;\n",
              "      width: 32px;\n",
              "    }\n",
              "\n",
              "    .colab-df-convert:hover {\n",
              "      background-color: #E2EBFA;\n",
              "      box-shadow: 0px 1px 2px rgba(60, 64, 67, 0.3), 0px 1px 3px 1px rgba(60, 64, 67, 0.15);\n",
              "      fill: #174EA6;\n",
              "    }\n",
              "\n",
              "    [theme=dark] .colab-df-convert {\n",
              "      background-color: #3B4455;\n",
              "      fill: #D2E3FC;\n",
              "    }\n",
              "\n",
              "    [theme=dark] .colab-df-convert:hover {\n",
              "      background-color: #434B5C;\n",
              "      box-shadow: 0px 1px 3px 1px rgba(0, 0, 0, 0.15);\n",
              "      filter: drop-shadow(0px 1px 2px rgba(0, 0, 0, 0.3));\n",
              "      fill: #FFFFFF;\n",
              "    }\n",
              "  </style>\n",
              "\n",
              "      <script>\n",
              "        const buttonEl =\n",
              "          document.querySelector('#df-63b58e6a-254d-4305-b147-e071e0f02d19 button.colab-df-convert');\n",
              "        buttonEl.style.display =\n",
              "          google.colab.kernel.accessAllowed ? 'block' : 'none';\n",
              "\n",
              "        async function convertToInteractive(key) {\n",
              "          const element = document.querySelector('#df-63b58e6a-254d-4305-b147-e071e0f02d19');\n",
              "          const dataTable =\n",
              "            await google.colab.kernel.invokeFunction('convertToInteractive',\n",
              "                                                     [key], {});\n",
              "          if (!dataTable) return;\n",
              "\n",
              "          const docLinkHtml = 'Like what you see? Visit the ' +\n",
              "            '<a target=\"_blank\" href=https://colab.research.google.com/notebooks/data_table.ipynb>data table notebook</a>'\n",
              "            + ' to learn more about interactive tables.';\n",
              "          element.innerHTML = '';\n",
              "          dataTable['output_type'] = 'display_data';\n",
              "          await google.colab.output.renderOutput(dataTable, element);\n",
              "          const docLink = document.createElement('div');\n",
              "          docLink.innerHTML = docLinkHtml;\n",
              "          element.appendChild(docLink);\n",
              "        }\n",
              "      </script>\n",
              "    </div>\n",
              "  </div>\n",
              "  "
            ]
          },
          "metadata": {},
          "execution_count": 17
        }
      ],
      "source": [
        "blackbox_phat = pd.DataFrame(rem_mxgb.predict(dvalid, iteration_range=(0, rem_mxgb.best_ntree_limit)), columns=['phat']) \n",
        "blackbox_phat = pd.concat([random_frame.reset_index(drop=True), blackbox_phat], axis=1)\n",
        "blackbox_phat.head()"
      ]
    },
    {
      "cell_type": "markdown",
      "id": "56f93fa6",
      "metadata": {
        "id": "56f93fa6"
      },
      "source": [
        "#### Extract a stolen decision tree model"
      ]
    },
    {
      "cell_type": "code",
      "execution_count": null,
      "id": "050a1d7d",
      "metadata": {
        "colab": {
          "base_uri": "https://localhost:8080/"
        },
        "id": "050a1d7d",
        "outputId": "823fec18-00fc-464c-bfc1-7e13f2dfd71c"
      },
      "outputs": [
        {
          "output_type": "stream",
          "name": "stdout",
          "text": [
            "Generated MOJO path:\n",
            " /content/stolen_dt.zip\n",
            "Discovered H2O jar path:\n",
            " /usr/local/lib/python3.7/dist-packages/h2o/backend/bin/h2o.jar\n",
            "\n",
            "Calling external process ...\n",
            "java -cp /usr/local/lib/python3.7/dist-packages/h2o/backend/bin/h2o.jar hex.genmodel.tools.PrintMojo --tree 0 -i /content/stolen_dt.zip -o stolen_dt.gv --title Stolen Model\n",
            "Calling external process ...\n",
            "dot -Tpng stolen_dt.gv -o stolen_dt.png\n"
          ]
        }
      ],
      "source": [
        "stolen_dt = get_cv_dt(list(schema_dict.keys()),\n",
        "                      'phat',\n",
        "                      blackbox_phat,\n",
        "                      'stolen_dt', \n",
        "                      SEED, \n",
        "                      'Stolen Model')"
      ]
    },
    {
      "cell_type": "markdown",
      "id": "b18da369",
      "metadata": {
        "id": "b18da369"
      },
      "source": [
        "#### View stolen model\n",
        "Double clicking should zoom."
      ]
    },
    {
      "cell_type": "code",
      "execution_count": null,
      "id": "24451c59",
      "metadata": {
        "colab": {
          "base_uri": "https://localhost:8080/",
          "height": 489
        },
        "id": "24451c59",
        "outputId": "fa20cc0f-9124-479c-90e8-b0e16e472d67"
      },
      "outputs": [
        {
          "output_type": "display_data",
          "data": {
            "image/png": "[encoded data removed]",
            "text/plain": [
              "<IPython.core.display.Image object>"
            ]
          },
          "metadata": {}
        }
      ],
      "source": [
        "display(Image(('stolen_dt.png')))"
      ]
    },
    {
      "cell_type": "markdown",
      "id": "35de3a60",
      "metadata": {
        "id": "35de3a60"
      },
      "source": [
        "Now an attacker has a basic flow chart for how the EBM works. This can be used as a sandbox for subsequent attacks!"
      ]
    },
    {
      "cell_type": "markdown",
      "id": "6565e1b3",
      "metadata": {
        "id": "6565e1b3"
      },
      "source": [
        "#### Variable importance for stolen model"
      ]
    },
    {
      "cell_type": "code",
      "execution_count": null,
      "id": "9aac5bac",
      "metadata": {
        "colab": {
          "base_uri": "https://localhost:8080/",
          "height": 648
        },
        "id": "9aac5bac",
        "outputId": "403bed95-b477-4ca2-82c9-33db245e082e"
      },
      "outputs": [
        {
          "output_type": "display_data",
          "data": {
            "text/plain": [
              "<Figure size 1008x720 with 1 Axes>"
            ],
            "image/png": "[encoded data removed]"
          },
          "metadata": {
            "needs_background": "light"
          }
        },
        {
          "output_type": "execute_result",
          "data": {
            "text/plain": [
              "<h2o.plot._plot_result._MObject at 0x7fbc742adf50>"
            ]
          },
          "metadata": {},
          "execution_count": 20
        },
        {
          "output_type": "display_data",
          "data": {
            "text/plain": [
              "<Figure size 432x288 with 0 Axes>"
            ]
          },
          "metadata": {}
        }
      ],
      "source": [
        "stolen_dt.varimp_plot()"
      ]
    },
    {
      "cell_type": "markdown",
      "id": "c5c29092",
      "metadata": {
        "id": "c5c29092"
      },
      "source": [
        "These are the most important variables in the stolen model, and likely in the real model too. "
      ]
    },
    {
      "cell_type": "markdown",
      "id": "13c97b5f",
      "metadata": {
        "id": "13c97b5f"
      },
      "source": [
        "#### Assess accuracy of stolen model"
      ]
    },
    {
      "cell_type": "code",
      "execution_count": null,
      "id": "6b56aa90",
      "metadata": {
        "colab": {
          "base_uri": "https://localhost:8080/",
          "height": 302
        },
        "id": "6b56aa90",
        "outputId": "051560cd-466b-44c7-920a-03de48ca138b"
      },
      "outputs": [
        {
          "output_type": "stream",
          "name": "stdout",
          "text": [
            "\n",
            "Cross-Validation Metrics Summary: \n"
          ]
        },
        {
          "output_type": "display_data",
          "data": {
            "text/plain": [
              "                               mean        sd  cv_1_valid  cv_2_valid  \\\n",
              "0                     mae  0.070010  0.000109    0.070131    0.069981   \n",
              "1  mean_residual_deviance  0.008143  0.000030    0.008160    0.008161   \n",
              "2                     mse  0.008143  0.000030    0.008160    0.008161   \n",
              "3                      r2 -0.005256  0.002653   -0.002193   -0.006757   \n",
              "4       residual_deviance  0.008143  0.000030    0.008160    0.008161   \n",
              "5                    rmse  0.090241  0.000166    0.090332    0.090341   \n",
              "6                   rmsle  0.078232  0.000103    0.078307    0.078274   \n",
              "\n",
              "   cv_3_valid  \n",
              "0    0.069918  \n",
              "1    0.008109  \n",
              "2    0.008109  \n",
              "3   -0.006817  \n",
              "4    0.008109  \n",
              "5    0.090049  \n",
              "6    0.078114  "
            ],
            "text/html": [
              "\n",
              "  <div id=\"df-b3440e39-b591-42b1-935b-7574956f8089\">\n",
              "    <div class=\"colab-df-container\">\n",
              "      <div>\n",
              "<style scoped>\n",
              "    .dataframe tbody tr th:only-of-type {\n",
              "        vertical-align: middle;\n",
              "    }\n",
              "\n",
              "    .dataframe tbody tr th {\n",
              "        vertical-align: top;\n",
              "    }\n",
              "\n",
              "    .dataframe thead th {\n",
              "        text-align: right;\n",
              "    }\n",
              "</style>\n",
              "<table border=\"1\" class=\"dataframe\">\n",
              "  <thead>\n",
              "    <tr style=\"text-align: right;\">\n",
              "      <th></th>\n",
              "      <th></th>\n",
              "      <th>mean</th>\n",
              "      <th>sd</th>\n",
              "      <th>cv_1_valid</th>\n",
              "      <th>cv_2_valid</th>\n",
              "      <th>cv_3_valid</th>\n",
              "    </tr>\n",
              "  </thead>\n",
              "  <tbody>\n",
              "    <tr>\n",
              "      <th>0</th>\n",
              "      <td>mae</td>\n",
              "      <td>0.070010</td>\n",
              "      <td>0.000109</td>\n",
              "      <td>0.070131</td>\n",
              "      <td>0.069981</td>\n",
              "      <td>0.069918</td>\n",
              "    </tr>\n",
              "    <tr>\n",
              "      <th>1</th>\n",
              "      <td>mean_residual_deviance</td>\n",
              "      <td>0.008143</td>\n",
              "      <td>0.000030</td>\n",
              "      <td>0.008160</td>\n",
              "      <td>0.008161</td>\n",
              "      <td>0.008109</td>\n",
              "    </tr>\n",
              "    <tr>\n",
              "      <th>2</th>\n",
              "      <td>mse</td>\n",
              "      <td>0.008143</td>\n",
              "      <td>0.000030</td>\n",
              "      <td>0.008160</td>\n",
              "      <td>0.008161</td>\n",
              "      <td>0.008109</td>\n",
              "    </tr>\n",
              "    <tr>\n",
              "      <th>3</th>\n",
              "      <td>r2</td>\n",
              "      <td>-0.005256</td>\n",
              "      <td>0.002653</td>\n",
              "      <td>-0.002193</td>\n",
              "      <td>-0.006757</td>\n",
              "      <td>-0.006817</td>\n",
              "    </tr>\n",
              "    <tr>\n",
              "      <th>4</th>\n",
              "      <td>residual_deviance</td>\n",
              "      <td>0.008143</td>\n",
              "      <td>0.000030</td>\n",
              "      <td>0.008160</td>\n",
              "      <td>0.008161</td>\n",
              "      <td>0.008109</td>\n",
              "    </tr>\n",
              "    <tr>\n",
              "      <th>5</th>\n",
              "      <td>rmse</td>\n",
              "      <td>0.090241</td>\n",
              "      <td>0.000166</td>\n",
              "      <td>0.090332</td>\n",
              "      <td>0.090341</td>\n",
              "      <td>0.090049</td>\n",
              "    </tr>\n",
              "    <tr>\n",
              "      <th>6</th>\n",
              "      <td>rmsle</td>\n",
              "      <td>0.078232</td>\n",
              "      <td>0.000103</td>\n",
              "      <td>0.078307</td>\n",
              "      <td>0.078274</td>\n",
              "      <td>0.078114</td>\n",
              "    </tr>\n",
              "  </tbody>\n",
              "</table>\n",
              "</div>\n",
              "      <button class=\"colab-df-convert\" onclick=\"convertToInteractive('df-b3440e39-b591-42b1-935b-7574956f8089')\"\n",
              "              title=\"Convert this dataframe to an interactive table.\"\n",
              "              style=\"display:none;\">\n",
              "        \n",
              "  <svg xmlns=\"http://www.w3.org/2000/svg\" height=\"24px\"viewBox=\"0 0 24 24\"\n",
              "       width=\"24px\">\n",
              "    <path d=\"M0 0h24v24H0V0z\" fill=\"none\"/>\n",
              "    <path d=\"M18.56 5.44l.94 2.06.94-2.06 2.06-.94-2.06-.94-.94-2.06-.94 2.06-2.06.94zm-11 1L8.5 8.5l.94-2.06 2.06-.94-2.06-.94L8.5 2.5l-.94 2.06-2.06.94zm10 10l.94 2.06.94-2.06 2.06-.94-2.06-.94-.94-2.06-.94 2.06-2.06.94z\"/><path d=\"M17.41 7.96l-1.37-1.37c-.4-.4-.92-.59-1.43-.59-.52 0-1.04.2-1.43.59L10.3 9.45l-7.72 7.72c-.78.78-.78 2.05 0 2.83L4 21.41c.39.39.9.59 1.41.59.51 0 1.02-.2 1.41-.59l7.78-7.78 2.81-2.81c.8-.78.8-2.07 0-2.86zM5.41 20L4 18.59l7.72-7.72 1.47 1.35L5.41 20z\"/>\n",
              "  </svg>\n",
              "      </button>\n",
              "      \n",
              "  <style>\n",
              "    .colab-df-container {\n",
              "      display:flex;\n",
              "      flex-wrap:wrap;\n",
              "      gap: 12px;\n",
              "    }\n",
              "\n",
              "    .colab-df-convert {\n",
              "      background-color: #E8F0FE;\n",
              "      border: none;\n",
              "      border-radius: 50%;\n",
              "      cursor: pointer;\n",
              "      display: none;\n",
              "      fill: #1967D2;\n",
              "      height: 32px;\n",
              "      padding: 0 0 0 0;\n",
              "      width: 32px;\n",
              "    }\n",
              "\n",
              "    .colab-df-convert:hover {\n",
              "      background-color: #E2EBFA;\n",
              "      box-shadow: 0px 1px 2px rgba(60, 64, 67, 0.3), 0px 1px 3px 1px rgba(60, 64, 67, 0.15);\n",
              "      fill: #174EA6;\n",
              "    }\n",
              "\n",
              "    [theme=dark] .colab-df-convert {\n",
              "      background-color: #3B4455;\n",
              "      fill: #D2E3FC;\n",
              "    }\n",
              "\n",
              "    [theme=dark] .colab-df-convert:hover {\n",
              "      background-color: #434B5C;\n",
              "      box-shadow: 0px 1px 3px 1px rgba(0, 0, 0, 0.15);\n",
              "      filter: drop-shadow(0px 1px 2px rgba(0, 0, 0, 0.3));\n",
              "      fill: #FFFFFF;\n",
              "    }\n",
              "  </style>\n",
              "\n",
              "      <script>\n",
              "        const buttonEl =\n",
              "          document.querySelector('#df-b3440e39-b591-42b1-935b-7574956f8089 button.colab-df-convert');\n",
              "        buttonEl.style.display =\n",
              "          google.colab.kernel.accessAllowed ? 'block' : 'none';\n",
              "\n",
              "        async function convertToInteractive(key) {\n",
              "          const element = document.querySelector('#df-b3440e39-b591-42b1-935b-7574956f8089');\n",
              "          const dataTable =\n",
              "            await google.colab.kernel.invokeFunction('convertToInteractive',\n",
              "                                                     [key], {});\n",
              "          if (!dataTable) return;\n",
              "\n",
              "          const docLinkHtml = 'Like what you see? Visit the ' +\n",
              "            '<a target=\"_blank\" href=https://colab.research.google.com/notebooks/data_table.ipynb>data table notebook</a>'\n",
              "            + ' to learn more about interactive tables.';\n",
              "          element.innerHTML = '';\n",
              "          dataTable['output_type'] = 'display_data';\n",
              "          await google.colab.output.renderOutput(dataTable, element);\n",
              "          const docLink = document.createElement('div');\n",
              "          docLink.innerHTML = docLinkHtml;\n",
              "          element.appendChild(docLink);\n",
              "        }\n",
              "      </script>\n",
              "    </div>\n",
              "  </div>\n",
              "  "
            ]
          },
          "metadata": {}
        },
        {
          "output_type": "execute_result",
          "data": {
            "text/plain": [
              ""
            ]
          },
          "metadata": {},
          "execution_count": 21
        }
      ],
      "source": [
        "stolen_dt.cross_validation_metrics_summary() # h2o makes cv evaluation metrics available"
      ]
    },
    {
      "cell_type": "markdown",
      "id": "213a095e",
      "metadata": {
        "id": "213a095e"
      },
      "source": [
        "The stolen model is accurate enough (RMSE=0.09), and importantly, very stable."
      ]
    },
    {
      "cell_type": "markdown",
      "id": "870bd1ca",
      "metadata": {
        "id": "870bd1ca"
      },
      "source": [
        "## Use Stolen Model to Craft Adversarial Examples"
      ]
    },
    {
      "cell_type": "markdown",
      "id": "4d6dbd15",
      "metadata": {
        "id": "4d6dbd15"
      },
      "source": [
        "#### Use stolen model to find seed rows for adversary searches"
      ]
    },
    {
      "cell_type": "code",
      "execution_count": null,
      "id": "ab232319",
      "metadata": {
        "colab": {
          "base_uri": "https://localhost:8080/"
        },
        "id": "ab232319",
        "outputId": "cfa53691-f317-4b91-f4e7-cc9d40b7966a"
      },
      "outputs": [
        {
          "output_type": "stream",
          "name": "stdout",
          "text": [
            "Low adversarial example search seed row:\n",
            "term_360                       NaN\n",
            "conforming                     NaN\n",
            "no_intro_rate_period_std       NaN\n",
            "loan_amount_std                NaN\n",
            "loan_to_value_ratio_std        NaN\n",
            "debt_to_income_ratio_missing   NaN\n",
            "intro_rate_period_std          NaN\n",
            "property_value_std             NaN\n",
            "income_std                     NaN\n",
            "debt_to_income_ratio_std       NaN\n",
            "dtype: float64\n",
            "\n",
            "High adversarial example search seed row:\n",
            "term_360                       NaN\n",
            "conforming                     NaN\n",
            "no_intro_rate_period_std       NaN\n",
            "loan_amount_std                NaN\n",
            "loan_to_value_ratio_std        NaN\n",
            "debt_to_income_ratio_missing   NaN\n",
            "intro_rate_period_std          NaN\n",
            "property_value_std             NaN\n",
            "income_std                     NaN\n",
            "debt_to_income_ratio_std       NaN\n",
            "dtype: float64\n"
          ]
        }
      ],
      "source": [
        "low_adversary_seed = random_frame.loc[(random_frame['loan_to_value_ratio_std'] < 1865.5) &\n",
        "                                      (random_frame['loan_to_value_ratio_std'] >= 1844.5) & \n",
        "                                      (random_frame['property_value_std'] >= 6521.5) &\n",
        "                                      (random_frame['intro_rate_period_std'] < 8289), :].mean()\n",
        "print('Low adversarial example search seed row:')\n",
        "print(low_adversary_seed)\n",
        "print()\n",
        "\n",
        "high_adversary_seed = random_frame.loc[(random_frame['loan_to_value_ratio_std'] >= 1865.5) & \n",
        "                                       (random_frame['loan_to_value_ratio_std'] < 2040.5) & \n",
        "                                       (random_frame['property_value_std'] >= 9610.5) & \n",
        "                                       (random_frame['loan_amount_std'] >= 9310.5), :].mean()\n",
        "print('High adversarial example search seed row:')\n",
        "print(high_adversary_seed)"
      ]
    },
    {
      "cell_type": "markdown",
      "id": "257dc689",
      "metadata": {
        "id": "257dc689"
      },
      "source": [
        "#### Perturb seed row to find low scoring adversarial examples"
      ]
    },
    {
      "cell_type": "code",
      "execution_count": null,
      "id": "275972ba",
      "metadata": {
        "colab": {
          "base_uri": "https://localhost:8080/",
          "height": 267
        },
        "id": "275972ba",
        "outputId": "cd0c7ccb-6cce-4d6f-f11e-d7f90c2ce3d7"
      },
      "outputs": [
        {
          "output_type": "execute_result",
          "data": {
            "text/plain": [
              "   term_360  conforming  no_intro_rate_period_std  loan_amount_std  \\\n",
              "0       NaN         NaN                       NaN        -4.895193   \n",
              "1       NaN         NaN                       NaN        -4.895193   \n",
              "2       NaN         NaN                       NaN        -4.895193   \n",
              "3       NaN         NaN                       NaN        -4.895193   \n",
              "4       NaN         NaN                       NaN        -4.895193   \n",
              "\n",
              "   loan_to_value_ratio_std  debt_to_income_ratio_missing  \\\n",
              "0                85.695796                           NaN   \n",
              "1                85.695796                           NaN   \n",
              "2                85.695796                           NaN   \n",
              "3                85.695796                           NaN   \n",
              "4                85.695796                           NaN   \n",
              "\n",
              "   intro_rate_period_std  property_value_std  income_std  \\\n",
              "0               0.021205            17.11436         NaN   \n",
              "1               0.098589            17.11436         NaN   \n",
              "2               0.212123            17.11436         NaN   \n",
              "3               0.554220            17.11436         NaN   \n",
              "4               1.365071            17.11436         NaN   \n",
              "\n",
              "   debt_to_income_ratio_std  \n",
              "0                   3.37357  \n",
              "1                   3.37357  \n",
              "2                   3.37357  \n",
              "3                   3.37357  \n",
              "4                   3.37357  "
            ],
            "text/html": [
              "\n",
              "  <div id=\"df-76e04e36-893f-4f55-bd33-fa7ebeae8a51\">\n",
              "    <div class=\"colab-df-container\">\n",
              "      <div>\n",
              "<style scoped>\n",
              "    .dataframe tbody tr th:only-of-type {\n",
              "        vertical-align: middle;\n",
              "    }\n",
              "\n",
              "    .dataframe tbody tr th {\n",
              "        vertical-align: top;\n",
              "    }\n",
              "\n",
              "    .dataframe thead th {\n",
              "        text-align: right;\n",
              "    }\n",
              "</style>\n",
              "<table border=\"1\" class=\"dataframe\">\n",
              "  <thead>\n",
              "    <tr style=\"text-align: right;\">\n",
              "      <th></th>\n",
              "      <th>term_360</th>\n",
              "      <th>conforming</th>\n",
              "      <th>no_intro_rate_period_std</th>\n",
              "      <th>loan_amount_std</th>\n",
              "      <th>loan_to_value_ratio_std</th>\n",
              "      <th>debt_to_income_ratio_missing</th>\n",
              "      <th>intro_rate_period_std</th>\n",
              "      <th>property_value_std</th>\n",
              "      <th>income_std</th>\n",
              "      <th>debt_to_income_ratio_std</th>\n",
              "    </tr>\n",
              "  </thead>\n",
              "  <tbody>\n",
              "    <tr>\n",
              "      <th>0</th>\n",
              "      <td>NaN</td>\n",
              "      <td>NaN</td>\n",
              "      <td>NaN</td>\n",
              "      <td>-4.895193</td>\n",
              "      <td>85.695796</td>\n",
              "      <td>NaN</td>\n",
              "      <td>0.021205</td>\n",
              "      <td>17.11436</td>\n",
              "      <td>NaN</td>\n",
              "      <td>3.37357</td>\n",
              "    </tr>\n",
              "    <tr>\n",
              "      <th>1</th>\n",
              "      <td>NaN</td>\n",
              "      <td>NaN</td>\n",
              "      <td>NaN</td>\n",
              "      <td>-4.895193</td>\n",
              "      <td>85.695796</td>\n",
              "      <td>NaN</td>\n",
              "      <td>0.098589</td>\n",
              "      <td>17.11436</td>\n",
              "      <td>NaN</td>\n",
              "      <td>3.37357</td>\n",
              "    </tr>\n",
              "    <tr>\n",
              "      <th>2</th>\n",
              "      <td>NaN</td>\n",
              "      <td>NaN</td>\n",
              "      <td>NaN</td>\n",
              "      <td>-4.895193</td>\n",
              "      <td>85.695796</td>\n",
              "      <td>NaN</td>\n",
              "      <td>0.212123</td>\n",
              "      <td>17.11436</td>\n",
              "      <td>NaN</td>\n",
              "      <td>3.37357</td>\n",
              "    </tr>\n",
              "    <tr>\n",
              "      <th>3</th>\n",
              "      <td>NaN</td>\n",
              "      <td>NaN</td>\n",
              "      <td>NaN</td>\n",
              "      <td>-4.895193</td>\n",
              "      <td>85.695796</td>\n",
              "      <td>NaN</td>\n",
              "      <td>0.554220</td>\n",
              "      <td>17.11436</td>\n",
              "      <td>NaN</td>\n",
              "      <td>3.37357</td>\n",
              "    </tr>\n",
              "    <tr>\n",
              "      <th>4</th>\n",
              "      <td>NaN</td>\n",
              "      <td>NaN</td>\n",
              "      <td>NaN</td>\n",
              "      <td>-4.895193</td>\n",
              "      <td>85.695796</td>\n",
              "      <td>NaN</td>\n",
              "      <td>1.365071</td>\n",
              "      <td>17.11436</td>\n",
              "      <td>NaN</td>\n",
              "      <td>3.37357</td>\n",
              "    </tr>\n",
              "  </tbody>\n",
              "</table>\n",
              "</div>\n",
              "      <button class=\"colab-df-convert\" onclick=\"convertToInteractive('df-76e04e36-893f-4f55-bd33-fa7ebeae8a51')\"\n",
              "              title=\"Convert this dataframe to an interactive table.\"\n",
              "              style=\"display:none;\">\n",
              "        \n",
              "  <svg xmlns=\"http://www.w3.org/2000/svg\" height=\"24px\"viewBox=\"0 0 24 24\"\n",
              "       width=\"24px\">\n",
              "    <path d=\"M0 0h24v24H0V0z\" fill=\"none\"/>\n",
              "    <path d=\"M18.56 5.44l.94 2.06.94-2.06 2.06-.94-2.06-.94-.94-2.06-.94 2.06-2.06.94zm-11 1L8.5 8.5l.94-2.06 2.06-.94-2.06-.94L8.5 2.5l-.94 2.06-2.06.94zm10 10l.94 2.06.94-2.06 2.06-.94-2.06-.94-.94-2.06-.94 2.06-2.06.94z\"/><path d=\"M17.41 7.96l-1.37-1.37c-.4-.4-.92-.59-1.43-.59-.52 0-1.04.2-1.43.59L10.3 9.45l-7.72 7.72c-.78.78-.78 2.05 0 2.83L4 21.41c.39.39.9.59 1.41.59.51 0 1.02-.2 1.41-.59l7.78-7.78 2.81-2.81c.8-.78.8-2.07 0-2.86zM5.41 20L4 18.59l7.72-7.72 1.47 1.35L5.41 20z\"/>\n",
              "  </svg>\n",
              "      </button>\n",
              "      \n",
              "  <style>\n",
              "    .colab-df-container {\n",
              "      display:flex;\n",
              "      flex-wrap:wrap;\n",
              "      gap: 12px;\n",
              "    }\n",
              "\n",
              "    .colab-df-convert {\n",
              "      background-color: #E8F0FE;\n",
              "      border: none;\n",
              "      border-radius: 50%;\n",
              "      cursor: pointer;\n",
              "      display: none;\n",
              "      fill: #1967D2;\n",
              "      height: 32px;\n",
              "      padding: 0 0 0 0;\n",
              "      width: 32px;\n",
              "    }\n",
              "\n",
              "    .colab-df-convert:hover {\n",
              "      background-color: #E2EBFA;\n",
              "      box-shadow: 0px 1px 2px rgba(60, 64, 67, 0.3), 0px 1px 3px 1px rgba(60, 64, 67, 0.15);\n",
              "      fill: #174EA6;\n",
              "    }\n",
              "\n",
              "    [theme=dark] .colab-df-convert {\n",
              "      background-color: #3B4455;\n",
              "      fill: #D2E3FC;\n",
              "    }\n",
              "\n",
              "    [theme=dark] .colab-df-convert:hover {\n",
              "      background-color: #434B5C;\n",
              "      box-shadow: 0px 1px 3px 1px rgba(0, 0, 0, 0.15);\n",
              "      filter: drop-shadow(0px 1px 2px rgba(0, 0, 0, 0.3));\n",
              "      fill: #FFFFFF;\n",
              "    }\n",
              "  </style>\n",
              "\n",
              "      <script>\n",
              "        const buttonEl =\n",
              "          document.querySelector('#df-76e04e36-893f-4f55-bd33-fa7ebeae8a51 button.colab-df-convert');\n",
              "        buttonEl.style.display =\n",
              "          google.colab.kernel.accessAllowed ? 'block' : 'none';\n",
              "\n",
              "        async function convertToInteractive(key) {\n",
              "          const element = document.querySelector('#df-76e04e36-893f-4f55-bd33-fa7ebeae8a51');\n",
              "          const dataTable =\n",
              "            await google.colab.kernel.invokeFunction('convertToInteractive',\n",
              "                                                     [key], {});\n",
              "          if (!dataTable) return;\n",
              "\n",
              "          const docLinkHtml = 'Like what you see? Visit the ' +\n",
              "            '<a target=\"_blank\" href=https://colab.research.google.com/notebooks/data_table.ipynb>data table notebook</a>'\n",
              "            + ' to learn more about interactive tables.';\n",
              "          element.innerHTML = '';\n",
              "          dataTable['output_type'] = 'display_data';\n",
              "          await google.colab.output.renderOutput(dataTable, element);\n",
              "          const docLink = document.createElement('div');\n",
              "          docLink.innerHTML = docLinkHtml;\n",
              "          element.appendChild(docLink);\n",
              "        }\n",
              "      </script>\n",
              "    </div>\n",
              "  </div>\n",
              "  "
            ]
          },
          "metadata": {},
          "execution_count": 21
        }
      ],
      "source": [
        "# init results frames\n",
        "low_adversary_frame = pd.DataFrame(columns=list(schema_dict.keys())) \n",
        "\n",
        "# quantiles over which to search \n",
        "low_quantiles = [0.01, 0.05, 0.1, 0.25, 0.5] \n",
        "high_quantiles = [0.99, 0.95, 0.9, 0.75, 0.5]\n",
        "\n",
        "# generate potential adversarial examples across five important features\n",
        "# using values of each feature and seeded by information from stolen tree\n",
        "for a in list(random_frame['debt_to_income_ratio_std'].quantile(high_quantiles)): \n",
        "        for b in list(random_frame['loan_to_value_ratio_std'].quantile(high_quantiles)):\n",
        "            for c in list(random_frame['property_value_std'].quantile(high_quantiles)):\n",
        "                for d in list(random_frame['loan_amount_std'].quantile(low_quantiles)):\n",
        "                  for e in list(random_frame['intro_rate_period_std'].quantile(low_quantiles)):\n",
        "                    low_adversary_seed['debt_to_income_ratio_std'] = a\n",
        "                    low_adversary_seed['loan_to_value_ratio_std'] = b\n",
        "                    low_adversary_seed['property_value_std'] = c\n",
        "                    low_adversary_seed['loan_amount_std'] = d\n",
        "                    low_adversary_seed['intro_rate_period_std'] = e\n",
        "                    low_adversary_frame = low_adversary_frame.append(low_adversary_seed, \n",
        "                                                                     ignore_index=True, sort=False)\n",
        "                    \n",
        "# view potential low scoring adversarial examples\n",
        "low_adversary_frame.head()"
      ]
    },
    {
      "cell_type": "markdown",
      "id": "c09eb015",
      "metadata": {
        "id": "c09eb015"
      },
      "source": [
        "#### Perturb seed row to find high scoring adversarial examples"
      ]
    },
    {
      "cell_type": "code",
      "execution_count": null,
      "id": "cc25d224",
      "metadata": {
        "colab": {
          "base_uri": "https://localhost:8080/",
          "height": 267
        },
        "id": "cc25d224",
        "outputId": "b9d3ee58-8abe-4288-ec0d-413e6c39fe4f"
      },
      "outputs": [
        {
          "output_type": "execute_result",
          "data": {
            "text/plain": [
              "  term_360 conforming no_intro_rate_period_std  loan_amount_std  \\\n",
              "0      NaN        NaN                      NaN         1.902033   \n",
              "1      NaN        NaN                      NaN         1.902033   \n",
              "2      NaN        NaN                      NaN         1.902033   \n",
              "3      NaN        NaN                      NaN         1.902033   \n",
              "4      NaN        NaN                      NaN         1.902033   \n",
              "\n",
              "   loan_to_value_ratio_std debt_to_income_ratio_missing  \\\n",
              "0                 8.836235                          NaN   \n",
              "1                 8.836235                          NaN   \n",
              "2                 8.836235                          NaN   \n",
              "3                 8.836235                          NaN   \n",
              "4                 8.836235                          NaN   \n",
              "\n",
              "   intro_rate_period_std  property_value_std income_std  \\\n",
              "0               1.365071           -1.473919        NaN   \n",
              "1               1.365071           -1.473919        NaN   \n",
              "2               1.365071           -1.473919        NaN   \n",
              "3               1.365071           -1.473919        NaN   \n",
              "4               1.365071           -1.473919        NaN   \n",
              "\n",
              "   debt_to_income_ratio_std  \n",
              "0                  0.990468  \n",
              "1                  0.990468  \n",
              "2                  0.990468  \n",
              "3                  0.990468  \n",
              "4                  0.990468  "
            ],
            "text/html": [
              "\n",
              "  <div id=\"df-fdfaf669-a2d5-4f40-b1ad-e20a5f98f544\">\n",
              "    <div class=\"colab-df-container\">\n",
              "      <div>\n",
              "<style scoped>\n",
              "    .dataframe tbody tr th:only-of-type {\n",
              "        vertical-align: middle;\n",
              "    }\n",
              "\n",
              "    .dataframe tbody tr th {\n",
              "        vertical-align: top;\n",
              "    }\n",
              "\n",
              "    .dataframe thead th {\n",
              "        text-align: right;\n",
              "    }\n",
              "</style>\n",
              "<table border=\"1\" class=\"dataframe\">\n",
              "  <thead>\n",
              "    <tr style=\"text-align: right;\">\n",
              "      <th></th>\n",
              "      <th>term_360</th>\n",
              "      <th>conforming</th>\n",
              "      <th>no_intro_rate_period_std</th>\n",
              "      <th>loan_amount_std</th>\n",
              "      <th>loan_to_value_ratio_std</th>\n",
              "      <th>debt_to_income_ratio_missing</th>\n",
              "      <th>intro_rate_period_std</th>\n",
              "      <th>property_value_std</th>\n",
              "      <th>income_std</th>\n",
              "      <th>debt_to_income_ratio_std</th>\n",
              "    </tr>\n",
              "  </thead>\n",
              "  <tbody>\n",
              "    <tr>\n",
              "      <th>0</th>\n",
              "      <td>NaN</td>\n",
              "      <td>NaN</td>\n",
              "      <td>NaN</td>\n",
              "      <td>1.902033</td>\n",
              "      <td>8.836235</td>\n",
              "      <td>NaN</td>\n",
              "      <td>1.365071</td>\n",
              "      <td>-1.473919</td>\n",
              "      <td>NaN</td>\n",
              "      <td>0.990468</td>\n",
              "    </tr>\n",
              "    <tr>\n",
              "      <th>1</th>\n",
              "      <td>NaN</td>\n",
              "      <td>NaN</td>\n",
              "      <td>NaN</td>\n",
              "      <td>1.902033</td>\n",
              "      <td>8.836235</td>\n",
              "      <td>NaN</td>\n",
              "      <td>1.365071</td>\n",
              "      <td>-1.473919</td>\n",
              "      <td>NaN</td>\n",
              "      <td>0.990468</td>\n",
              "    </tr>\n",
              "    <tr>\n",
              "      <th>2</th>\n",
              "      <td>NaN</td>\n",
              "      <td>NaN</td>\n",
              "      <td>NaN</td>\n",
              "      <td>1.902033</td>\n",
              "      <td>8.836235</td>\n",
              "      <td>NaN</td>\n",
              "      <td>1.365071</td>\n",
              "      <td>-1.473919</td>\n",
              "      <td>NaN</td>\n",
              "      <td>0.990468</td>\n",
              "    </tr>\n",
              "    <tr>\n",
              "      <th>3</th>\n",
              "      <td>NaN</td>\n",
              "      <td>NaN</td>\n",
              "      <td>NaN</td>\n",
              "      <td>1.902033</td>\n",
              "      <td>8.836235</td>\n",
              "      <td>NaN</td>\n",
              "      <td>1.365071</td>\n",
              "      <td>-1.473919</td>\n",
              "      <td>NaN</td>\n",
              "      <td>0.990468</td>\n",
              "    </tr>\n",
              "    <tr>\n",
              "      <th>4</th>\n",
              "      <td>NaN</td>\n",
              "      <td>NaN</td>\n",
              "      <td>NaN</td>\n",
              "      <td>1.902033</td>\n",
              "      <td>8.836235</td>\n",
              "      <td>NaN</td>\n",
              "      <td>1.365071</td>\n",
              "      <td>-1.473919</td>\n",
              "      <td>NaN</td>\n",
              "      <td>0.990468</td>\n",
              "    </tr>\n",
              "  </tbody>\n",
              "</table>\n",
              "</div>\n",
              "      <button class=\"colab-df-convert\" onclick=\"convertToInteractive('df-fdfaf669-a2d5-4f40-b1ad-e20a5f98f544')\"\n",
              "              title=\"Convert this dataframe to an interactive table.\"\n",
              "              style=\"display:none;\">\n",
              "        \n",
              "  <svg xmlns=\"http://www.w3.org/2000/svg\" height=\"24px\"viewBox=\"0 0 24 24\"\n",
              "       width=\"24px\">\n",
              "    <path d=\"M0 0h24v24H0V0z\" fill=\"none\"/>\n",
              "    <path d=\"M18.56 5.44l.94 2.06.94-2.06 2.06-.94-2.06-.94-.94-2.06-.94 2.06-2.06.94zm-11 1L8.5 8.5l.94-2.06 2.06-.94-2.06-.94L8.5 2.5l-.94 2.06-2.06.94zm10 10l.94 2.06.94-2.06 2.06-.94-2.06-.94-.94-2.06-.94 2.06-2.06.94z\"/><path d=\"M17.41 7.96l-1.37-1.37c-.4-.4-.92-.59-1.43-.59-.52 0-1.04.2-1.43.59L10.3 9.45l-7.72 7.72c-.78.78-.78 2.05 0 2.83L4 21.41c.39.39.9.59 1.41.59.51 0 1.02-.2 1.41-.59l7.78-7.78 2.81-2.81c.8-.78.8-2.07 0-2.86zM5.41 20L4 18.59l7.72-7.72 1.47 1.35L5.41 20z\"/>\n",
              "  </svg>\n",
              "      </button>\n",
              "      \n",
              "  <style>\n",
              "    .colab-df-container {\n",
              "      display:flex;\n",
              "      flex-wrap:wrap;\n",
              "      gap: 12px;\n",
              "    }\n",
              "\n",
              "    .colab-df-convert {\n",
              "      background-color: #E8F0FE;\n",
              "      border: none;\n",
              "      border-radius: 50%;\n",
              "      cursor: pointer;\n",
              "      display: none;\n",
              "      fill: #1967D2;\n",
              "      height: 32px;\n",
              "      padding: 0 0 0 0;\n",
              "      width: 32px;\n",
              "    }\n",
              "\n",
              "    .colab-df-convert:hover {\n",
              "      background-color: #E2EBFA;\n",
              "      box-shadow: 0px 1px 2px rgba(60, 64, 67, 0.3), 0px 1px 3px 1px rgba(60, 64, 67, 0.15);\n",
              "      fill: #174EA6;\n",
              "    }\n",
              "\n",
              "    [theme=dark] .colab-df-convert {\n",
              "      background-color: #3B4455;\n",
              "      fill: #D2E3FC;\n",
              "    }\n",
              "\n",
              "    [theme=dark] .colab-df-convert:hover {\n",
              "      background-color: #434B5C;\n",
              "      box-shadow: 0px 1px 3px 1px rgba(0, 0, 0, 0.15);\n",
              "      filter: drop-shadow(0px 1px 2px rgba(0, 0, 0, 0.3));\n",
              "      fill: #FFFFFF;\n",
              "    }\n",
              "  </style>\n",
              "\n",
              "      <script>\n",
              "        const buttonEl =\n",
              "          document.querySelector('#df-fdfaf669-a2d5-4f40-b1ad-e20a5f98f544 button.colab-df-convert');\n",
              "        buttonEl.style.display =\n",
              "          google.colab.kernel.accessAllowed ? 'block' : 'none';\n",
              "\n",
              "        async function convertToInteractive(key) {\n",
              "          const element = document.querySelector('#df-fdfaf669-a2d5-4f40-b1ad-e20a5f98f544');\n",
              "          const dataTable =\n",
              "            await google.colab.kernel.invokeFunction('convertToInteractive',\n",
              "                                                     [key], {});\n",
              "          if (!dataTable) return;\n",
              "\n",
              "          const docLinkHtml = 'Like what you see? Visit the ' +\n",
              "            '<a target=\"_blank\" href=https://colab.research.google.com/notebooks/data_table.ipynb>data table notebook</a>'\n",
              "            + ' to learn more about interactive tables.';\n",
              "          element.innerHTML = '';\n",
              "          dataTable['output_type'] = 'display_data';\n",
              "          await google.colab.output.renderOutput(dataTable, element);\n",
              "          const docLink = document.createElement('div');\n",
              "          docLink.innerHTML = docLinkHtml;\n",
              "          element.appendChild(docLink);\n",
              "        }\n",
              "      </script>\n",
              "    </div>\n",
              "  </div>\n",
              "  "
            ]
          },
          "metadata": {},
          "execution_count": 22
        }
      ],
      "source": [
        "# init results frames\n",
        "high_adversary_frame = pd.DataFrame(columns=list(schema_dict.keys())) \n",
        "\n",
        "# generate potential adversarial examples across four important features\n",
        "# using values of each feature and seeded by information from stolen tree\n",
        "for a in list(random_frame['debt_to_income_ratio_std'].quantile(high_quantiles)): \n",
        "        for b in list(random_frame['loan_to_value_ratio_std'].quantile(high_quantiles)):\n",
        "            for c in list(random_frame['property_value_std'].quantile(high_quantiles)):\n",
        "                for d in list(random_frame['loan_amount_std'].quantile(low_quantiles)):\n",
        "                  for e in list(random_frame['intro_rate_period_std'].quantile(low_quantiles)):\n",
        "                    high_adversary_frame['debt_to_income_ratio_std'] = a\n",
        "                    high_adversary_frame['loan_to_value_ratio_std'] = b\n",
        "                    high_adversary_frame['property_value_std'] = c\n",
        "                    high_adversary_frame['loan_amount_std'] = d\n",
        "                    high_adversary_frame['intro_rate_period_std'] = e\n",
        "                    high_adversary_frame = high_adversary_frame.append(high_adversary_seed, \n",
        "                                                                        ignore_index=True, sort=False)\n",
        "                    \n",
        "# view potential high scoring adversarial examples\n",
        "high_adversary_frame.head()"
      ]
    },
    {
      "cell_type": "markdown",
      "id": "0d7343f9",
      "metadata": {
        "id": "0d7343f9"
      },
      "source": [
        "#### Second call to blackbox API to test adversarial examples"
      ]
    },
    {
      "cell_type": "code",
      "execution_count": null,
      "id": "cfa45033",
      "metadata": {
        "colab": {
          "base_uri": "https://localhost:8080/",
          "height": 481
        },
        "id": "cfa45033",
        "outputId": "9167928a-6442-4844-efe8-ea5a4d86d294"
      },
      "outputs": [
        {
          "output_type": "execute_result",
          "data": {
            "text/plain": [
              "      term_360 conforming no_intro_rate_period_std  loan_amount_std  \\\n",
              "11904      NaN        NaN                      NaN              NaN   \n",
              "1360       NaN        NaN                      NaN        -3.986328   \n",
              "29276      NaN        NaN                      NaN              NaN   \n",
              "24639      NaN        NaN                      NaN              NaN   \n",
              "46464      NaN        NaN                      NaN              NaN   \n",
              "...        ...        ...                      ...              ...   \n",
              "1256       NaN        NaN                      NaN        -4.485062   \n",
              "10250      NaN        NaN                      NaN              NaN   \n",
              "3405       NaN        NaN                      NaN         1.902033   \n",
              "42803      NaN        NaN                      NaN              NaN   \n",
              "29397      NaN        NaN                      NaN              NaN   \n",
              "\n",
              "       loan_to_value_ratio_std debt_to_income_ratio_missing  \\\n",
              "11904                      NaN                          NaN   \n",
              "1360                 85.695796                          NaN   \n",
              "29276                      NaN                          NaN   \n",
              "24639                      NaN                          NaN   \n",
              "46464                      NaN                          NaN   \n",
              "...                        ...                          ...   \n",
              "1256                 85.695796                          NaN   \n",
              "10250                      NaN                          NaN   \n",
              "3405                  8.836235                          NaN   \n",
              "42803                      NaN                          NaN   \n",
              "29397                      NaN                          NaN   \n",
              "\n",
              "       intro_rate_period_std  property_value_std income_std  \\\n",
              "11904                    NaN                 NaN        NaN   \n",
              "1360                0.021205           -1.473919        NaN   \n",
              "29276                    NaN                 NaN        NaN   \n",
              "24639                    NaN                 NaN        NaN   \n",
              "46464                    NaN                 NaN        NaN   \n",
              "...                      ...                 ...        ...   \n",
              "1256                0.098589           17.114360        NaN   \n",
              "10250                    NaN                 NaN        NaN   \n",
              "3405                1.365071           -1.473919        NaN   \n",
              "42803                    NaN                 NaN        NaN   \n",
              "29397                    NaN                 NaN        NaN   \n",
              "\n",
              "       debt_to_income_ratio_std      phat  \n",
              "11904                       NaN  0.000310  \n",
              "1360                   2.279120  0.000614  \n",
              "29276                       NaN  0.000635  \n",
              "24639                       NaN  0.000650  \n",
              "46464                       NaN  0.000659  \n",
              "...                         ...       ...  \n",
              "1256                   2.279120  0.717062  \n",
              "10250                       NaN  0.736011  \n",
              "3405                   0.990468  0.757993  \n",
              "42803                       NaN  0.809236  \n",
              "29397                       NaN  0.898246  \n",
              "\n",
              "[48085 rows x 11 columns]"
            ],
            "text/html": [
              "\n",
              "  <div id=\"df-8b5c97c4-2016-4a3e-baaf-fb631529664a\">\n",
              "    <div class=\"colab-df-container\">\n",
              "      <div>\n",
              "<style scoped>\n",
              "    .dataframe tbody tr th:only-of-type {\n",
              "        vertical-align: middle;\n",
              "    }\n",
              "\n",
              "    .dataframe tbody tr th {\n",
              "        vertical-align: top;\n",
              "    }\n",
              "\n",
              "    .dataframe thead th {\n",
              "        text-align: right;\n",
              "    }\n",
              "</style>\n",
              "<table border=\"1\" class=\"dataframe\">\n",
              "  <thead>\n",
              "    <tr style=\"text-align: right;\">\n",
              "      <th></th>\n",
              "      <th>term_360</th>\n",
              "      <th>conforming</th>\n",
              "      <th>no_intro_rate_period_std</th>\n",
              "      <th>loan_amount_std</th>\n",
              "      <th>loan_to_value_ratio_std</th>\n",
              "      <th>debt_to_income_ratio_missing</th>\n",
              "      <th>intro_rate_period_std</th>\n",
              "      <th>property_value_std</th>\n",
              "      <th>income_std</th>\n",
              "      <th>debt_to_income_ratio_std</th>\n",
              "      <th>phat</th>\n",
              "    </tr>\n",
              "  </thead>\n",
              "  <tbody>\n",
              "    <tr>\n",
              "      <th>11904</th>\n",
              "      <td>NaN</td>\n",
              "      <td>NaN</td>\n",
              "      <td>NaN</td>\n",
              "      <td>NaN</td>\n",
              "      <td>NaN</td>\n",
              "      <td>NaN</td>\n",
              "      <td>NaN</td>\n",
              "      <td>NaN</td>\n",
              "      <td>NaN</td>\n",
              "      <td>NaN</td>\n",
              "      <td>0.000310</td>\n",
              "    </tr>\n",
              "    <tr>\n",
              "      <th>1360</th>\n",
              "      <td>NaN</td>\n",
              "      <td>NaN</td>\n",
              "      <td>NaN</td>\n",
              "      <td>-3.986328</td>\n",
              "      <td>85.695796</td>\n",
              "      <td>NaN</td>\n",
              "      <td>0.021205</td>\n",
              "      <td>-1.473919</td>\n",
              "      <td>NaN</td>\n",
              "      <td>2.279120</td>\n",
              "      <td>0.000614</td>\n",
              "    </tr>\n",
              "    <tr>\n",
              "      <th>29276</th>\n",
              "      <td>NaN</td>\n",
              "      <td>NaN</td>\n",
              "      <td>NaN</td>\n",
              "      <td>NaN</td>\n",
              "      <td>NaN</td>\n",
              "      <td>NaN</td>\n",
              "      <td>NaN</td>\n",
              "      <td>NaN</td>\n",
              "      <td>NaN</td>\n",
              "      <td>NaN</td>\n",
              "      <td>0.000635</td>\n",
              "    </tr>\n",
              "    <tr>\n",
              "      <th>24639</th>\n",
              "      <td>NaN</td>\n",
              "      <td>NaN</td>\n",
              "      <td>NaN</td>\n",
              "      <td>NaN</td>\n",
              "      <td>NaN</td>\n",
              "      <td>NaN</td>\n",
              "      <td>NaN</td>\n",
              "      <td>NaN</td>\n",
              "      <td>NaN</td>\n",
              "      <td>NaN</td>\n",
              "      <td>0.000650</td>\n",
              "    </tr>\n",
              "    <tr>\n",
              "      <th>46464</th>\n",
              "      <td>NaN</td>\n",
              "      <td>NaN</td>\n",
              "      <td>NaN</td>\n",
              "      <td>NaN</td>\n",
              "      <td>NaN</td>\n",
              "      <td>NaN</td>\n",
              "      <td>NaN</td>\n",
              "      <td>NaN</td>\n",
              "      <td>NaN</td>\n",
              "      <td>NaN</td>\n",
              "      <td>0.000659</td>\n",
              "    </tr>\n",
              "    <tr>\n",
              "      <th>...</th>\n",
              "      <td>...</td>\n",
              "      <td>...</td>\n",
              "      <td>...</td>\n",
              "      <td>...</td>\n",
              "      <td>...</td>\n",
              "      <td>...</td>\n",
              "      <td>...</td>\n",
              "      <td>...</td>\n",
              "      <td>...</td>\n",
              "      <td>...</td>\n",
              "      <td>...</td>\n",
              "    </tr>\n",
              "    <tr>\n",
              "      <th>1256</th>\n",
              "      <td>NaN</td>\n",
              "      <td>NaN</td>\n",
              "      <td>NaN</td>\n",
              "      <td>-4.485062</td>\n",
              "      <td>85.695796</td>\n",
              "      <td>NaN</td>\n",
              "      <td>0.098589</td>\n",
              "      <td>17.114360</td>\n",
              "      <td>NaN</td>\n",
              "      <td>2.279120</td>\n",
              "      <td>0.717062</td>\n",
              "    </tr>\n",
              "    <tr>\n",
              "      <th>10250</th>\n",
              "      <td>NaN</td>\n",
              "      <td>NaN</td>\n",
              "      <td>NaN</td>\n",
              "      <td>NaN</td>\n",
              "      <td>NaN</td>\n",
              "      <td>NaN</td>\n",
              "      <td>NaN</td>\n",
              "      <td>NaN</td>\n",
              "      <td>NaN</td>\n",
              "      <td>NaN</td>\n",
              "      <td>0.736011</td>\n",
              "    </tr>\n",
              "    <tr>\n",
              "      <th>3405</th>\n",
              "      <td>NaN</td>\n",
              "      <td>NaN</td>\n",
              "      <td>NaN</td>\n",
              "      <td>1.902033</td>\n",
              "      <td>8.836235</td>\n",
              "      <td>NaN</td>\n",
              "      <td>1.365071</td>\n",
              "      <td>-1.473919</td>\n",
              "      <td>NaN</td>\n",
              "      <td>0.990468</td>\n",
              "      <td>0.757993</td>\n",
              "    </tr>\n",
              "    <tr>\n",
              "      <th>42803</th>\n",
              "      <td>NaN</td>\n",
              "      <td>NaN</td>\n",
              "      <td>NaN</td>\n",
              "      <td>NaN</td>\n",
              "      <td>NaN</td>\n",
              "      <td>NaN</td>\n",
              "      <td>NaN</td>\n",
              "      <td>NaN</td>\n",
              "      <td>NaN</td>\n",
              "      <td>NaN</td>\n",
              "      <td>0.809236</td>\n",
              "    </tr>\n",
              "    <tr>\n",
              "      <th>29397</th>\n",
              "      <td>NaN</td>\n",
              "      <td>NaN</td>\n",
              "      <td>NaN</td>\n",
              "      <td>NaN</td>\n",
              "      <td>NaN</td>\n",
              "      <td>NaN</td>\n",
              "      <td>NaN</td>\n",
              "      <td>NaN</td>\n",
              "      <td>NaN</td>\n",
              "      <td>NaN</td>\n",
              "      <td>0.898246</td>\n",
              "    </tr>\n",
              "  </tbody>\n",
              "</table>\n",
              "<p>48085 rows × 11 columns</p>\n",
              "</div>\n",
              "      <button class=\"colab-df-convert\" onclick=\"convertToInteractive('df-8b5c97c4-2016-4a3e-baaf-fb631529664a')\"\n",
              "              title=\"Convert this dataframe to an interactive table.\"\n",
              "              style=\"display:none;\">\n",
              "        \n",
              "  <svg xmlns=\"http://www.w3.org/2000/svg\" height=\"24px\"viewBox=\"0 0 24 24\"\n",
              "       width=\"24px\">\n",
              "    <path d=\"M0 0h24v24H0V0z\" fill=\"none\"/>\n",
              "    <path d=\"M18.56 5.44l.94 2.06.94-2.06 2.06-.94-2.06-.94-.94-2.06-.94 2.06-2.06.94zm-11 1L8.5 8.5l.94-2.06 2.06-.94-2.06-.94L8.5 2.5l-.94 2.06-2.06.94zm10 10l.94 2.06.94-2.06 2.06-.94-2.06-.94-.94-2.06-.94 2.06-2.06.94z\"/><path d=\"M17.41 7.96l-1.37-1.37c-.4-.4-.92-.59-1.43-.59-.52 0-1.04.2-1.43.59L10.3 9.45l-7.72 7.72c-.78.78-.78 2.05 0 2.83L4 21.41c.39.39.9.59 1.41.59.51 0 1.02-.2 1.41-.59l7.78-7.78 2.81-2.81c.8-.78.8-2.07 0-2.86zM5.41 20L4 18.59l7.72-7.72 1.47 1.35L5.41 20z\"/>\n",
              "  </svg>\n",
              "      </button>\n",
              "      \n",
              "  <style>\n",
              "    .colab-df-container {\n",
              "      display:flex;\n",
              "      flex-wrap:wrap;\n",
              "      gap: 12px;\n",
              "    }\n",
              "\n",
              "    .colab-df-convert {\n",
              "      background-color: #E8F0FE;\n",
              "      border: none;\n",
              "      border-radius: 50%;\n",
              "      cursor: pointer;\n",
              "      display: none;\n",
              "      fill: #1967D2;\n",
              "      height: 32px;\n",
              "      padding: 0 0 0 0;\n",
              "      width: 32px;\n",
              "    }\n",
              "\n",
              "    .colab-df-convert:hover {\n",
              "      background-color: #E2EBFA;\n",
              "      box-shadow: 0px 1px 2px rgba(60, 64, 67, 0.3), 0px 1px 3px 1px rgba(60, 64, 67, 0.15);\n",
              "      fill: #174EA6;\n",
              "    }\n",
              "\n",
              "    [theme=dark] .colab-df-convert {\n",
              "      background-color: #3B4455;\n",
              "      fill: #D2E3FC;\n",
              "    }\n",
              "\n",
              "    [theme=dark] .colab-df-convert:hover {\n",
              "      background-color: #434B5C;\n",
              "      box-shadow: 0px 1px 3px 1px rgba(0, 0, 0, 0.15);\n",
              "      filter: drop-shadow(0px 1px 2px rgba(0, 0, 0, 0.3));\n",
              "      fill: #FFFFFF;\n",
              "    }\n",
              "  </style>\n",
              "\n",
              "      <script>\n",
              "        const buttonEl =\n",
              "          document.querySelector('#df-8b5c97c4-2016-4a3e-baaf-fb631529664a button.colab-df-convert');\n",
              "        buttonEl.style.display =\n",
              "          google.colab.kernel.accessAllowed ? 'block' : 'none';\n",
              "\n",
              "        async function convertToInteractive(key) {\n",
              "          const element = document.querySelector('#df-8b5c97c4-2016-4a3e-baaf-fb631529664a');\n",
              "          const dataTable =\n",
              "            await google.colab.kernel.invokeFunction('convertToInteractive',\n",
              "                                                     [key], {});\n",
              "          if (!dataTable) return;\n",
              "\n",
              "          const docLinkHtml = 'Like what you see? Visit the ' +\n",
              "            '<a target=\"_blank\" href=https://colab.research.google.com/notebooks/data_table.ipynb>data table notebook</a>'\n",
              "            + ' to learn more about interactive tables.';\n",
              "          element.innerHTML = '';\n",
              "          dataTable['output_type'] = 'display_data';\n",
              "          await google.colab.output.renderOutput(dataTable, element);\n",
              "          const docLink = document.createElement('div');\n",
              "          docLink.innerHTML = docLinkHtml;\n",
              "          element.appendChild(docLink);\n",
              "        }\n",
              "      </script>\n",
              "    </div>\n",
              "  </div>\n",
              "  "
            ]
          },
          "metadata": {},
          "execution_count": 24
        }
      ],
      "source": [
        "# combine potential adversaries so only one call to API is needed\n",
        "adversaries = pd.concat([low_adversary_frame, high_adversary_frame], axis=0)\n",
        "\n",
        "# score potential adversarial examples to understand their effect on generated predictions\n",
        "blackbox_adversaries_phat = pd.DataFrame(rem_mxgb.predict(dvalid, iteration_range=(0, rem_mxgb.best_ntree_limit)), columns=['phat']) \n",
        "blackbox_adversaries_phat = pd.concat([adversaries.reset_index(drop=True), blackbox_adversaries_phat], axis=1)\n",
        "blackbox_adversaries_phat.sort_values(by='phat')"
      ]
    },
    {
      "cell_type": "markdown",
      "id": "10022eb2",
      "metadata": {
        "id": "10022eb2"
      },
      "source": [
        "We now have many adversarial examples that can reliably evoke extremely low and high enough predictions from the blackbox API (0.12 is likely above the cutoff for most credit models.). These can most easily be used to falsify a loan application to recieve a low-priced loan (using low adversaries). Or they could be used to ensure someone else recievces a high-priced loan. "
      ]
    },
    {
      "cell_type": "markdown",
      "id": "35aaaa92",
      "metadata": {
        "id": "35aaaa92"
      },
      "source": [
        "#### End timer"
      ]
    },
    {
      "cell_type": "code",
      "execution_count": null,
      "id": "e978d190",
      "metadata": {
        "colab": {
          "base_uri": "https://localhost:8080/"
        },
        "id": "e978d190",
        "outputId": "f9955377-a990-460f-8b28-769993529c9d"
      },
      "outputs": [
        {
          "output_type": "stream",
          "name": "stdout",
          "text": [
            "All tasks completed in 777.76 s.\n"
          ]
        }
      ],
      "source": [
        "toc = time.time() - tic\n",
        "print('All tasks completed in %.2f s.' % (toc))"
      ]
    },
    {
      "cell_type": "markdown",
      "id": "d99808d8",
      "metadata": {
        "id": "d99808d8"
      },
      "source": [
        "#### Shutdown H2O"
      ]
    },
    {
      "cell_type": "code",
      "execution_count": null,
      "id": "e4cca3fd",
      "metadata": {
        "colab": {
          "base_uri": "https://localhost:8080/"
        },
        "id": "e4cca3fd",
        "outputId": "ca9802fa-56f2-496c-daee-9213f724df42"
      },
      "outputs": [
        {
          "name": "stdout",
          "output_type": "stream",
          "text": [
            "Are you sure you want to shutdown the H2O instance running at http://127.0.0.1:54323 (Y/N)? Y\n",
            "H2O session _sid_9ea1 closed.\n"
          ]
        }
      ],
      "source": [
        "# be careful, this can erase your work!\n",
        "h2o.cluster().shutdown(prompt=True)"
      ]
    }
  ],
  "metadata": {
    "colab": {
      "name": "assignment_4_2.ipynb",
      "provenance": [],
      "collapsed_sections": [],
      "include_colab_link": true
    },
    "kernelspec": {
      "display_name": "Python 3",
      "language": "python",
      "name": "python3"
    },
    "language_info": {
      "codemirror_mode": {
        "name": "ipython",
        "version": 3
      },
      "file_extension": ".py",
      "mimetype": "text/x-python",
      "name": "python",
      "nbconvert_exporter": "python",
      "pygments_lexer": "ipython3",
      "version": "3.8.8"
    }
  },
  "nbformat": 4,
  "nbformat_minor": 5
}