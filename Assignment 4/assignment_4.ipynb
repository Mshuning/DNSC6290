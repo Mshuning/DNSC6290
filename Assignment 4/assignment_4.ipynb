{
  "cells": [
    {
      "cell_type": "markdown",
      "metadata": {
        "id": "view-in-github",
        "colab_type": "text"
      },
      "source": [
        "<a href=\"https://colab.research.google.com/github/Mshuning/DNSC6290/blob/main/Assignment%204/assignment_4.ipynb\" target=\"_parent\"><img src=\"https://colab.research.google.com/assets/colab-badge.svg\" alt=\"Open In Colab\"/></a>"
      ]
    },
    {
      "cell_type": "markdown",
      "id": "1934d2de",
      "metadata": {
        "id": "1934d2de"
      },
      "source": [
        "## License \n",
        "\n",
        "Copyright 2021 Patrick Hall (jphall@gwu.edu), Shuning Ma (shuningma@gwu.edu)\n",
        "\n",
        "Licensed under the Apache License, Version 2.0 (the \"License\");\n",
        "you may not use this file except in compliance with the License.\n",
        "You may obtain a copy of the License at\n",
        "\n",
        "    http://www.apache.org/licenses/LICENSE-2.0\n",
        "\n",
        "Unless required by applicable law or agreed to in writing, software\n",
        "distributed under the License is distributed on an \"AS IS\" BASIS,\n",
        "WITHOUT WARRANTIES OR CONDITIONS OF ANY KIND, either express or implied.\n",
        "See the License for the specific language governing permissions and\n",
        "limitations under the License.\n",
        "\n",
        "*DISCLAIMER*: This notebook is not legal or compliance advice."
      ]
    },
    {
      "cell_type": "markdown",
      "id": "c7556803",
      "metadata": {
        "id": "c7556803"
      },
      "source": [
        "# Assignment 4\n",
        "With two calls to a blackbox prediction API we can craft adversarial examples to manipulate the model toward higher and lower predictions. "
      ]
    },
    {
      "cell_type": "markdown",
      "id": "44ddbb28",
      "metadata": {
        "id": "44ddbb28"
      },
      "source": [
        "#### Imports and inits"
      ]
    },
    {
      "cell_type": "code",
      "source": [
        "import warnings\n",
        "warnings.filterwarnings('ignore')\n",
        "warnings.simplefilter('ignore')"
      ],
      "metadata": {
        "id": "sD3yDaC_4Fwz"
      },
      "id": "sD3yDaC_4Fwz",
      "execution_count": 1,
      "outputs": []
    },
    {
      "cell_type": "code",
      "source": [
        "!pip install -r requirements.txt"
      ],
      "metadata": {
        "colab": {
          "base_uri": "https://localhost:8080/"
        },
        "id": "0LX9A3oRSNff",
        "outputId": "dbc0618e-46e8-41a3-cbb9-16d2df6bdfc6"
      },
      "id": "0LX9A3oRSNff",
      "execution_count": 2,
      "outputs": [
        {
          "output_type": "stream",
          "name": "stdout",
          "text": [
            "Looking in indexes: https://pypi.org/simple, https://us-python.pkg.dev/colab-wheels/public/simple/\n",
            "Requirement already satisfied: h2o==3.32.1.3 in /usr/local/lib/python3.7/dist-packages (from -r requirements.txt (line 4)) (3.32.1.3)\n",
            "Requirement already satisfied: interpret==0.2.4 in /usr/local/lib/python3.7/dist-packages (from -r requirements.txt (line 5)) (0.2.4)\n",
            "Requirement already satisfied: jupyter==1.0.0 in /usr/local/lib/python3.7/dist-packages (from -r requirements.txt (line 6)) (1.0.0)\n",
            "Requirement already satisfied: matplotlib==3.3.4 in /usr/local/lib/python3.7/dist-packages (from -r requirements.txt (line 7)) (3.3.4)\n",
            "Requirement already satisfied: numpy==1.19.5 in /usr/local/lib/python3.7/dist-packages (from -r requirements.txt (line 8)) (1.19.5)\n",
            "Requirement already satisfied: pandas==1.1.5 in /usr/local/lib/python3.7/dist-packages (from -r requirements.txt (line 9)) (1.1.5)\n",
            "Requirement already satisfied: scikit-learn==0.24.2 in /usr/local/lib/python3.7/dist-packages (from -r requirements.txt (line 10)) (0.24.2)\n",
            "Requirement already satisfied: seaborn==0.11.1 in /usr/local/lib/python3.7/dist-packages (from -r requirements.txt (line 11)) (0.11.1)\n",
            "Requirement already satisfied: xgboost==1.4.2 in /usr/local/lib/python3.7/dist-packages (from -r requirements.txt (line 12)) (1.4.2)\n",
            "Requirement already satisfied: tabulate in /usr/local/lib/python3.7/dist-packages (from h2o==3.32.1.3->-r requirements.txt (line 4)) (0.8.9)\n",
            "Requirement already satisfied: requests in /usr/local/lib/python3.7/dist-packages (from h2o==3.32.1.3->-r requirements.txt (line 4)) (2.23.0)\n",
            "Requirement already satisfied: colorama>=0.3.8 in /usr/local/lib/python3.7/dist-packages (from h2o==3.32.1.3->-r requirements.txt (line 4)) (0.4.5)\n",
            "Requirement already satisfied: future in /usr/local/lib/python3.7/dist-packages (from h2o==3.32.1.3->-r requirements.txt (line 4)) (0.16.0)\n",
            "Requirement already satisfied: interpret-core[dash,debug,decisiontree,ebm,lime,linear,notebook,plotly,required,sensitivity,shap,skoperules,treeinterpreter]>=0.2.4 in /usr/local/lib/python3.7/dist-packages (from interpret==0.2.4->-r requirements.txt (line 5)) (0.2.7)\n",
            "Requirement already satisfied: qtconsole in /usr/local/lib/python3.7/dist-packages (from jupyter==1.0.0->-r requirements.txt (line 6)) (5.3.1)\n",
            "Requirement already satisfied: ipykernel in /usr/local/lib/python3.7/dist-packages (from jupyter==1.0.0->-r requirements.txt (line 6)) (6.15.0)\n",
            "Requirement already satisfied: ipywidgets in /usr/local/lib/python3.7/dist-packages (from jupyter==1.0.0->-r requirements.txt (line 6)) (7.7.0)\n",
            "Requirement already satisfied: nbconvert in /usr/local/lib/python3.7/dist-packages (from jupyter==1.0.0->-r requirements.txt (line 6)) (5.6.1)\n",
            "Requirement already satisfied: notebook in /usr/local/lib/python3.7/dist-packages (from jupyter==1.0.0->-r requirements.txt (line 6)) (5.3.1)\n",
            "Requirement already satisfied: jupyter-console in /usr/local/lib/python3.7/dist-packages (from jupyter==1.0.0->-r requirements.txt (line 6)) (6.4.4)\n",
            "Requirement already satisfied: pyparsing!=2.0.4,!=2.1.2,!=2.1.6,>=2.0.3 in /usr/local/lib/python3.7/dist-packages (from matplotlib==3.3.4->-r requirements.txt (line 7)) (3.0.9)\n",
            "Requirement already satisfied: python-dateutil>=2.1 in /usr/local/lib/python3.7/dist-packages (from matplotlib==3.3.4->-r requirements.txt (line 7)) (2.8.2)\n",
            "Requirement already satisfied: kiwisolver>=1.0.1 in /usr/local/lib/python3.7/dist-packages (from matplotlib==3.3.4->-r requirements.txt (line 7)) (1.4.3)\n",
            "Requirement already satisfied: cycler>=0.10 in /usr/local/lib/python3.7/dist-packages (from matplotlib==3.3.4->-r requirements.txt (line 7)) (0.11.0)\n",
            "Requirement already satisfied: pillow>=6.2.0 in /usr/local/lib/python3.7/dist-packages (from matplotlib==3.3.4->-r requirements.txt (line 7)) (7.1.2)\n",
            "Requirement already satisfied: pytz>=2017.2 in /usr/local/lib/python3.7/dist-packages (from pandas==1.1.5->-r requirements.txt (line 9)) (2022.1)\n",
            "Requirement already satisfied: threadpoolctl>=2.0.0 in /usr/local/lib/python3.7/dist-packages (from scikit-learn==0.24.2->-r requirements.txt (line 10)) (3.1.0)\n",
            "Requirement already satisfied: joblib>=0.11 in /usr/local/lib/python3.7/dist-packages (from scikit-learn==0.24.2->-r requirements.txt (line 10)) (1.1.0)\n",
            "Requirement already satisfied: scipy>=0.19.1 in /usr/local/lib/python3.7/dist-packages (from scikit-learn==0.24.2->-r requirements.txt (line 10)) (1.4.1)\n",
            "Requirement already satisfied: plotly>=3.8.1 in /usr/local/lib/python3.7/dist-packages (from interpret-core[dash,debug,decisiontree,ebm,lime,linear,notebook,plotly,required,sensitivity,shap,skoperules,treeinterpreter]>=0.2.4->interpret==0.2.4->-r requirements.txt (line 5)) (5.5.0)\n",
            "Requirement already satisfied: treeinterpreter>=0.2.2 in /usr/local/lib/python3.7/dist-packages (from interpret-core[dash,debug,decisiontree,ebm,lime,linear,notebook,plotly,required,sensitivity,shap,skoperules,treeinterpreter]>=0.2.4->interpret==0.2.4->-r requirements.txt (line 5)) (0.2.3)\n",
            "Requirement already satisfied: ipython>=7.4.0 in /usr/local/lib/python3.7/dist-packages (from interpret-core[dash,debug,decisiontree,ebm,lime,linear,notebook,plotly,required,sensitivity,shap,skoperules,treeinterpreter]>=0.2.4->interpret==0.2.4->-r requirements.txt (line 5)) (7.34.0)\n",
            "Requirement already satisfied: shap>=0.28.5 in /usr/local/lib/python3.7/dist-packages (from interpret-core[dash,debug,decisiontree,ebm,lime,linear,notebook,plotly,required,sensitivity,shap,skoperules,treeinterpreter]>=0.2.4->interpret==0.2.4->-r requirements.txt (line 5)) (0.41.0)\n",
            "Requirement already satisfied: dill>=0.2.5 in /usr/local/lib/python3.7/dist-packages (from interpret-core[dash,debug,decisiontree,ebm,lime,linear,notebook,plotly,required,sensitivity,shap,skoperules,treeinterpreter]>=0.2.4->interpret==0.2.4->-r requirements.txt (line 5)) (0.3.5.1)\n",
            "Requirement already satisfied: skope-rules>=1.0.1 in /usr/local/lib/python3.7/dist-packages (from interpret-core[dash,debug,decisiontree,ebm,lime,linear,notebook,plotly,required,sensitivity,shap,skoperules,treeinterpreter]>=0.2.4->interpret==0.2.4->-r requirements.txt (line 5)) (1.0.1)\n",
            "Requirement already satisfied: lime>=0.1.1.33 in /usr/local/lib/python3.7/dist-packages (from interpret-core[dash,debug,decisiontree,ebm,lime,linear,notebook,plotly,required,sensitivity,shap,skoperules,treeinterpreter]>=0.2.4->interpret==0.2.4->-r requirements.txt (line 5)) (0.2.0.1)\n",
            "Requirement already satisfied: SALib>=1.3.3 in /usr/local/lib/python3.7/dist-packages (from interpret-core[dash,debug,decisiontree,ebm,lime,linear,notebook,plotly,required,sensitivity,shap,skoperules,treeinterpreter]>=0.2.4->interpret==0.2.4->-r requirements.txt (line 5)) (1.4.5)\n",
            "Requirement already satisfied: dash-table>=4.1.0 in /usr/local/lib/python3.7/dist-packages (from interpret-core[dash,debug,decisiontree,ebm,lime,linear,notebook,plotly,required,sensitivity,shap,skoperules,treeinterpreter]>=0.2.4->interpret==0.2.4->-r requirements.txt (line 5)) (5.0.0)\n",
            "Requirement already satisfied: gevent>=1.3.6 in /usr/local/lib/python3.7/dist-packages (from interpret-core[dash,debug,decisiontree,ebm,lime,linear,notebook,plotly,required,sensitivity,shap,skoperules,treeinterpreter]>=0.2.4->interpret==0.2.4->-r requirements.txt (line 5)) (21.12.0)\n",
            "Requirement already satisfied: dash-cytoscape>=0.1.1 in /usr/local/lib/python3.7/dist-packages (from interpret-core[dash,debug,decisiontree,ebm,lime,linear,notebook,plotly,required,sensitivity,shap,skoperules,treeinterpreter]>=0.2.4->interpret==0.2.4->-r requirements.txt (line 5)) (0.3.0)\n",
            "Requirement already satisfied: dash>=1.0.0 in /usr/local/lib/python3.7/dist-packages (from interpret-core[dash,debug,decisiontree,ebm,lime,linear,notebook,plotly,required,sensitivity,shap,skoperules,treeinterpreter]>=0.2.4->interpret==0.2.4->-r requirements.txt (line 5)) (2.5.1)\n",
            "Requirement already satisfied: psutil>=5.6.2 in /usr/local/lib/python3.7/dist-packages (from interpret-core[dash,debug,decisiontree,ebm,lime,linear,notebook,plotly,required,sensitivity,shap,skoperules,treeinterpreter]>=0.2.4->interpret==0.2.4->-r requirements.txt (line 5)) (5.9.1)\n",
            "Requirement already satisfied: flask-compress in /usr/local/lib/python3.7/dist-packages (from dash>=1.0.0->interpret-core[dash,debug,decisiontree,ebm,lime,linear,notebook,plotly,required,sensitivity,shap,skoperules,treeinterpreter]>=0.2.4->interpret==0.2.4->-r requirements.txt (line 5)) (1.12)\n",
            "Requirement already satisfied: dash-html-components==2.0.0 in /usr/local/lib/python3.7/dist-packages (from dash>=1.0.0->interpret-core[dash,debug,decisiontree,ebm,lime,linear,notebook,plotly,required,sensitivity,shap,skoperules,treeinterpreter]>=0.2.4->interpret==0.2.4->-r requirements.txt (line 5)) (2.0.0)\n",
            "Requirement already satisfied: dash-core-components==2.0.0 in /usr/local/lib/python3.7/dist-packages (from dash>=1.0.0->interpret-core[dash,debug,decisiontree,ebm,lime,linear,notebook,plotly,required,sensitivity,shap,skoperules,treeinterpreter]>=0.2.4->interpret==0.2.4->-r requirements.txt (line 5)) (2.0.0)\n",
            "Requirement already satisfied: Flask>=1.0.4 in /usr/local/lib/python3.7/dist-packages (from dash>=1.0.0->interpret-core[dash,debug,decisiontree,ebm,lime,linear,notebook,plotly,required,sensitivity,shap,skoperules,treeinterpreter]>=0.2.4->interpret==0.2.4->-r requirements.txt (line 5)) (1.1.4)\n",
            "Requirement already satisfied: Jinja2<3.0,>=2.10.1 in /usr/local/lib/python3.7/dist-packages (from Flask>=1.0.4->dash>=1.0.0->interpret-core[dash,debug,decisiontree,ebm,lime,linear,notebook,plotly,required,sensitivity,shap,skoperules,treeinterpreter]>=0.2.4->interpret==0.2.4->-r requirements.txt (line 5)) (2.11.3)\n",
            "Requirement already satisfied: click<8.0,>=5.1 in /usr/local/lib/python3.7/dist-packages (from Flask>=1.0.4->dash>=1.0.0->interpret-core[dash,debug,decisiontree,ebm,lime,linear,notebook,plotly,required,sensitivity,shap,skoperules,treeinterpreter]>=0.2.4->interpret==0.2.4->-r requirements.txt (line 5)) (7.1.2)\n",
            "Requirement already satisfied: Werkzeug<2.0,>=0.15 in /usr/local/lib/python3.7/dist-packages (from Flask>=1.0.4->dash>=1.0.0->interpret-core[dash,debug,decisiontree,ebm,lime,linear,notebook,plotly,required,sensitivity,shap,skoperules,treeinterpreter]>=0.2.4->interpret==0.2.4->-r requirements.txt (line 5)) (1.0.1)\n",
            "Requirement already satisfied: itsdangerous<2.0,>=0.24 in /usr/local/lib/python3.7/dist-packages (from Flask>=1.0.4->dash>=1.0.0->interpret-core[dash,debug,decisiontree,ebm,lime,linear,notebook,plotly,required,sensitivity,shap,skoperules,treeinterpreter]>=0.2.4->interpret==0.2.4->-r requirements.txt (line 5)) (1.1.0)\n",
            "Requirement already satisfied: zope.interface in /usr/local/lib/python3.7/dist-packages (from gevent>=1.3.6->interpret-core[dash,debug,decisiontree,ebm,lime,linear,notebook,plotly,required,sensitivity,shap,skoperules,treeinterpreter]>=0.2.4->interpret==0.2.4->-r requirements.txt (line 5)) (5.4.0)\n",
            "Requirement already satisfied: zope.event in /usr/local/lib/python3.7/dist-packages (from gevent>=1.3.6->interpret-core[dash,debug,decisiontree,ebm,lime,linear,notebook,plotly,required,sensitivity,shap,skoperules,treeinterpreter]>=0.2.4->interpret==0.2.4->-r requirements.txt (line 5)) (4.5.0)\n",
            "Requirement already satisfied: setuptools in /usr/local/lib/python3.7/dist-packages (from gevent>=1.3.6->interpret-core[dash,debug,decisiontree,ebm,lime,linear,notebook,plotly,required,sensitivity,shap,skoperules,treeinterpreter]>=0.2.4->interpret==0.2.4->-r requirements.txt (line 5)) (57.4.0)\n",
            "Requirement already satisfied: greenlet<2.0,>=1.1.0 in /usr/local/lib/python3.7/dist-packages (from gevent>=1.3.6->interpret-core[dash,debug,decisiontree,ebm,lime,linear,notebook,plotly,required,sensitivity,shap,skoperules,treeinterpreter]>=0.2.4->interpret==0.2.4->-r requirements.txt (line 5)) (1.1.2)\n",
            "Requirement already satisfied: packaging in /usr/local/lib/python3.7/dist-packages (from ipykernel->jupyter==1.0.0->-r requirements.txt (line 6)) (21.3)\n",
            "Requirement already satisfied: matplotlib-inline>=0.1 in /usr/local/lib/python3.7/dist-packages (from ipykernel->jupyter==1.0.0->-r requirements.txt (line 6)) (0.1.3)\n",
            "Requirement already satisfied: traitlets>=5.1.0 in /usr/local/lib/python3.7/dist-packages (from ipykernel->jupyter==1.0.0->-r requirements.txt (line 6)) (5.1.1)\n",
            "Requirement already satisfied: jupyter-client>=6.1.12 in /usr/local/lib/python3.7/dist-packages (from ipykernel->jupyter==1.0.0->-r requirements.txt (line 6)) (7.3.4)\n",
            "Requirement already satisfied: debugpy>=1.0 in /usr/local/lib/python3.7/dist-packages (from ipykernel->jupyter==1.0.0->-r requirements.txt (line 6)) (1.0.0)\n",
            "Requirement already satisfied: tornado>=6.1 in /usr/local/lib/python3.7/dist-packages (from ipykernel->jupyter==1.0.0->-r requirements.txt (line 6)) (6.2)\n",
            "Requirement already satisfied: nest-asyncio in /usr/local/lib/python3.7/dist-packages (from ipykernel->jupyter==1.0.0->-r requirements.txt (line 6)) (1.5.5)\n",
            "Requirement already satisfied: pyzmq>=17 in /usr/local/lib/python3.7/dist-packages (from ipykernel->jupyter==1.0.0->-r requirements.txt (line 6)) (23.1.0)\n",
            "Requirement already satisfied: decorator in /usr/local/lib/python3.7/dist-packages (from ipython>=7.4.0->interpret-core[dash,debug,decisiontree,ebm,lime,linear,notebook,plotly,required,sensitivity,shap,skoperules,treeinterpreter]>=0.2.4->interpret==0.2.4->-r requirements.txt (line 5)) (4.4.2)\n",
            "Requirement already satisfied: jedi>=0.16 in /usr/local/lib/python3.7/dist-packages (from ipython>=7.4.0->interpret-core[dash,debug,decisiontree,ebm,lime,linear,notebook,plotly,required,sensitivity,shap,skoperules,treeinterpreter]>=0.2.4->interpret==0.2.4->-r requirements.txt (line 5)) (0.18.1)\n",
            "Requirement already satisfied: prompt-toolkit!=3.0.0,!=3.0.1,<3.1.0,>=2.0.0 in /usr/local/lib/python3.7/dist-packages (from ipython>=7.4.0->interpret-core[dash,debug,decisiontree,ebm,lime,linear,notebook,plotly,required,sensitivity,shap,skoperules,treeinterpreter]>=0.2.4->interpret==0.2.4->-r requirements.txt (line 5)) (3.0.30)\n",
            "Requirement already satisfied: pexpect>4.3 in /usr/local/lib/python3.7/dist-packages (from ipython>=7.4.0->interpret-core[dash,debug,decisiontree,ebm,lime,linear,notebook,plotly,required,sensitivity,shap,skoperules,treeinterpreter]>=0.2.4->interpret==0.2.4->-r requirements.txt (line 5)) (4.8.0)\n",
            "Requirement already satisfied: pickleshare in /usr/local/lib/python3.7/dist-packages (from ipython>=7.4.0->interpret-core[dash,debug,decisiontree,ebm,lime,linear,notebook,plotly,required,sensitivity,shap,skoperules,treeinterpreter]>=0.2.4->interpret==0.2.4->-r requirements.txt (line 5)) (0.7.5)\n",
            "Requirement already satisfied: pygments in /usr/local/lib/python3.7/dist-packages (from ipython>=7.4.0->interpret-core[dash,debug,decisiontree,ebm,lime,linear,notebook,plotly,required,sensitivity,shap,skoperules,treeinterpreter]>=0.2.4->interpret==0.2.4->-r requirements.txt (line 5)) (2.6.1)\n",
            "Requirement already satisfied: backcall in /usr/local/lib/python3.7/dist-packages (from ipython>=7.4.0->interpret-core[dash,debug,decisiontree,ebm,lime,linear,notebook,plotly,required,sensitivity,shap,skoperules,treeinterpreter]>=0.2.4->interpret==0.2.4->-r requirements.txt (line 5)) (0.2.0)\n",
            "Requirement already satisfied: parso<0.9.0,>=0.8.0 in /usr/local/lib/python3.7/dist-packages (from jedi>=0.16->ipython>=7.4.0->interpret-core[dash,debug,decisiontree,ebm,lime,linear,notebook,plotly,required,sensitivity,shap,skoperules,treeinterpreter]>=0.2.4->interpret==0.2.4->-r requirements.txt (line 5)) (0.8.3)\n",
            "Requirement already satisfied: MarkupSafe>=0.23 in /usr/local/lib/python3.7/dist-packages (from Jinja2<3.0,>=2.10.1->Flask>=1.0.4->dash>=1.0.0->interpret-core[dash,debug,decisiontree,ebm,lime,linear,notebook,plotly,required,sensitivity,shap,skoperules,treeinterpreter]>=0.2.4->interpret==0.2.4->-r requirements.txt (line 5)) (2.0.1)\n",
            "Requirement already satisfied: jupyter-core>=4.9.2 in /usr/local/lib/python3.7/dist-packages (from jupyter-client>=6.1.12->ipykernel->jupyter==1.0.0->-r requirements.txt (line 6)) (4.10.0)\n",
            "Requirement already satisfied: entrypoints in /usr/local/lib/python3.7/dist-packages (from jupyter-client>=6.1.12->ipykernel->jupyter==1.0.0->-r requirements.txt (line 6)) (0.4)\n",
            "Requirement already satisfied: typing-extensions in /usr/local/lib/python3.7/dist-packages (from kiwisolver>=1.0.1->matplotlib==3.3.4->-r requirements.txt (line 7)) (4.1.1)\n",
            "Requirement already satisfied: tqdm in /usr/local/lib/python3.7/dist-packages (from lime>=0.1.1.33->interpret-core[dash,debug,decisiontree,ebm,lime,linear,notebook,plotly,required,sensitivity,shap,skoperules,treeinterpreter]>=0.2.4->interpret==0.2.4->-r requirements.txt (line 5)) (4.64.0)\n",
            "Requirement already satisfied: scikit-image>=0.12 in /usr/local/lib/python3.7/dist-packages (from lime>=0.1.1.33->interpret-core[dash,debug,decisiontree,ebm,lime,linear,notebook,plotly,required,sensitivity,shap,skoperules,treeinterpreter]>=0.2.4->interpret==0.2.4->-r requirements.txt (line 5)) (0.18.3)\n",
            "Requirement already satisfied: ptyprocess>=0.5 in /usr/local/lib/python3.7/dist-packages (from pexpect>4.3->ipython>=7.4.0->interpret-core[dash,debug,decisiontree,ebm,lime,linear,notebook,plotly,required,sensitivity,shap,skoperules,treeinterpreter]>=0.2.4->interpret==0.2.4->-r requirements.txt (line 5)) (0.7.0)\n",
            "Requirement already satisfied: six in /usr/local/lib/python3.7/dist-packages (from plotly>=3.8.1->interpret-core[dash,debug,decisiontree,ebm,lime,linear,notebook,plotly,required,sensitivity,shap,skoperules,treeinterpreter]>=0.2.4->interpret==0.2.4->-r requirements.txt (line 5)) (1.15.0)\n",
            "Requirement already satisfied: tenacity>=6.2.0 in /usr/local/lib/python3.7/dist-packages (from plotly>=3.8.1->interpret-core[dash,debug,decisiontree,ebm,lime,linear,notebook,plotly,required,sensitivity,shap,skoperules,treeinterpreter]>=0.2.4->interpret==0.2.4->-r requirements.txt (line 5)) (8.0.1)\n",
            "Requirement already satisfied: wcwidth in /usr/local/lib/python3.7/dist-packages (from prompt-toolkit!=3.0.0,!=3.0.1,<3.1.0,>=2.0.0->ipython>=7.4.0->interpret-core[dash,debug,decisiontree,ebm,lime,linear,notebook,plotly,required,sensitivity,shap,skoperules,treeinterpreter]>=0.2.4->interpret==0.2.4->-r requirements.txt (line 5)) (0.2.5)\n",
            "Requirement already satisfied: idna<3,>=2.5 in /usr/local/lib/python3.7/dist-packages (from requests->h2o==3.32.1.3->-r requirements.txt (line 4)) (2.10)\n",
            "Requirement already satisfied: chardet<4,>=3.0.2 in /usr/local/lib/python3.7/dist-packages (from requests->h2o==3.32.1.3->-r requirements.txt (line 4)) (3.0.4)\n",
            "Requirement already satisfied: urllib3!=1.25.0,!=1.25.1,<1.26,>=1.21.1 in /usr/local/lib/python3.7/dist-packages (from requests->h2o==3.32.1.3->-r requirements.txt (line 4)) (1.24.3)\n",
            "Requirement already satisfied: certifi>=2017.4.17 in /usr/local/lib/python3.7/dist-packages (from requests->h2o==3.32.1.3->-r requirements.txt (line 4)) (2022.6.15)\n",
            "Requirement already satisfied: pathos in /usr/local/lib/python3.7/dist-packages (from SALib>=1.3.3->interpret-core[dash,debug,decisiontree,ebm,lime,linear,notebook,plotly,required,sensitivity,shap,skoperules,treeinterpreter]>=0.2.4->interpret==0.2.4->-r requirements.txt (line 5)) (0.2.9)\n",
            "Requirement already satisfied: wheel in /usr/local/lib/python3.7/dist-packages (from SALib>=1.3.3->interpret-core[dash,debug,decisiontree,ebm,lime,linear,notebook,plotly,required,sensitivity,shap,skoperules,treeinterpreter]>=0.2.4->interpret==0.2.4->-r requirements.txt (line 5)) (0.37.1)\n",
            "Requirement already satisfied: importlib-metadata in /usr/local/lib/python3.7/dist-packages (from SALib>=1.3.3->interpret-core[dash,debug,decisiontree,ebm,lime,linear,notebook,plotly,required,sensitivity,shap,skoperules,treeinterpreter]>=0.2.4->interpret==0.2.4->-r requirements.txt (line 5)) (4.11.4)\n",
            "Requirement already satisfied: tifffile>=2019.7.26 in /usr/local/lib/python3.7/dist-packages (from scikit-image>=0.12->lime>=0.1.1.33->interpret-core[dash,debug,decisiontree,ebm,lime,linear,notebook,plotly,required,sensitivity,shap,skoperules,treeinterpreter]>=0.2.4->interpret==0.2.4->-r requirements.txt (line 5)) (2021.11.2)\n",
            "Requirement already satisfied: imageio>=2.3.0 in /usr/local/lib/python3.7/dist-packages (from scikit-image>=0.12->lime>=0.1.1.33->interpret-core[dash,debug,decisiontree,ebm,lime,linear,notebook,plotly,required,sensitivity,shap,skoperules,treeinterpreter]>=0.2.4->interpret==0.2.4->-r requirements.txt (line 5)) (2.4.1)\n",
            "Requirement already satisfied: networkx>=2.0 in /usr/local/lib/python3.7/dist-packages (from scikit-image>=0.12->lime>=0.1.1.33->interpret-core[dash,debug,decisiontree,ebm,lime,linear,notebook,plotly,required,sensitivity,shap,skoperules,treeinterpreter]>=0.2.4->interpret==0.2.4->-r requirements.txt (line 5)) (2.6.3)\n",
            "Requirement already satisfied: PyWavelets>=1.1.1 in /usr/local/lib/python3.7/dist-packages (from scikit-image>=0.12->lime>=0.1.1.33->interpret-core[dash,debug,decisiontree,ebm,lime,linear,notebook,plotly,required,sensitivity,shap,skoperules,treeinterpreter]>=0.2.4->interpret==0.2.4->-r requirements.txt (line 5)) (1.3.0)\n",
            "Requirement already satisfied: numba in /usr/local/lib/python3.7/dist-packages (from shap>=0.28.5->interpret-core[dash,debug,decisiontree,ebm,lime,linear,notebook,plotly,required,sensitivity,shap,skoperules,treeinterpreter]>=0.2.4->interpret==0.2.4->-r requirements.txt (line 5)) (0.51.2)\n",
            "Requirement already satisfied: cloudpickle in /usr/local/lib/python3.7/dist-packages (from shap>=0.28.5->interpret-core[dash,debug,decisiontree,ebm,lime,linear,notebook,plotly,required,sensitivity,shap,skoperules,treeinterpreter]>=0.2.4->interpret==0.2.4->-r requirements.txt (line 5)) (1.3.0)\n",
            "Requirement already satisfied: slicer==0.0.7 in /usr/local/lib/python3.7/dist-packages (from shap>=0.28.5->interpret-core[dash,debug,decisiontree,ebm,lime,linear,notebook,plotly,required,sensitivity,shap,skoperules,treeinterpreter]>=0.2.4->interpret==0.2.4->-r requirements.txt (line 5)) (0.0.7)\n",
            "Requirement already satisfied: brotli in /usr/local/lib/python3.7/dist-packages (from flask-compress->dash>=1.0.0->interpret-core[dash,debug,decisiontree,ebm,lime,linear,notebook,plotly,required,sensitivity,shap,skoperules,treeinterpreter]>=0.2.4->interpret==0.2.4->-r requirements.txt (line 5)) (1.0.9)\n",
            "Requirement already satisfied: zipp>=0.5 in /usr/local/lib/python3.7/dist-packages (from importlib-metadata->SALib>=1.3.3->interpret-core[dash,debug,decisiontree,ebm,lime,linear,notebook,plotly,required,sensitivity,shap,skoperules,treeinterpreter]>=0.2.4->interpret==0.2.4->-r requirements.txt (line 5)) (3.8.0)\n",
            "Requirement already satisfied: widgetsnbextension~=3.6.0 in /usr/local/lib/python3.7/dist-packages (from ipywidgets->jupyter==1.0.0->-r requirements.txt (line 6)) (3.6.0)\n",
            "Requirement already satisfied: jupyterlab-widgets>=1.0.0 in /usr/local/lib/python3.7/dist-packages (from ipywidgets->jupyter==1.0.0->-r requirements.txt (line 6)) (1.1.0)\n",
            "Requirement already satisfied: ipython-genutils~=0.2.0 in /usr/local/lib/python3.7/dist-packages (from ipywidgets->jupyter==1.0.0->-r requirements.txt (line 6)) (0.2.0)\n",
            "Requirement already satisfied: nbformat>=4.2.0 in /usr/local/lib/python3.7/dist-packages (from ipywidgets->jupyter==1.0.0->-r requirements.txt (line 6)) (5.4.0)\n",
            "Requirement already satisfied: jsonschema>=2.6 in /usr/local/lib/python3.7/dist-packages (from nbformat>=4.2.0->ipywidgets->jupyter==1.0.0->-r requirements.txt (line 6)) (4.3.3)\n",
            "Requirement already satisfied: fastjsonschema in /usr/local/lib/python3.7/dist-packages (from nbformat>=4.2.0->ipywidgets->jupyter==1.0.0->-r requirements.txt (line 6)) (2.15.3)\n",
            "Requirement already satisfied: pyrsistent!=0.17.0,!=0.17.1,!=0.17.2,>=0.14.0 in /usr/local/lib/python3.7/dist-packages (from jsonschema>=2.6->nbformat>=4.2.0->ipywidgets->jupyter==1.0.0->-r requirements.txt (line 6)) (0.18.1)\n",
            "Requirement already satisfied: importlib-resources>=1.4.0 in /usr/local/lib/python3.7/dist-packages (from jsonschema>=2.6->nbformat>=4.2.0->ipywidgets->jupyter==1.0.0->-r requirements.txt (line 6)) (5.7.1)\n",
            "Requirement already satisfied: attrs>=17.4.0 in /usr/local/lib/python3.7/dist-packages (from jsonschema>=2.6->nbformat>=4.2.0->ipywidgets->jupyter==1.0.0->-r requirements.txt (line 6)) (21.4.0)\n",
            "Requirement already satisfied: Send2Trash in /usr/local/lib/python3.7/dist-packages (from notebook->jupyter==1.0.0->-r requirements.txt (line 6)) (1.8.0)\n",
            "Requirement already satisfied: terminado>=0.8.1 in /usr/local/lib/python3.7/dist-packages (from notebook->jupyter==1.0.0->-r requirements.txt (line 6)) (0.13.3)\n",
            "Requirement already satisfied: testpath in /usr/local/lib/python3.7/dist-packages (from nbconvert->jupyter==1.0.0->-r requirements.txt (line 6)) (0.6.0)\n",
            "Requirement already satisfied: pandocfilters>=1.4.1 in /usr/local/lib/python3.7/dist-packages (from nbconvert->jupyter==1.0.0->-r requirements.txt (line 6)) (1.5.0)\n",
            "Requirement already satisfied: bleach in /usr/local/lib/python3.7/dist-packages (from nbconvert->jupyter==1.0.0->-r requirements.txt (line 6)) (5.0.0)\n",
            "Requirement already satisfied: mistune<2,>=0.8.1 in /usr/local/lib/python3.7/dist-packages (from nbconvert->jupyter==1.0.0->-r requirements.txt (line 6)) (0.8.4)\n",
            "Requirement already satisfied: defusedxml in /usr/local/lib/python3.7/dist-packages (from nbconvert->jupyter==1.0.0->-r requirements.txt (line 6)) (0.7.1)\n",
            "Requirement already satisfied: webencodings in /usr/local/lib/python3.7/dist-packages (from bleach->nbconvert->jupyter==1.0.0->-r requirements.txt (line 6)) (0.5.1)\n",
            "Requirement already satisfied: llvmlite<0.35,>=0.34.0.dev0 in /usr/local/lib/python3.7/dist-packages (from numba->shap>=0.28.5->interpret-core[dash,debug,decisiontree,ebm,lime,linear,notebook,plotly,required,sensitivity,shap,skoperules,treeinterpreter]>=0.2.4->interpret==0.2.4->-r requirements.txt (line 5)) (0.34.0)\n",
            "Requirement already satisfied: pox>=0.3.1 in /usr/local/lib/python3.7/dist-packages (from pathos->SALib>=1.3.3->interpret-core[dash,debug,decisiontree,ebm,lime,linear,notebook,plotly,required,sensitivity,shap,skoperules,treeinterpreter]>=0.2.4->interpret==0.2.4->-r requirements.txt (line 5)) (0.3.1)\n",
            "Requirement already satisfied: multiprocess>=0.70.13 in /usr/local/lib/python3.7/dist-packages (from pathos->SALib>=1.3.3->interpret-core[dash,debug,decisiontree,ebm,lime,linear,notebook,plotly,required,sensitivity,shap,skoperules,treeinterpreter]>=0.2.4->interpret==0.2.4->-r requirements.txt (line 5)) (0.70.13)\n",
            "Requirement already satisfied: ppft>=1.7.6.5 in /usr/local/lib/python3.7/dist-packages (from pathos->SALib>=1.3.3->interpret-core[dash,debug,decisiontree,ebm,lime,linear,notebook,plotly,required,sensitivity,shap,skoperules,treeinterpreter]>=0.2.4->interpret==0.2.4->-r requirements.txt (line 5)) (1.7.6.5)\n",
            "Requirement already satisfied: qtpy>=2.0.1 in /usr/local/lib/python3.7/dist-packages (from qtconsole->jupyter==1.0.0->-r requirements.txt (line 6)) (2.1.0)\n"
          ]
        }
      ]
    },
    {
      "cell_type": "code",
      "execution_count": null,
      "id": "4baedf75",
      "metadata": {
        "scrolled": true,
        "id": "4baedf75",
        "outputId": "5b39c8fb-2c3d-42b2-8b29-92296d3e858a",
        "colab": {
          "base_uri": "https://localhost:8080/",
          "height": 555
        }
      },
      "outputs": [
        {
          "output_type": "stream",
          "name": "stdout",
          "text": [
            "Checking whether there is an H2O instance running at http://localhost:54321 ..... not found.\n",
            "Attempting to start a local H2O server...\n",
            "  Java Version: openjdk version \"11.0.15\" 2022-04-19; OpenJDK Runtime Environment (build 11.0.15+10-Ubuntu-0ubuntu0.18.04.1); OpenJDK 64-Bit Server VM (build 11.0.15+10-Ubuntu-0ubuntu0.18.04.1, mixed mode, sharing)\n",
            "  Starting server from /usr/local/lib/python3.7/dist-packages/h2o/backend/bin/h2o.jar\n",
            "  Ice root: /tmp/tmpjpqp3qaa\n",
            "  JVM stdout: /tmp/tmpjpqp3qaa/h2o_unknownUser_started_from_python.out\n",
            "  JVM stderr: /tmp/tmpjpqp3qaa/h2o_unknownUser_started_from_python.err\n",
            "  Server is running at http://127.0.0.1:54323\n",
            "Connecting to H2O server at http://127.0.0.1:54323 ... successful.\n",
            "Warning: Your H2O cluster version is too old (1 year and 28 days)! Please download and install the latest version from http://h2o.ai/download/\n"
          ]
        },
        {
          "output_type": "display_data",
          "data": {
            "text/plain": [
              "--------------------------  ------------------------------------------------------------------\n",
              "H2O_cluster_uptime:         06 secs\n",
              "H2O_cluster_timezone:       Etc/UTC\n",
              "H2O_data_parsing_timezone:  UTC\n",
              "H2O_cluster_version:        3.32.1.3\n",
              "H2O_cluster_version_age:    1 year and 28 days !!!\n",
              "H2O_cluster_name:           H2O_from_python_unknownUser_y4fr7r\n",
              "H2O_cluster_total_nodes:    1\n",
              "H2O_cluster_free_memory:    2 Gb\n",
              "H2O_cluster_total_cores:    2\n",
              "H2O_cluster_allowed_cores:  2\n",
              "H2O_cluster_status:         accepting new members, healthy\n",
              "H2O_connection_url:         http://127.0.0.1:54323\n",
              "H2O_connection_proxy:       {\"http\": null, \"https\": null}\n",
              "H2O_internal_security:      False\n",
              "H2O_API_Extensions:         Amazon S3, XGBoost, Algos, AutoML, Core V3, TargetEncoder, Core V4\n",
              "Python_version:             3.7.13 final\n",
              "--------------------------  ------------------------------------------------------------------"
            ],
            "text/html": [
              "<div style=\"overflow:auto\"><table style=\"width:50%\"><tr><td>H2O_cluster_uptime:</td>\n",
              "<td>06 secs</td></tr>\n",
              "<tr><td>H2O_cluster_timezone:</td>\n",
              "<td>Etc/UTC</td></tr>\n",
              "<tr><td>H2O_data_parsing_timezone:</td>\n",
              "<td>UTC</td></tr>\n",
              "<tr><td>H2O_cluster_version:</td>\n",
              "<td>3.32.1.3</td></tr>\n",
              "<tr><td>H2O_cluster_version_age:</td>\n",
              "<td>1 year and 28 days !!!</td></tr>\n",
              "<tr><td>H2O_cluster_name:</td>\n",
              "<td>H2O_from_python_unknownUser_y4fr7r</td></tr>\n",
              "<tr><td>H2O_cluster_total_nodes:</td>\n",
              "<td>1</td></tr>\n",
              "<tr><td>H2O_cluster_free_memory:</td>\n",
              "<td>2 Gb</td></tr>\n",
              "<tr><td>H2O_cluster_total_cores:</td>\n",
              "<td>2</td></tr>\n",
              "<tr><td>H2O_cluster_allowed_cores:</td>\n",
              "<td>2</td></tr>\n",
              "<tr><td>H2O_cluster_status:</td>\n",
              "<td>accepting new members, healthy</td></tr>\n",
              "<tr><td>H2O_connection_url:</td>\n",
              "<td>http://127.0.0.1:54323</td></tr>\n",
              "<tr><td>H2O_connection_proxy:</td>\n",
              "<td>{\"http\": null, \"https\": null}</td></tr>\n",
              "<tr><td>H2O_internal_security:</td>\n",
              "<td>False</td></tr>\n",
              "<tr><td>H2O_API_Extensions:</td>\n",
              "<td>Amazon S3, XGBoost, Algos, AutoML, Core V3, TargetEncoder, Core V4</td></tr>\n",
              "<tr><td>Python_version:</td>\n",
              "<td>3.7.13 final</td></tr></table></div>"
            ]
          },
          "metadata": {}
        }
      ],
      "source": [
        "import h2o                                                        # h2o python library\n",
        "from h2o.backend import H2OLocalServer                            # for model extraction\n",
        "from h2o.estimators.random_forest import H2ORandomForestEstimator # for decision tree in model extraction\n",
        "from interpret.glassbox import ExplainableBoostingClassifier      # interpret ebm class\n",
        "from interpret.perf import ROC                                    # ROC measure for ebm\n",
        "import matplotlib.pyplot as plt                                   # for plots\n",
        "import numpy as np                                                # for basic array manipulation                            \n",
        "import pandas as pd                                               # for dataframe manipulation\n",
        "import subprocess                                                 # to run external processes for model extraction\n",
        "import time                                                       # for timers\n",
        "\n",
        "# enables display of images in notebook\n",
        "from IPython.display import Image\n",
        "from IPython.display import display\n",
        "\n",
        "# set numpy random seed for better reproducibility\n",
        "SEED = 12345 \n",
        "np.random.seed(SEED)\n",
        "\n",
        "# set number of threads\n",
        "NTHREAD = 4\n",
        "\n",
        "h2o.init(max_mem_size='2G')      # start h2o\n",
        "h2o.remove_all()                 # remove any existing data structures from h2o memory\n",
        "h2o.no_progress()                # turn off h2o progress indicators  "
      ]
    },
    {
      "cell_type": "markdown",
      "id": "71a7b83c",
      "metadata": {
        "id": "71a7b83c"
      },
      "source": [
        "### Define Utility Functions"
      ]
    },
    {
      "cell_type": "markdown",
      "id": "3971b7a1",
      "metadata": {
        "id": "3971b7a1"
      },
      "source": [
        "#### Utility function that trains a cross-validated decision tree"
      ]
    },
    {
      "cell_type": "code",
      "execution_count": null,
      "id": "6d50432a",
      "metadata": {
        "id": "6d50432a"
      },
      "outputs": [],
      "source": [
        "def get_cv_dt(x_names, y_name, train, model_id, seed_, title, valid=None):\n",
        "\n",
        "    \"\"\" Utility function to train decision trees.\n",
        "    Args:\n",
        "        x_names: Names of input variables as a list.\n",
        "        y_name: Name of target variable.\n",
        "        train: Pandas DataFrame containing x_names and y_name on which to train\n",
        "               decision tree.\n",
        "        model_id: h2o model identifier.\n",
        "        seed_: Random seed for improved reproducibility.\n",
        "        title: Title for generated plot of tree.\n",
        "        valid: Optional validation data.\n",
        "    Returns:\n",
        "        Model as h2o model object.\n",
        "    \"\"\"\n",
        "\n",
        "    # initialize single tree model\n",
        "    tree = H2ORandomForestEstimator(ntrees=1,  # use only one tree\n",
        "                                    sample_rate=1,  # use all rows in that tree\n",
        "                                    mtries=-2,  # use all columns in that tree's split search\n",
        "                                    max_depth=4,  # shallow trees are easier to understand\n",
        "                                    seed=seed_,  # set random seed for reproducibility\n",
        "                                    nfolds=3,  # cross-validation for stability and ...\n",
        "                                    # only way to get metrics for 1 tree in h2o\n",
        "                                    model_id=model_id)  # gives MOJO artifact a recognizable name\n",
        "\n",
        "    # train single tree model\n",
        "    if valid is not None:\n",
        "        tree.train(x=x_names, y=y_name, training_frame=h2o.H2OFrame(train), validation_frame=h2o.H2OFrame(valid))\n",
        "    else:\n",
        "        tree.train(x=x_names, y=y_name, training_frame=h2o.H2OFrame(train))\n",
        "\n",
        "    # persist MOJO (compiled Java representation of trained model)\n",
        "    # from which to generate plot of tree\n",
        "    mojo_path = tree.download_mojo(path='.')\n",
        "    print('Generated MOJO path:\\n', mojo_path)\n",
        "\n",
        "    # generate graphviz file and then PNG\n",
        "    get_gv(title, model_id, mojo_path)\n",
        "    get_png(model_id)\n",
        "\n",
        "    return tree\n"
      ]
    },
    {
      "cell_type": "markdown",
      "id": "a7520c66",
      "metadata": {
        "id": "a7520c66"
      },
      "source": [
        "#### Utility function that converts h2o MOJO into graphviz file"
      ]
    },
    {
      "cell_type": "code",
      "execution_count": null,
      "id": "06565643",
      "metadata": {
        "id": "06565643"
      },
      "outputs": [],
      "source": [
        "def get_gv(title, model_id, mojo_path):\n",
        "    \n",
        "    \"\"\" Utility function to generate graphviz dot file from h2o MOJO using\n",
        "        a subprocess.\n",
        "        \n",
        "    Args:\n",
        "        title: Title for displayed decision tree.\n",
        "        model_id: h2o model identifier.\n",
        "        mojo_path: Path to saved model MOJO (Java scoring artifact);\n",
        "                   generated by train_cv_dt function above.\n",
        "    \"\"\"\n",
        "\n",
        "    # locate h2o jar\n",
        "    hs = H2OLocalServer()\n",
        "    h2o_jar_path = hs._find_jar()\n",
        "    print('Discovered H2O jar path:\\n', h2o_jar_path)\n",
        "\n",
        "    # construct command line call to generate graphviz version of\n",
        "    # tree, see for more information:\n",
        "    # http://docs.h2o.ai/h2o/latest-stable/h2o-genmodel/javadoc/index.html\n",
        "    gv_file_name = model_id + '.gv'\n",
        "    gv_args = str('-cp ' + h2o_jar_path +\n",
        "                  ' hex.genmodel.tools.PrintMojo --tree 0 -i '\n",
        "                  + mojo_path + ' -o').split()\n",
        "    gv_args.insert(0, 'java')\n",
        "    gv_args.append(gv_file_name)\n",
        "    if title is not None:\n",
        "        gv_args = gv_args + ['--title', title]\n",
        "\n",
        "    # call constructed command\n",
        "    print()\n",
        "    print('Calling external process ...')\n",
        "    print(' '.join(gv_args))\n",
        "    # if the line below is failing for you, try instead:\n",
        "    # _ = subprocess.call(gv_args, shell=True)\n",
        "    _ = subprocess.call(gv_args)\n"
      ]
    },
    {
      "cell_type": "markdown",
      "id": "2c824edd",
      "metadata": {
        "id": "2c824edd"
      },
      "source": [
        "#### Utility function that converts graphviz file into PNG"
      ]
    },
    {
      "cell_type": "code",
      "execution_count": null,
      "id": "2c2783b6",
      "metadata": {
        "id": "2c2783b6"
      },
      "outputs": [],
      "source": [
        "def get_png(model_id):\n",
        "\n",
        "    \"\"\" Utility function to generate PNGs from .dots using a subprocess.\n",
        "    Arg:\n",
        "        model_id: h2o model identifier.\n",
        "    \"\"\"\n",
        "\n",
        "    gv_file_name = model_id + '.gv'\n",
        "\n",
        "    # construct call to generate PNG from\n",
        "    # graphviz representation of the tree\n",
        "    png_file_name = model_id + '.png'\n",
        "    png_args = str('dot -Tpng ' + gv_file_name + ' -o ' + png_file_name)\n",
        "    png_args = png_args.split()\n",
        "\n",
        "    # call\n",
        "    print('Calling external process ...')\n",
        "    print(' '.join(png_args))\n",
        "    # if the line below is failing for you, try instead:\n",
        "    # _ = subprocess.call(png_args, shell=True)\n",
        "    _ = subprocess.call(png_args)\n"
      ]
    },
    {
      "cell_type": "markdown",
      "id": "152e8474",
      "metadata": {
        "id": "152e8474"
      },
      "source": [
        "#### Start global timer"
      ]
    },
    {
      "cell_type": "code",
      "execution_count": null,
      "id": "110ae3e4",
      "metadata": {
        "id": "110ae3e4"
      },
      "outputs": [],
      "source": [
        "tic = time.time()"
      ]
    },
    {
      "cell_type": "markdown",
      "id": "e36c81fd",
      "metadata": {
        "id": "e36c81fd"
      },
      "source": [
        "#### Import data"
      ]
    },
    {
      "cell_type": "code",
      "execution_count": null,
      "id": "36898e3f",
      "metadata": {
        "id": "36898e3f"
      },
      "outputs": [],
      "source": [
        "data = pd.read_csv('data/hmda_train_preprocessed.csv')"
      ]
    },
    {
      "cell_type": "markdown",
      "id": "02f780ca",
      "metadata": {
        "id": "02f780ca"
      },
      "source": [
        "#### Assign basic modeling roles"
      ]
    },
    {
      "cell_type": "code",
      "execution_count": null,
      "id": "374364cd",
      "metadata": {
        "id": "374364cd"
      },
      "outputs": [],
      "source": [
        "y_name = 'high_priced'"
      ]
    },
    {
      "cell_type": "markdown",
      "id": "2bd91ac7",
      "metadata": {
        "id": "2bd91ac7"
      },
      "source": [
        "## Fit interpretable model"
      ]
    },
    {
      "cell_type": "markdown",
      "id": "b63c7465",
      "metadata": {
        "id": "b63c7465"
      },
      "source": [
        "#### Split data into train and validation partitions "
      ]
    },
    {
      "cell_type": "code",
      "execution_count": null,
      "id": "d82faabc",
      "metadata": {
        "scrolled": true,
        "id": "d82faabc",
        "outputId": "2160619a-c1c8-4781-c455-9741f3573dd3",
        "colab": {
          "base_uri": "https://localhost:8080/"
        }
      },
      "outputs": [
        {
          "output_type": "stream",
          "name": "stdout",
          "text": [
            "Train data rows = 112253, columns = 23\n",
            "Validation data rows = 48085, columns = 23\n"
          ]
        }
      ],
      "source": [
        "np.random.seed(SEED) # preserve exact reproducibility for this cell\n",
        "\n",
        "split_ratio = 0.7 # 70%/30% train/test split\n",
        "\n",
        "# execute split\n",
        "split = np.random.rand(len(data)) < split_ratio\n",
        "train = data[split]\n",
        "valid = data[~split]\n",
        "\n",
        "# summarize split\n",
        "print('Train data rows = %d, columns = %d' % (train.shape[0], train.shape[1]))\n",
        "print('Validation data rows = %d, columns = %d' % (valid.shape[0], valid.shape[1]))\n",
        "\n",
        "# benchmark - Train data rows = 112253, columns = 23\n",
        "# benchmark - Validation data rows = 48085, columns = 23"
      ]
    },
    {
      "cell_type": "markdown",
      "id": "348b7fb0",
      "metadata": {
        "id": "348b7fb0"
      },
      "source": [
        "### Explainable Boosting Machine"
      ]
    },
    {
      "cell_type": "markdown",
      "id": "df03ff02",
      "metadata": {
        "id": "df03ff02"
      },
      "source": [
        "#### Retrain most accurate model above 0.8 AIR to act as blackbox prediction API"
      ]
    },
    {
      "cell_type": "code",
      "execution_count": null,
      "id": "363c0f63",
      "metadata": {
        "id": "363c0f63",
        "outputId": "c667b0c3-c81c-4882-e8bf-ed9f6e56d3b5",
        "colab": {
          "base_uri": "https://localhost:8080/"
        }
      },
      "outputs": [
        {
          "output_type": "stream",
          "name": "stdout",
          "text": [
            "Remediated EBM retrained with AUC: 0.7815.\n"
          ]
        }
      ],
      "source": [
        "# params dict for remediated models\n",
        "rem_params = {'max_bins': 512,\n",
        "              'max_interaction_bins': 32,\n",
        "              'interactions': 10,\n",
        "              'outer_bags': 8,\n",
        "              'inner_bags': 4,\n",
        "              'learning_rate': 0.05,\n",
        "              'validation_size': 0.5,\n",
        "              'min_samples_leaf': 5,\n",
        "              'max_leaves': 5,\n",
        "              'early_stopping_rounds': 100.0,\n",
        "              'n_jobs': NTHREAD, \n",
        "              'random_state': SEED}\n",
        "\n",
        "rem_x_names = ['debt_to_income_ratio_std',\n",
        "               'term_360',\n",
        "               'income_std',\n",
        "               'property_value_std',\n",
        "               'conforming',\n",
        "               'intro_rate_period_std',\n",
        "               'no_intro_rate_period_std',\n",
        "               'debt_to_income_ratio_missing']\n",
        "\n",
        "# retrain\n",
        "rem_ebm = ExplainableBoostingClassifier(**rem_params)\n",
        "rem_ebm.fit(train[rem_x_names], train[y_name]) \n",
        "rem_ebm_perf = ROC(rem_ebm.predict_proba).explain_perf(valid[rem_x_names], valid[y_name])\n",
        "rem_auc = rem_ebm_perf._internal_obj['overall']['auc']\n",
        "print('Remediated EBM retrained with AUC: %.4f.' % rem_auc)"
      ]
    },
    {
      "cell_type": "markdown",
      "id": "cfb8c431",
      "metadata": {
        "id": "cfb8c431"
      },
      "source": [
        "## Model Extraction Attack"
      ]
    },
    {
      "cell_type": "markdown",
      "id": "947518b5",
      "metadata": {
        "id": "947518b5"
      },
      "source": [
        "#### Generate synthetic data for extraction attack\n",
        "For an API or model to be usable by customers or others, the system documentation must contain basic information about expected input variables. Between that information, domain knowledge, and publicly available information, an attacker can make a good guess at what the input data should look like."
      ]
    },
    {
      "cell_type": "code",
      "execution_count": null,
      "id": "524c092b",
      "metadata": {
        "id": "524c092b"
      },
      "outputs": [],
      "source": [
        "# best guess at feature distributions\n",
        "schema_dict = {'term_360':                     {'p': 0.9, 'dist': 'binomial'},\n",
        "               'conforming':                   {'p': 0.9, 'dist': 'binomial'},\n",
        "               'no_intro_rate_period_std':     {'p': 0.1, 'dist': 'binomial'},\n",
        "               'debt_to_income_ratio_missing':              {'p': 0.1, 'dist': 'binomial'}, \n",
        "               'intro_rate_period_std':        {'min': 0, 'scale': 2, 'dist': 'exponential'},  \n",
        "               'property_value_std':           {'min': -5, 'scale': 5, 'dist': 'exponential'},\n",
        "               'income_std':                   {'min': -5, 'scale': 25, 'dist': 'exponential'},\n",
        "               'debt_to_income_ratio_std':     {'mean': 1, 'scale': 1, 'dist': 'normal'}}\n",
        "\n",
        "N = 10000 # rows of simulated data\n",
        "\n",
        "random_frame = pd.DataFrame(columns=list(schema_dict.keys())) # init empty frame\n",
        "                            \n",
        "np.random.seed(SEED) # same results each time cell is run    \n",
        "    \n",
        "for j in list(schema_dict.keys()): # loop through features\n",
        "    \n",
        "    # simulate normal features\n",
        "    if schema_dict[j]['dist'] == 'normal':\n",
        "        random_frame[j] = np.random.normal(loc=schema_dict[j]['mean'],\n",
        "                                           scale=schema_dict[j]['scale'], \n",
        "                                           size=N)\n",
        "    \n",
        "    # simulate expontential features\n",
        "    if schema_dict[j]['dist'] == 'exponential':\n",
        "        random_frame[j] = schema_dict[j]['min'] + np.random.exponential(scale=schema_dict[j]['scale'], \n",
        "                                                                        size=N)\n",
        "        \n",
        "    # simulate binomial features\n",
        "    if schema_dict[j]['dist'] == 'binomial':\n",
        "        random_frame[j] = np.random.binomial(1, schema_dict[j]['p'], N)\n",
        "        \n",
        "# make up for no_intro_rate_period_std scale shift\n",
        "random_frame['no_intro_rate_period_std'] = -4 * random_frame['no_intro_rate_period_std'] "
      ]
    },
    {
      "cell_type": "markdown",
      "id": "2418dc0f",
      "metadata": {
        "id": "2418dc0f"
      },
      "source": [
        "#### Visualize simulated data"
      ]
    },
    {
      "cell_type": "code",
      "execution_count": null,
      "id": "2e81a172",
      "metadata": {
        "id": "2e81a172",
        "outputId": "46b07d4b-f5c2-43e7-9bcc-d3a77a4f85d8",
        "colab": {
          "base_uri": "https://localhost:8080/",
          "height": 879
        }
      },
      "outputs": [
        {
          "output_type": "display_data",
          "data": {
            "text/plain": [
              "<Figure size 1080x1080 with 9 Axes>"
            ],
            "image/png": "[encoded data removed]"
          },
          "metadata": {
            "needs_background": "light"
          }
        }
      ],
      "source": [
        "_ = random_frame[rem_x_names].hist(bins=50, figsize=(15, 15))"
      ]
    },
    {
      "cell_type": "markdown",
      "id": "59714916",
      "metadata": {
        "id": "59714916"
      },
      "source": [
        "#### First call to blackbox model for predictions on random data"
      ]
    },
    {
      "cell_type": "code",
      "execution_count": null,
      "id": "3b446c68",
      "metadata": {
        "id": "3b446c68",
        "outputId": "f5cd101c-edcb-4c7b-a8f2-838d16ebbe17",
        "colab": {
          "base_uri": "https://localhost:8080/",
          "height": 204
        }
      },
      "outputs": [
        {
          "output_type": "execute_result",
          "data": {
            "text/plain": [
              "   term_360  conforming  no_intro_rate_period_std  \\\n",
              "0         0           1                         0   \n",
              "1         1           1                        -4   \n",
              "2         1           1                         0   \n",
              "3         1           1                         0   \n",
              "4         1           1                         0   \n",
              "\n",
              "   debt_to_income_ratio_missing  intro_rate_period_std  property_value_std  \\\n",
              "0                             0               2.018107            4.448038   \n",
              "1                             1               1.029955            4.580346   \n",
              "2                             0               2.853882            8.899881   \n",
              "3                             0               0.248822            8.887287   \n",
              "4                             0               1.796115           -2.252657   \n",
              "\n",
              "   income_std  debt_to_income_ratio_std      phat  \n",
              "0    7.560986                  2.346077  0.037603  \n",
              "1   -1.530707                  0.239296  0.930232  \n",
              "2   13.705550                  0.639075  0.003113  \n",
              "3    1.895881                  0.087230  0.015838  \n",
              "4   27.529353                  1.263036  0.082669  "
            ],
            "text/html": [
              "\n",
              "  <div id=\"df-c5b90fc4-fc4c-43a2-94c2-649f90290ea4\">\n",
              "    <div class=\"colab-df-container\">\n",
              "      <div>\n",
              "<style scoped>\n",
              "    .dataframe tbody tr th:only-of-type {\n",
              "        vertical-align: middle;\n",
              "    }\n",
              "\n",
              "    .dataframe tbody tr th {\n",
              "        vertical-align: top;\n",
              "    }\n",
              "\n",
              "    .dataframe thead th {\n",
              "        text-align: right;\n",
              "    }\n",
              "</style>\n",
              "<table border=\"1\" class=\"dataframe\">\n",
              "  <thead>\n",
              "    <tr style=\"text-align: right;\">\n",
              "      <th></th>\n",
              "      <th>term_360</th>\n",
              "      <th>conforming</th>\n",
              "      <th>no_intro_rate_period_std</th>\n",
              "      <th>debt_to_income_ratio_missing</th>\n",
              "      <th>intro_rate_period_std</th>\n",
              "      <th>property_value_std</th>\n",
              "      <th>income_std</th>\n",
              "      <th>debt_to_income_ratio_std</th>\n",
              "      <th>phat</th>\n",
              "    </tr>\n",
              "  </thead>\n",
              "  <tbody>\n",
              "    <tr>\n",
              "      <th>0</th>\n",
              "      <td>0</td>\n",
              "      <td>1</td>\n",
              "      <td>0</td>\n",
              "      <td>0</td>\n",
              "      <td>2.018107</td>\n",
              "      <td>4.448038</td>\n",
              "      <td>7.560986</td>\n",
              "      <td>2.346077</td>\n",
              "      <td>0.037603</td>\n",
              "    </tr>\n",
              "    <tr>\n",
              "      <th>1</th>\n",
              "      <td>1</td>\n",
              "      <td>1</td>\n",
              "      <td>-4</td>\n",
              "      <td>1</td>\n",
              "      <td>1.029955</td>\n",
              "      <td>4.580346</td>\n",
              "      <td>-1.530707</td>\n",
              "      <td>0.239296</td>\n",
              "      <td>0.930232</td>\n",
              "    </tr>\n",
              "    <tr>\n",
              "      <th>2</th>\n",
              "      <td>1</td>\n",
              "      <td>1</td>\n",
              "      <td>0</td>\n",
              "      <td>0</td>\n",
              "      <td>2.853882</td>\n",
              "      <td>8.899881</td>\n",
              "      <td>13.705550</td>\n",
              "      <td>0.639075</td>\n",
              "      <td>0.003113</td>\n",
              "    </tr>\n",
              "    <tr>\n",
              "      <th>3</th>\n",
              "      <td>1</td>\n",
              "      <td>1</td>\n",
              "      <td>0</td>\n",
              "      <td>0</td>\n",
              "      <td>0.248822</td>\n",
              "      <td>8.887287</td>\n",
              "      <td>1.895881</td>\n",
              "      <td>0.087230</td>\n",
              "      <td>0.015838</td>\n",
              "    </tr>\n",
              "    <tr>\n",
              "      <th>4</th>\n",
              "      <td>1</td>\n",
              "      <td>1</td>\n",
              "      <td>0</td>\n",
              "      <td>0</td>\n",
              "      <td>1.796115</td>\n",
              "      <td>-2.252657</td>\n",
              "      <td>27.529353</td>\n",
              "      <td>1.263036</td>\n",
              "      <td>0.082669</td>\n",
              "    </tr>\n",
              "  </tbody>\n",
              "</table>\n",
              "</div>\n",
              "      <button class=\"colab-df-convert\" onclick=\"convertToInteractive('df-c5b90fc4-fc4c-43a2-94c2-649f90290ea4')\"\n",
              "              title=\"Convert this dataframe to an interactive table.\"\n",
              "              style=\"display:none;\">\n",
              "        \n",
              "  <svg xmlns=\"http://www.w3.org/2000/svg\" height=\"24px\"viewBox=\"0 0 24 24\"\n",
              "       width=\"24px\">\n",
              "    <path d=\"M0 0h24v24H0V0z\" fill=\"none\"/>\n",
              "    <path d=\"M18.56 5.44l.94 2.06.94-2.06 2.06-.94-2.06-.94-.94-2.06-.94 2.06-2.06.94zm-11 1L8.5 8.5l.94-2.06 2.06-.94-2.06-.94L8.5 2.5l-.94 2.06-2.06.94zm10 10l.94 2.06.94-2.06 2.06-.94-2.06-.94-.94-2.06-.94 2.06-2.06.94z\"/><path d=\"M17.41 7.96l-1.37-1.37c-.4-.4-.92-.59-1.43-.59-.52 0-1.04.2-1.43.59L10.3 9.45l-7.72 7.72c-.78.78-.78 2.05 0 2.83L4 21.41c.39.39.9.59 1.41.59.51 0 1.02-.2 1.41-.59l7.78-7.78 2.81-2.81c.8-.78.8-2.07 0-2.86zM5.41 20L4 18.59l7.72-7.72 1.47 1.35L5.41 20z\"/>\n",
              "  </svg>\n",
              "      </button>\n",
              "      \n",
              "  <style>\n",
              "    .colab-df-container {\n",
              "      display:flex;\n",
              "      flex-wrap:wrap;\n",
              "      gap: 12px;\n",
              "    }\n",
              "\n",
              "    .colab-df-convert {\n",
              "      background-color: #E8F0FE;\n",
              "      border: none;\n",
              "      border-radius: 50%;\n",
              "      cursor: pointer;\n",
              "      display: none;\n",
              "      fill: #1967D2;\n",
              "      height: 32px;\n",
              "      padding: 0 0 0 0;\n",
              "      width: 32px;\n",
              "    }\n",
              "\n",
              "    .colab-df-convert:hover {\n",
              "      background-color: #E2EBFA;\n",
              "      box-shadow: 0px 1px 2px rgba(60, 64, 67, 0.3), 0px 1px 3px 1px rgba(60, 64, 67, 0.15);\n",
              "      fill: #174EA6;\n",
              "    }\n",
              "\n",
              "    [theme=dark] .colab-df-convert {\n",
              "      background-color: #3B4455;\n",
              "      fill: #D2E3FC;\n",
              "    }\n",
              "\n",
              "    [theme=dark] .colab-df-convert:hover {\n",
              "      background-color: #434B5C;\n",
              "      box-shadow: 0px 1px 3px 1px rgba(0, 0, 0, 0.15);\n",
              "      filter: drop-shadow(0px 1px 2px rgba(0, 0, 0, 0.3));\n",
              "      fill: #FFFFFF;\n",
              "    }\n",
              "  </style>\n",
              "\n",
              "      <script>\n",
              "        const buttonEl =\n",
              "          document.querySelector('#df-c5b90fc4-fc4c-43a2-94c2-649f90290ea4 button.colab-df-convert');\n",
              "        buttonEl.style.display =\n",
              "          google.colab.kernel.accessAllowed ? 'block' : 'none';\n",
              "\n",
              "        async function convertToInteractive(key) {\n",
              "          const element = document.querySelector('#df-c5b90fc4-fc4c-43a2-94c2-649f90290ea4');\n",
              "          const dataTable =\n",
              "            await google.colab.kernel.invokeFunction('convertToInteractive',\n",
              "                                                     [key], {});\n",
              "          if (!dataTable) return;\n",
              "\n",
              "          const docLinkHtml = 'Like what you see? Visit the ' +\n",
              "            '<a target=\"_blank\" href=https://colab.research.google.com/notebooks/data_table.ipynb>data table notebook</a>'\n",
              "            + ' to learn more about interactive tables.';\n",
              "          element.innerHTML = '';\n",
              "          dataTable['output_type'] = 'display_data';\n",
              "          await google.colab.output.renderOutput(dataTable, element);\n",
              "          const docLink = document.createElement('div');\n",
              "          docLink.innerHTML = docLinkHtml;\n",
              "          element.appendChild(docLink);\n",
              "        }\n",
              "      </script>\n",
              "    </div>\n",
              "  </div>\n",
              "  "
            ]
          },
          "metadata": {},
          "execution_count": 15
        }
      ],
      "source": [
        "blackbox_phat = pd.DataFrame(rem_ebm.predict_proba(random_frame[rem_x_names])[:, 1], columns=['phat']) \n",
        "blackbox_phat = pd.concat([random_frame.reset_index(drop=True), blackbox_phat], axis=1)\n",
        "blackbox_phat.head()"
      ]
    },
    {
      "cell_type": "markdown",
      "id": "56f93fa6",
      "metadata": {
        "id": "56f93fa6"
      },
      "source": [
        "#### Extract a stolen decision tree model"
      ]
    },
    {
      "cell_type": "code",
      "execution_count": null,
      "id": "050a1d7d",
      "metadata": {
        "id": "050a1d7d",
        "outputId": "a5c7facd-e5ad-4839-bfa9-1dad68bdf260",
        "colab": {
          "base_uri": "https://localhost:8080/"
        }
      },
      "outputs": [
        {
          "output_type": "stream",
          "name": "stdout",
          "text": [
            "Generated MOJO path:\n",
            " /content/stolen_dt.zip\n",
            "Discovered H2O jar path:\n",
            " /usr/local/lib/python3.7/dist-packages/h2o/backend/bin/h2o.jar\n",
            "\n",
            "Calling external process ...\n",
            "java -cp /usr/local/lib/python3.7/dist-packages/h2o/backend/bin/h2o.jar hex.genmodel.tools.PrintMojo --tree 0 -i /content/stolen_dt.zip -o stolen_dt.gv --title Stolen Model\n",
            "Calling external process ...\n",
            "dot -Tpng stolen_dt.gv -o stolen_dt.png\n"
          ]
        }
      ],
      "source": [
        "stolen_dt = get_cv_dt(list(schema_dict.keys()),\n",
        "                      'phat',\n",
        "                      blackbox_phat,\n",
        "                      'stolen_dt', \n",
        "                      SEED, \n",
        "                      'Stolen Model')"
      ]
    },
    {
      "cell_type": "markdown",
      "id": "b18da369",
      "metadata": {
        "id": "b18da369"
      },
      "source": [
        "#### View stolen model\n",
        "Double clicking should zoom."
      ]
    },
    {
      "cell_type": "code",
      "execution_count": null,
      "id": "24451c59",
      "metadata": {
        "id": "24451c59",
        "outputId": "3b37f328-7e04-4513-fb02-af3481d2383b",
        "colab": {
          "base_uri": "https://localhost:8080/",
          "height": 499
        }
      },
      "outputs": [
        {
          "output_type": "display_data",
          "data": {
            "image/png": "[encoded data removed]",
            "text/plain": [
              "<IPython.core.display.Image object>"
            ]
          },
          "metadata": {}
        }
      ],
      "source": [
        "display(Image(('stolen_dt.png')))"
      ]
    },
    {
      "cell_type": "markdown",
      "id": "35de3a60",
      "metadata": {
        "id": "35de3a60"
      },
      "source": [
        "Now an attacker has a basic flow chart for how the EBM works. This can be used as a sandbox for subsequent attacks!"
      ]
    },
    {
      "cell_type": "markdown",
      "id": "6565e1b3",
      "metadata": {
        "id": "6565e1b3"
      },
      "source": [
        "#### Variable importance for stolen model"
      ]
    },
    {
      "cell_type": "code",
      "execution_count": null,
      "id": "9aac5bac",
      "metadata": {
        "id": "9aac5bac",
        "outputId": "1565d3fa-fd2b-4e1a-c8cd-40f967ec8120",
        "colab": {
          "base_uri": "https://localhost:8080/",
          "height": 612
        }
      },
      "outputs": [
        {
          "output_type": "display_data",
          "data": {
            "text/plain": [
              "<Figure size 1008x720 with 1 Axes>"
            ],
            "image/png": "[encoded data removed]"
          },
          "metadata": {
            "needs_background": "light"
          }
        }
      ],
      "source": [
        "stolen_dt.varimp_plot()"
      ]
    },
    {
      "cell_type": "markdown",
      "id": "c5c29092",
      "metadata": {
        "id": "c5c29092"
      },
      "source": [
        "These are the most important variables in the stolen model, and likely in the real model too. "
      ]
    },
    {
      "cell_type": "markdown",
      "id": "13c97b5f",
      "metadata": {
        "id": "13c97b5f"
      },
      "source": [
        "#### Assess accuracy of stolen model"
      ]
    },
    {
      "cell_type": "code",
      "execution_count": null,
      "id": "6b56aa90",
      "metadata": {
        "id": "6b56aa90",
        "outputId": "86ca09cc-0f30-4a9d-bd4a-a2ba3553ff4b",
        "colab": {
          "base_uri": "https://localhost:8080/",
          "height": 302
        }
      },
      "outputs": [
        {
          "output_type": "stream",
          "name": "stdout",
          "text": [
            "\n",
            "Cross-Validation Metrics Summary: \n"
          ]
        },
        {
          "output_type": "display_data",
          "data": {
            "text/plain": [
              "                                  mean            sd   cv_1_valid  \\\n",
              "0                     mae   0.06088558  3.3382245E-4   0.06057978   \n",
              "1  mean_residual_deviance  0.008376137  1.0509648E-4  0.008308959   \n",
              "2                     mse  0.008376137  1.0509648E-4  0.008308959   \n",
              "3                      r2   0.67489886  0.0047037057   0.67135364   \n",
              "4       residual_deviance  0.008376137  1.0509648E-4  0.008308959   \n",
              "5                    rmse   0.09152005  5.7315436E-4  0.091153495   \n",
              "6                   rmsle   0.07324259   1.019968E-4   0.07315347   \n",
              "\n",
              "    cv_2_valid   cv_3_valid  \n",
              "0  0.060835246   0.06124171  \n",
              "1  0.008322203  0.008497251  \n",
              "2  0.008322203  0.008497251  \n",
              "3     0.673108    0.6802349  \n",
              "4  0.008322203  0.008497251  \n",
              "5   0.09122611  0.092180535  \n",
              "6   0.07322046  0.073353834  "
            ],
            "text/html": [
              "\n",
              "  <div id=\"df-2efe0430-4664-40bf-815b-6e26eaab41f6\">\n",
              "    <div class=\"colab-df-container\">\n",
              "      <div>\n",
              "<style scoped>\n",
              "    .dataframe tbody tr th:only-of-type {\n",
              "        vertical-align: middle;\n",
              "    }\n",
              "\n",
              "    .dataframe tbody tr th {\n",
              "        vertical-align: top;\n",
              "    }\n",
              "\n",
              "    .dataframe thead th {\n",
              "        text-align: right;\n",
              "    }\n",
              "</style>\n",
              "<table border=\"1\" class=\"dataframe\">\n",
              "  <thead>\n",
              "    <tr style=\"text-align: right;\">\n",
              "      <th></th>\n",
              "      <th></th>\n",
              "      <th>mean</th>\n",
              "      <th>sd</th>\n",
              "      <th>cv_1_valid</th>\n",
              "      <th>cv_2_valid</th>\n",
              "      <th>cv_3_valid</th>\n",
              "    </tr>\n",
              "  </thead>\n",
              "  <tbody>\n",
              "    <tr>\n",
              "      <th>0</th>\n",
              "      <td>mae</td>\n",
              "      <td>0.06088558</td>\n",
              "      <td>3.3382245E-4</td>\n",
              "      <td>0.06057978</td>\n",
              "      <td>0.060835246</td>\n",
              "      <td>0.06124171</td>\n",
              "    </tr>\n",
              "    <tr>\n",
              "      <th>1</th>\n",
              "      <td>mean_residual_deviance</td>\n",
              "      <td>0.008376137</td>\n",
              "      <td>1.0509648E-4</td>\n",
              "      <td>0.008308959</td>\n",
              "      <td>0.008322203</td>\n",
              "      <td>0.008497251</td>\n",
              "    </tr>\n",
              "    <tr>\n",
              "      <th>2</th>\n",
              "      <td>mse</td>\n",
              "      <td>0.008376137</td>\n",
              "      <td>1.0509648E-4</td>\n",
              "      <td>0.008308959</td>\n",
              "      <td>0.008322203</td>\n",
              "      <td>0.008497251</td>\n",
              "    </tr>\n",
              "    <tr>\n",
              "      <th>3</th>\n",
              "      <td>r2</td>\n",
              "      <td>0.67489886</td>\n",
              "      <td>0.0047037057</td>\n",
              "      <td>0.67135364</td>\n",
              "      <td>0.673108</td>\n",
              "      <td>0.6802349</td>\n",
              "    </tr>\n",
              "    <tr>\n",
              "      <th>4</th>\n",
              "      <td>residual_deviance</td>\n",
              "      <td>0.008376137</td>\n",
              "      <td>1.0509648E-4</td>\n",
              "      <td>0.008308959</td>\n",
              "      <td>0.008322203</td>\n",
              "      <td>0.008497251</td>\n",
              "    </tr>\n",
              "    <tr>\n",
              "      <th>5</th>\n",
              "      <td>rmse</td>\n",
              "      <td>0.09152005</td>\n",
              "      <td>5.7315436E-4</td>\n",
              "      <td>0.091153495</td>\n",
              "      <td>0.09122611</td>\n",
              "      <td>0.092180535</td>\n",
              "    </tr>\n",
              "    <tr>\n",
              "      <th>6</th>\n",
              "      <td>rmsle</td>\n",
              "      <td>0.07324259</td>\n",
              "      <td>1.019968E-4</td>\n",
              "      <td>0.07315347</td>\n",
              "      <td>0.07322046</td>\n",
              "      <td>0.073353834</td>\n",
              "    </tr>\n",
              "  </tbody>\n",
              "</table>\n",
              "</div>\n",
              "      <button class=\"colab-df-convert\" onclick=\"convertToInteractive('df-2efe0430-4664-40bf-815b-6e26eaab41f6')\"\n",
              "              title=\"Convert this dataframe to an interactive table.\"\n",
              "              style=\"display:none;\">\n",
              "        \n",
              "  <svg xmlns=\"http://www.w3.org/2000/svg\" height=\"24px\"viewBox=\"0 0 24 24\"\n",
              "       width=\"24px\">\n",
              "    <path d=\"M0 0h24v24H0V0z\" fill=\"none\"/>\n",
              "    <path d=\"M18.56 5.44l.94 2.06.94-2.06 2.06-.94-2.06-.94-.94-2.06-.94 2.06-2.06.94zm-11 1L8.5 8.5l.94-2.06 2.06-.94-2.06-.94L8.5 2.5l-.94 2.06-2.06.94zm10 10l.94 2.06.94-2.06 2.06-.94-2.06-.94-.94-2.06-.94 2.06-2.06.94z\"/><path d=\"M17.41 7.96l-1.37-1.37c-.4-.4-.92-.59-1.43-.59-.52 0-1.04.2-1.43.59L10.3 9.45l-7.72 7.72c-.78.78-.78 2.05 0 2.83L4 21.41c.39.39.9.59 1.41.59.51 0 1.02-.2 1.41-.59l7.78-7.78 2.81-2.81c.8-.78.8-2.07 0-2.86zM5.41 20L4 18.59l7.72-7.72 1.47 1.35L5.41 20z\"/>\n",
              "  </svg>\n",
              "      </button>\n",
              "      \n",
              "  <style>\n",
              "    .colab-df-container {\n",
              "      display:flex;\n",
              "      flex-wrap:wrap;\n",
              "      gap: 12px;\n",
              "    }\n",
              "\n",
              "    .colab-df-convert {\n",
              "      background-color: #E8F0FE;\n",
              "      border: none;\n",
              "      border-radius: 50%;\n",
              "      cursor: pointer;\n",
              "      display: none;\n",
              "      fill: #1967D2;\n",
              "      height: 32px;\n",
              "      padding: 0 0 0 0;\n",
              "      width: 32px;\n",
              "    }\n",
              "\n",
              "    .colab-df-convert:hover {\n",
              "      background-color: #E2EBFA;\n",
              "      box-shadow: 0px 1px 2px rgba(60, 64, 67, 0.3), 0px 1px 3px 1px rgba(60, 64, 67, 0.15);\n",
              "      fill: #174EA6;\n",
              "    }\n",
              "\n",
              "    [theme=dark] .colab-df-convert {\n",
              "      background-color: #3B4455;\n",
              "      fill: #D2E3FC;\n",
              "    }\n",
              "\n",
              "    [theme=dark] .colab-df-convert:hover {\n",
              "      background-color: #434B5C;\n",
              "      box-shadow: 0px 1px 3px 1px rgba(0, 0, 0, 0.15);\n",
              "      filter: drop-shadow(0px 1px 2px rgba(0, 0, 0, 0.3));\n",
              "      fill: #FFFFFF;\n",
              "    }\n",
              "  </style>\n",
              "\n",
              "      <script>\n",
              "        const buttonEl =\n",
              "          document.querySelector('#df-2efe0430-4664-40bf-815b-6e26eaab41f6 button.colab-df-convert');\n",
              "        buttonEl.style.display =\n",
              "          google.colab.kernel.accessAllowed ? 'block' : 'none';\n",
              "\n",
              "        async function convertToInteractive(key) {\n",
              "          const element = document.querySelector('#df-2efe0430-4664-40bf-815b-6e26eaab41f6');\n",
              "          const dataTable =\n",
              "            await google.colab.kernel.invokeFunction('convertToInteractive',\n",
              "                                                     [key], {});\n",
              "          if (!dataTable) return;\n",
              "\n",
              "          const docLinkHtml = 'Like what you see? Visit the ' +\n",
              "            '<a target=\"_blank\" href=https://colab.research.google.com/notebooks/data_table.ipynb>data table notebook</a>'\n",
              "            + ' to learn more about interactive tables.';\n",
              "          element.innerHTML = '';\n",
              "          dataTable['output_type'] = 'display_data';\n",
              "          await google.colab.output.renderOutput(dataTable, element);\n",
              "          const docLink = document.createElement('div');\n",
              "          docLink.innerHTML = docLinkHtml;\n",
              "          element.appendChild(docLink);\n",
              "        }\n",
              "      </script>\n",
              "    </div>\n",
              "  </div>\n",
              "  "
            ]
          },
          "metadata": {}
        },
        {
          "output_type": "execute_result",
          "data": {
            "text/plain": [
              ""
            ]
          },
          "metadata": {},
          "execution_count": 19
        }
      ],
      "source": [
        "stolen_dt.cross_validation_metrics_summary() # h2o makes cv evaluation metrics available"
      ]
    },
    {
      "cell_type": "markdown",
      "id": "213a095e",
      "metadata": {
        "id": "213a095e"
      },
      "source": [
        "The stolen model is accurate enough (R2=0.67, RMSE=0.09), and importantly, very stable."
      ]
    },
    {
      "cell_type": "markdown",
      "id": "870bd1ca",
      "metadata": {
        "id": "870bd1ca"
      },
      "source": [
        "## Use Stolen Model to Craft Adversarial Examples"
      ]
    },
    {
      "cell_type": "markdown",
      "id": "4d6dbd15",
      "metadata": {
        "id": "4d6dbd15"
      },
      "source": [
        "#### Use stolen model to find seed rows for adversary searches"
      ]
    },
    {
      "cell_type": "code",
      "execution_count": null,
      "id": "ab232319",
      "metadata": {
        "id": "ab232319",
        "outputId": "6c02bb68-4fbd-4ece-bf5f-2f5cf5daf66b",
        "colab": {
          "base_uri": "https://localhost:8080/"
        }
      },
      "outputs": [
        {
          "output_type": "stream",
          "name": "stdout",
          "text": [
            "Low adversarial example search seed row:\n",
            "term_360                         0.902991\n",
            "conforming                       0.897239\n",
            "no_intro_rate_period_std        -0.397239\n",
            "debt_to_income_ratio_missing     0.000000\n",
            "intro_rate_period_std            2.045873\n",
            "property_value_std               5.207803\n",
            "income_std                      25.871363\n",
            "debt_to_income_ratio_std         1.017665\n",
            "dtype: float64\n",
            "\n",
            "High adversarial example search seed row:\n",
            "term_360                        0.890467\n",
            "conforming                      0.876268\n",
            "no_intro_rate_period_std       -0.454361\n",
            "debt_to_income_ratio_missing    0.099391\n",
            "intro_rate_period_std           0.540209\n",
            "property_value_std             -3.157932\n",
            "income_std                     -2.645761\n",
            "debt_to_income_ratio_std        1.057729\n",
            "dtype: float64\n"
          ]
        }
      ],
      "source": [
        "low_adversary_seed = random_frame.loc[(random_frame['property_value_std'] >= -0.925) &\n",
        "                                      (random_frame['debt_to_income_ratio_missing'] < 0.5) & \n",
        "                                      (random_frame['income_std'] >= 0.779) &\n",
        "                                      (random_frame['property_value_std'] >= 0.094), :].mean()\n",
        "print('Low adversarial example search seed row:')\n",
        "print(low_adversary_seed)\n",
        "print()\n",
        "\n",
        "high_adversary_seed = random_frame.loc[(random_frame['property_value_std'] < -0.925) & \n",
        "                                       (random_frame['income_std'] < 1.093) & \n",
        "                                       (random_frame['intro_rate_period_std'] < 1.218) & \n",
        "                                       (random_frame['income_std'] < -0.05), :].mean()\n",
        "print('High adversarial example search seed row:')\n",
        "print(high_adversary_seed)"
      ]
    },
    {
      "cell_type": "markdown",
      "id": "257dc689",
      "metadata": {
        "id": "257dc689"
      },
      "source": [
        "#### Perturb seed row to find low scoring adversarial examples"
      ]
    },
    {
      "cell_type": "code",
      "execution_count": null,
      "id": "275972ba",
      "metadata": {
        "id": "275972ba",
        "outputId": "0b7fb56b-9d5e-493f-f16a-a6773b9e0d98",
        "colab": {
          "base_uri": "https://localhost:8080/",
          "height": 204
        }
      },
      "outputs": [
        {
          "output_type": "execute_result",
          "data": {
            "text/plain": [
              "   term_360  conforming  no_intro_rate_period_std  \\\n",
              "0       0.0    0.897239                 -0.397239   \n",
              "1       0.0    0.897239                 -0.397239   \n",
              "2       0.0    0.897239                 -0.397239   \n",
              "3       1.0    0.897239                 -0.397239   \n",
              "4       1.0    0.897239                 -0.397239   \n",
              "\n",
              "   debt_to_income_ratio_missing  intro_rate_period_std  property_value_std  \\\n",
              "0                           0.0                9.06958           18.545693   \n",
              "1                           0.0                9.06958           18.545693   \n",
              "2                           0.0                9.06958           18.545693   \n",
              "3                           0.0                9.06958           18.545693   \n",
              "4                           0.0                9.06958           18.545693   \n",
              "\n",
              "   income_std  debt_to_income_ratio_std  \n",
              "0   109.78404                  1.017665  \n",
              "1   109.78404                  1.017665  \n",
              "2   109.78404                  1.017665  \n",
              "3   109.78404                  1.017665  \n",
              "4   109.78404                  1.017665  "
            ],
            "text/html": [
              "\n",
              "  <div id=\"df-9d2df9f5-ee1f-4614-9d18-702a65d185c5\">\n",
              "    <div class=\"colab-df-container\">\n",
              "      <div>\n",
              "<style scoped>\n",
              "    .dataframe tbody tr th:only-of-type {\n",
              "        vertical-align: middle;\n",
              "    }\n",
              "\n",
              "    .dataframe tbody tr th {\n",
              "        vertical-align: top;\n",
              "    }\n",
              "\n",
              "    .dataframe thead th {\n",
              "        text-align: right;\n",
              "    }\n",
              "</style>\n",
              "<table border=\"1\" class=\"dataframe\">\n",
              "  <thead>\n",
              "    <tr style=\"text-align: right;\">\n",
              "      <th></th>\n",
              "      <th>term_360</th>\n",
              "      <th>conforming</th>\n",
              "      <th>no_intro_rate_period_std</th>\n",
              "      <th>debt_to_income_ratio_missing</th>\n",
              "      <th>intro_rate_period_std</th>\n",
              "      <th>property_value_std</th>\n",
              "      <th>income_std</th>\n",
              "      <th>debt_to_income_ratio_std</th>\n",
              "    </tr>\n",
              "  </thead>\n",
              "  <tbody>\n",
              "    <tr>\n",
              "      <th>0</th>\n",
              "      <td>0.0</td>\n",
              "      <td>0.897239</td>\n",
              "      <td>-0.397239</td>\n",
              "      <td>0.0</td>\n",
              "      <td>9.06958</td>\n",
              "      <td>18.545693</td>\n",
              "      <td>109.78404</td>\n",
              "      <td>1.017665</td>\n",
              "    </tr>\n",
              "    <tr>\n",
              "      <th>1</th>\n",
              "      <td>0.0</td>\n",
              "      <td>0.897239</td>\n",
              "      <td>-0.397239</td>\n",
              "      <td>0.0</td>\n",
              "      <td>9.06958</td>\n",
              "      <td>18.545693</td>\n",
              "      <td>109.78404</td>\n",
              "      <td>1.017665</td>\n",
              "    </tr>\n",
              "    <tr>\n",
              "      <th>2</th>\n",
              "      <td>0.0</td>\n",
              "      <td>0.897239</td>\n",
              "      <td>-0.397239</td>\n",
              "      <td>0.0</td>\n",
              "      <td>9.06958</td>\n",
              "      <td>18.545693</td>\n",
              "      <td>109.78404</td>\n",
              "      <td>1.017665</td>\n",
              "    </tr>\n",
              "    <tr>\n",
              "      <th>3</th>\n",
              "      <td>1.0</td>\n",
              "      <td>0.897239</td>\n",
              "      <td>-0.397239</td>\n",
              "      <td>0.0</td>\n",
              "      <td>9.06958</td>\n",
              "      <td>18.545693</td>\n",
              "      <td>109.78404</td>\n",
              "      <td>1.017665</td>\n",
              "    </tr>\n",
              "    <tr>\n",
              "      <th>4</th>\n",
              "      <td>1.0</td>\n",
              "      <td>0.897239</td>\n",
              "      <td>-0.397239</td>\n",
              "      <td>0.0</td>\n",
              "      <td>9.06958</td>\n",
              "      <td>18.545693</td>\n",
              "      <td>109.78404</td>\n",
              "      <td>1.017665</td>\n",
              "    </tr>\n",
              "  </tbody>\n",
              "</table>\n",
              "</div>\n",
              "      <button class=\"colab-df-convert\" onclick=\"convertToInteractive('df-9d2df9f5-ee1f-4614-9d18-702a65d185c5')\"\n",
              "              title=\"Convert this dataframe to an interactive table.\"\n",
              "              style=\"display:none;\">\n",
              "        \n",
              "  <svg xmlns=\"http://www.w3.org/2000/svg\" height=\"24px\"viewBox=\"0 0 24 24\"\n",
              "       width=\"24px\">\n",
              "    <path d=\"M0 0h24v24H0V0z\" fill=\"none\"/>\n",
              "    <path d=\"M18.56 5.44l.94 2.06.94-2.06 2.06-.94-2.06-.94-.94-2.06-.94 2.06-2.06.94zm-11 1L8.5 8.5l.94-2.06 2.06-.94-2.06-.94L8.5 2.5l-.94 2.06-2.06.94zm10 10l.94 2.06.94-2.06 2.06-.94-2.06-.94-.94-2.06-.94 2.06-2.06.94z\"/><path d=\"M17.41 7.96l-1.37-1.37c-.4-.4-.92-.59-1.43-.59-.52 0-1.04.2-1.43.59L10.3 9.45l-7.72 7.72c-.78.78-.78 2.05 0 2.83L4 21.41c.39.39.9.59 1.41.59.51 0 1.02-.2 1.41-.59l7.78-7.78 2.81-2.81c.8-.78.8-2.07 0-2.86zM5.41 20L4 18.59l7.72-7.72 1.47 1.35L5.41 20z\"/>\n",
              "  </svg>\n",
              "      </button>\n",
              "      \n",
              "  <style>\n",
              "    .colab-df-container {\n",
              "      display:flex;\n",
              "      flex-wrap:wrap;\n",
              "      gap: 12px;\n",
              "    }\n",
              "\n",
              "    .colab-df-convert {\n",
              "      background-color: #E8F0FE;\n",
              "      border: none;\n",
              "      border-radius: 50%;\n",
              "      cursor: pointer;\n",
              "      display: none;\n",
              "      fill: #1967D2;\n",
              "      height: 32px;\n",
              "      padding: 0 0 0 0;\n",
              "      width: 32px;\n",
              "    }\n",
              "\n",
              "    .colab-df-convert:hover {\n",
              "      background-color: #E2EBFA;\n",
              "      box-shadow: 0px 1px 2px rgba(60, 64, 67, 0.3), 0px 1px 3px 1px rgba(60, 64, 67, 0.15);\n",
              "      fill: #174EA6;\n",
              "    }\n",
              "\n",
              "    [theme=dark] .colab-df-convert {\n",
              "      background-color: #3B4455;\n",
              "      fill: #D2E3FC;\n",
              "    }\n",
              "\n",
              "    [theme=dark] .colab-df-convert:hover {\n",
              "      background-color: #434B5C;\n",
              "      box-shadow: 0px 1px 3px 1px rgba(0, 0, 0, 0.15);\n",
              "      filter: drop-shadow(0px 1px 2px rgba(0, 0, 0, 0.3));\n",
              "      fill: #FFFFFF;\n",
              "    }\n",
              "  </style>\n",
              "\n",
              "      <script>\n",
              "        const buttonEl =\n",
              "          document.querySelector('#df-9d2df9f5-ee1f-4614-9d18-702a65d185c5 button.colab-df-convert');\n",
              "        buttonEl.style.display =\n",
              "          google.colab.kernel.accessAllowed ? 'block' : 'none';\n",
              "\n",
              "        async function convertToInteractive(key) {\n",
              "          const element = document.querySelector('#df-9d2df9f5-ee1f-4614-9d18-702a65d185c5');\n",
              "          const dataTable =\n",
              "            await google.colab.kernel.invokeFunction('convertToInteractive',\n",
              "                                                     [key], {});\n",
              "          if (!dataTable) return;\n",
              "\n",
              "          const docLinkHtml = 'Like what you see? Visit the ' +\n",
              "            '<a target=\"_blank\" href=https://colab.research.google.com/notebooks/data_table.ipynb>data table notebook</a>'\n",
              "            + ' to learn more about interactive tables.';\n",
              "          element.innerHTML = '';\n",
              "          dataTable['output_type'] = 'display_data';\n",
              "          await google.colab.output.renderOutput(dataTable, element);\n",
              "          const docLink = document.createElement('div');\n",
              "          docLink.innerHTML = docLinkHtml;\n",
              "          element.appendChild(docLink);\n",
              "        }\n",
              "      </script>\n",
              "    </div>\n",
              "  </div>\n",
              "  "
            ]
          },
          "metadata": {},
          "execution_count": 21
        }
      ],
      "source": [
        "# init results frames\n",
        "low_adversary_frame = pd.DataFrame(columns=list(schema_dict.keys())) \n",
        "\n",
        "# quantiles over which to search \n",
        "low_quantiles = [0.01, 0.05, 0.1, 0.25, 0.5] \n",
        "high_quantiles = [0.99, 0.95, 0.9, 0.75, 0.5]\n",
        "\n",
        "# generate potential adversarial examples across five important features\n",
        "# using values of each feature and seeded by information from stolen tree\n",
        "for a in list(random_frame['income_std'].quantile(high_quantiles)): \n",
        "        for b in list(random_frame['property_value_std'].quantile(high_quantiles)):\n",
        "            for c in list(random_frame['intro_rate_period_std'].quantile(high_quantiles)):\n",
        "                for d in list(random_frame['debt_to_income_ratio_missing'].quantile(low_quantiles)):\n",
        "                  for e in list(random_frame['term_360'].quantile(low_quantiles)):\n",
        "                    low_adversary_seed['income_std'] = a\n",
        "                    low_adversary_seed['property_value_std'] = b\n",
        "                    low_adversary_seed['intro_rate_period_std'] = c\n",
        "                    low_adversary_seed['debt_to_income_ratio_missing'] = d\n",
        "                    low_adversary_seed['term_360'] = e\n",
        "                    low_adversary_frame = low_adversary_frame.append(low_adversary_seed, \n",
        "                                                                     ignore_index=True, sort=False)\n",
        "                    \n",
        "# view potential low scoring adversarial examples\n",
        "low_adversary_frame.head()"
      ]
    },
    {
      "cell_type": "markdown",
      "id": "c09eb015",
      "metadata": {
        "id": "c09eb015"
      },
      "source": [
        "#### Perturb seed row to find high scoring adversarial examples"
      ]
    },
    {
      "cell_type": "code",
      "execution_count": null,
      "id": "cc25d224",
      "metadata": {
        "id": "cc25d224",
        "outputId": "c002a076-156b-4cb7-a72e-b09a989666b3",
        "colab": {
          "base_uri": "https://localhost:8080/",
          "height": 204
        }
      },
      "outputs": [
        {
          "output_type": "execute_result",
          "data": {
            "text/plain": [
              "   term_360  conforming  no_intro_rate_period_std  \\\n",
              "0       1.0    0.876268                 -0.454361   \n",
              "1       1.0    0.876268                 -0.454361   \n",
              "2       1.0    0.876268                 -0.454361   \n",
              "3       1.0    0.876268                 -0.454361   \n",
              "4       1.0    0.876268                 -0.454361   \n",
              "\n",
              "   debt_to_income_ratio_missing  intro_rate_period_std  property_value_std  \\\n",
              "0                           0.0               1.383623           -1.487777   \n",
              "1                           0.0               1.383623           -1.487777   \n",
              "2                           0.0               1.383623           -1.487777   \n",
              "3                           0.0               1.383623           -1.487777   \n",
              "4                           0.0               1.383623           -1.487777   \n",
              "\n",
              "   income_std  debt_to_income_ratio_std  \n",
              "0   12.063387                  1.057729  \n",
              "1   12.063387                  1.057729  \n",
              "2   12.063387                  1.057729  \n",
              "3   12.063387                  1.057729  \n",
              "4   12.063387                  1.057729  "
            ],
            "text/html": [
              "\n",
              "  <div id=\"df-fbd2a624-8c99-4051-94e0-e5821af957a1\">\n",
              "    <div class=\"colab-df-container\">\n",
              "      <div>\n",
              "<style scoped>\n",
              "    .dataframe tbody tr th:only-of-type {\n",
              "        vertical-align: middle;\n",
              "    }\n",
              "\n",
              "    .dataframe tbody tr th {\n",
              "        vertical-align: top;\n",
              "    }\n",
              "\n",
              "    .dataframe thead th {\n",
              "        text-align: right;\n",
              "    }\n",
              "</style>\n",
              "<table border=\"1\" class=\"dataframe\">\n",
              "  <thead>\n",
              "    <tr style=\"text-align: right;\">\n",
              "      <th></th>\n",
              "      <th>term_360</th>\n",
              "      <th>conforming</th>\n",
              "      <th>no_intro_rate_period_std</th>\n",
              "      <th>debt_to_income_ratio_missing</th>\n",
              "      <th>intro_rate_period_std</th>\n",
              "      <th>property_value_std</th>\n",
              "      <th>income_std</th>\n",
              "      <th>debt_to_income_ratio_std</th>\n",
              "    </tr>\n",
              "  </thead>\n",
              "  <tbody>\n",
              "    <tr>\n",
              "      <th>0</th>\n",
              "      <td>1.0</td>\n",
              "      <td>0.876268</td>\n",
              "      <td>-0.454361</td>\n",
              "      <td>0.0</td>\n",
              "      <td>1.383623</td>\n",
              "      <td>-1.487777</td>\n",
              "      <td>12.063387</td>\n",
              "      <td>1.057729</td>\n",
              "    </tr>\n",
              "    <tr>\n",
              "      <th>1</th>\n",
              "      <td>1.0</td>\n",
              "      <td>0.876268</td>\n",
              "      <td>-0.454361</td>\n",
              "      <td>0.0</td>\n",
              "      <td>1.383623</td>\n",
              "      <td>-1.487777</td>\n",
              "      <td>12.063387</td>\n",
              "      <td>1.057729</td>\n",
              "    </tr>\n",
              "    <tr>\n",
              "      <th>2</th>\n",
              "      <td>1.0</td>\n",
              "      <td>0.876268</td>\n",
              "      <td>-0.454361</td>\n",
              "      <td>0.0</td>\n",
              "      <td>1.383623</td>\n",
              "      <td>-1.487777</td>\n",
              "      <td>12.063387</td>\n",
              "      <td>1.057729</td>\n",
              "    </tr>\n",
              "    <tr>\n",
              "      <th>3</th>\n",
              "      <td>1.0</td>\n",
              "      <td>0.876268</td>\n",
              "      <td>-0.454361</td>\n",
              "      <td>0.0</td>\n",
              "      <td>1.383623</td>\n",
              "      <td>-1.487777</td>\n",
              "      <td>12.063387</td>\n",
              "      <td>1.057729</td>\n",
              "    </tr>\n",
              "    <tr>\n",
              "      <th>4</th>\n",
              "      <td>1.0</td>\n",
              "      <td>0.876268</td>\n",
              "      <td>-0.454361</td>\n",
              "      <td>0.0</td>\n",
              "      <td>1.383623</td>\n",
              "      <td>-1.487777</td>\n",
              "      <td>12.063387</td>\n",
              "      <td>1.057729</td>\n",
              "    </tr>\n",
              "  </tbody>\n",
              "</table>\n",
              "</div>\n",
              "      <button class=\"colab-df-convert\" onclick=\"convertToInteractive('df-fbd2a624-8c99-4051-94e0-e5821af957a1')\"\n",
              "              title=\"Convert this dataframe to an interactive table.\"\n",
              "              style=\"display:none;\">\n",
              "        \n",
              "  <svg xmlns=\"http://www.w3.org/2000/svg\" height=\"24px\"viewBox=\"0 0 24 24\"\n",
              "       width=\"24px\">\n",
              "    <path d=\"M0 0h24v24H0V0z\" fill=\"none\"/>\n",
              "    <path d=\"M18.56 5.44l.94 2.06.94-2.06 2.06-.94-2.06-.94-.94-2.06-.94 2.06-2.06.94zm-11 1L8.5 8.5l.94-2.06 2.06-.94-2.06-.94L8.5 2.5l-.94 2.06-2.06.94zm10 10l.94 2.06.94-2.06 2.06-.94-2.06-.94-.94-2.06-.94 2.06-2.06.94z\"/><path d=\"M17.41 7.96l-1.37-1.37c-.4-.4-.92-.59-1.43-.59-.52 0-1.04.2-1.43.59L10.3 9.45l-7.72 7.72c-.78.78-.78 2.05 0 2.83L4 21.41c.39.39.9.59 1.41.59.51 0 1.02-.2 1.41-.59l7.78-7.78 2.81-2.81c.8-.78.8-2.07 0-2.86zM5.41 20L4 18.59l7.72-7.72 1.47 1.35L5.41 20z\"/>\n",
              "  </svg>\n",
              "      </button>\n",
              "      \n",
              "  <style>\n",
              "    .colab-df-container {\n",
              "      display:flex;\n",
              "      flex-wrap:wrap;\n",
              "      gap: 12px;\n",
              "    }\n",
              "\n",
              "    .colab-df-convert {\n",
              "      background-color: #E8F0FE;\n",
              "      border: none;\n",
              "      border-radius: 50%;\n",
              "      cursor: pointer;\n",
              "      display: none;\n",
              "      fill: #1967D2;\n",
              "      height: 32px;\n",
              "      padding: 0 0 0 0;\n",
              "      width: 32px;\n",
              "    }\n",
              "\n",
              "    .colab-df-convert:hover {\n",
              "      background-color: #E2EBFA;\n",
              "      box-shadow: 0px 1px 2px rgba(60, 64, 67, 0.3), 0px 1px 3px 1px rgba(60, 64, 67, 0.15);\n",
              "      fill: #174EA6;\n",
              "    }\n",
              "\n",
              "    [theme=dark] .colab-df-convert {\n",
              "      background-color: #3B4455;\n",
              "      fill: #D2E3FC;\n",
              "    }\n",
              "\n",
              "    [theme=dark] .colab-df-convert:hover {\n",
              "      background-color: #434B5C;\n",
              "      box-shadow: 0px 1px 3px 1px rgba(0, 0, 0, 0.15);\n",
              "      filter: drop-shadow(0px 1px 2px rgba(0, 0, 0, 0.3));\n",
              "      fill: #FFFFFF;\n",
              "    }\n",
              "  </style>\n",
              "\n",
              "      <script>\n",
              "        const buttonEl =\n",
              "          document.querySelector('#df-fbd2a624-8c99-4051-94e0-e5821af957a1 button.colab-df-convert');\n",
              "        buttonEl.style.display =\n",
              "          google.colab.kernel.accessAllowed ? 'block' : 'none';\n",
              "\n",
              "        async function convertToInteractive(key) {\n",
              "          const element = document.querySelector('#df-fbd2a624-8c99-4051-94e0-e5821af957a1');\n",
              "          const dataTable =\n",
              "            await google.colab.kernel.invokeFunction('convertToInteractive',\n",
              "                                                     [key], {});\n",
              "          if (!dataTable) return;\n",
              "\n",
              "          const docLinkHtml = 'Like what you see? Visit the ' +\n",
              "            '<a target=\"_blank\" href=https://colab.research.google.com/notebooks/data_table.ipynb>data table notebook</a>'\n",
              "            + ' to learn more about interactive tables.';\n",
              "          element.innerHTML = '';\n",
              "          dataTable['output_type'] = 'display_data';\n",
              "          await google.colab.output.renderOutput(dataTable, element);\n",
              "          const docLink = document.createElement('div');\n",
              "          docLink.innerHTML = docLinkHtml;\n",
              "          element.appendChild(docLink);\n",
              "        }\n",
              "      </script>\n",
              "    </div>\n",
              "  </div>\n",
              "  "
            ]
          },
          "metadata": {},
          "execution_count": 22
        }
      ],
      "source": [
        "# init results frames\n",
        "high_adversary_frame = pd.DataFrame(columns=list(schema_dict.keys())) \n",
        "\n",
        "# generate potential adversarial examples across four important features\n",
        "# using values of each feature and seeded by information from stolen tree\n",
        "for a in list(random_frame['income_std'].quantile(high_quantiles)): \n",
        "        for b in list(random_frame['property_value_std'].quantile(high_quantiles)):\n",
        "            for c in list(random_frame['intro_rate_period_std'].quantile(high_quantiles)):\n",
        "                for d in list(random_frame['debt_to_income_ratio_missing'].quantile(low_quantiles)):\n",
        "                  for e in list(random_frame['term_360'].quantile(low_quantiles)):\n",
        "                    high_adversary_frame['income_std'] = a\n",
        "                    high_adversary_frame['property_value_std'] = b\n",
        "                    high_adversary_frame['intro_rate_period_std'] = c\n",
        "                    high_adversary_frame['debt_to_income_ratio_missing'] = d\n",
        "                    high_adversary_frame['term_360'] = e\n",
        "                    high_adversary_frame = high_adversary_frame.append(high_adversary_seed, \n",
        "                                                                        ignore_index=True, sort=False)\n",
        "                    \n",
        "# view potential high scoring adversarial examples\n",
        "high_adversary_frame.head()"
      ]
    },
    {
      "cell_type": "markdown",
      "id": "0d7343f9",
      "metadata": {
        "id": "0d7343f9"
      },
      "source": [
        "#### Second call to blackbox API to test adversarial examples"
      ]
    },
    {
      "cell_type": "code",
      "execution_count": null,
      "id": "cfa45033",
      "metadata": {
        "id": "cfa45033",
        "outputId": "e7b816b9-69d5-4306-80c4-c3f7f79ba7fc",
        "colab": {
          "base_uri": "https://localhost:8080/",
          "height": 419
        }
      },
      "outputs": [
        {
          "output_type": "execute_result",
          "data": {
            "text/plain": [
              "      term_360  conforming  no_intro_rate_period_std  \\\n",
              "416   0.000000    0.897239                 -0.397239   \n",
              "417   0.000000    0.897239                 -0.397239   \n",
              "2281  0.000000    0.897239                 -0.397239   \n",
              "415   0.000000    0.897239                 -0.397239   \n",
              "412   0.000000    0.897239                 -0.397239   \n",
              "...        ...         ...                       ...   \n",
              "3068  1.000000    0.897239                 -0.397239   \n",
              "3073  1.000000    0.897239                 -0.397239   \n",
              "3074  1.000000    0.897239                 -0.397239   \n",
              "3053  1.000000    0.897239                 -0.397239   \n",
              "6249  0.890467    0.876268                 -0.454361   \n",
              "\n",
              "      debt_to_income_ratio_missing  intro_rate_period_std  property_value_std  \\\n",
              "416                       0.000000               6.053382            1.851136   \n",
              "417                       0.000000               6.053382            1.851136   \n",
              "2281                      0.000000               6.053382            1.851136   \n",
              "415                       0.000000               6.053382            1.851136   \n",
              "412                       0.000000               6.053382            1.851136   \n",
              "...                            ...                    ...                 ...   \n",
              "3068                      0.000000               4.608000           -1.487777   \n",
              "3073                      0.000000               4.608000           -1.487777   \n",
              "3074                      0.000000               4.608000           -1.487777   \n",
              "3053                      0.000000               4.608000           -1.487777   \n",
              "6249                      0.099391               0.540209           -3.157932   \n",
              "\n",
              "      income_std  debt_to_income_ratio_std      phat  \n",
              "416   109.784040                  1.017665  0.000221  \n",
              "417   109.784040                  1.017665  0.000221  \n",
              "2281   29.864155                  1.017665  0.000221  \n",
              "415   109.784040                  1.017665  0.000221  \n",
              "412   109.784040                  1.017665  0.000221  \n",
              "...          ...                       ...       ...  \n",
              "3068   12.063387                  1.017665  0.129776  \n",
              "3073   12.063387                  1.017665  0.129776  \n",
              "3074   12.063387                  1.017665  0.129776  \n",
              "3053   12.063387                  1.017665  0.129776  \n",
              "6249   -2.645761                  1.057729  0.466414  \n",
              "\n",
              "[6250 rows x 9 columns]"
            ],
            "text/html": [
              "\n",
              "  <div id=\"df-f42ac8d0-c98b-4742-952d-bdb11d063aed\">\n",
              "    <div class=\"colab-df-container\">\n",
              "      <div>\n",
              "<style scoped>\n",
              "    .dataframe tbody tr th:only-of-type {\n",
              "        vertical-align: middle;\n",
              "    }\n",
              "\n",
              "    .dataframe tbody tr th {\n",
              "        vertical-align: top;\n",
              "    }\n",
              "\n",
              "    .dataframe thead th {\n",
              "        text-align: right;\n",
              "    }\n",
              "</style>\n",
              "<table border=\"1\" class=\"dataframe\">\n",
              "  <thead>\n",
              "    <tr style=\"text-align: right;\">\n",
              "      <th></th>\n",
              "      <th>term_360</th>\n",
              "      <th>conforming</th>\n",
              "      <th>no_intro_rate_period_std</th>\n",
              "      <th>debt_to_income_ratio_missing</th>\n",
              "      <th>intro_rate_period_std</th>\n",
              "      <th>property_value_std</th>\n",
              "      <th>income_std</th>\n",
              "      <th>debt_to_income_ratio_std</th>\n",
              "      <th>phat</th>\n",
              "    </tr>\n",
              "  </thead>\n",
              "  <tbody>\n",
              "    <tr>\n",
              "      <th>416</th>\n",
              "      <td>0.000000</td>\n",
              "      <td>0.897239</td>\n",
              "      <td>-0.397239</td>\n",
              "      <td>0.000000</td>\n",
              "      <td>6.053382</td>\n",
              "      <td>1.851136</td>\n",
              "      <td>109.784040</td>\n",
              "      <td>1.017665</td>\n",
              "      <td>0.000221</td>\n",
              "    </tr>\n",
              "    <tr>\n",
              "      <th>417</th>\n",
              "      <td>0.000000</td>\n",
              "      <td>0.897239</td>\n",
              "      <td>-0.397239</td>\n",
              "      <td>0.000000</td>\n",
              "      <td>6.053382</td>\n",
              "      <td>1.851136</td>\n",
              "      <td>109.784040</td>\n",
              "      <td>1.017665</td>\n",
              "      <td>0.000221</td>\n",
              "    </tr>\n",
              "    <tr>\n",
              "      <th>2281</th>\n",
              "      <td>0.000000</td>\n",
              "      <td>0.897239</td>\n",
              "      <td>-0.397239</td>\n",
              "      <td>0.000000</td>\n",
              "      <td>6.053382</td>\n",
              "      <td>1.851136</td>\n",
              "      <td>29.864155</td>\n",
              "      <td>1.017665</td>\n",
              "      <td>0.000221</td>\n",
              "    </tr>\n",
              "    <tr>\n",
              "      <th>415</th>\n",
              "      <td>0.000000</td>\n",
              "      <td>0.897239</td>\n",
              "      <td>-0.397239</td>\n",
              "      <td>0.000000</td>\n",
              "      <td>6.053382</td>\n",
              "      <td>1.851136</td>\n",
              "      <td>109.784040</td>\n",
              "      <td>1.017665</td>\n",
              "      <td>0.000221</td>\n",
              "    </tr>\n",
              "    <tr>\n",
              "      <th>412</th>\n",
              "      <td>0.000000</td>\n",
              "      <td>0.897239</td>\n",
              "      <td>-0.397239</td>\n",
              "      <td>0.000000</td>\n",
              "      <td>6.053382</td>\n",
              "      <td>1.851136</td>\n",
              "      <td>109.784040</td>\n",
              "      <td>1.017665</td>\n",
              "      <td>0.000221</td>\n",
              "    </tr>\n",
              "    <tr>\n",
              "      <th>...</th>\n",
              "      <td>...</td>\n",
              "      <td>...</td>\n",
              "      <td>...</td>\n",
              "      <td>...</td>\n",
              "      <td>...</td>\n",
              "      <td>...</td>\n",
              "      <td>...</td>\n",
              "      <td>...</td>\n",
              "      <td>...</td>\n",
              "    </tr>\n",
              "    <tr>\n",
              "      <th>3068</th>\n",
              "      <td>1.000000</td>\n",
              "      <td>0.897239</td>\n",
              "      <td>-0.397239</td>\n",
              "      <td>0.000000</td>\n",
              "      <td>4.608000</td>\n",
              "      <td>-1.487777</td>\n",
              "      <td>12.063387</td>\n",
              "      <td>1.017665</td>\n",
              "      <td>0.129776</td>\n",
              "    </tr>\n",
              "    <tr>\n",
              "      <th>3073</th>\n",
              "      <td>1.000000</td>\n",
              "      <td>0.897239</td>\n",
              "      <td>-0.397239</td>\n",
              "      <td>0.000000</td>\n",
              "      <td>4.608000</td>\n",
              "      <td>-1.487777</td>\n",
              "      <td>12.063387</td>\n",
              "      <td>1.017665</td>\n",
              "      <td>0.129776</td>\n",
              "    </tr>\n",
              "    <tr>\n",
              "      <th>3074</th>\n",
              "      <td>1.000000</td>\n",
              "      <td>0.897239</td>\n",
              "      <td>-0.397239</td>\n",
              "      <td>0.000000</td>\n",
              "      <td>4.608000</td>\n",
              "      <td>-1.487777</td>\n",
              "      <td>12.063387</td>\n",
              "      <td>1.017665</td>\n",
              "      <td>0.129776</td>\n",
              "    </tr>\n",
              "    <tr>\n",
              "      <th>3053</th>\n",
              "      <td>1.000000</td>\n",
              "      <td>0.897239</td>\n",
              "      <td>-0.397239</td>\n",
              "      <td>0.000000</td>\n",
              "      <td>4.608000</td>\n",
              "      <td>-1.487777</td>\n",
              "      <td>12.063387</td>\n",
              "      <td>1.017665</td>\n",
              "      <td>0.129776</td>\n",
              "    </tr>\n",
              "    <tr>\n",
              "      <th>6249</th>\n",
              "      <td>0.890467</td>\n",
              "      <td>0.876268</td>\n",
              "      <td>-0.454361</td>\n",
              "      <td>0.099391</td>\n",
              "      <td>0.540209</td>\n",
              "      <td>-3.157932</td>\n",
              "      <td>-2.645761</td>\n",
              "      <td>1.057729</td>\n",
              "      <td>0.466414</td>\n",
              "    </tr>\n",
              "  </tbody>\n",
              "</table>\n",
              "<p>6250 rows × 9 columns</p>\n",
              "</div>\n",
              "      <button class=\"colab-df-convert\" onclick=\"convertToInteractive('df-f42ac8d0-c98b-4742-952d-bdb11d063aed')\"\n",
              "              title=\"Convert this dataframe to an interactive table.\"\n",
              "              style=\"display:none;\">\n",
              "        \n",
              "  <svg xmlns=\"http://www.w3.org/2000/svg\" height=\"24px\"viewBox=\"0 0 24 24\"\n",
              "       width=\"24px\">\n",
              "    <path d=\"M0 0h24v24H0V0z\" fill=\"none\"/>\n",
              "    <path d=\"M18.56 5.44l.94 2.06.94-2.06 2.06-.94-2.06-.94-.94-2.06-.94 2.06-2.06.94zm-11 1L8.5 8.5l.94-2.06 2.06-.94-2.06-.94L8.5 2.5l-.94 2.06-2.06.94zm10 10l.94 2.06.94-2.06 2.06-.94-2.06-.94-.94-2.06-.94 2.06-2.06.94z\"/><path d=\"M17.41 7.96l-1.37-1.37c-.4-.4-.92-.59-1.43-.59-.52 0-1.04.2-1.43.59L10.3 9.45l-7.72 7.72c-.78.78-.78 2.05 0 2.83L4 21.41c.39.39.9.59 1.41.59.51 0 1.02-.2 1.41-.59l7.78-7.78 2.81-2.81c.8-.78.8-2.07 0-2.86zM5.41 20L4 18.59l7.72-7.72 1.47 1.35L5.41 20z\"/>\n",
              "  </svg>\n",
              "      </button>\n",
              "      \n",
              "  <style>\n",
              "    .colab-df-container {\n",
              "      display:flex;\n",
              "      flex-wrap:wrap;\n",
              "      gap: 12px;\n",
              "    }\n",
              "\n",
              "    .colab-df-convert {\n",
              "      background-color: #E8F0FE;\n",
              "      border: none;\n",
              "      border-radius: 50%;\n",
              "      cursor: pointer;\n",
              "      display: none;\n",
              "      fill: #1967D2;\n",
              "      height: 32px;\n",
              "      padding: 0 0 0 0;\n",
              "      width: 32px;\n",
              "    }\n",
              "\n",
              "    .colab-df-convert:hover {\n",
              "      background-color: #E2EBFA;\n",
              "      box-shadow: 0px 1px 2px rgba(60, 64, 67, 0.3), 0px 1px 3px 1px rgba(60, 64, 67, 0.15);\n",
              "      fill: #174EA6;\n",
              "    }\n",
              "\n",
              "    [theme=dark] .colab-df-convert {\n",
              "      background-color: #3B4455;\n",
              "      fill: #D2E3FC;\n",
              "    }\n",
              "\n",
              "    [theme=dark] .colab-df-convert:hover {\n",
              "      background-color: #434B5C;\n",
              "      box-shadow: 0px 1px 3px 1px rgba(0, 0, 0, 0.15);\n",
              "      filter: drop-shadow(0px 1px 2px rgba(0, 0, 0, 0.3));\n",
              "      fill: #FFFFFF;\n",
              "    }\n",
              "  </style>\n",
              "\n",
              "      <script>\n",
              "        const buttonEl =\n",
              "          document.querySelector('#df-f42ac8d0-c98b-4742-952d-bdb11d063aed button.colab-df-convert');\n",
              "        buttonEl.style.display =\n",
              "          google.colab.kernel.accessAllowed ? 'block' : 'none';\n",
              "\n",
              "        async function convertToInteractive(key) {\n",
              "          const element = document.querySelector('#df-f42ac8d0-c98b-4742-952d-bdb11d063aed');\n",
              "          const dataTable =\n",
              "            await google.colab.kernel.invokeFunction('convertToInteractive',\n",
              "                                                     [key], {});\n",
              "          if (!dataTable) return;\n",
              "\n",
              "          const docLinkHtml = 'Like what you see? Visit the ' +\n",
              "            '<a target=\"_blank\" href=https://colab.research.google.com/notebooks/data_table.ipynb>data table notebook</a>'\n",
              "            + ' to learn more about interactive tables.';\n",
              "          element.innerHTML = '';\n",
              "          dataTable['output_type'] = 'display_data';\n",
              "          await google.colab.output.renderOutput(dataTable, element);\n",
              "          const docLink = document.createElement('div');\n",
              "          docLink.innerHTML = docLinkHtml;\n",
              "          element.appendChild(docLink);\n",
              "        }\n",
              "      </script>\n",
              "    </div>\n",
              "  </div>\n",
              "  "
            ]
          },
          "metadata": {},
          "execution_count": 23
        }
      ],
      "source": [
        "# combine potential adversaries so only one call to API is needed\n",
        "adversaries = pd.concat([low_adversary_frame, high_adversary_frame], axis=0)\n",
        "\n",
        "# score potential adversarial examples to understand their effect on generated predictions\n",
        "blackbox_adversaries_phat = pd.DataFrame(rem_ebm.predict_proba(adversaries[rem_x_names])[:, 1], columns=['phat']) \n",
        "blackbox_adversaries_phat = pd.concat([adversaries.reset_index(drop=True), blackbox_adversaries_phat], axis=1)\n",
        "blackbox_adversaries_phat.sort_values(by='phat')"
      ]
    },
    {
      "cell_type": "markdown",
      "id": "10022eb2",
      "metadata": {
        "id": "10022eb2"
      },
      "source": [
        "We now have many adversarial examples that can reliably evoke extremely low and high enough predictions from the blackbox API (0.12 is likely above the cutoff for most credit models.). These can most easily be used to falsify a loan application to recieve a low-priced loan (using low adversaries). Or they could be used to ensure someone else recievces a high-priced loan. "
      ]
    },
    {
      "cell_type": "markdown",
      "id": "35aaaa92",
      "metadata": {
        "id": "35aaaa92"
      },
      "source": [
        "#### End timer"
      ]
    },
    {
      "cell_type": "code",
      "execution_count": null,
      "id": "e978d190",
      "metadata": {
        "id": "e978d190",
        "outputId": "98c2783e-b7e4-4e9a-f173-e3327b011a9e",
        "colab": {
          "base_uri": "https://localhost:8080/"
        }
      },
      "outputs": [
        {
          "output_type": "stream",
          "name": "stdout",
          "text": [
            "All tasks completed in 5155.39 s.\n"
          ]
        }
      ],
      "source": [
        "toc = time.time() - tic\n",
        "print('All tasks completed in %.2f s.' % (toc))"
      ]
    },
    {
      "cell_type": "markdown",
      "id": "d99808d8",
      "metadata": {
        "id": "d99808d8"
      },
      "source": [
        "#### Shutdown H2O"
      ]
    },
    {
      "cell_type": "code",
      "execution_count": null,
      "id": "e4cca3fd",
      "metadata": {
        "id": "e4cca3fd",
        "colab": {
          "base_uri": "https://localhost:8080/"
        },
        "outputId": "ca9802fa-56f2-496c-daee-9213f724df42"
      },
      "outputs": [
        {
          "output_type": "stream",
          "name": "stdout",
          "text": [
            "Are you sure you want to shutdown the H2O instance running at http://127.0.0.1:54323 (Y/N)? Y\n",
            "H2O session _sid_9ea1 closed.\n"
          ]
        }
      ],
      "source": [
        "# be careful, this can erase your work!\n",
        "h2o.cluster().shutdown(prompt=True)"
      ]
    }
  ],
  "metadata": {
    "kernelspec": {
      "display_name": "Python 3",
      "language": "python",
      "name": "python3"
    },
    "language_info": {
      "codemirror_mode": {
        "name": "ipython",
        "version": 3
      },
      "file_extension": ".py",
      "mimetype": "text/x-python",
      "name": "python",
      "nbconvert_exporter": "python",
      "pygments_lexer": "ipython3",
      "version": "3.6.9"
    },
    "colab": {
      "name": "assignment_4.ipynb",
      "provenance": [],
      "include_colab_link": true
    }
  },
  "nbformat": 4,
  "nbformat_minor": 5
}